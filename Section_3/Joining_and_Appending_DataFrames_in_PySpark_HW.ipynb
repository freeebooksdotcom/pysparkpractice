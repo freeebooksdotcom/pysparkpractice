{
 "cells": [
  {
   "cell_type": "markdown",
   "metadata": {},
   "source": [
    "# Joining and Appending DataFrames in PySpark HW\n",
    "\n",
    "Now it's time to test your knowledge and further engrain the concepts we touched on in the lectures. Let's go ahead and get started.\n",
    "\n",
    "\n",
    "\n",
    "\n",
    "**As always let's start our Spark instance.**"
   ]
  },
  {
   "cell_type": "code",
   "execution_count": 1,
   "metadata": {},
   "outputs": [
    {
     "data": {
      "text/html": [
       "\n",
       "            <div>\n",
       "                <p><b>SparkSession - in-memory</b></p>\n",
       "                \n",
       "        <div>\n",
       "            <p><b>SparkContext</b></p>\n",
       "\n",
       "            <p><a href=\"http://192.168.1.21:4040\">Spark UI</a></p>\n",
       "\n",
       "            <dl>\n",
       "              <dt>Version</dt>\n",
       "                <dd><code>v3.0.1</code></dd>\n",
       "              <dt>Master</dt>\n",
       "                <dd><code>local[*]</code></dd>\n",
       "              <dt>AppName</dt>\n",
       "                <dd><code>joins</code></dd>\n",
       "            </dl>\n",
       "        </div>\n",
       "        \n",
       "            </div>\n",
       "        "
      ],
      "text/plain": [
       "<pyspark.sql.session.SparkSession at 0x7fab00da4250>"
      ]
     },
     "execution_count": 1,
     "metadata": {},
     "output_type": "execute_result"
    }
   ],
   "source": [
    "import pyspark\n",
    "from pyspark.sql import SparkSession\n",
    "spark = SparkSession.builder.appName('joins').getOrCreate()\n",
    "spark"
   ]
  },
  {
   "cell_type": "markdown",
   "metadata": {},
   "source": [
    "## Read in the database\n",
    "\n",
    "Let cotinue working with our college courses dataframe to get some more insights and practice what we have learned!Let's read in the whole database using the loop function that we learned about in the lecture to automatically read in all the datasets from the uw-madision-courses folder (there are too many datasets to each one individually."
   ]
  },
  {
   "cell_type": "code",
   "execution_count": 2,
   "metadata": {},
   "outputs": [
    {
     "name": "stdout",
     "output_type": "stream",
     "text": [
      "Full list of dfs:\n",
      "['subjects', 'subject_memberships', 'rooms', 'schedules', 'sections', 'courses', 'course_offerings', 'instructors', 'teachings', 'grade_distributions']\n"
     ]
    }
   ],
   "source": [
    "import os\n",
    "\n",
    "path= 'Datasets/uw-madison-courses/'\n",
    "\n",
    "df_list = []\n",
    "for filename in os.listdir(path):\n",
    "    if filename.endswith('.csv'):\n",
    "        filename_list = filename.split('.')\n",
    "        df_name = filename_list[0]\n",
    "        df= spark.read.csv(path+filename,inferSchema=True, header=True)\n",
    "        df.name = df_name\n",
    "        df_list.append(df_name)\n",
    "        exec(df_name + ' = df')\n",
    "\n",
    "print('Full list of dfs:')\n",
    "print(df_list)"
   ]
  },
  {
   "cell_type": "markdown",
   "metadata": {},
   "source": [
    "Now check the contents of a few of the dataframses that were read in above."
   ]
  },
  {
   "cell_type": "code",
   "execution_count": 3,
   "metadata": {},
   "outputs": [
    {
     "name": "stdout",
     "output_type": "stream",
     "text": [
      "+----+--------------------+------------+\n",
      "|code|                name|abbreviation|\n",
      "+----+--------------------+------------+\n",
      "| 908|        Soil Science|    SOIL SCI|\n",
      "| 350|             ENGLISH|     ENGLISH|\n",
      "| 351|English as a Seco...|         ESL|\n",
      "| 230|Human Development...|        HDFS|\n",
      "| 352|             English|        ENGL|\n",
      "+----+--------------------+------------+\n",
      "only showing top 5 rows\n",
      "\n"
     ]
    }
   ],
   "source": [
    "subjects.show(5)"
   ]
  },
  {
   "cell_type": "code",
   "execution_count": 4,
   "metadata": {},
   "outputs": [
    {
     "name": "stdout",
     "output_type": "stream",
     "text": [
      "+--------------------+----------+--------+-----+-----+-----+-----+-----+-----+-----+\n",
      "|                uuid|start_time|end_time|  mon| tues|  wed|thurs|  fri|  sat|  sun|\n",
      "+--------------------+----------+--------+-----+-----+-----+-----+-----+-----+-----+\n",
      "|f2d66a4d-0c08-3b4...|        -1|      -1|false|false|false|false|false|false|false|\n",
      "|875542a2-f786-34d...|       530|     580| true|false| true|false|false|false|false|\n",
      "|f41f1e4d-cb4f-3de...|       660|     710|false| true|false| true|false|false|false|\n",
      "|46da55a4-17f7-31a...|       800|     850|false| true|false| true|false|false|false|\n",
      "|8c7cd81e-4f81-357...|       725|     775|false| true|false| true|false|false|false|\n",
      "+--------------------+----------+--------+-----+-----+-----+-----+-----+-----+-----+\n",
      "only showing top 5 rows\n",
      "\n"
     ]
    }
   ],
   "source": [
    "schedules.show(5)"
   ]
  },
  {
   "cell_type": "code",
   "execution_count": 5,
   "metadata": {},
   "outputs": [
    {
     "name": "stdout",
     "output_type": "stream",
     "text": [
      "+--------------------+-------------+---------+\n",
      "|                uuid|facility_code|room_code|\n",
      "+--------------------+-------------+---------+\n",
      "|04368a56-c959-3e4...|   OFF CAMPUS|     null|\n",
      "|2cc50da3-ef0e-357...|         0032|     0249|\n",
      "|ebbf62b4-2ac3-356...|         0032|     B101|\n",
      "|ed828265-475b-31b...|         0032|     0549|\n",
      "|b277dc8e-bab1-3a1...|         0032|     0349|\n",
      "+--------------------+-------------+---------+\n",
      "only showing top 5 rows\n",
      "\n"
     ]
    }
   ],
   "source": [
    "rooms.show(5)"
   ]
  },
  {
   "cell_type": "markdown",
   "metadata": {},
   "source": [
    "## Recap: About this database\n",
    "\n",
    "You will notice that there are several more tables in the uw-madision-courses folder than there are read in above. This so that you will have a chance to practice your own custom joins and learn about the relationships between a real database work. Sometimes we don't know how they are related and we need to figure it out! I'll save that for the HW :) \n",
    "\n",
    "Here is a look at some of the important variables we can use to join our tables:\n",
    "\n",
    " - course_offerings: uuid, course_uuid, term_code, name\n",
    " - instructors: id, name\n",
    " - schedules: uuid\n",
    " - sections: uuid, course_offering_uuid,room_uuid, schedule_uuid\n",
    " - teachings: instructor_id, section_uuid\n",
    " - courses: uuid\n",
    " - grade_distributions: course_offering_uuid,section_number\n",
    " - rooms: uuid, facility_code, room_code\n",
    " - subjects: code\n",
    " - subject_memberships: subject_code, course_offering_uuid\n",
    " \n",
    " **Source:** https://www.kaggle.com/Madgrades/uw-madison-courses\n",
    " \n",
    "So alright, let's use this information to discover some insights from this data!"
   ]
  },
  {
   "cell_type": "markdown",
   "metadata": {},
   "source": [
    "## 1a. Can you assign the room numbers to each section of each course?\n",
    "\n",
    "Show only the rooms uuid, facility code, room number, term code and the name of the course from the course_offerings table."
   ]
  },
  {
   "cell_type": "code",
   "execution_count": 34,
   "metadata": {},
   "outputs": [
    {
     "data": {
      "text/plain": [
       "DataFrame[uuid: string, facility_code: string, room_code: string]"
      ]
     },
     "execution_count": 34,
     "metadata": {},
     "output_type": "execute_result"
    }
   ],
   "source": [
    "rooms"
   ]
  },
  {
   "cell_type": "code",
   "execution_count": 35,
   "metadata": {},
   "outputs": [],
   "source": [
    "step1 = sections.join(rooms, sections.room_uuid == rooms.uuid, how='left').select('room_uuid', 'facility_code', 'room_code', 'course_offering_uuid')"
   ]
  },
  {
   "cell_type": "code",
   "execution_count": 52,
   "metadata": {},
   "outputs": [],
   "source": [
    "step2 = step1.join(course_offerings, step1.course_offering_uuid== course_offerings.uuid, how='left').select('uuid','room_uuid', 'facility_code', 'room_code', 'term_code', 'name')"
   ]
  },
  {
   "cell_type": "code",
   "execution_count": 53,
   "metadata": {},
   "outputs": [
    {
     "name": "stdout",
     "output_type": "stream",
     "text": [
      "+--------------------+--------------------+-------------+---------+---------+--------------------+\n",
      "|                uuid|           room_uuid|facility_code|room_code|term_code|                name|\n",
      "+--------------------+--------------------+-------------+---------+---------+--------------------+\n",
      "|344b3ebe-da7e-314...|                null|         null|     null|     1092|Cooperative Educa...|\n",
      "|f718e6cd-33f0-3c1...|                null|         null|     null|     1082|Cooperative Educa...|\n",
      "|ea3b717c-d66b-30d...|04368a56-c959-3e4...|   OFF CAMPUS|     null|     1172|Cooperative Educa...|\n",
      "|ea3b717c-d66b-30d...|                null|         null|     null|     1172|Cooperative Educa...|\n",
      "|ea3b717c-d66b-30d...|                null|         null|     null|     1172|Cooperative Educa...|\n",
      "|ea3b717c-d66b-30d...|04368a56-c959-3e4...|   OFF CAMPUS|     null|     1172|Cooperative Educa...|\n",
      "|075da420-5f49-3dd...|04368a56-c959-3e4...|   OFF CAMPUS|     null|     1114|Cooperative Educa...|\n",
      "|075da420-5f49-3dd...|                null|         null|     null|     1114|Cooperative Educa...|\n",
      "|2b4e216d-a728-371...|                null|         null|     null|     1104|Cooperative Educa...|\n",
      "|2b4e216d-a728-371...|04368a56-c959-3e4...|   OFF CAMPUS|     null|     1104|Cooperative Educa...|\n",
      "|87966a7b-f676-33d...|                null|         null|     null|     1112|Cooperative Educa...|\n",
      "|ff511882-5eab-3e7...|04368a56-c959-3e4...|   OFF CAMPUS|     null|     1134|Cooperative Educa...|\n",
      "|ff511882-5eab-3e7...|04368a56-c959-3e4...|   OFF CAMPUS|     null|     1134|Cooperative Educa...|\n",
      "|ff511882-5eab-3e7...|                null|         null|     null|     1134|Cooperative Educa...|\n",
      "|b3e26604-fe6e-30d...|                null|         null|     null|     1084|Cooperative Educa...|\n",
      "|b3e26604-fe6e-30d...|04368a56-c959-3e4...|   OFF CAMPUS|     null|     1084|Cooperative Educa...|\n",
      "|e100d196-5e82-32e...|                null|         null|     null|     1154|Cooperative Educa...|\n",
      "|e100d196-5e82-32e...|04368a56-c959-3e4...|   OFF CAMPUS|     null|     1154|Cooperative Educa...|\n",
      "|e100d196-5e82-32e...|04368a56-c959-3e4...|   OFF CAMPUS|     null|     1154|Cooperative Educa...|\n",
      "|e100d196-5e82-32e...|                null|         null|     null|     1154|Cooperative Educa...|\n",
      "+--------------------+--------------------+-------------+---------+---------+--------------------+\n",
      "only showing top 20 rows\n",
      "\n"
     ]
    }
   ],
   "source": [
    "step2.show()"
   ]
  },
  {
   "cell_type": "markdown",
   "metadata": {},
   "source": [
    "## 1b. Now show same output as above but for only facility number 0469 (facility_code)"
   ]
  },
  {
   "cell_type": "code",
   "execution_count": 38,
   "metadata": {},
   "outputs": [
    {
     "name": "stdout",
     "output_type": "stream",
     "text": [
      "+--------------------+-------------+---------+---------+--------------------+\n",
      "|           room_uuid|facility_code|room_code|term_code|                name|\n",
      "+--------------------+-------------+---------+---------+--------------------+\n",
      "|9759cb5f-a7d3-3d0...|         0469|     2441|     1152|  Fundamentals-Flute|\n",
      "|9759cb5f-a7d3-3d0...|         0469|     2441|     1092|  Fundamentals-Flute|\n",
      "|6af80b0b-b3e3-370...|         0469|     4411|     1172|  Fundamentals-Flute|\n",
      "|9759cb5f-a7d3-3d0...|         0469|     2441|     1162|  Fundamentals-Flute|\n",
      "|9759cb5f-a7d3-3d0...|         0469|     2441|     1132|  Fundamentals-Flute|\n",
      "|50322d30-dd8f-3c6...|         0469|     2511|     1072|  Fundamentals-Flute|\n",
      "|9759cb5f-a7d3-3d0...|         0469|     2441|     1142|  Fundamentals-Flute|\n",
      "|9759cb5f-a7d3-3d0...|         0469|     2441|     1112|  Fundamentals-Flute|\n",
      "|9759cb5f-a7d3-3d0...|         0469|     2441|     1102|  Fundamentals-Flute|\n",
      "|50322d30-dd8f-3c6...|         0469|     2511|     1082|  Fundamentals-Flute|\n",
      "|9759cb5f-a7d3-3d0...|         0469|     2441|     1122|  Fundamentals-Flute|\n",
      "|9759cb5f-a7d3-3d0...|         0469|     2441|     1182|  Fundamentals-Flute|\n",
      "|9759cb5f-a7d3-3d0...|         0469|     2441|     1172|Fundamentals: Sin...|\n",
      "|9759cb5f-a7d3-3d0...|         0469|     2441|     1172|Fundamentals: Sin...|\n",
      "|9759cb5f-a7d3-3d0...|         0469|     2441|     1152|Fundamentals: Sin...|\n",
      "|9759cb5f-a7d3-3d0...|         0469|     2441|     1152|Fundamentals: Sin...|\n",
      "|9759cb5f-a7d3-3d0...|         0469|     2441|     1072|Fundamentals: Sin...|\n",
      "|9759cb5f-a7d3-3d0...|         0469|     2441|     1072|Fundamentals: Sin...|\n",
      "|9759cb5f-a7d3-3d0...|         0469|     2441|     1122|Fundamentals: Sin...|\n",
      "|9759cb5f-a7d3-3d0...|         0469|     2441|     1102|Fundamentals: Sin...|\n",
      "+--------------------+-------------+---------+---------+--------------------+\n",
      "only showing top 20 rows\n",
      "\n"
     ]
    }
   ],
   "source": [
    "step2[(step2['facility_code']== '0469')].show()"
   ]
  },
  {
   "cell_type": "markdown",
   "metadata": {},
   "source": [
    "## 2. Count how many sections are offered for each subject for each facility\n",
    "\n",
    "*Note: this will involve a groupby*"
   ]
  },
  {
   "cell_type": "code",
   "execution_count": null,
   "metadata": {},
   "outputs": [],
   "source": [
    "subjects: code\n",
    "\n",
    "subject_memberships: subject_code, course_offering_uuid"
   ]
  },
  {
   "cell_type": "code",
   "execution_count": 54,
   "metadata": {},
   "outputs": [
    {
     "name": "stdout",
     "output_type": "stream",
     "text": [
      "+----+--------------------+------------+\n",
      "|code|                name|abbreviation|\n",
      "+----+--------------------+------------+\n",
      "| 908|        Soil Science|    SOIL SCI|\n",
      "| 350|             ENGLISH|     ENGLISH|\n",
      "| 351|English as a Seco...|         ESL|\n",
      "| 230|Human Development...|        HDFS|\n",
      "| 352|             English|        ENGL|\n",
      "| 231|    General Business|     GEN BUS|\n",
      "| 232|Accounting and In...|    ACCT I S|\n",
      "| 112|Biological System...|         BSE|\n",
      "| 233|Finance, Investme...|     FINANCE|\n",
      "| 476|        Horticulture|        HORT|\n",
      "| 355|          Entomology|       ENTOM|\n",
      "| 234| Information Systems|    INFO SYS|\n",
      "| 235|International Bus...|    INTL BUS|\n",
      "| 236|Management and Hu...|       M H R|\n",
      "| 237|           Marketing|    MARKETNG|\n",
      "| 359|      Design Studies|          DS|\n",
      "| 238|Operations and Te...|         OTM|\n",
      "| 239|Real Estate and U...|    REAL EST|\n",
      "| 912|Spanish (Spanish ...|     SPANISH|\n",
      "| 480|      Human Oncology|     H ONCOL|\n",
      "+----+--------------------+------------+\n",
      "only showing top 20 rows\n",
      "\n"
     ]
    }
   ],
   "source": [
    "subjects.show()"
   ]
  },
  {
   "cell_type": "code",
   "execution_count": 57,
   "metadata": {},
   "outputs": [],
   "source": [
    "step3 = step2.select('uuid', 'room_uuid', 'facility_code', 'room_code', 'term_code')"
   ]
  },
  {
   "cell_type": "code",
   "execution_count": 58,
   "metadata": {},
   "outputs": [],
   "source": [
    "stepA= subject_memberships.join(subjects, subject_memberships.subject_code==subjects.code, how = 'left').select('name', 'abbreviation', 'course_offering_uuid')\n",
    "final = stepA.join(step3, step3.uuid==stepA.course_offering_uuid, how='left').select('name','facility_code', 'room_code', 'term_code')\n"
   ]
  },
  {
   "cell_type": "code",
   "execution_count": null,
   "metadata": {
    "scrolled": true
   },
   "outputs": [],
   "source": [
    "final.groupBy('facility_code', 'name').count().orderBy('count',  ascending=False).show()"
   ]
  },
  {
   "cell_type": "code",
   "execution_count": null,
   "metadata": {},
   "outputs": [],
   "source": []
  },
  {
   "cell_type": "code",
   "execution_count": null,
   "metadata": {},
   "outputs": [],
   "source": []
  },
  {
   "cell_type": "code",
   "execution_count": null,
   "metadata": {},
   "outputs": [],
   "source": []
  },
  {
   "cell_type": "markdown",
   "metadata": {},
   "source": [
    "## 3. What are the hardest classes?\n",
    "\n",
    "Let's see if we can figure out which classes are the hardest by seeing how many students failed. Note that you will first need to aggregate the grades table by the course uuid to include all sections. Show the name of the course as well that you will need to get from the course_offering table."
   ]
  },
  {
   "cell_type": "code",
   "execution_count": null,
   "metadata": {},
   "outputs": [],
   "source": []
  },
  {
   "cell_type": "code",
   "execution_count": null,
   "metadata": {},
   "outputs": [],
   "source": []
  },
  {
   "cell_type": "markdown",
   "metadata": {},
   "source": [
    "## Challenge Question: Automating data entry errors\n",
    "\n",
    "We see in the dataframe below that there are several typos of various animal names. If this was a large database of several millions of records, correcting these errors would be way too labor intensive. How can we automate correcting these errors?\n",
    "\n",
    "*Hint: Leven...*"
   ]
  },
  {
   "cell_type": "code",
   "execution_count": null,
   "metadata": {},
   "outputs": [],
   "source": [
    "values = [('Monkey',10),('Monkay',36),('Mnky',123), \\\n",
    "          ('Elephant',48),('Elefant',16),('Ellafant',1), \\\n",
    "          ('Hippopotamus',48),('Hipopotamus',16),('Hippo',1)]\n",
    "zoo = spark.createDataFrame(values,['Animal','age'])\n",
    "zoo.show()"
   ]
  },
  {
   "cell_type": "code",
   "execution_count": null,
   "metadata": {},
   "outputs": [],
   "source": []
  },
  {
   "cell_type": "code",
   "execution_count": null,
   "metadata": {},
   "outputs": [],
   "source": []
  },
  {
   "cell_type": "code",
   "execution_count": null,
   "metadata": {},
   "outputs": [],
   "source": []
  },
  {
   "cell_type": "markdown",
   "metadata": {},
   "source": [
    "### Great job! "
   ]
  }
 ],
 "metadata": {
  "kernelspec": {
   "display_name": "Python 3",
   "language": "python",
   "name": "python3"
  },
  "language_info": {
   "codemirror_mode": {
    "name": "ipython",
    "version": 3
   },
   "file_extension": ".py",
   "mimetype": "text/x-python",
   "name": "python",
   "nbconvert_exporter": "python",
   "pygments_lexer": "ipython3",
   "version": "3.7.6"
  }
 },
 "nbformat": 4,
 "nbformat_minor": 2
}
