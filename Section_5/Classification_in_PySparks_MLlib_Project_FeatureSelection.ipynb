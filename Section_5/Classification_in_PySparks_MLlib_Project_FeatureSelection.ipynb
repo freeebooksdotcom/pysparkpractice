{
 "cells": [
  {
   "cell_type": "markdown",
   "metadata": {},
   "source": [
    "# Classification in PySpark's MLlib Project Solution\n",
    "\n",
    "### Genre classification\n",
    "Now it's time to leverage what we learned in the lectures to a REAL classification project! Have you ever wondered what makes us, humans, able to tell apart two songs of different genres? How we do we inherenly know the difference between a pop song and heavy metal? This type of classifcation may seem easy for us, but it's a very difficult challenge for a computer to do. So the question is, could an automatic genre classifcation model be possible? \n",
    "\n",
    "For this project we will be classifying songs based on a number of characteristics into a set of 23 electronic genres. This technology could be used by an application like Pandora to recommend songs to users or just create meaningful channels. Super fun!\n",
    "\n",
    "### Dataset\n",
    "*beatsdataset.csv*\n",
    "Each row is an electronic music song. The dataset contains 100 song for each genre among 23 electronic music genres, they were the top (100) songs of their genres on November 2016. The 71 columns are audio features extracted of a two random minutes sample of the file audio. These features have been extracted using pyAudioAnalysis (https://github.com/tyiannak/pyAudioAnalysis).\n",
    "\n",
    "### Your task\n",
    "Create an algorithm that classifies songs into the 23 genres provided. Test out several different models and select the highest performing one. Also play around with feature selection methods and finally try to make a recommendation to a user.  \n",
    "\n",
    "For the feature selection aspect of this project, you may need to get a bit creative if you want to select features from a non-tree algorithm. I did not go over this aspect of PySpark intentionally in the previous lectures to give you chance to get used to researching the PySpark documentation page. Here is the link to the Feature Selectors section of the documentation that just might come in handy: https://spark.apache.org/docs/latest/ml-features.html#feature-selectors\n",
    "\n",
    "Good luck! Have fun :)\n",
    "\n",
    "### Source\n",
    "https://www.kaggle.com/caparrini/beatsdataset"
   ]
  },
  {
   "cell_type": "code",
   "execution_count": 1,
   "metadata": {},
   "outputs": [],
   "source": [
    "import pyspark\n",
    "from pyspark.sql import SparkSession\n",
    "\n",
    "spark = SparkSession.builder.appName('ClassificationProject').getOrCreate()\n",
    "\n"
   ]
  },
  {
   "cell_type": "code",
   "execution_count": 2,
   "metadata": {},
   "outputs": [],
   "source": [
    "from pyspark.ml.feature import VectorAssembler\n",
    "from pyspark.sql.types import * \n",
    "from pyspark.sql.functions import *\n",
    "from pyspark.ml.feature import StringIndexer\n",
    "from pyspark.ml.feature import MinMaxScaler"
   ]
  },
  {
   "cell_type": "code",
   "execution_count": 3,
   "metadata": {},
   "outputs": [],
   "source": [
    "path =\"Datasets/\"\n",
    "df = spark.read.csv(path+'beatsdataset.csv',inferSchema=True,header=True)"
   ]
  },
  {
   "cell_type": "code",
   "execution_count": 4,
   "metadata": {},
   "outputs": [
    {
     "data": {
      "text/html": [
       "<div>\n",
       "<style scoped>\n",
       "    .dataframe tbody tr th:only-of-type {\n",
       "        vertical-align: middle;\n",
       "    }\n",
       "\n",
       "    .dataframe tbody tr th {\n",
       "        vertical-align: top;\n",
       "    }\n",
       "\n",
       "    .dataframe thead th {\n",
       "        text-align: right;\n",
       "    }\n",
       "</style>\n",
       "<table border=\"1\" class=\"dataframe\">\n",
       "  <thead>\n",
       "    <tr style=\"text-align: right;\">\n",
       "      <th></th>\n",
       "      <th>_c0</th>\n",
       "      <th>1-ZCRm</th>\n",
       "      <th>2-Energym</th>\n",
       "      <th>3-EnergyEntropym</th>\n",
       "      <th>4-SpectralCentroidm</th>\n",
       "      <th>5-SpectralSpreadm</th>\n",
       "      <th>6-SpectralEntropym</th>\n",
       "      <th>7-SpectralFluxm</th>\n",
       "      <th>8-SpectralRolloffm</th>\n",
       "      <th>9-MFCCs1m</th>\n",
       "      <th>...</th>\n",
       "      <th>63-ChromaVector8std</th>\n",
       "      <th>64-ChromaVector9std</th>\n",
       "      <th>65-ChromaVector10std</th>\n",
       "      <th>66-ChromaVector11std</th>\n",
       "      <th>67-ChromaVector12std</th>\n",
       "      <th>68-ChromaDeviationstd</th>\n",
       "      <th>69-BPM</th>\n",
       "      <th>70-BPMconf</th>\n",
       "      <th>71-BPMessentia</th>\n",
       "      <th>class</th>\n",
       "    </tr>\n",
       "  </thead>\n",
       "  <tbody>\n",
       "    <tr>\n",
       "      <th>0</th>\n",
       "      <td>0</td>\n",
       "      <td>0.136440</td>\n",
       "      <td>0.088861</td>\n",
       "      <td>3.201201</td>\n",
       "      <td>0.262825</td>\n",
       "      <td>0.249212</td>\n",
       "      <td>1.114423</td>\n",
       "      <td>0.007003</td>\n",
       "      <td>0.256682</td>\n",
       "      <td>-22.723259</td>\n",
       "      <td>...</td>\n",
       "      <td>0.003431</td>\n",
       "      <td>0.004981</td>\n",
       "      <td>0.010818</td>\n",
       "      <td>0.024001</td>\n",
       "      <td>0.005201</td>\n",
       "      <td>0.015056</td>\n",
       "      <td>133.333333</td>\n",
       "      <td>0.132792</td>\n",
       "      <td>128.0</td>\n",
       "      <td>BigRoom</td>\n",
       "    </tr>\n",
       "    <tr>\n",
       "      <th>1</th>\n",
       "      <td>1</td>\n",
       "      <td>0.117039</td>\n",
       "      <td>0.108389</td>\n",
       "      <td>3.194001</td>\n",
       "      <td>0.247657</td>\n",
       "      <td>0.250288</td>\n",
       "      <td>1.065668</td>\n",
       "      <td>0.005387</td>\n",
       "      <td>0.199821</td>\n",
       "      <td>-21.775871</td>\n",
       "      <td>...</td>\n",
       "      <td>0.004461</td>\n",
       "      <td>0.006441</td>\n",
       "      <td>0.007469</td>\n",
       "      <td>0.015499</td>\n",
       "      <td>0.005589</td>\n",
       "      <td>0.019339</td>\n",
       "      <td>120.000000</td>\n",
       "      <td>0.112767</td>\n",
       "      <td>126.0</td>\n",
       "      <td>BigRoom</td>\n",
       "    </tr>\n",
       "    <tr>\n",
       "      <th>2</th>\n",
       "      <td>2</td>\n",
       "      <td>0.085308</td>\n",
       "      <td>0.128525</td>\n",
       "      <td>3.123837</td>\n",
       "      <td>0.217205</td>\n",
       "      <td>0.228652</td>\n",
       "      <td>0.789647</td>\n",
       "      <td>0.008247</td>\n",
       "      <td>0.156822</td>\n",
       "      <td>-22.472722</td>\n",
       "      <td>...</td>\n",
       "      <td>0.001529</td>\n",
       "      <td>0.004556</td>\n",
       "      <td>0.007723</td>\n",
       "      <td>0.017482</td>\n",
       "      <td>0.002901</td>\n",
       "      <td>0.022201</td>\n",
       "      <td>133.333333</td>\n",
       "      <td>0.123373</td>\n",
       "      <td>129.0</td>\n",
       "      <td>BigRoom</td>\n",
       "    </tr>\n",
       "    <tr>\n",
       "      <th>3</th>\n",
       "      <td>3</td>\n",
       "      <td>0.103050</td>\n",
       "      <td>0.167042</td>\n",
       "      <td>3.150830</td>\n",
       "      <td>0.233593</td>\n",
       "      <td>0.245032</td>\n",
       "      <td>0.967082</td>\n",
       "      <td>0.006571</td>\n",
       "      <td>0.168083</td>\n",
       "      <td>-21.470751</td>\n",
       "      <td>...</td>\n",
       "      <td>0.001591</td>\n",
       "      <td>0.003514</td>\n",
       "      <td>0.009477</td>\n",
       "      <td>0.023162</td>\n",
       "      <td>0.004165</td>\n",
       "      <td>0.015379</td>\n",
       "      <td>133.333333</td>\n",
       "      <td>0.158876</td>\n",
       "      <td>129.0</td>\n",
       "      <td>BigRoom</td>\n",
       "    </tr>\n",
       "    <tr>\n",
       "      <th>4</th>\n",
       "      <td>4</td>\n",
       "      <td>0.151730</td>\n",
       "      <td>0.148405</td>\n",
       "      <td>3.194498</td>\n",
       "      <td>0.293730</td>\n",
       "      <td>0.267231</td>\n",
       "      <td>1.353005</td>\n",
       "      <td>0.003872</td>\n",
       "      <td>0.292055</td>\n",
       "      <td>-21.371157</td>\n",
       "      <td>...</td>\n",
       "      <td>0.003945</td>\n",
       "      <td>0.004131</td>\n",
       "      <td>0.011330</td>\n",
       "      <td>0.028188</td>\n",
       "      <td>0.002639</td>\n",
       "      <td>0.019079</td>\n",
       "      <td>133.333333</td>\n",
       "      <td>0.190708</td>\n",
       "      <td>129.0</td>\n",
       "      <td>BigRoom</td>\n",
       "    </tr>\n",
       "  </tbody>\n",
       "</table>\n",
       "<p>5 rows × 73 columns</p>\n",
       "</div>"
      ],
      "text/plain": [
       "   _c0    1-ZCRm  2-Energym  3-EnergyEntropym  4-SpectralCentroidm  \\\n",
       "0    0  0.136440   0.088861          3.201201             0.262825   \n",
       "1    1  0.117039   0.108389          3.194001             0.247657   \n",
       "2    2  0.085308   0.128525          3.123837             0.217205   \n",
       "3    3  0.103050   0.167042          3.150830             0.233593   \n",
       "4    4  0.151730   0.148405          3.194498             0.293730   \n",
       "\n",
       "   5-SpectralSpreadm  6-SpectralEntropym  7-SpectralFluxm  8-SpectralRolloffm  \\\n",
       "0           0.249212            1.114423         0.007003            0.256682   \n",
       "1           0.250288            1.065668         0.005387            0.199821   \n",
       "2           0.228652            0.789647         0.008247            0.156822   \n",
       "3           0.245032            0.967082         0.006571            0.168083   \n",
       "4           0.267231            1.353005         0.003872            0.292055   \n",
       "\n",
       "   9-MFCCs1m  ...  63-ChromaVector8std  64-ChromaVector9std  \\\n",
       "0 -22.723259  ...             0.003431             0.004981   \n",
       "1 -21.775871  ...             0.004461             0.006441   \n",
       "2 -22.472722  ...             0.001529             0.004556   \n",
       "3 -21.470751  ...             0.001591             0.003514   \n",
       "4 -21.371157  ...             0.003945             0.004131   \n",
       "\n",
       "   65-ChromaVector10std  66-ChromaVector11std  67-ChromaVector12std  \\\n",
       "0              0.010818              0.024001              0.005201   \n",
       "1              0.007469              0.015499              0.005589   \n",
       "2              0.007723              0.017482              0.002901   \n",
       "3              0.009477              0.023162              0.004165   \n",
       "4              0.011330              0.028188              0.002639   \n",
       "\n",
       "   68-ChromaDeviationstd      69-BPM  70-BPMconf  71-BPMessentia    class  \n",
       "0               0.015056  133.333333    0.132792           128.0  BigRoom  \n",
       "1               0.019339  120.000000    0.112767           126.0  BigRoom  \n",
       "2               0.022201  133.333333    0.123373           129.0  BigRoom  \n",
       "3               0.015379  133.333333    0.158876           129.0  BigRoom  \n",
       "4               0.019079  133.333333    0.190708           129.0  BigRoom  \n",
       "\n",
       "[5 rows x 73 columns]"
      ]
     },
     "execution_count": 4,
     "metadata": {},
     "output_type": "execute_result"
    }
   ],
   "source": [
    "df.limit(5).toPandas()"
   ]
  },
  {
   "cell_type": "code",
   "execution_count": 5,
   "metadata": {},
   "outputs": [
    {
     "name": "stdout",
     "output_type": "stream",
     "text": [
      "root\n",
      " |-- _c0: integer (nullable = true)\n",
      " |-- 1-ZCRm: double (nullable = true)\n",
      " |-- 2-Energym: double (nullable = true)\n",
      " |-- 3-EnergyEntropym: double (nullable = true)\n",
      " |-- 4-SpectralCentroidm: double (nullable = true)\n",
      " |-- 5-SpectralSpreadm: double (nullable = true)\n",
      " |-- 6-SpectralEntropym: double (nullable = true)\n",
      " |-- 7-SpectralFluxm: double (nullable = true)\n",
      " |-- 8-SpectralRolloffm: double (nullable = true)\n",
      " |-- 9-MFCCs1m: double (nullable = true)\n",
      " |-- 10-MFCCs2m: double (nullable = true)\n",
      " |-- 11-MFCCs3m: double (nullable = true)\n",
      " |-- 12-MFCCs4m: double (nullable = true)\n",
      " |-- 13-MFCCs5m: double (nullable = true)\n",
      " |-- 14-MFCCs6m: double (nullable = true)\n",
      " |-- 15-MFCCs7m: double (nullable = true)\n",
      " |-- 16-MFCCs8m: double (nullable = true)\n",
      " |-- 17-MFCCs9m: double (nullable = true)\n",
      " |-- 18-MFCCs10m: double (nullable = true)\n",
      " |-- 19-MFCCs11m: double (nullable = true)\n",
      " |-- 20-MFCCs12m: double (nullable = true)\n",
      " |-- 21-MFCCs13m: double (nullable = true)\n",
      " |-- 22-ChromaVector1m: double (nullable = true)\n",
      " |-- 23-ChromaVector2m: double (nullable = true)\n",
      " |-- 24-ChromaVector3m: double (nullable = true)\n",
      " |-- 25-ChromaVector4m: double (nullable = true)\n",
      " |-- 26-ChromaVector5m: double (nullable = true)\n",
      " |-- 27-ChromaVector6m: double (nullable = true)\n",
      " |-- 28-ChromaVector7m: double (nullable = true)\n",
      " |-- 29-ChromaVector8m: double (nullable = true)\n",
      " |-- 30-ChromaVector9m: double (nullable = true)\n",
      " |-- 31-ChromaVector10m: double (nullable = true)\n",
      " |-- 32-ChromaVector11m: double (nullable = true)\n",
      " |-- 33-ChromaVector12m: double (nullable = true)\n",
      " |-- 34-ChromaDeviationm: double (nullable = true)\n",
      " |-- 35-ZCRstd: double (nullable = true)\n",
      " |-- 36-Energystd: double (nullable = true)\n",
      " |-- 37-EnergyEntropystd: double (nullable = true)\n",
      " |-- 38-SpectralCentroidstd: double (nullable = true)\n",
      " |-- 39-SpectralSpreadstd: double (nullable = true)\n",
      " |-- 40-SpectralEntropystd: double (nullable = true)\n",
      " |-- 41-SpectralFluxstd: double (nullable = true)\n",
      " |-- 42-SpectralRolloffstd: double (nullable = true)\n",
      " |-- 43-MFCCs1std: double (nullable = true)\n",
      " |-- 44-MFCCs2std: double (nullable = true)\n",
      " |-- 45-MFCCs3std: double (nullable = true)\n",
      " |-- 46-MFCCs4std: double (nullable = true)\n",
      " |-- 47-MFCCs5std: double (nullable = true)\n",
      " |-- 48-MFCCs6std: double (nullable = true)\n",
      " |-- 49-MFCCs7std: double (nullable = true)\n",
      " |-- 50-MFCCs8std: double (nullable = true)\n",
      " |-- 51-MFCCs9std: double (nullable = true)\n",
      " |-- 52-MFCCs10std: double (nullable = true)\n",
      " |-- 53-MFCCs11std: double (nullable = true)\n",
      " |-- 54-MFCCs12std: double (nullable = true)\n",
      " |-- 55-MFCCs13std: double (nullable = true)\n",
      " |-- 56-ChromaVector1std: double (nullable = true)\n",
      " |-- 57-ChromaVector2std: double (nullable = true)\n",
      " |-- 58-ChromaVector3std: double (nullable = true)\n",
      " |-- 59-ChromaVector4std: double (nullable = true)\n",
      " |-- 60-ChromaVector5std: double (nullable = true)\n",
      " |-- 61-ChromaVector6std: double (nullable = true)\n",
      " |-- 62-ChromaVector7std: double (nullable = true)\n",
      " |-- 63-ChromaVector8std: double (nullable = true)\n",
      " |-- 64-ChromaVector9std: double (nullable = true)\n",
      " |-- 65-ChromaVector10std: double (nullable = true)\n",
      " |-- 66-ChromaVector11std: double (nullable = true)\n",
      " |-- 67-ChromaVector12std: double (nullable = true)\n",
      " |-- 68-ChromaDeviationstd: double (nullable = true)\n",
      " |-- 69-BPM: double (nullable = true)\n",
      " |-- 70-BPMconf: double (nullable = true)\n",
      " |-- 71-BPMessentia: double (nullable = true)\n",
      " |-- class: string (nullable = true)\n",
      "\n"
     ]
    }
   ],
   "source": [
    "df.printSchema()"
   ]
  },
  {
   "cell_type": "code",
   "execution_count": 6,
   "metadata": {},
   "outputs": [
    {
     "name": "stdout",
     "output_type": "stream",
     "text": [
      "+--------------------+-----+\n",
      "|               class|count|\n",
      "+--------------------+-----+\n",
      "|           PsyTrance|  100|\n",
      "|           HardDance|  100|\n",
      "|              Breaks|  100|\n",
      "|  HardcoreHardTechno|  100|\n",
      "|   IndieDanceNuDisco|  100|\n",
      "|              Trance|  100|\n",
      "|           DeepHouse|  100|\n",
      "|ElectronicaDowntempo|  100|\n",
      "|           ReggaeDub|  100|\n",
      "|             Minimal|  100|\n",
      "|         DrumAndBass|  100|\n",
      "|             Dubstep|  100|\n",
      "|             BigRoom|  100|\n",
      "|              Techno|  100|\n",
      "|               House|  100|\n",
      "|         FutureHouse|  100|\n",
      "|        ElectroHouse|  100|\n",
      "|           GlitchHop|  100|\n",
      "|           TechHouse|  100|\n",
      "|              HipHop|  100|\n",
      "|           FunkRAndB|  100|\n",
      "|               Dance|  100|\n",
      "|    ProgressiveHouse|  100|\n",
      "+--------------------+-----+\n",
      "\n"
     ]
    }
   ],
   "source": [
    "df.groupBy('class').count().show(100)"
   ]
  },
  {
   "cell_type": "markdown",
   "metadata": {},
   "source": [
    "## Format Data"
   ]
  },
  {
   "cell_type": "code",
   "execution_count": 7,
   "metadata": {},
   "outputs": [
    {
     "name": "stdout",
     "output_type": "stream",
     "text": [
      "+---+------+---------+----------------+-------------------+-----------------+------------------+---------------+------------------+---------+----------+----------+----------+----------+----------+----------+----------+----------+-----------+-----------+-----------+-----------+-----------------+-----------------+-----------------+-----------------+-----------------+-----------------+-----------------+-----------------+-----------------+------------------+------------------+------------------+-------------------+---------+------------+-------------------+----------------------+--------------------+---------------------+------------------+---------------------+------------+------------+------------+------------+------------+------------+------------+------------+------------+-------------+-------------+-------------+-------------+-------------------+-------------------+-------------------+-------------------+-------------------+-------------------+-------------------+-------------------+-------------------+--------------------+--------------------+--------------------+---------------------+------+----------+--------------+-----+\n",
      "|_c0|1-ZCRm|2-Energym|3-EnergyEntropym|4-SpectralCentroidm|5-SpectralSpreadm|6-SpectralEntropym|7-SpectralFluxm|8-SpectralRolloffm|9-MFCCs1m|10-MFCCs2m|11-MFCCs3m|12-MFCCs4m|13-MFCCs5m|14-MFCCs6m|15-MFCCs7m|16-MFCCs8m|17-MFCCs9m|18-MFCCs10m|19-MFCCs11m|20-MFCCs12m|21-MFCCs13m|22-ChromaVector1m|23-ChromaVector2m|24-ChromaVector3m|25-ChromaVector4m|26-ChromaVector5m|27-ChromaVector6m|28-ChromaVector7m|29-ChromaVector8m|30-ChromaVector9m|31-ChromaVector10m|32-ChromaVector11m|33-ChromaVector12m|34-ChromaDeviationm|35-ZCRstd|36-Energystd|37-EnergyEntropystd|38-SpectralCentroidstd|39-SpectralSpreadstd|40-SpectralEntropystd|41-SpectralFluxstd|42-SpectralRolloffstd|43-MFCCs1std|44-MFCCs2std|45-MFCCs3std|46-MFCCs4std|47-MFCCs5std|48-MFCCs6std|49-MFCCs7std|50-MFCCs8std|51-MFCCs9std|52-MFCCs10std|53-MFCCs11std|54-MFCCs12std|55-MFCCs13std|56-ChromaVector1std|57-ChromaVector2std|58-ChromaVector3std|59-ChromaVector4std|60-ChromaVector5std|61-ChromaVector6std|62-ChromaVector7std|63-ChromaVector8std|64-ChromaVector9std|65-ChromaVector10std|66-ChromaVector11std|67-ChromaVector12std|68-ChromaDeviationstd|69-BPM|70-BPMconf|71-BPMessentia|class|\n",
      "+---+------+---------+----------------+-------------------+-----------------+------------------+---------------+------------------+---------+----------+----------+----------+----------+----------+----------+----------+----------+-----------+-----------+-----------+-----------+-----------------+-----------------+-----------------+-----------------+-----------------+-----------------+-----------------+-----------------+-----------------+------------------+------------------+------------------+-------------------+---------+------------+-------------------+----------------------+--------------------+---------------------+------------------+---------------------+------------+------------+------------+------------+------------+------------+------------+------------+------------+-------------+-------------+-------------+-------------+-------------------+-------------------+-------------------+-------------------+-------------------+-------------------+-------------------+-------------------+-------------------+--------------------+--------------------+--------------------+---------------------+------+----------+--------------+-----+\n",
      "|  0|     0|        0|               0|                  0|                0|                 0|              0|                 0|        0|         0|         0|         0|         0|         0|         0|         0|         0|          0|          0|          0|          0|                0|                0|                0|                0|                0|                0|                0|                0|                0|                 0|                 0|                 0|                  0|        0|           0|                  0|                     0|                   0|                    0|                 0|                    0|           0|           0|           0|           0|           0|           0|           0|           0|           0|            0|            0|            0|            0|                  0|                  0|                  0|                  0|                  0|                  0|                  0|                  0|                  0|                   0|                   0|                   0|                    0|     0|         0|             0|    0|\n",
      "+---+------+---------+----------------+-------------------+-----------------+------------------+---------------+------------------+---------+----------+----------+----------+----------+----------+----------+----------+----------+-----------+-----------+-----------+-----------+-----------------+-----------------+-----------------+-----------------+-----------------+-----------------+-----------------+-----------------+-----------------+------------------+------------------+------------------+-------------------+---------+------------+-------------------+----------------------+--------------------+---------------------+------------------+---------------------+------------+------------+------------+------------+------------+------------+------------+------------+------------+-------------+-------------+-------------+-------------+-------------------+-------------------+-------------------+-------------------+-------------------+-------------------+-------------------+-------------------+-------------------+--------------------+--------------------+--------------------+---------------------+------+----------+--------------+-----+\n",
      "\n"
     ]
    }
   ],
   "source": [
    "df.select([count(when(col(c).isNull(), c)).alias(c) for c in df.columns]).show()"
   ]
  },
  {
   "cell_type": "code",
   "execution_count": 8,
   "metadata": {},
   "outputs": [],
   "source": [
    "input_columns = df.columns # Collect the column names as a list\n",
    "input_columns = input_columns[1:-1] # keep only relevant columns: from column 1 to \n",
    "\n",
    "dependent_var = 'class'"
   ]
  },
  {
   "cell_type": "code",
   "execution_count": 9,
   "metadata": {},
   "outputs": [],
   "source": [
    "renamed = df.withColumn('label_str', df[dependent_var].cast(StringType()))\n",
    "indexer = StringIndexer(inputCol='label_str', outputCol='label')\n",
    "indexed = indexer.fit(renamed).transform(renamed)"
   ]
  },
  {
   "cell_type": "code",
   "execution_count": 10,
   "metadata": {},
   "outputs": [
    {
     "name": "stdout",
     "output_type": "stream",
     "text": [
      "root\n",
      " |-- _c0: integer (nullable = true)\n",
      " |-- 1-ZCRm: double (nullable = true)\n",
      " |-- 2-Energym: double (nullable = true)\n",
      " |-- 3-EnergyEntropym: double (nullable = true)\n",
      " |-- 4-SpectralCentroidm: double (nullable = true)\n",
      " |-- 5-SpectralSpreadm: double (nullable = true)\n",
      " |-- 6-SpectralEntropym: double (nullable = true)\n",
      " |-- 7-SpectralFluxm: double (nullable = true)\n",
      " |-- 8-SpectralRolloffm: double (nullable = true)\n",
      " |-- 9-MFCCs1m: double (nullable = true)\n",
      " |-- 10-MFCCs2m: double (nullable = true)\n",
      " |-- 11-MFCCs3m: double (nullable = true)\n",
      " |-- 12-MFCCs4m: double (nullable = true)\n",
      " |-- 13-MFCCs5m: double (nullable = true)\n",
      " |-- 14-MFCCs6m: double (nullable = true)\n",
      " |-- 15-MFCCs7m: double (nullable = true)\n",
      " |-- 16-MFCCs8m: double (nullable = true)\n",
      " |-- 17-MFCCs9m: double (nullable = true)\n",
      " |-- 18-MFCCs10m: double (nullable = true)\n",
      " |-- 19-MFCCs11m: double (nullable = true)\n",
      " |-- 20-MFCCs12m: double (nullable = true)\n",
      " |-- 21-MFCCs13m: double (nullable = true)\n",
      " |-- 22-ChromaVector1m: double (nullable = true)\n",
      " |-- 23-ChromaVector2m: double (nullable = true)\n",
      " |-- 24-ChromaVector3m: double (nullable = true)\n",
      " |-- 25-ChromaVector4m: double (nullable = true)\n",
      " |-- 26-ChromaVector5m: double (nullable = true)\n",
      " |-- 27-ChromaVector6m: double (nullable = true)\n",
      " |-- 28-ChromaVector7m: double (nullable = true)\n",
      " |-- 29-ChromaVector8m: double (nullable = true)\n",
      " |-- 30-ChromaVector9m: double (nullable = true)\n",
      " |-- 31-ChromaVector10m: double (nullable = true)\n",
      " |-- 32-ChromaVector11m: double (nullable = true)\n",
      " |-- 33-ChromaVector12m: double (nullable = true)\n",
      " |-- 34-ChromaDeviationm: double (nullable = true)\n",
      " |-- 35-ZCRstd: double (nullable = true)\n",
      " |-- 36-Energystd: double (nullable = true)\n",
      " |-- 37-EnergyEntropystd: double (nullable = true)\n",
      " |-- 38-SpectralCentroidstd: double (nullable = true)\n",
      " |-- 39-SpectralSpreadstd: double (nullable = true)\n",
      " |-- 40-SpectralEntropystd: double (nullable = true)\n",
      " |-- 41-SpectralFluxstd: double (nullable = true)\n",
      " |-- 42-SpectralRolloffstd: double (nullable = true)\n",
      " |-- 43-MFCCs1std: double (nullable = true)\n",
      " |-- 44-MFCCs2std: double (nullable = true)\n",
      " |-- 45-MFCCs3std: double (nullable = true)\n",
      " |-- 46-MFCCs4std: double (nullable = true)\n",
      " |-- 47-MFCCs5std: double (nullable = true)\n",
      " |-- 48-MFCCs6std: double (nullable = true)\n",
      " |-- 49-MFCCs7std: double (nullable = true)\n",
      " |-- 50-MFCCs8std: double (nullable = true)\n",
      " |-- 51-MFCCs9std: double (nullable = true)\n",
      " |-- 52-MFCCs10std: double (nullable = true)\n",
      " |-- 53-MFCCs11std: double (nullable = true)\n",
      " |-- 54-MFCCs12std: double (nullable = true)\n",
      " |-- 55-MFCCs13std: double (nullable = true)\n",
      " |-- 56-ChromaVector1std: double (nullable = true)\n",
      " |-- 57-ChromaVector2std: double (nullable = true)\n",
      " |-- 58-ChromaVector3std: double (nullable = true)\n",
      " |-- 59-ChromaVector4std: double (nullable = true)\n",
      " |-- 60-ChromaVector5std: double (nullable = true)\n",
      " |-- 61-ChromaVector6std: double (nullable = true)\n",
      " |-- 62-ChromaVector7std: double (nullable = true)\n",
      " |-- 63-ChromaVector8std: double (nullable = true)\n",
      " |-- 64-ChromaVector9std: double (nullable = true)\n",
      " |-- 65-ChromaVector10std: double (nullable = true)\n",
      " |-- 66-ChromaVector11std: double (nullable = true)\n",
      " |-- 67-ChromaVector12std: double (nullable = true)\n",
      " |-- 68-ChromaDeviationstd: double (nullable = true)\n",
      " |-- 69-BPM: double (nullable = true)\n",
      " |-- 70-BPMconf: double (nullable = true)\n",
      " |-- 71-BPMessentia: double (nullable = true)\n",
      " |-- class: string (nullable = true)\n",
      " |-- label_str: string (nullable = true)\n",
      " |-- label: double (nullable = false)\n",
      "\n"
     ]
    }
   ],
   "source": [
    "numeric_inputs = []\n",
    "string_inputs = []\n",
    "for column in input_columns:\n",
    "    if str(indexed.schema[column].dataType) == 'StringType':\n",
    "        indexer = StringIndexer(inputCol = column, outputCol=column+'_num')\n",
    "        indexed = indexer.fit(indexed).transform(indexed)\n",
    "        new_col_name = column+'_num'\n",
    "        string_inputs.append(new_col_name)\n",
    "    else:\n",
    "        numeric_inputs.append(column)\n",
    "indexed.printSchema()"
   ]
  },
  {
   "cell_type": "markdown",
   "metadata": {},
   "source": [
    "#### Skewness"
   ]
  },
  {
   "cell_type": "code",
   "execution_count": 11,
   "metadata": {},
   "outputs": [
    {
     "name": "stdout",
     "output_type": "stream",
     "text": [
      "7-SpectralFluxm  has been treated for pos skew 1.6396138160129063\n",
      "22-ChromaVector1m  has been treated for pos skew 2.4162415204309258\n",
      "23-ChromaVector2m  has been treated for pos skew 4.154796693680583\n",
      "24-ChromaVector3m  has been treated for pos skew 1.1974019617504328\n",
      "25-ChromaVector4m  has been treated for pos skew 2.446635863594906\n",
      "26-ChromaVector5m  has been treated for pos skew 2.154482876187508\n",
      "27-ChromaVector6m  has been treated for pos skew 2.01234064472543\n",
      "28-ChromaVector7m  has been treated for pos skew 1.1829228989215521\n",
      "29-ChromaVector8m  has been treated for pos skew 3.7372643733999955\n",
      "30-ChromaVector9m  has been treated for pos skew 2.4117416421548645\n",
      "31-ChromaVector10m  has been treated for pos skew 2.1979538518563233\n",
      "32-ChromaVector11m  has been treated for pos skew 2.1924295373960554\n",
      "33-ChromaVector12m  has been treated for pos skew 2.278981912155668\n",
      "41-SpectralFluxstd  has been treated for pos skew 1.8577721462401056\n",
      "56-ChromaVector1std  has been treated for pos skew 1.9111935514138085\n",
      "57-ChromaVector2std  has been treated for pos skew 2.9078740765487394\n",
      "59-ChromaVector4std  has been treated for pos skew 2.9677243313898827\n",
      "60-ChromaVector5std  has been treated for pos skew 2.3681450229993315\n",
      "61-ChromaVector6std  has been treated for pos skew 2.3950817653605396\n",
      "63-ChromaVector8std  has been treated for pos skew 2.801578595136121\n",
      "64-ChromaVector9std  has been treated for pos skew 1.7779798465610313\n",
      "65-ChromaVector10std  has been treated for pos skew 1.9944501757850421\n",
      "66-ChromaVector11std  has been treated for pos skew 1.1835182964170816\n",
      "67-ChromaVector12std  has been treated for pos skew 2.087086908618814\n",
      "69-BPM  has been treated for pos skew 2.9547734198613234\n",
      "70-BPMconf  has been treated for pos skew 1.0889332324135428\n"
     ]
    }
   ],
   "source": [
    "d= {}\n",
    "for col in numeric_inputs:\n",
    "    d[col]=indexed.approxQuantile(col,[0.01, 0.99], 0.25)\n",
    "\n",
    "for col in numeric_inputs:\n",
    "    skew = indexed.agg(skewness(indexed[col])).collect()\n",
    "    skew=skew[0][0]\n",
    "    if skew > 1:\n",
    "        indexed = indexed.withColumn(col, \\\n",
    "                                    log(when(df[col] < d[col][0], d[col][0])\\\n",
    "                                       .when(indexed[col]> d[col][1], d[col][1])\\\n",
    "                                       .otherwise(indexed[col])+1).alias(col))\n",
    "        print(col, \" has been treated for pos skew\", skew)\n",
    "    elif skew < -1:\n",
    "        indexed = indexed.withColumn(col, \\\n",
    "                                    exp(when(df[col] < d[col][0], d[col][0])\\\n",
    "                                       .when(indexed[col]> d[col][1], d[col][1])\\\n",
    "                                       .otherwise(indexed[col])+1).alias(col))\n",
    "        print(col, \" has been treated for neg skew\", skew)"
   ]
  },
  {
   "cell_type": "code",
   "execution_count": 12,
   "metadata": {},
   "outputs": [
    {
     "data": {
      "text/plain": [
       "-30.3789543716"
      ]
     },
     "execution_count": 12,
     "metadata": {},
     "output_type": "execute_result"
    }
   ],
   "source": [
    "minimums = df.select([min(c).alias(c) for c in df.columns if c in numeric_inputs])\n",
    "min_array = minimums.select(array(numeric_inputs).alias('mins'))\n",
    "df_minimum = min_array.select(array_min(min_array.mins)).collect()\n",
    "df_minimum = df_minimum[0][0]\n",
    "df_minimum"
   ]
  },
  {
   "cell_type": "code",
   "execution_count": 13,
   "metadata": {},
   "outputs": [],
   "source": [
    "features_list = numeric_inputs + string_inputs\n",
    "assembler = VectorAssembler(inputCols=features_list, outputCol='features')\n",
    "output = assembler.transform(indexed).select('features','label')\n"
   ]
  },
  {
   "cell_type": "code",
   "execution_count": 14,
   "metadata": {},
   "outputs": [
    {
     "name": "stdout",
     "output_type": "stream",
     "text": [
      "+--------------------+-----+\n",
      "|            features|label|\n",
      "+--------------------+-----+\n",
      "|[0.136439587512,0...|  0.0|\n",
      "|[0.117038518483,0...|  0.0|\n",
      "|[0.0853077737447,...|  0.0|\n",
      "|[0.103049917216,0...|  0.0|\n",
      "|[0.151729948738,0...|  0.0|\n",
      "|[0.127046737192,0...|  0.0|\n",
      "|[0.123395302003,0...|  0.0|\n",
      "|[0.140027382431,0...|  0.0|\n",
      "|[0.117635200751,0...|  0.0|\n",
      "|[0.137400181488,0...|  0.0|\n",
      "|[0.148838734199,0...|  0.0|\n",
      "|[0.119846749928,0...|  0.0|\n",
      "|[0.0786813648231,...|  0.0|\n",
      "|[0.138335144235,0...|  0.0|\n",
      "|[0.101304207661,0...|  0.0|\n",
      "|[0.132862180406,0...|  0.0|\n",
      "|[0.1533035231,0.1...|  0.0|\n",
      "|[0.118001599962,0...|  0.0|\n",
      "|[0.110992493712,0...|  0.0|\n",
      "|[0.124299777916,0...|  0.0|\n",
      "+--------------------+-----+\n",
      "only showing top 20 rows\n",
      "\n"
     ]
    }
   ],
   "source": [
    "output.show()"
   ]
  },
  {
   "cell_type": "code",
   "execution_count": 15,
   "metadata": {},
   "outputs": [],
   "source": [
    "scaler = MinMaxScaler(inputCol='features', outputCol='scaledFeatures', min = 0, max=1000)\n",
    "scalerModel = scaler.fit(output)\n",
    "scaled_data= scalerModel.transform(output)"
   ]
  },
  {
   "cell_type": "code",
   "execution_count": 16,
   "metadata": {},
   "outputs": [
    {
     "name": "stdout",
     "output_type": "stream",
     "text": [
      "+--------------------+-----+--------------------+\n",
      "|            features|label|      scaledFeatures|\n",
      "+--------------------+-----+--------------------+\n",
      "|[0.136439587512,0...|  0.0|[519.818266700239...|\n",
      "|[0.117038518483,0...|  0.0|[435.295463992565...|\n",
      "|[0.0853077737447,...|  0.0|[297.057129121742...|\n",
      "|[0.103049917216,0...|  0.0|[374.352647734368...|\n",
      "|[0.151729948738,0...|  0.0|[586.432337466259...|\n",
      "|[0.127046737192,0...|  0.0|[478.897323979332...|\n",
      "|[0.123395302003,0...|  0.0|[462.989461602348...|\n",
      "|[0.140027382431,0...|  0.0|[535.448873531282...|\n",
      "|[0.117635200751,0...|  0.0|[437.894973202184...|\n",
      "|[0.137400181488,0...|  0.0|[524.003195633498...|\n",
      "|[0.148838734199,0...|  0.0|[573.836456502165...|\n",
      "|[0.119846749928,0...|  0.0|[447.529820358620...|\n",
      "|[0.0786813648231,...|  0.0|[268.188480022892...|\n",
      "|[0.138335144235,0...|  0.0|[528.076459415282...|\n",
      "|[0.101304207661,0...|  0.0|[366.747280005321...|\n",
      "|[0.132862180406,0...|  0.0|[504.232915471732...|\n",
      "|[0.1533035231,0.1...|  0.0|[593.287780078539...|\n",
      "|[0.118001599962,0...|  0.0|[439.491229994906...|\n",
      "|[0.110992493712,0...|  0.0|[408.955319636547...|\n",
      "|[0.124299777916,0...|  0.0|[466.929906277539...|\n",
      "+--------------------+-----+--------------------+\n",
      "only showing top 20 rows\n",
      "\n"
     ]
    }
   ],
   "source": [
    "scaled_data.show()"
   ]
  },
  {
   "cell_type": "code",
   "execution_count": 17,
   "metadata": {},
   "outputs": [],
   "source": [
    "final_data=scaled_data.select('label', 'scaledFeatures')\n",
    "final_data = final_data.withColumnRenamed('scaledFeatures', 'features')"
   ]
  },
  {
   "cell_type": "code",
   "execution_count": 18,
   "metadata": {},
   "outputs": [],
   "source": [
    "train, test= final_data.randomSplit([0.7, 0.3])"
   ]
  },
  {
   "cell_type": "code",
   "execution_count": 19,
   "metadata": {},
   "outputs": [
    {
     "data": {
      "text/plain": [
       "1599"
      ]
     },
     "execution_count": 19,
     "metadata": {},
     "output_type": "execute_result"
    }
   ],
   "source": [
    "train.count()"
   ]
  },
  {
   "cell_type": "code",
   "execution_count": 20,
   "metadata": {},
   "outputs": [
    {
     "data": {
      "text/plain": [
       "701"
      ]
     },
     "execution_count": 20,
     "metadata": {},
     "output_type": "execute_result"
    }
   ],
   "source": [
    "test.count()"
   ]
  },
  {
   "cell_type": "markdown",
   "metadata": {},
   "source": [
    "### Modeling"
   ]
  },
  {
   "cell_type": "code",
   "execution_count": 21,
   "metadata": {},
   "outputs": [],
   "source": [
    "from pyspark.ml.classification import *\n",
    "from pyspark.ml.evaluation import *\n",
    "from pyspark.sql.functions import *\n",
    "from pyspark.ml.tuning import CrossValidator, ParamGridBuilder"
   ]
  },
  {
   "cell_type": "code",
   "execution_count": 22,
   "metadata": {},
   "outputs": [],
   "source": [
    "Bin_evaluator = BinaryClassificationEvaluator(rawPredictionCol='prediction')\n",
    "MC_evaluator = MulticlassClassificationEvaluator(metricName='accuracy')"
   ]
  },
  {
   "cell_type": "code",
   "execution_count": null,
   "metadata": {},
   "outputs": [],
   "source": []
  },
  {
   "cell_type": "markdown",
   "metadata": {},
   "source": [
    "### Logit (Chi-Square Numfeatures=30)"
   ]
  },
  {
   "cell_type": "code",
   "execution_count": 23,
   "metadata": {},
   "outputs": [
    {
     "name": "stdout",
     "output_type": "stream",
     "text": [
      "Intercept: [-0.003439003624001725,-0.002283725172729804,0.0034400541631993136,0.04752550472044123,-0.11476264587359482,0.02029028946997164,0.09755982695268281,0.013719320256262548,-0.06896704095470169,0.017564674031312927,-0.02536440012795451,-0.13390175035615007,0.06876506095521794,0.0159320107295216,0.030938448647966882,-0.024071704514029048,0.06935017743125944,-0.10571034450194741,0.10790822349637036,-0.0067245575882144025,0.05645242834604122,-0.056281694167753,-0.007939152319171468]\n",
      "Coefficients: \n",
      "DenseMatrix([[ 4.95209700e-04,  2.13343325e-03,  2.11590297e-03, ...,\n",
      "              -2.62901034e-03, -1.18318864e-03,  1.66738739e-03],\n",
      "             [-2.97965402e-04, -7.25974152e-04, -1.17296520e-04, ...,\n",
      "               4.58680340e-03, -3.84027985e-03,  2.56502462e-03],\n",
      "             [-2.61874111e-04, -5.87624342e-07,  1.46975057e-03, ...,\n",
      "              -2.24086080e-03,  4.04777057e-04, -1.46199391e-03],\n",
      "             ...,\n",
      "             [ 4.39931340e-04, -1.28385417e-03, -9.23224224e-04, ...,\n",
      "              -2.42484527e-03,  4.68490378e-04,  1.39514508e-03],\n",
      "             [-3.18000801e-04,  7.46378120e-05, -1.00569286e-03, ...,\n",
      "              -1.58059576e-03,  2.15576756e-03,  1.18146431e-03],\n",
      "             [ 1.26354040e-03, -1.42426970e-03,  3.28409051e-03, ...,\n",
      "              -1.54924649e-03,  1.61767812e-03,  2.69574630e-03]])\n",
      "43.081312410841655\n"
     ]
    }
   ],
   "source": [
    "classifier= LogisticRegression()\n",
    "\n",
    "paramGrid = (ParamGridBuilder().addGrid(classifier.maxIter, [10, 15,20]).build())\n",
    "\n",
    "crossval = CrossValidator(estimator=classifier,\n",
    "                         estimatorParamMaps=paramGrid,\n",
    "                         evaluator=MC_evaluator,\n",
    "                         numFolds=2)\n",
    "\n",
    "fitModel = crossval.fit(train)\n",
    "BestModel = fitModel.bestModel\n",
    "\n",
    "print('Intercept: ' +str(BestModel.interceptVector))\n",
    "print('Coefficients: \\n' + str(BestModel.coefficientMatrix))\n",
    "\n",
    "LR_BestModel = BestModel\n",
    "\n",
    "predictions=fitModel.transform(test)\n",
    "accuracy = (MC_evaluator.evaluate(predictions))*100\n",
    "\n",
    "print(accuracy)\n"
   ]
  },
  {
   "cell_type": "code",
   "execution_count": 24,
   "metadata": {},
   "outputs": [
    {
     "name": "stdout",
     "output_type": "stream",
     "text": [
      "+--------------------+--------------------+\n",
      "|             feature|               coeff|\n",
      "+--------------------+--------------------+\n",
      "|              1-ZCRm|4.952096998799204E-4|\n",
      "|           2-Energym|0.002133433249608...|\n",
      "|    3-EnergyEntropym|0.002115902972941641|\n",
      "| 4-SpectralCentroidm|9.170826685377883E-4|\n",
      "|   5-SpectralSpreadm|0.001575963647193...|\n",
      "|  6-SpectralEntropym|9.582191454134053E-4|\n",
      "|     7-SpectralFluxm|-0.00257449736591...|\n",
      "|  8-SpectralRolloffm|2.296121039584361E-4|\n",
      "|           9-MFCCs1m|0.004184343260159134|\n",
      "|          10-MFCCs2m|-0.00169751164570...|\n",
      "|          11-MFCCs3m|-7.45595017365970...|\n",
      "|          12-MFCCs4m| 3.05928781998889E-4|\n",
      "|          13-MFCCs5m| 8.27504010013759E-4|\n",
      "|          14-MFCCs6m|-6.16418501499167...|\n",
      "|          15-MFCCs7m|7.674519556212843E-5|\n",
      "|          16-MFCCs8m|-1.69489856322324...|\n",
      "|          17-MFCCs9m|-2.59460357055323...|\n",
      "|         18-MFCCs10m|7.142146588992483E-4|\n",
      "|         19-MFCCs11m|-6.96351996168954...|\n",
      "|         20-MFCCs12m|2.667340485165213E-4|\n",
      "|         21-MFCCs13m|-7.26210072068418...|\n",
      "|   22-ChromaVector1m|3.008724028789272E-4|\n",
      "|   23-ChromaVector2m|-0.00114133971948...|\n",
      "|   24-ChromaVector3m|0.001429308527415...|\n",
      "|   25-ChromaVector4m|-6.14581595943402...|\n",
      "|   26-ChromaVector5m|-9.23109756320967...|\n",
      "|   27-ChromaVector6m|5.725150502250742E-4|\n",
      "|   28-ChromaVector7m|-0.00166156150419...|\n",
      "|   29-ChromaVector8m|-1.96652110739112...|\n",
      "|   30-ChromaVector9m|2.220658881212331...|\n",
      "|  31-ChromaVector10m|9.930807036311362E-5|\n",
      "|  32-ChromaVector11m|-0.00101766875577...|\n",
      "|  33-ChromaVector12m|4.881186553245685...|\n",
      "| 34-ChromaDeviationm|-4.69252519105240...|\n",
      "|           35-ZCRstd|-0.00149556928316...|\n",
      "|        36-Energystd|-2.17230977689676...|\n",
      "| 37-EnergyEntropystd|-0.00158356455404...|\n",
      "|38-SpectralCentro...|-0.00227978399324...|\n",
      "|39-SpectralSpreadstd|-0.00240497061020...|\n",
      "|40-SpectralEntrop...|-8.36573658740156E-4|\n",
      "|  41-SpectralFluxstd|-0.00267883150145...|\n",
      "|42-SpectralRollof...|-8.85795204810681...|\n",
      "|        43-MFCCs1std|-0.00188750088294...|\n",
      "|        44-MFCCs2std|-0.00223866647597...|\n",
      "|        45-MFCCs3std|-0.00154874399652...|\n",
      "|        46-MFCCs4std|-8.58252204763531...|\n",
      "|        47-MFCCs5std|-4.60721398627791...|\n",
      "|        48-MFCCs6std|-4.73412685564479...|\n",
      "|        49-MFCCs7std|2.521401986097438E-4|\n",
      "|        50-MFCCs8std|9.238301356431437E-4|\n",
      "|        51-MFCCs9std|8.466160482610542E-4|\n",
      "|       52-MFCCs10std|0.001033013190824...|\n",
      "|       53-MFCCs11std| 0.00114673203067061|\n",
      "|       54-MFCCs12std|9.651690336528372E-4|\n",
      "|       55-MFCCs13std|1.422477171599870...|\n",
      "| 56-ChromaVector1std|-2.32519022348071E-4|\n",
      "| 57-ChromaVector2std|-4.39532817305902...|\n",
      "| 58-ChromaVector3std|5.265033783548358E-4|\n",
      "| 59-ChromaVector4std|-0.00136005544953...|\n",
      "| 60-ChromaVector5std|-0.00146942735222...|\n",
      "| 61-ChromaVector6std|-1.54662791831758...|\n",
      "| 62-ChromaVector7std|-6.86840882590069...|\n",
      "| 63-ChromaVector8std|4.742675104199701...|\n",
      "| 64-ChromaVector9std|-3.25493365931921E-5|\n",
      "|65-ChromaVector10std|-4.33144169760683...|\n",
      "|66-ChromaVector11std|-0.00126932452586...|\n",
      "|67-ChromaVector12std|5.660284179040554E-4|\n",
      "|68-ChromaDeviatio...|-5.51578097845430...|\n",
      "|              69-BPM|-0.00262901033768...|\n",
      "|          70-BPMconf|-0.00118318863788...|\n",
      "|      71-BPMessentia|0.001667387393351...|\n",
      "+--------------------+--------------------+\n",
      "\n"
     ]
    }
   ],
   "source": [
    "\n",
    "coeff_array = BestModel.coefficientMatrix.toArray()\n",
    "coeff_scores = []\n",
    "for x in coeff_array[0]:\n",
    "    coeff_scores.append(float(x))\n",
    "\n",
    "result = spark.createDataFrame(zip(input_columns,coeff_scores), schema=['feature','coeff'])\n",
    "result.show(100)"
   ]
  },
  {
   "cell_type": "markdown",
   "metadata": {},
   "source": [
    "### One Vs Rest Classifier fwe"
   ]
  },
  {
   "cell_type": "code",
   "execution_count": null,
   "metadata": {},
   "outputs": [],
   "source": [
    "lr = LogisticRegression()\n",
    "classifier = OneVsRest(classifier = lr)\n",
    "\n",
    "paramGrid = ParamGridBuilder()\\\n",
    "    .addGrid(lr.regParam,[0.1,0.01]) \\\n",
    "    .build()\n",
    "\n",
    "crossval=CrossValidator(estimator=classifier,\n",
    "                       estimatorParamMaps=paramGrid,\n",
    "                       evaluator=MulticlassClassificationEvaluator(),\n",
    "                       numFolds=2)\n",
    "\n",
    "fitModel=crossval.fit(train)\n",
    "\n",
    "BestModel = fitModel.bestModel\n",
    "\n",
    "models= BestModel.models\n",
    "for model in models:\n",
    "    print('\\033[1m' + 'Intercept: '+ '\\033[0m',model.intercept,'\\033[1m' + '\\nCoefficients:'+ '\\033[0m',model.coefficients)\n",
    "\n",
    "predictions=fitModel.transform(test)\n",
    "accuracy=(MC_evaluator.evaluate(predictions))*100\n",
    "print(accuracy)"
   ]
  },
  {
   "cell_type": "markdown",
   "metadata": {},
   "source": [
    "### Multilayer Perceptron Classifier fwe"
   ]
  },
  {
   "cell_type": "code",
   "execution_count": null,
   "metadata": {},
   "outputs": [],
   "source": [
    "features = train.select(['features']).collect()\n",
    "features_count = len(features[0][0])\n",
    "class_count=final_data.select(countDistinct('label')).collect()\n",
    "classes = class_count[0][0]\n",
    "\n",
    "layers = [features_count, features_count+1, features_count, classes]\n",
    "\n",
    "classifier = MultilayerPerceptronClassifier(maxIter=100, layers=layers, blockSize=128, seed= 1234)\n",
    "\n",
    "fitModel = classifier.fit(train)\n",
    "\n",
    "print('\\033[1m' + \"Model Weights: \"+ '\\033[0m',fitModel.weights.size)\n",
    "\n",
    "\n",
    "predictions = fitModel.transform(test)\n",
    "\n",
    "accuracy = (MC_evaluator.evaluate(predictions))*100\n",
    "\n",
    "print(\"Accuracy: \",accuracy)"
   ]
  },
  {
   "cell_type": "markdown",
   "metadata": {},
   "source": [
    "### NaiveBayes"
   ]
  },
  {
   "cell_type": "code",
   "execution_count": null,
   "metadata": {},
   "outputs": [],
   "source": [
    "classifier= NaiveBayes()\n",
    "paramGrid = (ParamGridBuilder()\\\n",
    "             .addGrid(classifier.smoothing, [0.0,0.2,0.4,0.6])\\\n",
    "             .build())\n",
    "crossval = CrossValidator(estimator=classifier,\n",
    "                         estimatorParamMaps = paramGrid,\n",
    "                         evaluator= MulticlassClassificationEvaluator(),\n",
    "                         numFolds=2)\n",
    "\n",
    "fitModel = crossval.fit(train)\n",
    "\n",
    "predictions = fitModel.transform(test)\n",
    "accuracy = (MC_evaluator.evaluate(predictions))*100\n",
    "print(\"Accuracy: \",accuracy)"
   ]
  },
  {
   "cell_type": "markdown",
   "metadata": {},
   "source": [
    "### Decision Tree"
   ]
  },
  {
   "cell_type": "code",
   "execution_count": null,
   "metadata": {},
   "outputs": [],
   "source": [
    "classifier = DecisionTreeClassifier()\n",
    "paramGrid = (ParamGridBuilder()\\\n",
    "            .addGrid(classifier.maxDepth, [2, 5, 10, 20, 30])\\\n",
    "            .addGrid(classifier.maxBins, [10,20,40,80, 100])\\\n",
    "            .build())\n",
    "\n",
    "crossval = CrossValidator(estimator = classifier,\n",
    "                         estimatorParamMaps=paramGrid,\n",
    "                         evaluator=MulticlassClassificationEvaluator(),\n",
    "                         numFolds=2)\n",
    "\n",
    "fitModel = crossval.fit(train)\n",
    "\n",
    "BestModel = fitModel.bestModel\n",
    "featureImportances= BestModel.featureImportances.toArray()\n",
    "\n",
    "print(\"Feature Importances: \", featureImportances)\n",
    "\n",
    "predictions= fitModel.transform(test)\n",
    "accuracy = (MC_evaluator.evaluate(predictions))*100\n",
    "print(\"Accuracy: \", accuracy)"
   ]
  },
  {
   "cell_type": "code",
   "execution_count": null,
   "metadata": {},
   "outputs": [],
   "source": [
    "imp_scores = []\n",
    "for x in featureImportances:\n",
    "    imp_scores.append(int(x))\n",
    "\n",
    "result = spark.createDataFrame(zip(input_columns,imp_scores), schema=['feature','score'])\n",
    "print(result.orderBy(result[\"score\"].desc()).show(truncate=False))"
   ]
  },
  {
   "cell_type": "markdown",
   "metadata": {},
   "source": [
    "### Random Forest Classifer"
   ]
  },
  {
   "cell_type": "code",
   "execution_count": null,
   "metadata": {},
   "outputs": [],
   "source": [
    "classifier = RandomForestClassifier()\n",
    "paramGrid = (ParamGridBuilder()\\\n",
    "            .addGrid(classifier.maxDepth, [2, 5, 10])\n",
    "            .addGrid(classifier.maxBins, [5, 10 , 20])\n",
    "            .addGrid(classifier.numTrees,[5, 20, 50])\n",
    "            .build())\n",
    "\n",
    "crossval = CrossValidator(estimator=classifier,\n",
    "                         estimatorParamMaps=paramGrid,\n",
    "                         evaluator=MulticlassClassificationEvaluator(),\n",
    "                         numFolds=2)\n",
    "\n",
    "fitModel = crossval.fit(train)\n",
    "\n",
    "BestModel= fitModel.bestModel\n",
    "featureImportances= BestModel.featureImportances.toArray()\n",
    "print(\"Feature Importances: \", featureImportances)\n",
    "\n",
    "predictions = fitModel.transform(test)\n",
    "\n",
    "accuracy = (MC_evaluator.evaluate(predictions))*100\n",
    "\n",
    "print(\" \")\n",
    "print(\"Accuracy: \", accuracy)"
   ]
  },
  {
   "cell_type": "code",
   "execution_count": null,
   "metadata": {},
   "outputs": [],
   "source": [
    "imp_scores = []\n",
    "for x in featureImportances:\n",
    "    imp_scores.append(float(x))\n",
    "    \n",
    "# Then zip with input_columns list and create a df\n",
    "result = spark.createDataFrame(zip(input_columns,imp_scores), schema=['feature','score'])\n",
    "print(result.orderBy(result[\"score\"].desc()).show(truncate=False))"
   ]
  },
  {
   "cell_type": "markdown",
   "metadata": {},
   "source": [
    "### Feature Selection"
   ]
  },
  {
   "cell_type": "code",
   "execution_count": 80,
   "metadata": {},
   "outputs": [],
   "source": [
    "from pyspark.ml.feature import ChiSqSelector\n",
    "\n",
    "selector=ChiSqSelector(fwe=0.05, featuresCol=\"features\", outputCol=\"selectedFeatures\", labelCol= \"label\")\n",
    "model=selector.fit(train)\n",
    "result=model.transform(train)\n"
   ]
  },
  {
   "cell_type": "code",
   "execution_count": 81,
   "metadata": {},
   "outputs": [],
   "source": [
    "train = result.select('label','selectedFeatures').withColumnRenamed('selectedFeatures', 'features')"
   ]
  },
  {
   "cell_type": "code",
   "execution_count": 82,
   "metadata": {},
   "outputs": [],
   "source": [
    "new_test= model.transform(test)\n",
    "test=new_test.select('label','selectedFeatures').withColumnRenamed('selectedFeatures', 'features')"
   ]
  },
  {
   "cell_type": "code",
   "execution_count": 83,
   "metadata": {},
   "outputs": [
    {
     "name": "stdout",
     "output_type": "stream",
     "text": [
      "+-----+--------------------+\n",
      "|label|            features|\n",
      "+-----+--------------------+\n",
      "|  0.0|[174.433102127938...|\n",
      "|  0.0|[268.188480022892...|\n",
      "|  0.0|[278.771440597300...|\n",
      "|  0.0|[312.108949814051...|\n",
      "|  0.0|[319.529220420367...|\n",
      "|  0.0|[337.143704291778...|\n",
      "|  0.0|[350.856930326534...|\n",
      "|  0.0|[355.801234298552...|\n",
      "|  0.0|[357.765517922918...|\n",
      "|  0.0|[359.825601229593...|\n",
      "|  0.0|[366.747280005321...|\n",
      "|  0.0|[374.352647734368...|\n",
      "|  0.0|[376.623923825579...|\n",
      "|  0.0|[380.752326609337...|\n",
      "|  0.0|[402.720971071055...|\n",
      "|  0.0|[407.322910385764...|\n",
      "|  0.0|[408.955319636547...|\n",
      "|  0.0|[419.899631408692...|\n",
      "|  0.0|[431.815464667238...|\n",
      "|  0.0|[437.414240861686...|\n",
      "+-----+--------------------+\n",
      "only showing top 20 rows\n",
      "\n"
     ]
    }
   ],
   "source": [
    "train.show()"
   ]
  },
  {
   "cell_type": "code",
   "execution_count": 84,
   "metadata": {
    "scrolled": true
   },
   "outputs": [
    {
     "name": "stdout",
     "output_type": "stream",
     "text": [
      "+-----+--------------------+\n",
      "|label|            features|\n",
      "+-----+--------------------+\n",
      "|  0.0|[263.169877111654...|\n",
      "|  0.0|[297.057129121742...|\n",
      "|  0.0|[344.472423346100...|\n",
      "|  0.0|[360.257783507319...|\n",
      "|  0.0|[375.814351487179...|\n",
      "|  0.0|[380.876129276615...|\n",
      "|  0.0|[392.551986501107...|\n",
      "|  0.0|[405.113188842400...|\n",
      "|  0.0|[421.768375442709...|\n",
      "|  0.0|[435.295463992565...|\n",
      "|  0.0|[438.824880345582...|\n",
      "|  0.0|[439.491229994906...|\n",
      "|  0.0|[449.899410335232...|\n",
      "|  0.0|[462.057387043392...|\n",
      "|  0.0|[468.052453142057...|\n",
      "|  0.0|[481.158976756092...|\n",
      "|  0.0|[492.437503710276...|\n",
      "|  0.0|[495.497024791874...|\n",
      "|  0.0|[509.046741140820...|\n",
      "|  0.0|[509.098065494723...|\n",
      "+-----+--------------------+\n",
      "only showing top 20 rows\n",
      "\n"
     ]
    }
   ],
   "source": [
    "test.show()"
   ]
  },
  {
   "cell_type": "code",
   "execution_count": null,
   "metadata": {},
   "outputs": [],
   "source": []
  }
 ],
 "metadata": {
  "kernelspec": {
   "display_name": "Python 3",
   "language": "python",
   "name": "python3"
  },
  "language_info": {
   "codemirror_mode": {
    "name": "ipython",
    "version": 3
   },
   "file_extension": ".py",
   "mimetype": "text/x-python",
   "name": "python",
   "nbconvert_exporter": "python",
   "pygments_lexer": "ipython3",
   "version": "3.7.6"
  }
 },
 "nbformat": 4,
 "nbformat_minor": 2
}
