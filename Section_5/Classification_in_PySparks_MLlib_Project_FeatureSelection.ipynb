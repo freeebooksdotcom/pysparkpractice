{
 "cells": [
  {
   "cell_type": "markdown",
   "metadata": {},
   "source": [
    "# Classification in PySpark's MLlib Project Solution\n",
    "\n",
    "### Genre classification\n",
    "Now it's time to leverage what we learned in the lectures to a REAL classification project! Have you ever wondered what makes us, humans, able to tell apart two songs of different genres? How we do we inherenly know the difference between a pop song and heavy metal? This type of classifcation may seem easy for us, but it's a very difficult challenge for a computer to do. So the question is, could an automatic genre classifcation model be possible? \n",
    "\n",
    "For this project we will be classifying songs based on a number of characteristics into a set of 23 electronic genres. This technology could be used by an application like Pandora to recommend songs to users or just create meaningful channels. Super fun!\n",
    "\n",
    "### Dataset\n",
    "*beatsdataset.csv*\n",
    "Each row is an electronic music song. The dataset contains 100 song for each genre among 23 electronic music genres, they were the top (100) songs of their genres on November 2016. The 71 columns are audio features extracted of a two random minutes sample of the file audio. These features have been extracted using pyAudioAnalysis (https://github.com/tyiannak/pyAudioAnalysis).\n",
    "\n",
    "### Your task\n",
    "Create an algorithm that classifies songs into the 23 genres provided. Test out several different models and select the highest performing one. Also play around with feature selection methods and finally try to make a recommendation to a user.  \n",
    "\n",
    "For the feature selection aspect of this project, you may need to get a bit creative if you want to select features from a non-tree algorithm. I did not go over this aspect of PySpark intentionally in the previous lectures to give you chance to get used to researching the PySpark documentation page. Here is the link to the Feature Selectors section of the documentation that just might come in handy: https://spark.apache.org/docs/latest/ml-features.html#feature-selectors\n",
    "\n",
    "Good luck! Have fun :)\n",
    "\n",
    "### Source\n",
    "https://www.kaggle.com/caparrini/beatsdataset"
   ]
  },
  {
   "cell_type": "code",
   "execution_count": 1,
   "metadata": {},
   "outputs": [],
   "source": [
    "import pyspark\n",
    "from pyspark.sql import SparkSession\n",
    "\n",
    "spark = SparkSession.builder.appName('ClassificationProject').getOrCreate()\n",
    "\n"
   ]
  },
  {
   "cell_type": "code",
   "execution_count": 2,
   "metadata": {},
   "outputs": [],
   "source": [
    "from pyspark.ml.feature import VectorAssembler\n",
    "from pyspark.sql.types import * \n",
    "from pyspark.sql.functions import *\n",
    "from pyspark.ml.feature import StringIndexer\n",
    "from pyspark.ml.feature import MinMaxScaler"
   ]
  },
  {
   "cell_type": "code",
   "execution_count": 3,
   "metadata": {},
   "outputs": [],
   "source": [
    "path =\"Datasets/\"\n",
    "df = spark.read.csv(path+'beatsdataset.csv',inferSchema=True,header=True)"
   ]
  },
  {
   "cell_type": "code",
   "execution_count": 4,
   "metadata": {},
   "outputs": [
    {
     "data": {
      "text/html": [
       "<div>\n",
       "<style scoped>\n",
       "    .dataframe tbody tr th:only-of-type {\n",
       "        vertical-align: middle;\n",
       "    }\n",
       "\n",
       "    .dataframe tbody tr th {\n",
       "        vertical-align: top;\n",
       "    }\n",
       "\n",
       "    .dataframe thead th {\n",
       "        text-align: right;\n",
       "    }\n",
       "</style>\n",
       "<table border=\"1\" class=\"dataframe\">\n",
       "  <thead>\n",
       "    <tr style=\"text-align: right;\">\n",
       "      <th></th>\n",
       "      <th>_c0</th>\n",
       "      <th>1-ZCRm</th>\n",
       "      <th>2-Energym</th>\n",
       "      <th>3-EnergyEntropym</th>\n",
       "      <th>4-SpectralCentroidm</th>\n",
       "      <th>5-SpectralSpreadm</th>\n",
       "      <th>6-SpectralEntropym</th>\n",
       "      <th>7-SpectralFluxm</th>\n",
       "      <th>8-SpectralRolloffm</th>\n",
       "      <th>9-MFCCs1m</th>\n",
       "      <th>...</th>\n",
       "      <th>63-ChromaVector8std</th>\n",
       "      <th>64-ChromaVector9std</th>\n",
       "      <th>65-ChromaVector10std</th>\n",
       "      <th>66-ChromaVector11std</th>\n",
       "      <th>67-ChromaVector12std</th>\n",
       "      <th>68-ChromaDeviationstd</th>\n",
       "      <th>69-BPM</th>\n",
       "      <th>70-BPMconf</th>\n",
       "      <th>71-BPMessentia</th>\n",
       "      <th>class</th>\n",
       "    </tr>\n",
       "  </thead>\n",
       "  <tbody>\n",
       "    <tr>\n",
       "      <th>0</th>\n",
       "      <td>0</td>\n",
       "      <td>0.136440</td>\n",
       "      <td>0.088861</td>\n",
       "      <td>3.201201</td>\n",
       "      <td>0.262825</td>\n",
       "      <td>0.249212</td>\n",
       "      <td>1.114423</td>\n",
       "      <td>0.007003</td>\n",
       "      <td>0.256682</td>\n",
       "      <td>-22.723259</td>\n",
       "      <td>...</td>\n",
       "      <td>0.003431</td>\n",
       "      <td>0.004981</td>\n",
       "      <td>0.010818</td>\n",
       "      <td>0.024001</td>\n",
       "      <td>0.005201</td>\n",
       "      <td>0.015056</td>\n",
       "      <td>133.333333</td>\n",
       "      <td>0.132792</td>\n",
       "      <td>128.0</td>\n",
       "      <td>BigRoom</td>\n",
       "    </tr>\n",
       "    <tr>\n",
       "      <th>1</th>\n",
       "      <td>1</td>\n",
       "      <td>0.117039</td>\n",
       "      <td>0.108389</td>\n",
       "      <td>3.194001</td>\n",
       "      <td>0.247657</td>\n",
       "      <td>0.250288</td>\n",
       "      <td>1.065668</td>\n",
       "      <td>0.005387</td>\n",
       "      <td>0.199821</td>\n",
       "      <td>-21.775871</td>\n",
       "      <td>...</td>\n",
       "      <td>0.004461</td>\n",
       "      <td>0.006441</td>\n",
       "      <td>0.007469</td>\n",
       "      <td>0.015499</td>\n",
       "      <td>0.005589</td>\n",
       "      <td>0.019339</td>\n",
       "      <td>120.000000</td>\n",
       "      <td>0.112767</td>\n",
       "      <td>126.0</td>\n",
       "      <td>BigRoom</td>\n",
       "    </tr>\n",
       "    <tr>\n",
       "      <th>2</th>\n",
       "      <td>2</td>\n",
       "      <td>0.085308</td>\n",
       "      <td>0.128525</td>\n",
       "      <td>3.123837</td>\n",
       "      <td>0.217205</td>\n",
       "      <td>0.228652</td>\n",
       "      <td>0.789647</td>\n",
       "      <td>0.008247</td>\n",
       "      <td>0.156822</td>\n",
       "      <td>-22.472722</td>\n",
       "      <td>...</td>\n",
       "      <td>0.001529</td>\n",
       "      <td>0.004556</td>\n",
       "      <td>0.007723</td>\n",
       "      <td>0.017482</td>\n",
       "      <td>0.002901</td>\n",
       "      <td>0.022201</td>\n",
       "      <td>133.333333</td>\n",
       "      <td>0.123373</td>\n",
       "      <td>129.0</td>\n",
       "      <td>BigRoom</td>\n",
       "    </tr>\n",
       "    <tr>\n",
       "      <th>3</th>\n",
       "      <td>3</td>\n",
       "      <td>0.103050</td>\n",
       "      <td>0.167042</td>\n",
       "      <td>3.150830</td>\n",
       "      <td>0.233593</td>\n",
       "      <td>0.245032</td>\n",
       "      <td>0.967082</td>\n",
       "      <td>0.006571</td>\n",
       "      <td>0.168083</td>\n",
       "      <td>-21.470751</td>\n",
       "      <td>...</td>\n",
       "      <td>0.001591</td>\n",
       "      <td>0.003514</td>\n",
       "      <td>0.009477</td>\n",
       "      <td>0.023162</td>\n",
       "      <td>0.004165</td>\n",
       "      <td>0.015379</td>\n",
       "      <td>133.333333</td>\n",
       "      <td>0.158876</td>\n",
       "      <td>129.0</td>\n",
       "      <td>BigRoom</td>\n",
       "    </tr>\n",
       "    <tr>\n",
       "      <th>4</th>\n",
       "      <td>4</td>\n",
       "      <td>0.151730</td>\n",
       "      <td>0.148405</td>\n",
       "      <td>3.194498</td>\n",
       "      <td>0.293730</td>\n",
       "      <td>0.267231</td>\n",
       "      <td>1.353005</td>\n",
       "      <td>0.003872</td>\n",
       "      <td>0.292055</td>\n",
       "      <td>-21.371157</td>\n",
       "      <td>...</td>\n",
       "      <td>0.003945</td>\n",
       "      <td>0.004131</td>\n",
       "      <td>0.011330</td>\n",
       "      <td>0.028188</td>\n",
       "      <td>0.002639</td>\n",
       "      <td>0.019079</td>\n",
       "      <td>133.333333</td>\n",
       "      <td>0.190708</td>\n",
       "      <td>129.0</td>\n",
       "      <td>BigRoom</td>\n",
       "    </tr>\n",
       "  </tbody>\n",
       "</table>\n",
       "<p>5 rows × 73 columns</p>\n",
       "</div>"
      ],
      "text/plain": [
       "   _c0    1-ZCRm  2-Energym  3-EnergyEntropym  4-SpectralCentroidm  \\\n",
       "0    0  0.136440   0.088861          3.201201             0.262825   \n",
       "1    1  0.117039   0.108389          3.194001             0.247657   \n",
       "2    2  0.085308   0.128525          3.123837             0.217205   \n",
       "3    3  0.103050   0.167042          3.150830             0.233593   \n",
       "4    4  0.151730   0.148405          3.194498             0.293730   \n",
       "\n",
       "   5-SpectralSpreadm  6-SpectralEntropym  7-SpectralFluxm  8-SpectralRolloffm  \\\n",
       "0           0.249212            1.114423         0.007003            0.256682   \n",
       "1           0.250288            1.065668         0.005387            0.199821   \n",
       "2           0.228652            0.789647         0.008247            0.156822   \n",
       "3           0.245032            0.967082         0.006571            0.168083   \n",
       "4           0.267231            1.353005         0.003872            0.292055   \n",
       "\n",
       "   9-MFCCs1m  ...  63-ChromaVector8std  64-ChromaVector9std  \\\n",
       "0 -22.723259  ...             0.003431             0.004981   \n",
       "1 -21.775871  ...             0.004461             0.006441   \n",
       "2 -22.472722  ...             0.001529             0.004556   \n",
       "3 -21.470751  ...             0.001591             0.003514   \n",
       "4 -21.371157  ...             0.003945             0.004131   \n",
       "\n",
       "   65-ChromaVector10std  66-ChromaVector11std  67-ChromaVector12std  \\\n",
       "0              0.010818              0.024001              0.005201   \n",
       "1              0.007469              0.015499              0.005589   \n",
       "2              0.007723              0.017482              0.002901   \n",
       "3              0.009477              0.023162              0.004165   \n",
       "4              0.011330              0.028188              0.002639   \n",
       "\n",
       "   68-ChromaDeviationstd      69-BPM  70-BPMconf  71-BPMessentia    class  \n",
       "0               0.015056  133.333333    0.132792           128.0  BigRoom  \n",
       "1               0.019339  120.000000    0.112767           126.0  BigRoom  \n",
       "2               0.022201  133.333333    0.123373           129.0  BigRoom  \n",
       "3               0.015379  133.333333    0.158876           129.0  BigRoom  \n",
       "4               0.019079  133.333333    0.190708           129.0  BigRoom  \n",
       "\n",
       "[5 rows x 73 columns]"
      ]
     },
     "execution_count": 4,
     "metadata": {},
     "output_type": "execute_result"
    }
   ],
   "source": [
    "df.limit(5).toPandas()"
   ]
  },
  {
   "cell_type": "code",
   "execution_count": 5,
   "metadata": {},
   "outputs": [
    {
     "name": "stdout",
     "output_type": "stream",
     "text": [
      "root\n",
      " |-- _c0: integer (nullable = true)\n",
      " |-- 1-ZCRm: double (nullable = true)\n",
      " |-- 2-Energym: double (nullable = true)\n",
      " |-- 3-EnergyEntropym: double (nullable = true)\n",
      " |-- 4-SpectralCentroidm: double (nullable = true)\n",
      " |-- 5-SpectralSpreadm: double (nullable = true)\n",
      " |-- 6-SpectralEntropym: double (nullable = true)\n",
      " |-- 7-SpectralFluxm: double (nullable = true)\n",
      " |-- 8-SpectralRolloffm: double (nullable = true)\n",
      " |-- 9-MFCCs1m: double (nullable = true)\n",
      " |-- 10-MFCCs2m: double (nullable = true)\n",
      " |-- 11-MFCCs3m: double (nullable = true)\n",
      " |-- 12-MFCCs4m: double (nullable = true)\n",
      " |-- 13-MFCCs5m: double (nullable = true)\n",
      " |-- 14-MFCCs6m: double (nullable = true)\n",
      " |-- 15-MFCCs7m: double (nullable = true)\n",
      " |-- 16-MFCCs8m: double (nullable = true)\n",
      " |-- 17-MFCCs9m: double (nullable = true)\n",
      " |-- 18-MFCCs10m: double (nullable = true)\n",
      " |-- 19-MFCCs11m: double (nullable = true)\n",
      " |-- 20-MFCCs12m: double (nullable = true)\n",
      " |-- 21-MFCCs13m: double (nullable = true)\n",
      " |-- 22-ChromaVector1m: double (nullable = true)\n",
      " |-- 23-ChromaVector2m: double (nullable = true)\n",
      " |-- 24-ChromaVector3m: double (nullable = true)\n",
      " |-- 25-ChromaVector4m: double (nullable = true)\n",
      " |-- 26-ChromaVector5m: double (nullable = true)\n",
      " |-- 27-ChromaVector6m: double (nullable = true)\n",
      " |-- 28-ChromaVector7m: double (nullable = true)\n",
      " |-- 29-ChromaVector8m: double (nullable = true)\n",
      " |-- 30-ChromaVector9m: double (nullable = true)\n",
      " |-- 31-ChromaVector10m: double (nullable = true)\n",
      " |-- 32-ChromaVector11m: double (nullable = true)\n",
      " |-- 33-ChromaVector12m: double (nullable = true)\n",
      " |-- 34-ChromaDeviationm: double (nullable = true)\n",
      " |-- 35-ZCRstd: double (nullable = true)\n",
      " |-- 36-Energystd: double (nullable = true)\n",
      " |-- 37-EnergyEntropystd: double (nullable = true)\n",
      " |-- 38-SpectralCentroidstd: double (nullable = true)\n",
      " |-- 39-SpectralSpreadstd: double (nullable = true)\n",
      " |-- 40-SpectralEntropystd: double (nullable = true)\n",
      " |-- 41-SpectralFluxstd: double (nullable = true)\n",
      " |-- 42-SpectralRolloffstd: double (nullable = true)\n",
      " |-- 43-MFCCs1std: double (nullable = true)\n",
      " |-- 44-MFCCs2std: double (nullable = true)\n",
      " |-- 45-MFCCs3std: double (nullable = true)\n",
      " |-- 46-MFCCs4std: double (nullable = true)\n",
      " |-- 47-MFCCs5std: double (nullable = true)\n",
      " |-- 48-MFCCs6std: double (nullable = true)\n",
      " |-- 49-MFCCs7std: double (nullable = true)\n",
      " |-- 50-MFCCs8std: double (nullable = true)\n",
      " |-- 51-MFCCs9std: double (nullable = true)\n",
      " |-- 52-MFCCs10std: double (nullable = true)\n",
      " |-- 53-MFCCs11std: double (nullable = true)\n",
      " |-- 54-MFCCs12std: double (nullable = true)\n",
      " |-- 55-MFCCs13std: double (nullable = true)\n",
      " |-- 56-ChromaVector1std: double (nullable = true)\n",
      " |-- 57-ChromaVector2std: double (nullable = true)\n",
      " |-- 58-ChromaVector3std: double (nullable = true)\n",
      " |-- 59-ChromaVector4std: double (nullable = true)\n",
      " |-- 60-ChromaVector5std: double (nullable = true)\n",
      " |-- 61-ChromaVector6std: double (nullable = true)\n",
      " |-- 62-ChromaVector7std: double (nullable = true)\n",
      " |-- 63-ChromaVector8std: double (nullable = true)\n",
      " |-- 64-ChromaVector9std: double (nullable = true)\n",
      " |-- 65-ChromaVector10std: double (nullable = true)\n",
      " |-- 66-ChromaVector11std: double (nullable = true)\n",
      " |-- 67-ChromaVector12std: double (nullable = true)\n",
      " |-- 68-ChromaDeviationstd: double (nullable = true)\n",
      " |-- 69-BPM: double (nullable = true)\n",
      " |-- 70-BPMconf: double (nullable = true)\n",
      " |-- 71-BPMessentia: double (nullable = true)\n",
      " |-- class: string (nullable = true)\n",
      "\n"
     ]
    }
   ],
   "source": [
    "df.printSchema()"
   ]
  },
  {
   "cell_type": "code",
   "execution_count": 6,
   "metadata": {},
   "outputs": [
    {
     "name": "stdout",
     "output_type": "stream",
     "text": [
      "+--------------------+-----+\n",
      "|               class|count|\n",
      "+--------------------+-----+\n",
      "|           PsyTrance|  100|\n",
      "|           HardDance|  100|\n",
      "|              Breaks|  100|\n",
      "|  HardcoreHardTechno|  100|\n",
      "|   IndieDanceNuDisco|  100|\n",
      "|              Trance|  100|\n",
      "|           DeepHouse|  100|\n",
      "|ElectronicaDowntempo|  100|\n",
      "|           ReggaeDub|  100|\n",
      "|             Minimal|  100|\n",
      "|         DrumAndBass|  100|\n",
      "|             Dubstep|  100|\n",
      "|             BigRoom|  100|\n",
      "|              Techno|  100|\n",
      "|               House|  100|\n",
      "|         FutureHouse|  100|\n",
      "|        ElectroHouse|  100|\n",
      "|           GlitchHop|  100|\n",
      "|           TechHouse|  100|\n",
      "|              HipHop|  100|\n",
      "|           FunkRAndB|  100|\n",
      "|               Dance|  100|\n",
      "|    ProgressiveHouse|  100|\n",
      "+--------------------+-----+\n",
      "\n"
     ]
    }
   ],
   "source": [
    "df.groupBy('class').count().show(100)"
   ]
  },
  {
   "cell_type": "markdown",
   "metadata": {},
   "source": [
    "## Format Data"
   ]
  },
  {
   "cell_type": "code",
   "execution_count": 7,
   "metadata": {},
   "outputs": [
    {
     "name": "stdout",
     "output_type": "stream",
     "text": [
      "+---+------+---------+----------------+-------------------+-----------------+------------------+---------------+------------------+---------+----------+----------+----------+----------+----------+----------+----------+----------+-----------+-----------+-----------+-----------+-----------------+-----------------+-----------------+-----------------+-----------------+-----------------+-----------------+-----------------+-----------------+------------------+------------------+------------------+-------------------+---------+------------+-------------------+----------------------+--------------------+---------------------+------------------+---------------------+------------+------------+------------+------------+------------+------------+------------+------------+------------+-------------+-------------+-------------+-------------+-------------------+-------------------+-------------------+-------------------+-------------------+-------------------+-------------------+-------------------+-------------------+--------------------+--------------------+--------------------+---------------------+------+----------+--------------+-----+\n",
      "|_c0|1-ZCRm|2-Energym|3-EnergyEntropym|4-SpectralCentroidm|5-SpectralSpreadm|6-SpectralEntropym|7-SpectralFluxm|8-SpectralRolloffm|9-MFCCs1m|10-MFCCs2m|11-MFCCs3m|12-MFCCs4m|13-MFCCs5m|14-MFCCs6m|15-MFCCs7m|16-MFCCs8m|17-MFCCs9m|18-MFCCs10m|19-MFCCs11m|20-MFCCs12m|21-MFCCs13m|22-ChromaVector1m|23-ChromaVector2m|24-ChromaVector3m|25-ChromaVector4m|26-ChromaVector5m|27-ChromaVector6m|28-ChromaVector7m|29-ChromaVector8m|30-ChromaVector9m|31-ChromaVector10m|32-ChromaVector11m|33-ChromaVector12m|34-ChromaDeviationm|35-ZCRstd|36-Energystd|37-EnergyEntropystd|38-SpectralCentroidstd|39-SpectralSpreadstd|40-SpectralEntropystd|41-SpectralFluxstd|42-SpectralRolloffstd|43-MFCCs1std|44-MFCCs2std|45-MFCCs3std|46-MFCCs4std|47-MFCCs5std|48-MFCCs6std|49-MFCCs7std|50-MFCCs8std|51-MFCCs9std|52-MFCCs10std|53-MFCCs11std|54-MFCCs12std|55-MFCCs13std|56-ChromaVector1std|57-ChromaVector2std|58-ChromaVector3std|59-ChromaVector4std|60-ChromaVector5std|61-ChromaVector6std|62-ChromaVector7std|63-ChromaVector8std|64-ChromaVector9std|65-ChromaVector10std|66-ChromaVector11std|67-ChromaVector12std|68-ChromaDeviationstd|69-BPM|70-BPMconf|71-BPMessentia|class|\n",
      "+---+------+---------+----------------+-------------------+-----------------+------------------+---------------+------------------+---------+----------+----------+----------+----------+----------+----------+----------+----------+-----------+-----------+-----------+-----------+-----------------+-----------------+-----------------+-----------------+-----------------+-----------------+-----------------+-----------------+-----------------+------------------+------------------+------------------+-------------------+---------+------------+-------------------+----------------------+--------------------+---------------------+------------------+---------------------+------------+------------+------------+------------+------------+------------+------------+------------+------------+-------------+-------------+-------------+-------------+-------------------+-------------------+-------------------+-------------------+-------------------+-------------------+-------------------+-------------------+-------------------+--------------------+--------------------+--------------------+---------------------+------+----------+--------------+-----+\n",
      "|  0|     0|        0|               0|                  0|                0|                 0|              0|                 0|        0|         0|         0|         0|         0|         0|         0|         0|         0|          0|          0|          0|          0|                0|                0|                0|                0|                0|                0|                0|                0|                0|                 0|                 0|                 0|                  0|        0|           0|                  0|                     0|                   0|                    0|                 0|                    0|           0|           0|           0|           0|           0|           0|           0|           0|           0|            0|            0|            0|            0|                  0|                  0|                  0|                  0|                  0|                  0|                  0|                  0|                  0|                   0|                   0|                   0|                    0|     0|         0|             0|    0|\n",
      "+---+------+---------+----------------+-------------------+-----------------+------------------+---------------+------------------+---------+----------+----------+----------+----------+----------+----------+----------+----------+-----------+-----------+-----------+-----------+-----------------+-----------------+-----------------+-----------------+-----------------+-----------------+-----------------+-----------------+-----------------+------------------+------------------+------------------+-------------------+---------+------------+-------------------+----------------------+--------------------+---------------------+------------------+---------------------+------------+------------+------------+------------+------------+------------+------------+------------+------------+-------------+-------------+-------------+-------------+-------------------+-------------------+-------------------+-------------------+-------------------+-------------------+-------------------+-------------------+-------------------+--------------------+--------------------+--------------------+---------------------+------+----------+--------------+-----+\n",
      "\n"
     ]
    }
   ],
   "source": [
    "df.select([count(when(col(c).isNull(), c)).alias(c) for c in df.columns]).show()"
   ]
  },
  {
   "cell_type": "code",
   "execution_count": 8,
   "metadata": {},
   "outputs": [],
   "source": [
    "input_columns = df.columns # Collect the column names as a list\n",
    "input_columns = input_columns[1:-1] # keep only relevant columns: from column 1 to \n",
    "\n",
    "dependent_var = 'class'"
   ]
  },
  {
   "cell_type": "code",
   "execution_count": 9,
   "metadata": {},
   "outputs": [],
   "source": [
    "renamed = df.withColumn('label_str', df[dependent_var].cast(StringType()))\n",
    "indexer = StringIndexer(inputCol='label_str', outputCol='label')\n",
    "indexed = indexer.fit(renamed).transform(renamed)"
   ]
  },
  {
   "cell_type": "code",
   "execution_count": 10,
   "metadata": {},
   "outputs": [
    {
     "name": "stdout",
     "output_type": "stream",
     "text": [
      "root\n",
      " |-- _c0: integer (nullable = true)\n",
      " |-- 1-ZCRm: double (nullable = true)\n",
      " |-- 2-Energym: double (nullable = true)\n",
      " |-- 3-EnergyEntropym: double (nullable = true)\n",
      " |-- 4-SpectralCentroidm: double (nullable = true)\n",
      " |-- 5-SpectralSpreadm: double (nullable = true)\n",
      " |-- 6-SpectralEntropym: double (nullable = true)\n",
      " |-- 7-SpectralFluxm: double (nullable = true)\n",
      " |-- 8-SpectralRolloffm: double (nullable = true)\n",
      " |-- 9-MFCCs1m: double (nullable = true)\n",
      " |-- 10-MFCCs2m: double (nullable = true)\n",
      " |-- 11-MFCCs3m: double (nullable = true)\n",
      " |-- 12-MFCCs4m: double (nullable = true)\n",
      " |-- 13-MFCCs5m: double (nullable = true)\n",
      " |-- 14-MFCCs6m: double (nullable = true)\n",
      " |-- 15-MFCCs7m: double (nullable = true)\n",
      " |-- 16-MFCCs8m: double (nullable = true)\n",
      " |-- 17-MFCCs9m: double (nullable = true)\n",
      " |-- 18-MFCCs10m: double (nullable = true)\n",
      " |-- 19-MFCCs11m: double (nullable = true)\n",
      " |-- 20-MFCCs12m: double (nullable = true)\n",
      " |-- 21-MFCCs13m: double (nullable = true)\n",
      " |-- 22-ChromaVector1m: double (nullable = true)\n",
      " |-- 23-ChromaVector2m: double (nullable = true)\n",
      " |-- 24-ChromaVector3m: double (nullable = true)\n",
      " |-- 25-ChromaVector4m: double (nullable = true)\n",
      " |-- 26-ChromaVector5m: double (nullable = true)\n",
      " |-- 27-ChromaVector6m: double (nullable = true)\n",
      " |-- 28-ChromaVector7m: double (nullable = true)\n",
      " |-- 29-ChromaVector8m: double (nullable = true)\n",
      " |-- 30-ChromaVector9m: double (nullable = true)\n",
      " |-- 31-ChromaVector10m: double (nullable = true)\n",
      " |-- 32-ChromaVector11m: double (nullable = true)\n",
      " |-- 33-ChromaVector12m: double (nullable = true)\n",
      " |-- 34-ChromaDeviationm: double (nullable = true)\n",
      " |-- 35-ZCRstd: double (nullable = true)\n",
      " |-- 36-Energystd: double (nullable = true)\n",
      " |-- 37-EnergyEntropystd: double (nullable = true)\n",
      " |-- 38-SpectralCentroidstd: double (nullable = true)\n",
      " |-- 39-SpectralSpreadstd: double (nullable = true)\n",
      " |-- 40-SpectralEntropystd: double (nullable = true)\n",
      " |-- 41-SpectralFluxstd: double (nullable = true)\n",
      " |-- 42-SpectralRolloffstd: double (nullable = true)\n",
      " |-- 43-MFCCs1std: double (nullable = true)\n",
      " |-- 44-MFCCs2std: double (nullable = true)\n",
      " |-- 45-MFCCs3std: double (nullable = true)\n",
      " |-- 46-MFCCs4std: double (nullable = true)\n",
      " |-- 47-MFCCs5std: double (nullable = true)\n",
      " |-- 48-MFCCs6std: double (nullable = true)\n",
      " |-- 49-MFCCs7std: double (nullable = true)\n",
      " |-- 50-MFCCs8std: double (nullable = true)\n",
      " |-- 51-MFCCs9std: double (nullable = true)\n",
      " |-- 52-MFCCs10std: double (nullable = true)\n",
      " |-- 53-MFCCs11std: double (nullable = true)\n",
      " |-- 54-MFCCs12std: double (nullable = true)\n",
      " |-- 55-MFCCs13std: double (nullable = true)\n",
      " |-- 56-ChromaVector1std: double (nullable = true)\n",
      " |-- 57-ChromaVector2std: double (nullable = true)\n",
      " |-- 58-ChromaVector3std: double (nullable = true)\n",
      " |-- 59-ChromaVector4std: double (nullable = true)\n",
      " |-- 60-ChromaVector5std: double (nullable = true)\n",
      " |-- 61-ChromaVector6std: double (nullable = true)\n",
      " |-- 62-ChromaVector7std: double (nullable = true)\n",
      " |-- 63-ChromaVector8std: double (nullable = true)\n",
      " |-- 64-ChromaVector9std: double (nullable = true)\n",
      " |-- 65-ChromaVector10std: double (nullable = true)\n",
      " |-- 66-ChromaVector11std: double (nullable = true)\n",
      " |-- 67-ChromaVector12std: double (nullable = true)\n",
      " |-- 68-ChromaDeviationstd: double (nullable = true)\n",
      " |-- 69-BPM: double (nullable = true)\n",
      " |-- 70-BPMconf: double (nullable = true)\n",
      " |-- 71-BPMessentia: double (nullable = true)\n",
      " |-- class: string (nullable = true)\n",
      " |-- label_str: string (nullable = true)\n",
      " |-- label: double (nullable = false)\n",
      "\n"
     ]
    }
   ],
   "source": [
    "numeric_inputs = []\n",
    "string_inputs = []\n",
    "for column in input_columns:\n",
    "    if str(indexed.schema[column].dataType) == 'StringType':\n",
    "        indexer = StringIndexer(inputCol = column, outputCol=column+'_num')\n",
    "        indexed = indexer.fit(indexed).transform(indexed)\n",
    "        new_col_name = column+'_num'\n",
    "        string_inputs.append(new_col_name)\n",
    "    else:\n",
    "        numeric_inputs.append(column)\n",
    "indexed.printSchema()"
   ]
  },
  {
   "cell_type": "markdown",
   "metadata": {},
   "source": [
    "#### Skewness"
   ]
  },
  {
   "cell_type": "code",
   "execution_count": 11,
   "metadata": {},
   "outputs": [
    {
     "name": "stdout",
     "output_type": "stream",
     "text": [
      "7-SpectralFluxm  has been treated for pos skew 1.6396138160129063\n",
      "22-ChromaVector1m  has been treated for pos skew 2.4162415204309258\n",
      "23-ChromaVector2m  has been treated for pos skew 4.154796693680583\n",
      "24-ChromaVector3m  has been treated for pos skew 1.1974019617504328\n",
      "25-ChromaVector4m  has been treated for pos skew 2.446635863594906\n",
      "26-ChromaVector5m  has been treated for pos skew 2.154482876187508\n",
      "27-ChromaVector6m  has been treated for pos skew 2.01234064472543\n",
      "28-ChromaVector7m  has been treated for pos skew 1.1829228989215521\n",
      "29-ChromaVector8m  has been treated for pos skew 3.7372643733999955\n",
      "30-ChromaVector9m  has been treated for pos skew 2.4117416421548645\n",
      "31-ChromaVector10m  has been treated for pos skew 2.1979538518563233\n",
      "32-ChromaVector11m  has been treated for pos skew 2.1924295373960554\n",
      "33-ChromaVector12m  has been treated for pos skew 2.278981912155668\n",
      "41-SpectralFluxstd  has been treated for pos skew 1.8577721462401056\n",
      "56-ChromaVector1std  has been treated for pos skew 1.9111935514138085\n",
      "57-ChromaVector2std  has been treated for pos skew 2.9078740765487394\n",
      "59-ChromaVector4std  has been treated for pos skew 2.9677243313898827\n",
      "60-ChromaVector5std  has been treated for pos skew 2.3681450229993315\n",
      "61-ChromaVector6std  has been treated for pos skew 2.3950817653605396\n",
      "63-ChromaVector8std  has been treated for pos skew 2.801578595136121\n",
      "64-ChromaVector9std  has been treated for pos skew 1.7779798465610313\n",
      "65-ChromaVector10std  has been treated for pos skew 1.9944501757850421\n",
      "66-ChromaVector11std  has been treated for pos skew 1.1835182964170816\n",
      "67-ChromaVector12std  has been treated for pos skew 2.087086908618814\n",
      "69-BPM  has been treated for pos skew 2.9547734198613234\n",
      "70-BPMconf  has been treated for pos skew 1.0889332324135428\n"
     ]
    }
   ],
   "source": [
    "d= {}\n",
    "for col in numeric_inputs:\n",
    "    d[col]=indexed.approxQuantile(col,[0.01, 0.99], 0.25)\n",
    "\n",
    "for col in numeric_inputs:\n",
    "    skew = indexed.agg(skewness(indexed[col])).collect()\n",
    "    skew=skew[0][0]\n",
    "    if skew > 1:\n",
    "        indexed = indexed.withColumn(col, \\\n",
    "                                    log(when(df[col] < d[col][0], d[col][0])\\\n",
    "                                       .when(indexed[col]> d[col][1], d[col][1])\\\n",
    "                                       .otherwise(indexed[col])+1).alias(col))\n",
    "        print(col, \" has been treated for pos skew\", skew)\n",
    "    elif skew < -1:\n",
    "        indexed = indexed.withColumn(col, \\\n",
    "                                    exp(when(df[col] < d[col][0], d[col][0])\\\n",
    "                                       .when(indexed[col]> d[col][1], d[col][1])\\\n",
    "                                       .otherwise(indexed[col])+1).alias(col))\n",
    "        print(col, \" has been treated for neg skew\", skew)"
   ]
  },
  {
   "cell_type": "code",
   "execution_count": 12,
   "metadata": {},
   "outputs": [
    {
     "data": {
      "text/plain": [
       "-30.3789543716"
      ]
     },
     "execution_count": 12,
     "metadata": {},
     "output_type": "execute_result"
    }
   ],
   "source": [
    "minimums = df.select([min(c).alias(c) for c in df.columns if c in numeric_inputs])\n",
    "min_array = minimums.select(array(numeric_inputs).alias('mins'))\n",
    "df_minimum = min_array.select(array_min(min_array.mins)).collect()\n",
    "df_minimum = df_minimum[0][0]\n",
    "df_minimum"
   ]
  },
  {
   "cell_type": "code",
   "execution_count": 13,
   "metadata": {},
   "outputs": [],
   "source": [
    "features_list = numeric_inputs + string_inputs\n",
    "assembler = VectorAssembler(inputCols=features_list, outputCol='features')\n",
    "output = assembler.transform(indexed).select('features','label')\n"
   ]
  },
  {
   "cell_type": "code",
   "execution_count": 14,
   "metadata": {},
   "outputs": [
    {
     "name": "stdout",
     "output_type": "stream",
     "text": [
      "+--------------------+-----+\n",
      "|            features|label|\n",
      "+--------------------+-----+\n",
      "|[0.136439587512,0...|  0.0|\n",
      "|[0.117038518483,0...|  0.0|\n",
      "|[0.0853077737447,...|  0.0|\n",
      "|[0.103049917216,0...|  0.0|\n",
      "|[0.151729948738,0...|  0.0|\n",
      "|[0.127046737192,0...|  0.0|\n",
      "|[0.123395302003,0...|  0.0|\n",
      "|[0.140027382431,0...|  0.0|\n",
      "|[0.117635200751,0...|  0.0|\n",
      "|[0.137400181488,0...|  0.0|\n",
      "|[0.148838734199,0...|  0.0|\n",
      "|[0.119846749928,0...|  0.0|\n",
      "|[0.0786813648231,...|  0.0|\n",
      "|[0.138335144235,0...|  0.0|\n",
      "|[0.101304207661,0...|  0.0|\n",
      "|[0.132862180406,0...|  0.0|\n",
      "|[0.1533035231,0.1...|  0.0|\n",
      "|[0.118001599962,0...|  0.0|\n",
      "|[0.110992493712,0...|  0.0|\n",
      "|[0.124299777916,0...|  0.0|\n",
      "+--------------------+-----+\n",
      "only showing top 20 rows\n",
      "\n"
     ]
    }
   ],
   "source": [
    "output.show()"
   ]
  },
  {
   "cell_type": "code",
   "execution_count": 15,
   "metadata": {},
   "outputs": [],
   "source": [
    "scaler = MinMaxScaler(inputCol='features', outputCol='scaledFeatures', min = 0, max=1000)\n",
    "scalerModel = scaler.fit(output)\n",
    "scaled_data= scalerModel.transform(output)"
   ]
  },
  {
   "cell_type": "code",
   "execution_count": 16,
   "metadata": {},
   "outputs": [
    {
     "name": "stdout",
     "output_type": "stream",
     "text": [
      "+--------------------+-----+--------------------+\n",
      "|            features|label|      scaledFeatures|\n",
      "+--------------------+-----+--------------------+\n",
      "|[0.136439587512,0...|  0.0|[519.818266700239...|\n",
      "|[0.117038518483,0...|  0.0|[435.295463992565...|\n",
      "|[0.0853077737447,...|  0.0|[297.057129121742...|\n",
      "|[0.103049917216,0...|  0.0|[374.352647734368...|\n",
      "|[0.151729948738,0...|  0.0|[586.432337466259...|\n",
      "|[0.127046737192,0...|  0.0|[478.897323979332...|\n",
      "|[0.123395302003,0...|  0.0|[462.989461602348...|\n",
      "|[0.140027382431,0...|  0.0|[535.448873531282...|\n",
      "|[0.117635200751,0...|  0.0|[437.894973202184...|\n",
      "|[0.137400181488,0...|  0.0|[524.003195633498...|\n",
      "|[0.148838734199,0...|  0.0|[573.836456502165...|\n",
      "|[0.119846749928,0...|  0.0|[447.529820358620...|\n",
      "|[0.0786813648231,...|  0.0|[268.188480022892...|\n",
      "|[0.138335144235,0...|  0.0|[528.076459415282...|\n",
      "|[0.101304207661,0...|  0.0|[366.747280005321...|\n",
      "|[0.132862180406,0...|  0.0|[504.232915471732...|\n",
      "|[0.1533035231,0.1...|  0.0|[593.287780078539...|\n",
      "|[0.118001599962,0...|  0.0|[439.491229994906...|\n",
      "|[0.110992493712,0...|  0.0|[408.955319636547...|\n",
      "|[0.124299777916,0...|  0.0|[466.929906277539...|\n",
      "+--------------------+-----+--------------------+\n",
      "only showing top 20 rows\n",
      "\n"
     ]
    }
   ],
   "source": [
    "scaled_data.show()"
   ]
  },
  {
   "cell_type": "code",
   "execution_count": 17,
   "metadata": {},
   "outputs": [],
   "source": [
    "final_data=scaled_data.select('label', 'scaledFeatures')\n",
    "final_data = final_data.withColumnRenamed('scaledFeatures', 'features')"
   ]
  },
  {
   "cell_type": "code",
   "execution_count": 18,
   "metadata": {},
   "outputs": [],
   "source": [
    "train, test= final_data.randomSplit([0.7, 0.3])"
   ]
  },
  {
   "cell_type": "code",
   "execution_count": 19,
   "metadata": {},
   "outputs": [
    {
     "data": {
      "text/plain": [
       "1599"
      ]
     },
     "execution_count": 19,
     "metadata": {},
     "output_type": "execute_result"
    }
   ],
   "source": [
    "train.count()"
   ]
  },
  {
   "cell_type": "code",
   "execution_count": 20,
   "metadata": {},
   "outputs": [
    {
     "data": {
      "text/plain": [
       "701"
      ]
     },
     "execution_count": 20,
     "metadata": {},
     "output_type": "execute_result"
    }
   ],
   "source": [
    "test.count()"
   ]
  },
  {
   "cell_type": "markdown",
   "metadata": {},
   "source": [
    "### Modeling"
   ]
  },
  {
   "cell_type": "code",
   "execution_count": 21,
   "metadata": {},
   "outputs": [],
   "source": [
    "from pyspark.ml.classification import *\n",
    "from pyspark.ml.evaluation import *\n",
    "from pyspark.sql.functions import *\n",
    "from pyspark.ml.tuning import CrossValidator, ParamGridBuilder"
   ]
  },
  {
   "cell_type": "code",
   "execution_count": 22,
   "metadata": {},
   "outputs": [],
   "source": [
    "Bin_evaluator = BinaryClassificationEvaluator(rawPredictionCol='prediction')\n",
    "MC_evaluator = MulticlassClassificationEvaluator(metricName='accuracy')"
   ]
  },
  {
   "cell_type": "code",
   "execution_count": null,
   "metadata": {},
   "outputs": [],
   "source": []
  },
  {
   "cell_type": "markdown",
   "metadata": {},
   "source": [
    "### Logit (Chi-Square Numfeatures=30)"
   ]
  },
  {
   "cell_type": "code",
   "execution_count": 23,
   "metadata": {},
   "outputs": [
    {
     "name": "stdout",
     "output_type": "stream",
     "text": [
      "Intercept: [-0.003439003624001725,-0.002283725172729804,0.0034400541631993136,0.04752550472044123,-0.11476264587359482,0.02029028946997164,0.09755982695268281,0.013719320256262548,-0.06896704095470169,0.017564674031312927,-0.02536440012795451,-0.13390175035615007,0.06876506095521794,0.0159320107295216,0.030938448647966882,-0.024071704514029048,0.06935017743125944,-0.10571034450194741,0.10790822349637036,-0.0067245575882144025,0.05645242834604122,-0.056281694167753,-0.007939152319171468]\n",
      "Coefficients: \n",
      "DenseMatrix([[ 4.95209700e-04,  2.13343325e-03,  2.11590297e-03, ...,\n",
      "              -2.62901034e-03, -1.18318864e-03,  1.66738739e-03],\n",
      "             [-2.97965402e-04, -7.25974152e-04, -1.17296520e-04, ...,\n",
      "               4.58680340e-03, -3.84027985e-03,  2.56502462e-03],\n",
      "             [-2.61874111e-04, -5.87624342e-07,  1.46975057e-03, ...,\n",
      "              -2.24086080e-03,  4.04777057e-04, -1.46199391e-03],\n",
      "             ...,\n",
      "             [ 4.39931340e-04, -1.28385417e-03, -9.23224224e-04, ...,\n",
      "              -2.42484527e-03,  4.68490378e-04,  1.39514508e-03],\n",
      "             [-3.18000801e-04,  7.46378120e-05, -1.00569286e-03, ...,\n",
      "              -1.58059576e-03,  2.15576756e-03,  1.18146431e-03],\n",
      "             [ 1.26354040e-03, -1.42426970e-03,  3.28409051e-03, ...,\n",
      "              -1.54924649e-03,  1.61767812e-03,  2.69574630e-03]])\n",
      "43.081312410841655\n"
     ]
    }
   ],
   "source": [
    "classifier= LogisticRegression()\n",
    "\n",
    "paramGrid = (ParamGridBuilder().addGrid(classifier.maxIter, [10, 15,20]).build())\n",
    "\n",
    "crossval = CrossValidator(estimator=classifier,\n",
    "                         estimatorParamMaps=paramGrid,\n",
    "                         evaluator=MC_evaluator,\n",
    "                         numFolds=2)\n",
    "\n",
    "fitModel = crossval.fit(train)\n",
    "BestModel = fitModel.bestModel\n",
    "\n",
    "print('Intercept: ' +str(BestModel.interceptVector))\n",
    "print('Coefficients: \\n' + str(BestModel.coefficientMatrix))\n",
    "\n",
    "LR_BestModel = BestModel\n",
    "\n",
    "predictions=fitModel.transform(test)\n",
    "accuracy = (MC_evaluator.evaluate(predictions))*100\n",
    "\n",
    "print(accuracy)\n"
   ]
  },
  {
   "cell_type": "code",
   "execution_count": 24,
   "metadata": {},
   "outputs": [
    {
     "name": "stdout",
     "output_type": "stream",
     "text": [
      "+--------------------+--------------------+\n",
      "|             feature|               coeff|\n",
      "+--------------------+--------------------+\n",
      "|              1-ZCRm|4.952096998799204E-4|\n",
      "|           2-Energym|0.002133433249608...|\n",
      "|    3-EnergyEntropym|0.002115902972941641|\n",
      "| 4-SpectralCentroidm|9.170826685377883E-4|\n",
      "|   5-SpectralSpreadm|0.001575963647193...|\n",
      "|  6-SpectralEntropym|9.582191454134053E-4|\n",
      "|     7-SpectralFluxm|-0.00257449736591...|\n",
      "|  8-SpectralRolloffm|2.296121039584361E-4|\n",
      "|           9-MFCCs1m|0.004184343260159134|\n",
      "|          10-MFCCs2m|-0.00169751164570...|\n",
      "|          11-MFCCs3m|-7.45595017365970...|\n",
      "|          12-MFCCs4m| 3.05928781998889E-4|\n",
      "|          13-MFCCs5m| 8.27504010013759E-4|\n",
      "|          14-MFCCs6m|-6.16418501499167...|\n",
      "|          15-MFCCs7m|7.674519556212843E-5|\n",
      "|          16-MFCCs8m|-1.69489856322324...|\n",
      "|          17-MFCCs9m|-2.59460357055323...|\n",
      "|         18-MFCCs10m|7.142146588992483E-4|\n",
      "|         19-MFCCs11m|-6.96351996168954...|\n",
      "|         20-MFCCs12m|2.667340485165213E-4|\n",
      "|         21-MFCCs13m|-7.26210072068418...|\n",
      "|   22-ChromaVector1m|3.008724028789272E-4|\n",
      "|   23-ChromaVector2m|-0.00114133971948...|\n",
      "|   24-ChromaVector3m|0.001429308527415...|\n",
      "|   25-ChromaVector4m|-6.14581595943402...|\n",
      "|   26-ChromaVector5m|-9.23109756320967...|\n",
      "|   27-ChromaVector6m|5.725150502250742E-4|\n",
      "|   28-ChromaVector7m|-0.00166156150419...|\n",
      "|   29-ChromaVector8m|-1.96652110739112...|\n",
      "|   30-ChromaVector9m|2.220658881212331...|\n",
      "|  31-ChromaVector10m|9.930807036311362E-5|\n",
      "|  32-ChromaVector11m|-0.00101766875577...|\n",
      "|  33-ChromaVector12m|4.881186553245685...|\n",
      "| 34-ChromaDeviationm|-4.69252519105240...|\n",
      "|           35-ZCRstd|-0.00149556928316...|\n",
      "|        36-Energystd|-2.17230977689676...|\n",
      "| 37-EnergyEntropystd|-0.00158356455404...|\n",
      "|38-SpectralCentro...|-0.00227978399324...|\n",
      "|39-SpectralSpreadstd|-0.00240497061020...|\n",
      "|40-SpectralEntrop...|-8.36573658740156E-4|\n",
      "|  41-SpectralFluxstd|-0.00267883150145...|\n",
      "|42-SpectralRollof...|-8.85795204810681...|\n",
      "|        43-MFCCs1std|-0.00188750088294...|\n",
      "|        44-MFCCs2std|-0.00223866647597...|\n",
      "|        45-MFCCs3std|-0.00154874399652...|\n",
      "|        46-MFCCs4std|-8.58252204763531...|\n",
      "|        47-MFCCs5std|-4.60721398627791...|\n",
      "|        48-MFCCs6std|-4.73412685564479...|\n",
      "|        49-MFCCs7std|2.521401986097438E-4|\n",
      "|        50-MFCCs8std|9.238301356431437E-4|\n",
      "|        51-MFCCs9std|8.466160482610542E-4|\n",
      "|       52-MFCCs10std|0.001033013190824...|\n",
      "|       53-MFCCs11std| 0.00114673203067061|\n",
      "|       54-MFCCs12std|9.651690336528372E-4|\n",
      "|       55-MFCCs13std|1.422477171599870...|\n",
      "| 56-ChromaVector1std|-2.32519022348071E-4|\n",
      "| 57-ChromaVector2std|-4.39532817305902...|\n",
      "| 58-ChromaVector3std|5.265033783548358E-4|\n",
      "| 59-ChromaVector4std|-0.00136005544953...|\n",
      "| 60-ChromaVector5std|-0.00146942735222...|\n",
      "| 61-ChromaVector6std|-1.54662791831758...|\n",
      "| 62-ChromaVector7std|-6.86840882590069...|\n",
      "| 63-ChromaVector8std|4.742675104199701...|\n",
      "| 64-ChromaVector9std|-3.25493365931921E-5|\n",
      "|65-ChromaVector10std|-4.33144169760683...|\n",
      "|66-ChromaVector11std|-0.00126932452586...|\n",
      "|67-ChromaVector12std|5.660284179040554E-4|\n",
      "|68-ChromaDeviatio...|-5.51578097845430...|\n",
      "|              69-BPM|-0.00262901033768...|\n",
      "|          70-BPMconf|-0.00118318863788...|\n",
      "|      71-BPMessentia|0.001667387393351...|\n",
      "+--------------------+--------------------+\n",
      "\n"
     ]
    }
   ],
   "source": [
    "\n",
    "coeff_array = BestModel.coefficientMatrix.toArray()\n",
    "coeff_scores = []\n",
    "for x in coeff_array[0]:\n",
    "    coeff_scores.append(float(x))\n",
    "\n",
    "result = spark.createDataFrame(zip(input_columns,coeff_scores), schema=['feature','coeff'])\n",
    "result.show(100)"
   ]
  },
  {
   "cell_type": "markdown",
   "metadata": {},
   "source": [
    "### One Vs Rest Classifier fwe"
   ]
  },
  {
   "cell_type": "code",
   "execution_count": 25,
   "metadata": {},
   "outputs": [
    {
     "name": "stdout",
     "output_type": "stream",
     "text": [
      "\u001b[1mIntercept: \u001b[0m -2.7999517171778154 \u001b[1m\n",
      "Coefficients:\u001b[0m [-0.00037696644266538396,0.0011226816683962402,0.000970664917348961,-0.0001613255933980758,0.0018469166285489556,0.00041010286510083474,-0.0021163221719274834,-0.0011238726434582421,0.004161335796431175,-0.001373365807902524,-0.00011800709386278434,0.0008813192867045943,0.0014691955886382737,-0.001732403125016051,0.00018969598961625993,-0.00020071333632668296,-0.0015203306876320124,0.000599917039894108,-0.000735786657309452,0.0008957802047652242,-0.0012495385993959568,0.0008351362170080642,-0.0028901048862312413,0.0012956210140090303,-0.0003582096448174655,-0.0003588605520001742,0.0014904554546084979,-0.002063375372801311,-0.0025266658824763316,0.0002438196659977831,-0.00011279535379109617,-0.0004517241535232548,-0.00010589711914763778,-0.001807076665276051,-0.0017889883508377944,-0.0001655284735695604,0.0005546572185582735,-0.0021156212544681716,-0.0018810625480938732,0.00016645264906517494,-0.0007927130615516953,-0.0003778194117554404,0.0017984357521813592,-0.003249399573595957,-0.0013828812902666528,-0.0001986848912791098,9.913573348490574e-05,-0.0010055821355352157,0.0003342745275077278,0.0014068758139637253,0.0003004686773194135,0.0011379574032293004,0.001033743146394479,0.0007597109154971087,-0.0010722567358305041,-0.0006221163190579581,-0.0005292401530378487,0.0007461150332581138,-0.0026802267929066236,-0.0009658489407220758,-0.0005027231850649229,0.0008720587884214985,0.00036926444038230723,0.00021109443991943158,0.00047418509172950546,-0.0010182303937930051,0.0007171811043145288,-0.0001538354096409227,-0.0046531942112146224,-0.0018235030631626975,0.0018577953199450693]\n",
      "\u001b[1mIntercept: \u001b[0m -4.698065015523708 \u001b[1m\n",
      "Coefficients:\u001b[0m [-0.0013612884688828687,-0.001500888929496185,0.00098065982755455,0.0005689269065836393,0.0014124748577744462,-0.0006080487087736268,-0.0015194675761385306,-0.0008526333440197044,-2.1489541046953232e-05,-0.0013264157595756546,0.0009349423751717148,0.000420076168316483,-0.0005848175281185076,-0.0008626395685288916,-0.0006596715896614757,0.000573058972331575,-0.0016600173659164625,0.00020694446156735083,-0.000677102101950866,-0.001948732986151322,-6.0293196037119155e-05,-0.0007508005589794955,-0.0004434665595173772,0.001625307838503122,-0.002668907570704156,-0.0017761274063642226,0.00020326682610334812,0.001244640348819236,-0.0022066528361616307,-0.0005301773256165789,-0.00011443411648634338,-0.00015855721427385247,-0.0012251234674345347,0.0012405881421461496,-0.0007828388315133464,-0.0016035547784232266,-0.0006893385560224678,-0.00024150496158514197,-0.0011433532209531123,0.0025776279689845227,-0.00017225273817463198,0.00152526771115333,0.0012221515496779582,0.0018272639533761814,0.0011449396368574765,0.0012383419599946556,-0.00028641178880216603,0.0005045726086968639,0.0007952399993774319,-0.0008386300653386288,-0.00024351199736864237,0.0001917275267462849,-0.00034645029243366376,0.000318877125061127,0.00020137966685915572,-0.0018173422749972312,-8.636591325207066e-05,-0.0010399811056168344,-0.0013381990895052255,-0.00025118363673946723,0.001206522724085086,0.00035867004380067696,-0.0011612951763460735,0.0011825811725169413,0.0009059045822009446,0.0006276101283903684,-0.0007728474388882164,0.0006986126948652729,0.0030516701874778998,-0.005178738509963764,0.004264886989402379]\n",
      "\u001b[1mIntercept: \u001b[0m -4.853479773770796 \u001b[1m\n",
      "Coefficients:\u001b[0m [-0.00019044802265451305,-0.0009965057863159448,0.0029684772831909934,-0.0008702322719083494,0.0012394492414436007,-0.0002886626949972352,-0.0023997335722525915,-0.0011595856822394118,0.000817176543344736,0.0007582474628300398,0.0003100768344025227,0.002652521405457202,-0.0015104174533284171,-0.0008567222228359823,-0.0030039193179327807,0.000855051586823232,0.0008636117111316366,-0.0018006267186845282,-0.0006751365614811174,-0.0002936827646602011,-0.0007978539928239535,0.001604030033408916,-0.0003134529935886495,1.5997048788471875e-05,-0.00042732669310959897,0.0002978575540224814,0.00037947336213229606,-0.00014480321601267532,0.0011344548507453514,0.0005726947932687752,0.0002218248470579683,-0.00036539782710453444,-0.0002757388275569147,-0.0012277469559708258,0.0004254059520406365,0.0023638256641196342,-0.0027133645221997676,0.0011298867449855861,0.0011012150883988876,0.0008847380875530521,-0.0007370853353775068,0.0003764448118269035,-0.0004401207970833211,0.0010377702969397425,0.0004765994038340792,-0.0008064520152395707,-0.0007858517342696616,-0.000194572467914447,-0.0008582069850157138,0.00039148550552336705,0.002143391859147642,0.0012617103609725527,0.0006145221152156641,0.0004633266325909086,0.0017793329629347504,-0.0018838316254845464,0.00045165900644619116,-9.636730122483547e-05,-0.001205270164284477,0.0008579666682931539,-0.0005729765623588964,-0.00012072389137142752,0.0015063292198525286,0.00021752202949565686,-0.0012652573672918038,-0.000922148974475147,0.0016513862847122836,-0.00072594211188902,-0.00199717054616748,0.00012164013711360486,-0.0011643089660517596]\n",
      "\u001b[1mIntercept: \u001b[0m -0.699529101840847 \u001b[1m\n",
      "Coefficients:\u001b[0m [-0.001069340778589672,-0.0034613643942254402,5.6781807838714885e-05,-0.0014635532047252266,-0.0006776230891943903,-0.001257672798718162,-0.0014647459441154737,-0.0007807307232833623,-0.0027328758096184292,0.0022740143199497975,0.002250448474626843,-0.000648186446659197,-0.0021619754021978714,-5.9753800492202874e-05,-0.0008110056211357115,-4.795626606102238e-05,-0.002538522454934176,-0.0008961095702791438,-0.0007241440894856329,0.0008743156114919997,-0.00028263197508683965,0.0005355692866349956,0.0012792516759656725,-0.00013127936713382314,-0.0002516696564883144,0.001028552385622805,0.0008302975507734898,0.0008684815555444433,0.0031049888754311923,-0.0002537230988628198,0.00020666148156835284,0.0011352427709202348,0.0014123000589266602,0.0014977484976778756,0.0009694113141860396,0.002312053239562356,-0.0009242436476583087,0.0018842952759888687,-0.00019972924502746533,0.0003730848348455268,-0.00027843635445693333,0.0009734048718152797,-0.0021122166936885416,-0.001247390671133204,-0.0019880731555653084,-0.00021054871978955198,0.0010816591512821027,0.0002686776568943697,-0.0008612042082864149,8.645286335856392e-06,-0.0020635964612382117,0.0002349508650716838,0.0009812485202339615,0.0007160346204123693,0.0010502516192289829,-0.0005090302594278595,-0.0009599903467225052,0.0018987312408339765,-0.0012011585865485713,0.0002383194359663392,-0.0007859378623919052,-0.0008833219884824993,0.0007518644271145239,0.0011370833144823608,-0.00048039944019558236,-8.359554612472524e-06,0.0022442983918663584,0.000434319561891177,-0.0016127113798222765,0.002529574655869595,0.001045703571830368]\n",
      "\u001b[1mIntercept: \u001b[0m -3.2003713417618456 \u001b[1m\n",
      "Coefficients:\u001b[0m [-0.0003989279424845433,0.0036300195977033863,-0.00010819612347817462,0.001944112540975241,0.0038248076564608743,-0.0006764406706510969,9.48016005512254e-05,-0.0008902667337803156,0.0008847599874641491,0.0014894980132428054,0.00021346191337224778,-0.0007265970350268508,-0.001128989223402061,0.0013087985870944463,-0.0018985718531627804,-0.0011756383523071395,0.0013621423088636872,-0.0008749211010924653,-0.0011183803120842308,0.0019101876332322603,0.0005669609503161806,7.482637249926275e-05,0.0010358903058335543,0.0011150238208724418,-1.6888751798546507e-05,0.0010110326584023615,-0.0013328576026496082,-0.0003772267314059002,-0.0004487974439310546,-0.00010776364807572475,-0.0010492694536118766,-0.0008367202594442383,0.00047250896511913653,0.0004356344137231391,0.00047460611462075665,-0.000251479526268719,-0.00012670036557528943,3.311660452862811e-05,-0.001907378924553992,0.0015690908864737921,-0.0014842723654953133,0.0016983588588222512,0.002936428919702748,0.0006624474670405692,-0.002694709133969524,-0.0009452820069380915,-0.00011676398908842274,0.0010295828726643165,-0.0003856997780573272,-0.0004713253597710311,-0.0010449988886006396,-0.0016597205858384766,-0.0012562890244002735,-0.0001483080234089596,-0.0008471935844645385,0.0006014623482901672,-0.0004171136580511101,-7.509205958480662e-05,0.0017587047837252573,0.001136189753808346,0.0003202161370724435,-0.001871174131920441,0.0006524851843220426,-0.00038928357863423236,-0.00046263552902158997,0.0008829268064280805,-0.0012440109510251673,2.8115029716223867e-05,0.001850698938780029,-0.002335719271151561,-0.007920264558976714]\n",
      "\u001b[1mIntercept: \u001b[0m -9.746557412849882 \u001b[1m\n",
      "Coefficients:\u001b[0m [0.00019790156042243174,0.0005949682237136444,0.0014941390022768077,0.000930572587776878,-0.001006873765092709,0.0005076008606186285,-0.0027196414135019988,0.0018161400603774593,-0.00045731065612142515,-0.0016998581194843337,-0.0010191334374381928,0.0002152794803738117,0.0031049484561855674,-0.0009287198377743851,0.0005409795445611608,0.0008536126853461943,0.0010999730073899692,-6.677901875719823e-05,-7.318208597344163e-05,0.0008222851851058681,0.001231486980142078,-0.0007391612492948159,-0.0018701356647225274,0.0025588849626034557,0.0010003426631804478,0.00039186922505361456,0.0015115668502166894,-0.0004453931684562905,0.0016692001256135387,-0.0007221651958618347,0.000950204890025432,-0.0011859805054085563,0.0003075867745744445,0.0031846559165049433,0.0004629876249717108,0.0017130113785276896,-0.001713048859661596,-0.003191503244516896,-0.0018561391355991332,0.0006575556547712903,-0.0001617077833731261,0.0005390164489878657,-0.0007977233628812907,0.0006937689332714794,0.0027305892923283775,0.00025649798720092496,0.0012005119870411353,-0.0002853010080827775,0.0002784071957158148,-0.00010073250504917616,0.00045585208643799145,1.5108803096053565e-05,0.0015953058313428155,-0.0014170599377579265,-0.0011264827584640965,-0.0004040776117501377,-0.0005575578544652396,0.0005871101804882497,0.001011075541435693,-0.0012768118268070535,-0.00019964658979003053,-0.0006757406203227854,-0.00163379103933173,-0.0004709582171265258,0.0016394273432829187,-0.00276661024818241,3.047226764335903e-05,0.0011444187295581055,0.003117663225747938,-0.0031712392727358154,-0.0007642097717601311]\n",
      "\u001b[1mIntercept: \u001b[0m -4.88778161089823 \u001b[1m\n",
      "Coefficients:\u001b[0m [-0.00014276601557007397,0.002255933151750677,0.0012778637578432612,-0.00013896071754957397,2.2115078647166346e-05,0.0006861398720746511,-0.0015268373639387757,-0.0004092199251845185,0.004030589769978818,-0.001518294835749462,0.0010633895304065942,0.0013087725873318146,-0.0009948784764666624,-0.0012570969252951973,-0.0008077750812341963,0.00038474093892263794,-0.0008038502068979293,0.0006856950789915581,0.00039245752762934405,-0.0016800602619597368,-0.0012976125181216424,0.003005756751292503,-0.0006743186222932789,0.0001509703454279999,0.0005085107146352426,-0.0010791983461537187,-0.001028023923109449,-0.00048232179973200693,0.0003618704035476243,0.0006935639635219646,0.0011423052400157535,-0.00034308756317665153,-0.0003370431211376527,-0.0017495199144177554,0.000359729653189355,0.0009209625354896607,0.00016668018198072294,-3.5277462924761066e-05,-0.0014633115881969678,0.0002982048693569013,0.0005696381777032304,-0.0006703635443988857,0.0025608726153567405,0.00023832991023976417,-1.1234645505478656e-06,0.0005586896441366397,0.00021755850623364652,-0.00037623599494713314,-0.0006766767808547236,0.0008478440065926517,0.0015758813363097696,-5.284993267520087e-05,0.0006807970605010022,-0.001594699934047688,-0.001751112858823212,-0.0011532699931743877,0.0009310503184649911,0.0006695175567246937,-0.0026306882788711622,-0.00031546454481750535,-0.0005979831788446347,0.00016922527007723687,-0.0002460995214636304,-0.0004048433050144261,-0.0015713268558207316,-0.0007373574631625855,-0.0003350014441465104,0.00010545237529499447,-0.0015035795773206005,-0.0032664572250872205,0.0029415599912101446]\n",
      "\u001b[1mIntercept: \u001b[0m 5.758915769623023 \u001b[1m\n",
      "Coefficients:\u001b[0m [-0.0017367467260519089,-0.003432163066610501,-0.0007572064222733333,-0.0009790185854483165,0.0007639905384737832,-0.0013393311319993184,-0.00272219548462723,-0.001734725008204566,-0.0011530950517546507,0.0012142775685747894,-0.001073520601010757,-0.0006441946636096114,-0.0026988046756894583,3.4117092080146323e-06,-0.0005814786166568426,-0.00011625163803225996,-0.0008803508403889515,0.0014562010393192695,0.0009509806624354075,-0.002314724882591906,-0.001342298854836906,-0.0007563051562111899,0.0015155764418515677,-0.0003556871909122318,0.0013347634429387723,0.0009699210523014984,-0.00039969003993785464,0.00015673012348168925,-0.003495681394985716,-0.0003909690592743946,9.86986037638717e-05,0.0014296242111599487,0.00017190244258065649,-7.81709331113836e-05,-0.0008303096793147982,0.0006434056979000376,0.0010913064105542768,-0.00012094754557197241,0.00013662921954269908,-0.00022358768223159947,0.000964079376539986,-0.0011297175664579876,0.000137029422629968,0.0008532204940592969,-0.0006679915988695924,-0.0007462832811499074,-0.0013892050917174493,0.0010385940324889073,-0.00010396179512560235,-0.0004017502235349889,-0.0003316313146517852,0.0009820187961119176,0.0005403296793547562,0.0008176174226368653,0.0007392520830810362,-0.00034262519236927475,-0.000667335178172162,-0.0018900723256750373,-0.002616380510361908,-0.0012044140570114134,0.00011074731553834815,0.0011921580235781692,-0.0034309356383182762,2.4963484547687833e-05,-0.0009796931129975469,-0.0007043396635327539,-0.0012092647245735139,0.0007801636916893171,0.0010978170134716535,-0.0019176179133104986,-0.0016605227476531295]\n",
      "\u001b[1mIntercept: \u001b[0m -6.920495417861113 \u001b[1m\n",
      "Coefficients:\u001b[0m [0.0007025529638111082,-0.004257464752068398,-0.00236788621499685,-0.0007744607111881706,0.0003240351961014242,0.00043759060706452285,-0.00218070596432994,-0.0009630852153285855,0.0007350211411648555,0.0007185370136087617,0.003281507597640798,0.0006536119855638511,0.00036290780962276666,6.641175669455193e-05,-0.0007533499455516167,-0.00013777867677958457,0.0027309972080066507,0.0003429727802581144,0.0013013909005938737,-0.0002758624897036005,-0.0009869440820565645,0.0007613943283792891,-0.0019425869894660426,-0.0025979486187363374,-0.0004969101468090627,0.0017454138053647349,-0.0016249319270392078,-0.00042816076661436543,-0.00046813446278258356,-0.0025795137984449164,0.0002377405605795638,0.0009623385849239721,1.365610875158761e-05,-0.005380363209300145,6.863188686771303e-05,0.001437002825945744,0.0001521275045411176,-0.0008536977340135638,0.0008304895093980632,0.0017519138068858074,-0.002988017306033231,0.0005570304753950403,0.0012147456745011597,-0.0008770385915993022,-0.001202488450238611,0.00019024210655601602,-0.001485902900522857,0.00033691518592783305,0.0014219332423251693,0.002241910356182538,-8.741488946562531e-05,0.0001288431477161558,-0.000628553490304876,0.00010000634324681077,0.002184878836086771,0.0007907717493324923,0.0015479980357322536,0.00043933941696609047,0.00013105076632128156,0.001206180881821349,-0.0005991418465155637,0.001944009447732399,0.002853534326230458,0.0016621195969953437,0.0016048404796437576,9.133408468041855e-05,0.001616571963512519,0.0012639060965207588,-0.0007160725541021894,-0.0013568524146528105,-0.00071452447837975]\n",
      "\u001b[1mIntercept: \u001b[0m -7.173517790954273 \u001b[1m\n",
      "Coefficients:\u001b[0m [-0.00046411734451288323,0.0012624633697622667,0.004331159790094865,-0.0007109542276805845,-0.0015951326342462985,0.00014539780099893817,-0.0013730385492359079,-0.0006849958871162567,0.00498041989516566,-0.0003719863040070261,-7.391358056968638e-05,-0.0008441364699869733,-0.0009168547923755784,-0.001473377532332904,-0.0010457707287461209,-0.0006186146855385247,0.002216724968996509,-0.0019028071935358476,9.114081980719249e-07,0.0013457229993204716,-0.0006623825678891794,0.00015001134868078138,0.00027135702772109827,-0.001050939420597326,0.00023482627386694997,-0.0008667566528616492,-0.001169083131633635,0.00021132242292119457,0.0004647707238588428,0.00014970600868447476,-0.0011427745611641876,-0.0005348987108404445,-0.0008089795775048907,-0.002067195647530188,4.682138190087787e-05,0.0016206961312120465,-0.000640989201707974,0.001841192368920304,0.00042159963925479476,0.0006766476681965256,0.0007525303441862357,0.0010822848472068596,0.0013140052746720124,0.0011366229451170186,-0.000619334331472179,0.0010618242933099077,-0.001649956955265207,-0.0017156749989656688,-3.507508071406532e-05,-7.707147253589155e-05,-0.00019480852479412592,0.0004762879396925372,0.0005535349879015463,0.0005492335180721376,0.0007364010258230293,-0.0014024728411283394,0.0011657301526804146,0.0013935767808718371,0.001101919281669976,0.0010725054280114742,0.0014391707363894126,0.0016751607591378528,0.001949985244428424,-0.0009111004820488273,-0.002370885972737625,-0.001041833641271326,0.0009466021210501333,-0.0016545654565618343,-0.004370234948373398,-0.0016656277672038359,0.002214026428271011]\n",
      "\u001b[1mIntercept: \u001b[0m -7.970898949722139 \u001b[1m\n",
      "Coefficients:\u001b[0m [0.00010756824494597038,-0.000516771048826149,-0.0003356337179564901,-1.9275458965583733e-05,0.0002766825231565347,0.0005245059803893421,-0.00043445905959597995,-0.000586094953617756,0.0027165612883710555,-0.0011787055235935372,0.0005169353107169146,-0.000678352370133518,0.0015161167586958558,-0.00024411102750853005,-9.81740165515993e-05,0.00011369766173150815,-0.00015291872314953438,0.0013451165827136728,0.0008109735638824185,-0.002559271041185486,0.0016224597914551086,-0.0002665398673850365,0.0007183087165134804,-9.880998831582483e-05,-0.0010138505748453449,0.0008979549984593161,0.0002266790245906603,0.0008047326911861088,-0.0013654855215753962,-0.0012976348134461164,-0.0006965557709557923,0.00023581202412508047,-0.002347956004669762,-0.00039972877483308964,0.00032299050550125066,-0.00010527038187144511,-0.0005593424325698601,6.137643338852505e-05,0.0006383216229179766,0.0005090203661496695,0.0019289928816092613,-0.00020974729460386974,2.2443227104260624e-05,-0.0008510154275074844,0.0020955568445107224,-0.0006314458587663463,-0.0005751944443274112,0.0010494053639472029,0.0013032492002526999,0.0010188231234565463,0.0006533673948679676,0.0008704648505822916,0.0007028790017294926,-0.00024515498334841304,-0.0008984714914225977,0.005321092845248998,-5.901074093091045e-05,0.00042962315499929125,0.001566021628842424,0.00019355599288740693,0.00039128943722597864,0.0010164977295753868,-0.0022543367855138224,-0.0010577993679020538,0.0006333593240025275,0.0015546278494833834,-0.0008943562028179313,2.0785811173483435e-06,0.001955765764388442,-0.0051045145072115584,-0.002784208639485764]\n",
      "\u001b[1mIntercept: \u001b[0m -6.556952663908234 \u001b[1m\n",
      "Coefficients:\u001b[0m [0.0006803071107922544,0.0018803762673452926,0.0017586718074652727,0.00011613515467021817,0.0011334715473169082,0.00017306889274427119,-0.0015297187772622069,0.00016782092429335033,0.0013492981257693037,9.196387253735656e-05,-0.0018724255642614325,-0.0021262684414233564,0.0016839450545258932,0.0016263138492472998,0.0006888532808934502,0.0008107837564619853,-0.0009123531431061498,0.0006583971578950824,-0.0018368321693301786,-0.0015808193087555806,-0.0007883445792149718,-0.0014597657535054234,-0.0019614452614802216,-0.0005892465156215988,0.0019702340175486092,-0.0003903906453970846,-0.0010168333537671744,0.0011937961480128023,-0.00017902579274202385,-0.0021812019342695214,-0.00012706717226307313,-0.000624110558265942,-0.0005123277569396488,-0.0009855371611335725,0.000213550318588913,-0.0021322457016568442,-0.0013955011306963244,-0.0015464324614233927,-0.001598623727300508,-0.0007372854874217821,-0.0028387942816276023,-0.0008337610231938039,-0.002029511235287112,-0.0008314264702333379,7.970070776367842e-05,0.001065406748922765,0.00043578666407370013,0.0011740107690195282,0.0007005165685021412,-0.0011045951251896335,-9.252354156714498e-05,0.00136405333462035,0.00012351140471510803,0.0006006648137183164,0.00011097210591465257,-0.001217871447601776,-0.0010486617727680804,0.0008037850179478898,0.001590578832986359,-0.0012758084920465188,0.0003215516116776429,-0.0007112582705981907,0.0025527832399566347,-0.0007007351795758209,-0.0005745289416825244,-0.002028822637444599,0.002176613508822917,0.0008430793660678589,0.0018046568685063558,0.0059748788029484025,0.0009997298349318968]\n",
      "\u001b[1mIntercept: \u001b[0m 6.4762160488832805 \u001b[1m\n",
      "Coefficients:\u001b[0m [0.0016442684978564084,0.004076672116668233,-0.0017235536003270236,0.0005229049216316229,0.00015985825155425833,-0.0003620758585475398,0.003450118439364526,0.0002530687771498367,-0.003613784436075533,-0.0010451402130790505,-0.0009484763524551886,0.0005402749686299237,0.002567901247634915,-0.0009597172976378544,0.0019465858830736878,-0.0008779087038770673,-0.0013289258373874,-0.0005071078091282787,-8.693520104045296e-05,-0.0004995393009949914,-0.0007275838434461988,-0.0014021099228851786,-0.000703078543009536,-0.0001561739048930438,-0.0015030123019087573,-0.002192847333986006,-0.0008078284284254503,0.001053042640561213,0.0010341800267250126,0.0025700611424071757,-0.0018606210712909003,-0.0016926630347043525,-0.0011825040513953758,-0.0006708346134178937,0.00017774957879729164,-0.002005650677683403,-0.0009221676442639655,0.0014188539369085341,-0.0006993677255137238,-0.0012428485909862796,-0.0024256721248287374,-0.0015499096551878223,-0.0009629337517133708,0.0007608705124504179,0.001153017377764427,-0.0008406172763094394,-0.0013530751836701588,-0.002430605457134759,-0.0008737432865308362,-0.001125399415728345,-0.002173121749723172,-0.0019751342757387096,-0.0020241916569221042,-0.0009003609011689187,-0.0012668913301796913,0.0010707723395442467,-0.001436410425173242,-0.0010995620160024059,-0.0010797769170433258,-0.000894119759212718,0.0003487391144312063,0.0003173817514186983,-0.0015120673108019015,-0.0004435912560781225,-0.001059572975767592,0.0007639922801428709,-0.0012686337787279679,-0.0046090391580333664,-0.0010809943141988658,0.002931611403060506,0.000807337775235425]\n",
      "\u001b[1mIntercept: \u001b[0m -1.8898167311066445 \u001b[1m\n",
      "Coefficients:\u001b[0m [0.00032282576443800546,0.0016734739896904255,0.001727807003912342,-0.0003164401824710954,-0.0020672327270071316,0.0008084825980838384,-0.0026519034773497202,-8.794379344522018e-05,-0.0012706024270168505,-0.003212330410179711,-0.0003193957527234436,-0.0026227417026000194,-0.0004594580187726795,0.0008600961571938418,0.0006418176389440262,-0.0004776832162363137,-0.002053469073287531,0.00229608597124229,-0.0006662753777803851,-0.0004749049941924797,-0.0011224176914797301,-0.0018209250604393503,-0.00022708603014623562,0.0008778935180095528,-0.0023057139210189872,0.00029895254471447666,0.0025576365366725656,-0.0013533977800887524,0.00039713100859070253,-3.652874777027102e-05,-0.00020769904679141036,-0.0016403506059022256,-0.0006695647002424181,0.0016714962625604627,-0.0014562351387825574,0.0028100512059939164,-0.0017137099729216184,9.382064943795715e-05,0.0006959511003247931,-9.89130202521741e-05,-0.0024136749328484454,-0.0011375379129985673,-0.0020453996857396754,0.003019067365903407,-0.0003906492490647934,0.00015721169532675435,0.00031558042734596285,0.0016924686375087681,0.0006275348841528496,-0.0011158123162583664,-0.0016143970882680414,0.0008116149815519585,-0.00029940302308471785,0.0018573755175452418,0.0037549225836208044,-0.0020394915002540587,-0.0005237569788927907,0.0005046118987321822,-0.0024877184940991404,0.00012159951384044876,-0.001672864914435478,1.8463781378967842e-05,0.00261694912433641,-0.0006768624039383571,-0.00032597465442934175,6.746168449311521e-05,-0.0009191719404112922,-0.001111681442305187,0.00352069472797041,-0.0017224069178068079,-0.0009000388470630092]\n",
      "\u001b[1mIntercept: \u001b[0m -3.5727612812545817 \u001b[1m\n",
      "Coefficients:\u001b[0m [0.0007758373660543811,-0.0004418780270431557,0.00031532179428557283,-0.0006350246972733979,-0.0018509676974677953,0.0001836905648166903,-0.00019060384677070663,-0.00042718434561293274,0.0010096831422929675,-0.00013560988597495285,0.0031144490022150533,-0.0008120161399042363,0.0007864018640759909,0.0009464516230866945,-0.0014196467435008584,-0.0025898619506478596,0.0005459721282790799,-0.0008402888574151479,-0.00016785146795845923,0.0013459941880713153,-0.0005431375797462942,-0.0007532637075755395,-0.0010140288940443808,-0.0007466336469022647,0.0006454474465074436,0.0007561931831519786,-9.415154153214855e-05,-9.621860398884262e-05,-0.0023954816022147708,-0.0007404566884451081,-0.00038028300116675005,-2.9113333688603568e-05,-0.001627211941556541,-0.0007776535080226246,0.002326503749183102,-0.0004701460878503838,-0.0013146862264588257,0.0012073685225759338,-0.0015369773434583717,0.0013562819239402975,-5.506785310758392e-05,0.00036577622130260434,0.0026036026794457458,0.00045868423137327633,-0.0019661714241096854,0.001591827367994109,-0.00041254034464776267,-0.001747560689369682,-0.00033008395398429304,8.88568201025162e-05,0.0007618480975252691,0.0007496557776759597,0.0007788279160163325,0.0011706729821849401,0.0007348612867066359,-0.0007631046979546044,0.0026398116037455624,0.00011409107052853236,0.00107273468148659,0.0007791282563932404,-0.0005941822129834993,-8.180563091048256e-05,0.0015842520982701344,0.001889687133500719,-0.0002308985010673567,3.6875907033509683e-05,-0.0014971556422937176,-0.0011890058572488187,-0.006162312010122984,0.00018979458941310675,0.002017791172370077]\n",
      "\u001b[1mIntercept: \u001b[0m -5.374012281112852 \u001b[1m\n",
      "Coefficients:\u001b[0m [-0.0001650615944639286,-0.006078222165102085,-0.0017700511091370084,-0.0004501456888596273,0.0008521084941289138,-0.0003324272195667985,-0.0027546150678843164,-0.0011948719683053533,0.0005465457833830338,0.00029967462095356335,0.002685094568913078,0.00022191540759615306,0.00011674622445395149,-0.0004599454835220499,0.0008154430491354834,0.0008135076343009246,-0.0021556961258795237,0.0021630749873666508,0.0006073897182613237,0.0001914411691512145,0.0008072628542951324,0.0009802766012602612,0.0003067651816602619,-0.0008489723242446345,0.0007564650281107379,-0.0013636968966075707,-0.0015390988934288802,-0.00037834550175627844,0.00041303308896592755,0.0010964261150576075,0.0004855665451505256,0.0011141517561278228,0.00044862238415742877,-0.0009947757441710595,-0.0010720317522306478,0.00288264512537029,0.0027042887996620263,-0.0009617877854123431,0.0014929820416598964,0.0006731975282220739,-0.001490978568765871,-0.0008373744990287136,-0.0012179441802378354,-0.001847542826264955,0.0005010812525427199,-0.0025595660571126624,0.0015312903837611054,0.0007404294134580818,0.002146787049663279,-0.002642693930965569,0.0006037283837503193,8.347649927603451e-05,0.0010494976111882443,0.0007513191235788033,-0.0005588978282809419,-2.0925817558713427e-05,0.0005838676727661946,0.0008355899942677435,-0.0009945399599982797,0.0015672014940770608,0.000276545785810907,0.00012107827360255498,0.0009734988264082534,0.000726976004465724,-0.0006876541826856073,2.1987461801005393e-05,-0.001438880966731681,0.0026349700680192017,-0.001229016899570748,0.0004762231620874516,0.0001935576511059829]\n",
      "\u001b[1mIntercept: \u001b[0m -3.0236605140787773 \u001b[1m\n",
      "Coefficients:\u001b[0m [-0.000676421963619507,-0.00034027754878013846,-0.00044057414341533354,-0.00023134279845033398,-0.0005699911542160609,-0.0003036544367983528,0.0032670642077884593,0.000347522900907719,-0.0022792065806200084,0.0006693441729659013,-0.0014020688068399085,-0.00019686831745002568,0.000816025585419486,-0.00011674998529417695,0.001082446690904008,-0.001991751510500259,-0.0002534959068242232,-7.118762700080038e-05,7.459433401103648e-05,0.0006712294699489881,0.0021263704049277214,0.001488508163131458,0.00044057207817550423,-0.001146630087634578,0.0007153103825044521,-0.0006769898429746232,0.0003140872709842211,0.0006976706954339137,0.0033426792349133864,0.0002671477605872422,0.00043098349039139504,0.0006996425999489521,0.0016564435654393558,0.0004194703669176947,-0.0005411920508052202,-0.0005748717260974104,0.0008721539661871754,0.0017525520218707354,0.0020212432647937068,0.00012813223327512037,0.0033310096918324626,0.0005712668380990286,0.0035347653192575423,0.00042623413364747,0.0009824766987622043,-8.332372634361365e-05,0.0006421643308341588,0.0002511521086185415,0.00010434002627580034,0.0002642320142048666,-0.0013435413905031081,-0.001004464981666637,-0.0005742363742462786,-0.002178768547480898,-0.0038890233437213163,1.9803739899233668e-05,-0.00028203463796338467,0.0004999241898464051,0.0014200223241392959,-0.0010046305954889959,-0.002060360276064916,-0.00017151915848121878,-0.001127110929803298,-0.0002604769802880232,0.00020849263382465165,0.0006430768396539123,-0.0013417003545543394,-0.00199273106876885,-0.0026675827884478105,-0.000674666174901595,0.0015340967164756327]\n",
      "\u001b[1mIntercept: \u001b[0m -4.0848522563538605 \u001b[1m\n",
      "Coefficients:\u001b[0m [-0.0012465338355630207,-0.002369170113240211,-0.00027987059088220296,-0.0009970472164581334,-0.00024207841639753173,-0.0010775269007241544,-8.363732560360462e-05,-0.0010319785005156248,4.00478417514162e-05,0.0025670659343995385,-0.0015190924676970793,0.0014632972938108228,0.000660127962670206,0.0009792358870074351,-0.0013567903540531103,0.0013158009160397076,0.0014424132325988473,-0.0013240601853416857,-0.0010562634058238047,0.00087020760056666,0.0006656601702173905,0.0004956908707207324,-0.00041286350815708864,0.000989302717603216,-0.0006826163933704408,0.0010234905609605642,0.0012739702558165775,-0.0006417826074499539,0.0010375685705383368,0.0004788368910980332,0.000210531970578523,0.002532924016467186,9.971035979747428e-05,-0.0010644914583317396,0.0005224437707976424,0.0011437266178759718,-0.0009599661541751722,0.0018725839960650257,0.0007283289101514963,0.0005275758384411133,0.0019581465179562122,0.0009826140163447896,-0.006611607453550001,-0.0012388265734538228,-0.0006123877924741571,-0.0013045436706686168,-0.003364273694174023,-0.0016396734117621779,0.0008818794363578117,0.0015456245970441416,0.0005950903394923383,-0.00028947113763483324,-0.0004446846517836513,0.000903885376632521,0.0002474767561808882,-0.0010384987259999044,0.001113027932713762,0.0007564313367384347,-0.0011479139578857186,-0.00015283366836416095,0.0017144425478128767,-0.0012231191278602462,0.0012155441750615927,0.0010367802103565253,0.0015262896149745996,7.870805906147745e-05,0.0005973721357399733,-0.0002689492452791616,-0.002396142921711552,0.00194158789752645,0.0005254059573961008]\n",
      "\u001b[1mIntercept: \u001b[0m -0.6742203803817455 \u001b[1m\n",
      "Coefficients:\u001b[0m [-0.0011067292631778863,-0.0004044429486434912,-0.001443917133648933,-0.0005245328105355962,-0.0003507647293261516,-0.00018395144328543984,0.0033378061480665165,-0.0005583543524284538,0.0025068095822730367,-0.0008597077111719136,-0.004646411534474504,0.0007101804258635087,-7.76147673735234e-05,0.0005591692728619111,-0.00026877446865016956,-0.00033156582277194994,0.0014110961763590829,-0.0025199091925481613,-0.0007670926024306128,0.0009376512526649641,-0.0008780822407965837,-0.0002448783778932509,0.0005045849335134445,0.0005953615652758653,-0.0018850189571607346,0.00027899023541707484,0.0013868460002718157,-0.000799957109112164,0.0013586643765467487,-0.0010572196639057813,0.0009502125386679655,0.0004742954181094472,0.00026538377000175615,-0.0038824941608263655,-0.0017445444297716634,0.00044376512583897416,-0.0004079629560781305,-0.0015231275194269376,-0.00032681464138241336,0.00011692070782952721,0.003384080888441429,-0.0003561019817526899,-0.0006283774115474101,-0.0013954443959768277,-0.0007994025584395606,-0.001425194220115414,0.0005618996249027886,0.00018699656300462646,0.0016207260943352138,-0.0013117060997852935,-0.001384702330714745,-0.0018296465782352285,-0.001589367685157991,-0.002444760801482279,-0.0026362511447678852,-0.0011558092385821105,0.0016061319055226115,-0.0014601330684281242,-0.0017670127086175877,-0.0018724812968462685,0.00044948289492048816,0.0024549907562013656,0.0015247922781094973,0.0001068112468729281,-0.0017088419971080385,0.0016239633121232428,0.002077134563901011,0.0019023134051874922,0.0034200477461163946,-0.0012488804431104049,0.007498186476785739]\n",
      "\u001b[1mIntercept: \u001b[0m -7.665328997322114 \u001b[1m\n",
      "Coefficients:\u001b[0m [-0.0006389188480948325,-0.001412565897994245,-0.00034182021180196535,-0.0013857073089773692,-0.0006766824531040305,-0.0003578633290910797,-0.0020700639995320834,-0.0012634035399324858,-0.00010643045004066455,-0.002727901887092734,-0.0005609225032748886,0.0011531968078482872,0.0006566346771398467,0.001810566963228495,0.0004781362244317443,0.0014193427869488512,0.0011671932114825094,-0.00033536268777021715,0.00014847745627425804,0.0009966669092149204,-0.00035310653361840316,-0.0016035942275348743,-0.0011571749825217104,0.0003258652434449741,0.0023450766505515863,-0.0009264181765245025,0.0017372692370933225,0.0003676862962328553,-0.0005552328684803248,-0.0013898127074221105,-0.001388678630291973,0.0001224088388946078,-0.0010154799391361249,0.0007034899174629157,0.0006914788651922289,-0.003411119383685367,0.0013007106215932422,-0.00018650659671484504,0.0025876081735090877,-0.0002978293498703242,-0.005576723812942015,-0.00033913693482330294,-0.0019189605476245706,-0.0028432481491605936,0.0018009446989401092,0.0005132157343418813,0.0034894741185281727,0.00012374888341837138,0.001174586607484685,0.0008499392146965335,0.0008054402260299955,1.4200432561184821e-05,0.0005787535660047548,0.002003503144240768,0.0023626727704128534,-0.0007049940551060064,-0.0008715166729446127,0.0009185970705040534,0.0029223067718893297,-0.000488081938848192,-0.0009715678883805766,0.0006859168494952299,0.0009419217808227937,-0.00013951958013622108,0.0003428431720231518,0.002286373558809196,0.001187240017594452,0.00136169409354099,0.0014365674626287135,-0.0003363781371752479,-0.0027018792066354244]\n",
      "\u001b[1mIntercept: \u001b[0m -2.0786734022646938 \u001b[1m\n",
      "Coefficients:\u001b[0m [0.00017496330543118554,-0.0012957062984912187,0.000737318491611454,0.0003179325587504518,8.698582603606728e-06,-0.0006675984898082564,0.0006358505202243387,-0.00010877874396568468,-0.0012109382900990348,0.0006470383998209971,0.002305720784211094,0.0001605587492210166,0.0004731199103987451,-0.0018223781766570878,0.0008984145606700931,0.0003925546135152077,0.0007438223384372696,-0.0008185271678174674,-0.001128166843445819,-0.0005938998556586412,0.000531787924623146,-0.0007747083696473671,-0.0010047178216746793,-0.0003477880430619346,0.0005880353402626934,0.0007394206390543232,-0.0019915975833015615,0.00030634008495758415,0.00034756956999944374,0.0006597813315835617,1.9723189309674986e-05,-0.00023286346292993103,-0.0012273446396613042,0.0005657205911967755,0.0024841564555475536,1.1055371911276948e-06,0.0015985042763411006,0.0016065205039764987,-0.0007320734980328239,-9.017272499425262e-05,0.00046869594142542133,0.001296824140327444,0.0017843664324525552,0.0006515802658644956,0.00010979284925808513,-0.0007727306974521057,0.0011448251578622286,0.0006365738110788875,-0.0003696475260631759,-0.0009819235480092428,-0.0009541573033885978,-0.0003946813673639799,0.00036135549756732046,-4.145769385321267e-05,-9.945344101762381e-05,0.0010226886135312216,-0.001369300050560521,-0.0012089198571689972,-0.0031042879972743827,0.0011379921630380175,-6.669347230613735e-05,-0.0015867140717319879,-0.0021844212204876505,-0.001804172841174439,0.0014364386097735296,-0.002395419059329294,-0.00020700719592829382,-0.0027258361280925285,-0.0037033551943868896,-3.539344767797139e-05,0.001730515795801217]\n",
      "\u001b[1mIntercept: \u001b[0m -4.016587179482143 \u001b[1m\n",
      "Coefficients:\u001b[0m [0.00017392403467814677,-0.0011470364329612959,-0.000841126147992242,0.00021440895901685993,3.9555118186614124e-05,-0.0002146283452876423,-0.00014167367304127973,-0.00035980418404390644,0.0017107014696616035,0.0006339929545477626,0.00037716943851190854,0.0013976017165688184,-0.002385155078761848,0.0006029307769227922,-0.00010203131402406169,-0.00101056007985155,-0.0013023040059964763,0.0011648631825365643,0.001617885198643801,0.00048045980376233466,-3.821513232188444e-05,0.001287997802994071,-0.0006825358373617924,0.0002162399405060466,0.00010274266055683625,-0.0012903677679487098,-0.0005783102496267483,0.0009330550601153556,0.0003460121626954083,0.002211314028550185,-0.0009240405381907663,0.0006032422989536918,0.0021915234616325043,0.0006781413068216801,-0.0010256443001875914,0.002429931373203302,0.00010288721183288437,0.0007192403754285895,-0.00039131419557557703,-0.0005110985303576398,0.0013049210052284957,0.0008425386518130032,-0.003660021379708899,0.0022303954021186197,0.0013691839484202945,0.001147665001964678,-0.0014653082316577908,0.00038424983141564225,-0.0021576260835597092,-0.0023844790355928356,0.0006534912215393008,-0.001485910685328051,-0.0016534170723671298,-0.00199786790802795,0.0010232239712354796,0.0011914979042141943,-0.001186196600508421,-0.0006018633202294067,0.0009359579184808677,0.0008509987281552774,7.895123251082904e-05,-0.000501695944320688,-0.004384265366786649,-0.00012042596040200213,0.001910591353547367,0.0002154431121516202,-0.0021385603539764084,0.0002666354333507458,-0.0017512008250252136,0.0009802581634743238,0.0009621546161201533]\n",
      "\u001b[1mIntercept: \u001b[0m -5.576431493177337 \u001b[1m\n",
      "Coefficients:\u001b[0m [0.0005142332617362237,-0.002569834251640485,0.0015376758643696703,0.0013061827814206761,0.002351059820874794,0.0003330955758167554,0.0008066558005435093,0.0004554923196652642,0.0017962603441153955,-0.0005852571782179531,-0.0009312378973830087,0.0003427255200811171,0.0016951715549433483,-0.000583477223766463,-0.00010707681456184459,0.001001954876779828,0.0007720109463492659,-0.00033049476378325547,0.0017772008092712612,0.0007641635261651553,0.002016703303439369,-0.00027476102868859414,0.0022009452712328822,-0.0010969439444388433,0.0014676539208495984,-0.00025000085794572017,0.0006702372473159939,0.00020132856097756832,0.0002372251940911248,0.0005622618349753875,0.002019117813825787,-8.88749144198794e-05,0.0012271175681174934,-0.0008509420895594485,-0.0008237859405149421,-0.003561816073234216,-0.001475143633956754,-0.0023424433897795117,-0.0027848126167330685,-0.0005884469076882867,0.0012588627777304958,-0.0005112447515855618,-0.0025662427048275933,-0.0019618395503995497,-0.001927113686349511,-0.0031389523879469185,-0.0021124754742106425,-0.002814092142015619,-0.0011881777859607879,0.00023943940643744548,-0.0009549488202374804,-0.0011116535751604293,-0.0007300622158357003,0.0002766426419850402,-0.00055768819109607,0.0018405834273830092,0.0004398961805953793,-0.0013653064509428622,0.0013416330119759338,0.0013329119244472809,0.0009313897245141526,0.0015198455689229133,-0.0011582765139043745,-0.0007696439980214827,0.0022744894671503416,0.001764790768994384,-0.0011229060878139496,0.00023332857488963304,-0.003215844894125169,0.0004960282730727797,0.0019272097193011742]\n"
     ]
    },
    {
     "name": "stdout",
     "output_type": "stream",
     "text": [
      "48.502139800285306\n"
     ]
    }
   ],
   "source": [
    "lr = LogisticRegression()\n",
    "classifier = OneVsRest(classifier = lr)\n",
    "\n",
    "paramGrid = ParamGridBuilder()\\\n",
    "    .addGrid(lr.regParam,[0.1,0.01]) \\\n",
    "    .build()\n",
    "\n",
    "crossval=CrossValidator(estimator=classifier,\n",
    "                       estimatorParamMaps=paramGrid,\n",
    "                       evaluator=MulticlassClassificationEvaluator(),\n",
    "                       numFolds=2)\n",
    "\n",
    "fitModel=crossval.fit(train)\n",
    "\n",
    "BestModel = fitModel.bestModel\n",
    "\n",
    "models= BestModel.models\n",
    "for model in models:\n",
    "    print('\\033[1m' + 'Intercept: '+ '\\033[0m',model.intercept,'\\033[1m' + '\\nCoefficients:'+ '\\033[0m',model.coefficients)\n",
    "\n",
    "predictions=fitModel.transform(test)\n",
    "accuracy=(MC_evaluator.evaluate(predictions))*100\n",
    "print(accuracy)"
   ]
  },
  {
   "cell_type": "markdown",
   "metadata": {},
   "source": [
    "### Multilayer Perceptron Classifier fwe"
   ]
  },
  {
   "cell_type": "code",
   "execution_count": 26,
   "metadata": {},
   "outputs": [
    {
     "name": "stdout",
     "output_type": "stream",
     "text": [
      "\u001b[1mModel Weights: \u001b[0m 12023\n",
      "Accuracy:  17.261055634807416\n"
     ]
    }
   ],
   "source": [
    "features = train.select(['features']).collect()\n",
    "features_count = len(features[0][0])\n",
    "class_count=final_data.select(countDistinct('label')).collect()\n",
    "classes = class_count[0][0]\n",
    "\n",
    "layers = [features_count, features_count+1, features_count, classes]\n",
    "\n",
    "classifier = MultilayerPerceptronClassifier(maxIter=100, layers=layers, blockSize=128, seed= 1234)\n",
    "\n",
    "fitModel = classifier.fit(train)\n",
    "\n",
    "print('\\033[1m' + \"Model Weights: \"+ '\\033[0m',fitModel.weights.size)\n",
    "\n",
    "\n",
    "predictions = fitModel.transform(test)\n",
    "\n",
    "accuracy = (MC_evaluator.evaluate(predictions))*100\n",
    "\n",
    "print(\"Accuracy: \",accuracy)"
   ]
  },
  {
   "cell_type": "markdown",
   "metadata": {},
   "source": [
    "### NaiveBayes"
   ]
  },
  {
   "cell_type": "code",
   "execution_count": 27,
   "metadata": {},
   "outputs": [
    {
     "name": "stdout",
     "output_type": "stream",
     "text": [
      "Accuracy:  42.51069900142653\n"
     ]
    }
   ],
   "source": [
    "classifier= NaiveBayes()\n",
    "paramGrid = (ParamGridBuilder()\\\n",
    "             .addGrid(classifier.smoothing, [0.0,0.2,0.4,0.6])\\\n",
    "             .build())\n",
    "crossval = CrossValidator(estimator=classifier,\n",
    "                         estimatorParamMaps = paramGrid,\n",
    "                         evaluator= MulticlassClassificationEvaluator(),\n",
    "                         numFolds=2)\n",
    "\n",
    "fitModel = crossval.fit(train)\n",
    "\n",
    "predictions = fitModel.transform(test)\n",
    "accuracy = (MC_evaluator.evaluate(predictions))*100\n",
    "print(\"Accuracy: \",accuracy)"
   ]
  },
  {
   "cell_type": "markdown",
   "metadata": {},
   "source": [
    "### Decision Tree"
   ]
  },
  {
   "cell_type": "code",
   "execution_count": 28,
   "metadata": {},
   "outputs": [
    {
     "name": "stdout",
     "output_type": "stream",
     "text": [
      "Feature Importances:  [0.13402499 0.04083916 0.04873417 0.03206116 0.01766315 0.0181274\n",
      " 0.03989303 0.00098255 0.02673988 0.01608156 0.00611119 0.01645473\n",
      " 0.01980442 0.00784832 0.01674616 0.01536611 0.01425441 0.00117906\n",
      " 0.00533559 0.01352902 0.00496768 0.008035   0.         0.00849939\n",
      " 0.00600319 0.00664964 0.00680157 0.00572981 0.00725704 0.\n",
      " 0.00952587 0.00525596 0.00447276 0.         0.00370129 0.00359977\n",
      " 0.01332449 0.00635981 0.01206405 0.00645195 0.00882531 0.\n",
      " 0.01722819 0.02682398 0.00526288 0.00352552 0.00831006 0.00538072\n",
      " 0.00624106 0.0026601  0.00715848 0.01929574 0.00275324 0.00970911\n",
      " 0.01687144 0.009841   0.         0.00580747 0.00450015 0.00790248\n",
      " 0.00189855 0.00467485 0.00494591 0.00175396 0.00125493 0.00665648\n",
      " 0.00758963 0.00368669 0.00698258 0.03596477 0.1460194 ]\n",
      "Accuracy:  37.660485021398\n"
     ]
    }
   ],
   "source": [
    "classifier = DecisionTreeClassifier()\n",
    "paramGrid = (ParamGridBuilder()\\\n",
    "            .addGrid(classifier.maxDepth, [2, 5, 10, 20, 30])\\\n",
    "            .addGrid(classifier.maxBins, [10,20,40,80, 100])\\\n",
    "            .build())\n",
    "\n",
    "crossval = CrossValidator(estimator = classifier,\n",
    "                         estimatorParamMaps=paramGrid,\n",
    "                         evaluator=MulticlassClassificationEvaluator(),\n",
    "                         numFolds=2)\n",
    "\n",
    "fitModel = crossval.fit(train)\n",
    "\n",
    "BestModel = fitModel.bestModel\n",
    "featureImportances= BestModel.featureImportances.toArray()\n",
    "\n",
    "print(\"Feature Importances: \", featureImportances)\n",
    "\n",
    "predictions= fitModel.transform(test)\n",
    "accuracy = (MC_evaluator.evaluate(predictions))*100\n",
    "print(\"Accuracy: \", accuracy)"
   ]
  },
  {
   "cell_type": "code",
   "execution_count": 29,
   "metadata": {},
   "outputs": [
    {
     "name": "stdout",
     "output_type": "stream",
     "text": [
      "+----------------------+-----+\n",
      "|feature               |score|\n",
      "+----------------------+-----+\n",
      "|35-ZCRstd             |0    |\n",
      "|36-Energystd          |0    |\n",
      "|37-EnergyEntropystd   |0    |\n",
      "|38-SpectralCentroidstd|0    |\n",
      "|39-SpectralSpreadstd  |0    |\n",
      "|40-SpectralEntropystd |0    |\n",
      "|41-SpectralFluxstd    |0    |\n",
      "|42-SpectralRolloffstd |0    |\n",
      "|43-MFCCs1std          |0    |\n",
      "|44-MFCCs2std          |0    |\n",
      "|45-MFCCs3std          |0    |\n",
      "|46-MFCCs4std          |0    |\n",
      "|47-MFCCs5std          |0    |\n",
      "|48-MFCCs6std          |0    |\n",
      "|49-MFCCs7std          |0    |\n",
      "|50-MFCCs8std          |0    |\n",
      "|51-MFCCs9std          |0    |\n",
      "|18-MFCCs10m           |0    |\n",
      "|19-MFCCs11m           |0    |\n",
      "|20-MFCCs12m           |0    |\n",
      "+----------------------+-----+\n",
      "only showing top 20 rows\n",
      "\n",
      "None\n"
     ]
    }
   ],
   "source": [
    "imp_scores = []\n",
    "for x in featureImportances:\n",
    "    imp_scores.append(int(x))\n",
    "\n",
    "result = spark.createDataFrame(zip(input_columns,imp_scores), schema=['feature','score'])\n",
    "print(result.orderBy(result[\"score\"].desc()).show(truncate=False))"
   ]
  },
  {
   "cell_type": "markdown",
   "metadata": {},
   "source": [
    "### Random Forest Classifer"
   ]
  },
  {
   "cell_type": "code",
   "execution_count": 30,
   "metadata": {},
   "outputs": [
    {
     "name": "stdout",
     "output_type": "stream",
     "text": [
      "Feature Importances:  [0.02573566 0.02356898 0.01991815 0.01452942 0.01045946 0.00993903\n",
      " 0.01668074 0.0089076  0.01559455 0.01588221 0.01371953 0.00998789\n",
      " 0.00928669 0.00988818 0.00932718 0.00961034 0.00872837 0.00906725\n",
      " 0.0085483  0.00907796 0.00963562 0.01085105 0.0086788  0.0127838\n",
      " 0.00919309 0.00980125 0.01160123 0.01039926 0.00800358 0.00768724\n",
      " 0.01053732 0.01035535 0.00904936 0.0114416  0.01082462 0.01236032\n",
      " 0.01508101 0.01732041 0.02350336 0.01102697 0.01417001 0.01085671\n",
      " 0.0181281  0.01957244 0.01359008 0.01181207 0.01383113 0.01825955\n",
      " 0.01275283 0.01482237 0.0139311  0.01938239 0.01453853 0.01694109\n",
      " 0.01555292 0.00928776 0.00884947 0.01093804 0.00779342 0.01120628\n",
      " 0.00857455 0.01159077 0.01036301 0.00844019 0.00995531 0.01144762\n",
      " 0.00887084 0.01103265 0.04715108 0.02612459 0.08164037]\n",
      " \n",
      "Accuracy:  51.06990014265336\n"
     ]
    }
   ],
   "source": [
    "classifier = RandomForestClassifier()\n",
    "paramGrid = (ParamGridBuilder()\\\n",
    "            .addGrid(classifier.maxDepth, [2, 5, 10])\n",
    "            .addGrid(classifier.maxBins, [5, 10 , 20])\n",
    "            .addGrid(classifier.numTrees,[5, 20, 50])\n",
    "            .build())\n",
    "\n",
    "crossval = CrossValidator(estimator=classifier,\n",
    "                         estimatorParamMaps=paramGrid,\n",
    "                         evaluator=MulticlassClassificationEvaluator(),\n",
    "                         numFolds=2)\n",
    "\n",
    "fitModel = crossval.fit(train)\n",
    "\n",
    "BestModel= fitModel.bestModel\n",
    "featureImportances= BestModel.featureImportances.toArray()\n",
    "print(\"Feature Importances: \", featureImportances)\n",
    "\n",
    "predictions = fitModel.transform(test)\n",
    "\n",
    "accuracy = (MC_evaluator.evaluate(predictions))*100\n",
    "\n",
    "print(\" \")\n",
    "print(\"Accuracy: \", accuracy)"
   ]
  },
  {
   "cell_type": "code",
   "execution_count": 31,
   "metadata": {},
   "outputs": [
    {
     "name": "stdout",
     "output_type": "stream",
     "text": [
      "+----------------------+--------------------+\n",
      "|feature               |score               |\n",
      "+----------------------+--------------------+\n",
      "|71-BPMessentia        |0.0816403681969719  |\n",
      "|69-BPM                |0.04715108480109114 |\n",
      "|70-BPMconf            |0.026124588351273806|\n",
      "|1-ZCRm                |0.02573566485281646 |\n",
      "|2-Energym             |0.023568979928749983|\n",
      "|39-SpectralSpreadstd  |0.023503362622536356|\n",
      "|3-EnergyEntropym      |0.019918148212840315|\n",
      "|44-MFCCs2std          |0.01957243543323125 |\n",
      "|52-MFCCs10std         |0.01938238864113405 |\n",
      "|48-MFCCs6std          |0.018259551052789955|\n",
      "|43-MFCCs1std          |0.018128100694104712|\n",
      "|38-SpectralCentroidstd|0.01732041182293242 |\n",
      "|54-MFCCs12std         |0.01694109371196689 |\n",
      "|7-SpectralFluxm       |0.016680741605466416|\n",
      "|10-MFCCs2m            |0.015882209320895402|\n",
      "|9-MFCCs1m             |0.01559454820902609 |\n",
      "|55-MFCCs13std         |0.015552920180658077|\n",
      "|37-EnergyEntropystd   |0.01508101362848201 |\n",
      "|50-MFCCs8std          |0.014822370958647513|\n",
      "|53-MFCCs11std         |0.014538533863640573|\n",
      "+----------------------+--------------------+\n",
      "only showing top 20 rows\n",
      "\n",
      "None\n"
     ]
    }
   ],
   "source": [
    "imp_scores = []\n",
    "for x in featureImportances:\n",
    "    imp_scores.append(float(x))\n",
    "    \n",
    "# Then zip with input_columns list and create a df\n",
    "result = spark.createDataFrame(zip(input_columns,imp_scores), schema=['feature','score'])\n",
    "print(result.orderBy(result[\"score\"].desc()).show(truncate=False))"
   ]
  },
  {
   "cell_type": "markdown",
   "metadata": {},
   "source": [
    "### Feature Selection"
   ]
  },
  {
   "cell_type": "code",
   "execution_count": null,
   "metadata": {},
   "outputs": [],
   "source": [
    "from pyspark.ml.feature import ChiSqSelector"
   ]
  },
  {
   "cell_type": "code",
   "execution_count": 80,
   "metadata": {},
   "outputs": [],
   "source": [
    "\n",
    "\n",
    "selector=ChiSqSelector(fwe=0.05, featuresCol=\"features\", outputCol=\"selectedFeatures\", labelCol= \"label\")\n",
    "model=selector.fit(train)\n",
    "result=model.transform(train)\n"
   ]
  },
  {
   "cell_type": "code",
   "execution_count": 81,
   "metadata": {},
   "outputs": [],
   "source": [
    "train = result.select('label','selectedFeatures').withColumnRenamed('selectedFeatures', 'features')"
   ]
  },
  {
   "cell_type": "code",
   "execution_count": 82,
   "metadata": {},
   "outputs": [],
   "source": [
    "new_test= model.transform(test)\n",
    "test=new_test.select('label','selectedFeatures').withColumnRenamed('selectedFeatures', 'features')"
   ]
  },
  {
   "cell_type": "code",
   "execution_count": 83,
   "metadata": {},
   "outputs": [
    {
     "name": "stdout",
     "output_type": "stream",
     "text": [
      "+-----+--------------------+\n",
      "|label|            features|\n",
      "+-----+--------------------+\n",
      "|  0.0|[174.433102127938...|\n",
      "|  0.0|[268.188480022892...|\n",
      "|  0.0|[278.771440597300...|\n",
      "|  0.0|[312.108949814051...|\n",
      "|  0.0|[319.529220420367...|\n",
      "|  0.0|[337.143704291778...|\n",
      "|  0.0|[350.856930326534...|\n",
      "|  0.0|[355.801234298552...|\n",
      "|  0.0|[357.765517922918...|\n",
      "|  0.0|[359.825601229593...|\n",
      "|  0.0|[366.747280005321...|\n",
      "|  0.0|[374.352647734368...|\n",
      "|  0.0|[376.623923825579...|\n",
      "|  0.0|[380.752326609337...|\n",
      "|  0.0|[402.720971071055...|\n",
      "|  0.0|[407.322910385764...|\n",
      "|  0.0|[408.955319636547...|\n",
      "|  0.0|[419.899631408692...|\n",
      "|  0.0|[431.815464667238...|\n",
      "|  0.0|[437.414240861686...|\n",
      "+-----+--------------------+\n",
      "only showing top 20 rows\n",
      "\n"
     ]
    }
   ],
   "source": [
    "train.show()"
   ]
  },
  {
   "cell_type": "code",
   "execution_count": 84,
   "metadata": {
    "scrolled": true
   },
   "outputs": [
    {
     "name": "stdout",
     "output_type": "stream",
     "text": [
      "+-----+--------------------+\n",
      "|label|            features|\n",
      "+-----+--------------------+\n",
      "|  0.0|[263.169877111654...|\n",
      "|  0.0|[297.057129121742...|\n",
      "|  0.0|[344.472423346100...|\n",
      "|  0.0|[360.257783507319...|\n",
      "|  0.0|[375.814351487179...|\n",
      "|  0.0|[380.876129276615...|\n",
      "|  0.0|[392.551986501107...|\n",
      "|  0.0|[405.113188842400...|\n",
      "|  0.0|[421.768375442709...|\n",
      "|  0.0|[435.295463992565...|\n",
      "|  0.0|[438.824880345582...|\n",
      "|  0.0|[439.491229994906...|\n",
      "|  0.0|[449.899410335232...|\n",
      "|  0.0|[462.057387043392...|\n",
      "|  0.0|[468.052453142057...|\n",
      "|  0.0|[481.158976756092...|\n",
      "|  0.0|[492.437503710276...|\n",
      "|  0.0|[495.497024791874...|\n",
      "|  0.0|[509.046741140820...|\n",
      "|  0.0|[509.098065494723...|\n",
      "+-----+--------------------+\n",
      "only showing top 20 rows\n",
      "\n"
     ]
    }
   ],
   "source": [
    "test.show()"
   ]
  },
  {
   "cell_type": "code",
   "execution_count": null,
   "metadata": {},
   "outputs": [],
   "source": []
  }
 ],
 "metadata": {
  "kernelspec": {
   "display_name": "Python 3",
   "language": "python",
   "name": "python3"
  },
  "language_info": {
   "codemirror_mode": {
    "name": "ipython",
    "version": 3
   },
   "file_extension": ".py",
   "mimetype": "text/x-python",
   "name": "python",
   "nbconvert_exporter": "python",
   "pygments_lexer": "ipython3",
   "version": "3.7.6"
  }
 },
 "nbformat": 4,
 "nbformat_minor": 2
}
