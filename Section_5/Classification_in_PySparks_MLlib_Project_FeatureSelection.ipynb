{
 "cells": [
  {
   "cell_type": "markdown",
   "metadata": {},
   "source": [
    "# Classification in PySpark's MLlib Project Solution\n",
    "\n",
    "### Genre classification\n",
    "Now it's time to leverage what we learned in the lectures to a REAL classification project! Have you ever wondered what makes us, humans, able to tell apart two songs of different genres? How we do we inherenly know the difference between a pop song and heavy metal? This type of classifcation may seem easy for us, but it's a very difficult challenge for a computer to do. So the question is, could an automatic genre classifcation model be possible? \n",
    "\n",
    "For this project we will be classifying songs based on a number of characteristics into a set of 23 electronic genres. This technology could be used by an application like Pandora to recommend songs to users or just create meaningful channels. Super fun!\n",
    "\n",
    "### Dataset\n",
    "*beatsdataset.csv*\n",
    "Each row is an electronic music song. The dataset contains 100 song for each genre among 23 electronic music genres, they were the top (100) songs of their genres on November 2016. The 71 columns are audio features extracted of a two random minutes sample of the file audio. These features have been extracted using pyAudioAnalysis (https://github.com/tyiannak/pyAudioAnalysis).\n",
    "\n",
    "### Your task\n",
    "Create an algorithm that classifies songs into the 23 genres provided. Test out several different models and select the highest performing one. Also play around with feature selection methods and finally try to make a recommendation to a user.  \n",
    "\n",
    "For the feature selection aspect of this project, you may need to get a bit creative if you want to select features from a non-tree algorithm. I did not go over this aspect of PySpark intentionally in the previous lectures to give you chance to get used to researching the PySpark documentation page. Here is the link to the Feature Selectors section of the documentation that just might come in handy: https://spark.apache.org/docs/latest/ml-features.html#feature-selectors\n",
    "\n",
    "Good luck! Have fun :)\n",
    "\n",
    "### Source\n",
    "https://www.kaggle.com/caparrini/beatsdataset"
   ]
  },
  {
   "cell_type": "code",
   "execution_count": 3,
   "metadata": {},
   "outputs": [],
   "source": [
    "import pyspark\n",
    "from pyspark.sql import SparkSession\n",
    "\n",
    "spark = SparkSession.builder.appName('ClassificationProject').getOrCreate()\n",
    "\n"
   ]
  },
  {
   "cell_type": "code",
   "execution_count": 4,
   "metadata": {},
   "outputs": [],
   "source": [
    "from pyspark.ml.feature import VectorAssembler\n",
    "from pyspark.sql.types import * \n",
    "from pyspark.sql.functions import *\n",
    "from pyspark.ml.feature import StringIndexer\n",
    "from pyspark.ml.feature import MinMaxScaler"
   ]
  },
  {
   "cell_type": "code",
   "execution_count": 5,
   "metadata": {},
   "outputs": [],
   "source": [
    "path =\"Datasets/\"\n",
    "df = spark.read.csv(path+'beatsdataset.csv',inferSchema=True,header=True)"
   ]
  },
  {
   "cell_type": "code",
   "execution_count": 6,
   "metadata": {},
   "outputs": [
    {
     "data": {
      "text/html": [
       "<div>\n",
       "<style scoped>\n",
       "    .dataframe tbody tr th:only-of-type {\n",
       "        vertical-align: middle;\n",
       "    }\n",
       "\n",
       "    .dataframe tbody tr th {\n",
       "        vertical-align: top;\n",
       "    }\n",
       "\n",
       "    .dataframe thead th {\n",
       "        text-align: right;\n",
       "    }\n",
       "</style>\n",
       "<table border=\"1\" class=\"dataframe\">\n",
       "  <thead>\n",
       "    <tr style=\"text-align: right;\">\n",
       "      <th></th>\n",
       "      <th>_c0</th>\n",
       "      <th>1-ZCRm</th>\n",
       "      <th>2-Energym</th>\n",
       "      <th>3-EnergyEntropym</th>\n",
       "      <th>4-SpectralCentroidm</th>\n",
       "      <th>5-SpectralSpreadm</th>\n",
       "      <th>6-SpectralEntropym</th>\n",
       "      <th>7-SpectralFluxm</th>\n",
       "      <th>8-SpectralRolloffm</th>\n",
       "      <th>9-MFCCs1m</th>\n",
       "      <th>...</th>\n",
       "      <th>63-ChromaVector8std</th>\n",
       "      <th>64-ChromaVector9std</th>\n",
       "      <th>65-ChromaVector10std</th>\n",
       "      <th>66-ChromaVector11std</th>\n",
       "      <th>67-ChromaVector12std</th>\n",
       "      <th>68-ChromaDeviationstd</th>\n",
       "      <th>69-BPM</th>\n",
       "      <th>70-BPMconf</th>\n",
       "      <th>71-BPMessentia</th>\n",
       "      <th>class</th>\n",
       "    </tr>\n",
       "  </thead>\n",
       "  <tbody>\n",
       "    <tr>\n",
       "      <th>0</th>\n",
       "      <td>0</td>\n",
       "      <td>0.136440</td>\n",
       "      <td>0.088861</td>\n",
       "      <td>3.201201</td>\n",
       "      <td>0.262825</td>\n",
       "      <td>0.249212</td>\n",
       "      <td>1.114423</td>\n",
       "      <td>0.007003</td>\n",
       "      <td>0.256682</td>\n",
       "      <td>-22.723259</td>\n",
       "      <td>...</td>\n",
       "      <td>0.003431</td>\n",
       "      <td>0.004981</td>\n",
       "      <td>0.010818</td>\n",
       "      <td>0.024001</td>\n",
       "      <td>0.005201</td>\n",
       "      <td>0.015056</td>\n",
       "      <td>133.333333</td>\n",
       "      <td>0.132792</td>\n",
       "      <td>128.0</td>\n",
       "      <td>BigRoom</td>\n",
       "    </tr>\n",
       "    <tr>\n",
       "      <th>1</th>\n",
       "      <td>1</td>\n",
       "      <td>0.117039</td>\n",
       "      <td>0.108389</td>\n",
       "      <td>3.194001</td>\n",
       "      <td>0.247657</td>\n",
       "      <td>0.250288</td>\n",
       "      <td>1.065668</td>\n",
       "      <td>0.005387</td>\n",
       "      <td>0.199821</td>\n",
       "      <td>-21.775871</td>\n",
       "      <td>...</td>\n",
       "      <td>0.004461</td>\n",
       "      <td>0.006441</td>\n",
       "      <td>0.007469</td>\n",
       "      <td>0.015499</td>\n",
       "      <td>0.005589</td>\n",
       "      <td>0.019339</td>\n",
       "      <td>120.000000</td>\n",
       "      <td>0.112767</td>\n",
       "      <td>126.0</td>\n",
       "      <td>BigRoom</td>\n",
       "    </tr>\n",
       "    <tr>\n",
       "      <th>2</th>\n",
       "      <td>2</td>\n",
       "      <td>0.085308</td>\n",
       "      <td>0.128525</td>\n",
       "      <td>3.123837</td>\n",
       "      <td>0.217205</td>\n",
       "      <td>0.228652</td>\n",
       "      <td>0.789647</td>\n",
       "      <td>0.008247</td>\n",
       "      <td>0.156822</td>\n",
       "      <td>-22.472722</td>\n",
       "      <td>...</td>\n",
       "      <td>0.001529</td>\n",
       "      <td>0.004556</td>\n",
       "      <td>0.007723</td>\n",
       "      <td>0.017482</td>\n",
       "      <td>0.002901</td>\n",
       "      <td>0.022201</td>\n",
       "      <td>133.333333</td>\n",
       "      <td>0.123373</td>\n",
       "      <td>129.0</td>\n",
       "      <td>BigRoom</td>\n",
       "    </tr>\n",
       "    <tr>\n",
       "      <th>3</th>\n",
       "      <td>3</td>\n",
       "      <td>0.103050</td>\n",
       "      <td>0.167042</td>\n",
       "      <td>3.150830</td>\n",
       "      <td>0.233593</td>\n",
       "      <td>0.245032</td>\n",
       "      <td>0.967082</td>\n",
       "      <td>0.006571</td>\n",
       "      <td>0.168083</td>\n",
       "      <td>-21.470751</td>\n",
       "      <td>...</td>\n",
       "      <td>0.001591</td>\n",
       "      <td>0.003514</td>\n",
       "      <td>0.009477</td>\n",
       "      <td>0.023162</td>\n",
       "      <td>0.004165</td>\n",
       "      <td>0.015379</td>\n",
       "      <td>133.333333</td>\n",
       "      <td>0.158876</td>\n",
       "      <td>129.0</td>\n",
       "      <td>BigRoom</td>\n",
       "    </tr>\n",
       "    <tr>\n",
       "      <th>4</th>\n",
       "      <td>4</td>\n",
       "      <td>0.151730</td>\n",
       "      <td>0.148405</td>\n",
       "      <td>3.194498</td>\n",
       "      <td>0.293730</td>\n",
       "      <td>0.267231</td>\n",
       "      <td>1.353005</td>\n",
       "      <td>0.003872</td>\n",
       "      <td>0.292055</td>\n",
       "      <td>-21.371157</td>\n",
       "      <td>...</td>\n",
       "      <td>0.003945</td>\n",
       "      <td>0.004131</td>\n",
       "      <td>0.011330</td>\n",
       "      <td>0.028188</td>\n",
       "      <td>0.002639</td>\n",
       "      <td>0.019079</td>\n",
       "      <td>133.333333</td>\n",
       "      <td>0.190708</td>\n",
       "      <td>129.0</td>\n",
       "      <td>BigRoom</td>\n",
       "    </tr>\n",
       "  </tbody>\n",
       "</table>\n",
       "<p>5 rows × 73 columns</p>\n",
       "</div>"
      ],
      "text/plain": [
       "   _c0    1-ZCRm  2-Energym  3-EnergyEntropym  4-SpectralCentroidm  \\\n",
       "0    0  0.136440   0.088861          3.201201             0.262825   \n",
       "1    1  0.117039   0.108389          3.194001             0.247657   \n",
       "2    2  0.085308   0.128525          3.123837             0.217205   \n",
       "3    3  0.103050   0.167042          3.150830             0.233593   \n",
       "4    4  0.151730   0.148405          3.194498             0.293730   \n",
       "\n",
       "   5-SpectralSpreadm  6-SpectralEntropym  7-SpectralFluxm  8-SpectralRolloffm  \\\n",
       "0           0.249212            1.114423         0.007003            0.256682   \n",
       "1           0.250288            1.065668         0.005387            0.199821   \n",
       "2           0.228652            0.789647         0.008247            0.156822   \n",
       "3           0.245032            0.967082         0.006571            0.168083   \n",
       "4           0.267231            1.353005         0.003872            0.292055   \n",
       "\n",
       "   9-MFCCs1m  ...  63-ChromaVector8std  64-ChromaVector9std  \\\n",
       "0 -22.723259  ...             0.003431             0.004981   \n",
       "1 -21.775871  ...             0.004461             0.006441   \n",
       "2 -22.472722  ...             0.001529             0.004556   \n",
       "3 -21.470751  ...             0.001591             0.003514   \n",
       "4 -21.371157  ...             0.003945             0.004131   \n",
       "\n",
       "   65-ChromaVector10std  66-ChromaVector11std  67-ChromaVector12std  \\\n",
       "0              0.010818              0.024001              0.005201   \n",
       "1              0.007469              0.015499              0.005589   \n",
       "2              0.007723              0.017482              0.002901   \n",
       "3              0.009477              0.023162              0.004165   \n",
       "4              0.011330              0.028188              0.002639   \n",
       "\n",
       "   68-ChromaDeviationstd      69-BPM  70-BPMconf  71-BPMessentia    class  \n",
       "0               0.015056  133.333333    0.132792           128.0  BigRoom  \n",
       "1               0.019339  120.000000    0.112767           126.0  BigRoom  \n",
       "2               0.022201  133.333333    0.123373           129.0  BigRoom  \n",
       "3               0.015379  133.333333    0.158876           129.0  BigRoom  \n",
       "4               0.019079  133.333333    0.190708           129.0  BigRoom  \n",
       "\n",
       "[5 rows x 73 columns]"
      ]
     },
     "execution_count": 6,
     "metadata": {},
     "output_type": "execute_result"
    }
   ],
   "source": [
    "df.limit(5).toPandas()"
   ]
  },
  {
   "cell_type": "code",
   "execution_count": 7,
   "metadata": {},
   "outputs": [
    {
     "name": "stdout",
     "output_type": "stream",
     "text": [
      "root\n",
      " |-- _c0: integer (nullable = true)\n",
      " |-- 1-ZCRm: double (nullable = true)\n",
      " |-- 2-Energym: double (nullable = true)\n",
      " |-- 3-EnergyEntropym: double (nullable = true)\n",
      " |-- 4-SpectralCentroidm: double (nullable = true)\n",
      " |-- 5-SpectralSpreadm: double (nullable = true)\n",
      " |-- 6-SpectralEntropym: double (nullable = true)\n",
      " |-- 7-SpectralFluxm: double (nullable = true)\n",
      " |-- 8-SpectralRolloffm: double (nullable = true)\n",
      " |-- 9-MFCCs1m: double (nullable = true)\n",
      " |-- 10-MFCCs2m: double (nullable = true)\n",
      " |-- 11-MFCCs3m: double (nullable = true)\n",
      " |-- 12-MFCCs4m: double (nullable = true)\n",
      " |-- 13-MFCCs5m: double (nullable = true)\n",
      " |-- 14-MFCCs6m: double (nullable = true)\n",
      " |-- 15-MFCCs7m: double (nullable = true)\n",
      " |-- 16-MFCCs8m: double (nullable = true)\n",
      " |-- 17-MFCCs9m: double (nullable = true)\n",
      " |-- 18-MFCCs10m: double (nullable = true)\n",
      " |-- 19-MFCCs11m: double (nullable = true)\n",
      " |-- 20-MFCCs12m: double (nullable = true)\n",
      " |-- 21-MFCCs13m: double (nullable = true)\n",
      " |-- 22-ChromaVector1m: double (nullable = true)\n",
      " |-- 23-ChromaVector2m: double (nullable = true)\n",
      " |-- 24-ChromaVector3m: double (nullable = true)\n",
      " |-- 25-ChromaVector4m: double (nullable = true)\n",
      " |-- 26-ChromaVector5m: double (nullable = true)\n",
      " |-- 27-ChromaVector6m: double (nullable = true)\n",
      " |-- 28-ChromaVector7m: double (nullable = true)\n",
      " |-- 29-ChromaVector8m: double (nullable = true)\n",
      " |-- 30-ChromaVector9m: double (nullable = true)\n",
      " |-- 31-ChromaVector10m: double (nullable = true)\n",
      " |-- 32-ChromaVector11m: double (nullable = true)\n",
      " |-- 33-ChromaVector12m: double (nullable = true)\n",
      " |-- 34-ChromaDeviationm: double (nullable = true)\n",
      " |-- 35-ZCRstd: double (nullable = true)\n",
      " |-- 36-Energystd: double (nullable = true)\n",
      " |-- 37-EnergyEntropystd: double (nullable = true)\n",
      " |-- 38-SpectralCentroidstd: double (nullable = true)\n",
      " |-- 39-SpectralSpreadstd: double (nullable = true)\n",
      " |-- 40-SpectralEntropystd: double (nullable = true)\n",
      " |-- 41-SpectralFluxstd: double (nullable = true)\n",
      " |-- 42-SpectralRolloffstd: double (nullable = true)\n",
      " |-- 43-MFCCs1std: double (nullable = true)\n",
      " |-- 44-MFCCs2std: double (nullable = true)\n",
      " |-- 45-MFCCs3std: double (nullable = true)\n",
      " |-- 46-MFCCs4std: double (nullable = true)\n",
      " |-- 47-MFCCs5std: double (nullable = true)\n",
      " |-- 48-MFCCs6std: double (nullable = true)\n",
      " |-- 49-MFCCs7std: double (nullable = true)\n",
      " |-- 50-MFCCs8std: double (nullable = true)\n",
      " |-- 51-MFCCs9std: double (nullable = true)\n",
      " |-- 52-MFCCs10std: double (nullable = true)\n",
      " |-- 53-MFCCs11std: double (nullable = true)\n",
      " |-- 54-MFCCs12std: double (nullable = true)\n",
      " |-- 55-MFCCs13std: double (nullable = true)\n",
      " |-- 56-ChromaVector1std: double (nullable = true)\n",
      " |-- 57-ChromaVector2std: double (nullable = true)\n",
      " |-- 58-ChromaVector3std: double (nullable = true)\n",
      " |-- 59-ChromaVector4std: double (nullable = true)\n",
      " |-- 60-ChromaVector5std: double (nullable = true)\n",
      " |-- 61-ChromaVector6std: double (nullable = true)\n",
      " |-- 62-ChromaVector7std: double (nullable = true)\n",
      " |-- 63-ChromaVector8std: double (nullable = true)\n",
      " |-- 64-ChromaVector9std: double (nullable = true)\n",
      " |-- 65-ChromaVector10std: double (nullable = true)\n",
      " |-- 66-ChromaVector11std: double (nullable = true)\n",
      " |-- 67-ChromaVector12std: double (nullable = true)\n",
      " |-- 68-ChromaDeviationstd: double (nullable = true)\n",
      " |-- 69-BPM: double (nullable = true)\n",
      " |-- 70-BPMconf: double (nullable = true)\n",
      " |-- 71-BPMessentia: double (nullable = true)\n",
      " |-- class: string (nullable = true)\n",
      "\n"
     ]
    }
   ],
   "source": [
    "df.printSchema()"
   ]
  },
  {
   "cell_type": "code",
   "execution_count": 8,
   "metadata": {},
   "outputs": [
    {
     "name": "stdout",
     "output_type": "stream",
     "text": [
      "+--------------------+-----+\n",
      "|               class|count|\n",
      "+--------------------+-----+\n",
      "|           PsyTrance|  100|\n",
      "|           HardDance|  100|\n",
      "|              Breaks|  100|\n",
      "|  HardcoreHardTechno|  100|\n",
      "|   IndieDanceNuDisco|  100|\n",
      "|              Trance|  100|\n",
      "|           DeepHouse|  100|\n",
      "|ElectronicaDowntempo|  100|\n",
      "|           ReggaeDub|  100|\n",
      "|             Minimal|  100|\n",
      "|         DrumAndBass|  100|\n",
      "|             Dubstep|  100|\n",
      "|             BigRoom|  100|\n",
      "|              Techno|  100|\n",
      "|               House|  100|\n",
      "|         FutureHouse|  100|\n",
      "|        ElectroHouse|  100|\n",
      "|           GlitchHop|  100|\n",
      "|           TechHouse|  100|\n",
      "|              HipHop|  100|\n",
      "|           FunkRAndB|  100|\n",
      "|               Dance|  100|\n",
      "|    ProgressiveHouse|  100|\n",
      "+--------------------+-----+\n",
      "\n"
     ]
    }
   ],
   "source": [
    "df.groupBy('class').count().show(100)"
   ]
  },
  {
   "cell_type": "markdown",
   "metadata": {},
   "source": [
    "## Format Data"
   ]
  },
  {
   "cell_type": "code",
   "execution_count": 9,
   "metadata": {},
   "outputs": [
    {
     "name": "stdout",
     "output_type": "stream",
     "text": [
      "+---+------+---------+----------------+-------------------+-----------------+------------------+---------------+------------------+---------+----------+----------+----------+----------+----------+----------+----------+----------+-----------+-----------+-----------+-----------+-----------------+-----------------+-----------------+-----------------+-----------------+-----------------+-----------------+-----------------+-----------------+------------------+------------------+------------------+-------------------+---------+------------+-------------------+----------------------+--------------------+---------------------+------------------+---------------------+------------+------------+------------+------------+------------+------------+------------+------------+------------+-------------+-------------+-------------+-------------+-------------------+-------------------+-------------------+-------------------+-------------------+-------------------+-------------------+-------------------+-------------------+--------------------+--------------------+--------------------+---------------------+------+----------+--------------+-----+\n",
      "|_c0|1-ZCRm|2-Energym|3-EnergyEntropym|4-SpectralCentroidm|5-SpectralSpreadm|6-SpectralEntropym|7-SpectralFluxm|8-SpectralRolloffm|9-MFCCs1m|10-MFCCs2m|11-MFCCs3m|12-MFCCs4m|13-MFCCs5m|14-MFCCs6m|15-MFCCs7m|16-MFCCs8m|17-MFCCs9m|18-MFCCs10m|19-MFCCs11m|20-MFCCs12m|21-MFCCs13m|22-ChromaVector1m|23-ChromaVector2m|24-ChromaVector3m|25-ChromaVector4m|26-ChromaVector5m|27-ChromaVector6m|28-ChromaVector7m|29-ChromaVector8m|30-ChromaVector9m|31-ChromaVector10m|32-ChromaVector11m|33-ChromaVector12m|34-ChromaDeviationm|35-ZCRstd|36-Energystd|37-EnergyEntropystd|38-SpectralCentroidstd|39-SpectralSpreadstd|40-SpectralEntropystd|41-SpectralFluxstd|42-SpectralRolloffstd|43-MFCCs1std|44-MFCCs2std|45-MFCCs3std|46-MFCCs4std|47-MFCCs5std|48-MFCCs6std|49-MFCCs7std|50-MFCCs8std|51-MFCCs9std|52-MFCCs10std|53-MFCCs11std|54-MFCCs12std|55-MFCCs13std|56-ChromaVector1std|57-ChromaVector2std|58-ChromaVector3std|59-ChromaVector4std|60-ChromaVector5std|61-ChromaVector6std|62-ChromaVector7std|63-ChromaVector8std|64-ChromaVector9std|65-ChromaVector10std|66-ChromaVector11std|67-ChromaVector12std|68-ChromaDeviationstd|69-BPM|70-BPMconf|71-BPMessentia|class|\n",
      "+---+------+---------+----------------+-------------------+-----------------+------------------+---------------+------------------+---------+----------+----------+----------+----------+----------+----------+----------+----------+-----------+-----------+-----------+-----------+-----------------+-----------------+-----------------+-----------------+-----------------+-----------------+-----------------+-----------------+-----------------+------------------+------------------+------------------+-------------------+---------+------------+-------------------+----------------------+--------------------+---------------------+------------------+---------------------+------------+------------+------------+------------+------------+------------+------------+------------+------------+-------------+-------------+-------------+-------------+-------------------+-------------------+-------------------+-------------------+-------------------+-------------------+-------------------+-------------------+-------------------+--------------------+--------------------+--------------------+---------------------+------+----------+--------------+-----+\n",
      "|  0|     0|        0|               0|                  0|                0|                 0|              0|                 0|        0|         0|         0|         0|         0|         0|         0|         0|         0|          0|          0|          0|          0|                0|                0|                0|                0|                0|                0|                0|                0|                0|                 0|                 0|                 0|                  0|        0|           0|                  0|                     0|                   0|                    0|                 0|                    0|           0|           0|           0|           0|           0|           0|           0|           0|           0|            0|            0|            0|            0|                  0|                  0|                  0|                  0|                  0|                  0|                  0|                  0|                  0|                   0|                   0|                   0|                    0|     0|         0|             0|    0|\n",
      "+---+------+---------+----------------+-------------------+-----------------+------------------+---------------+------------------+---------+----------+----------+----------+----------+----------+----------+----------+----------+-----------+-----------+-----------+-----------+-----------------+-----------------+-----------------+-----------------+-----------------+-----------------+-----------------+-----------------+-----------------+------------------+------------------+------------------+-------------------+---------+------------+-------------------+----------------------+--------------------+---------------------+------------------+---------------------+------------+------------+------------+------------+------------+------------+------------+------------+------------+-------------+-------------+-------------+-------------+-------------------+-------------------+-------------------+-------------------+-------------------+-------------------+-------------------+-------------------+-------------------+--------------------+--------------------+--------------------+---------------------+------+----------+--------------+-----+\n",
      "\n"
     ]
    }
   ],
   "source": [
    "df.select([count(when(col(c).isNull(), c)).alias(c) for c in df.columns]).show()"
   ]
  },
  {
   "cell_type": "code",
   "execution_count": 10,
   "metadata": {},
   "outputs": [],
   "source": [
    "input_columns = df.columns # Collect the column names as a list\n",
    "input_columns = input_columns[1:-1] # keep only relevant columns: from column 1 to \n",
    "\n",
    "dependent_var = 'class'"
   ]
  },
  {
   "cell_type": "code",
   "execution_count": 11,
   "metadata": {},
   "outputs": [],
   "source": [
    "renamed = df.withColumn('label_str', df[dependent_var].cast(StringType()))\n",
    "indexer = StringIndexer(inputCol='label_str', outputCol='label')\n",
    "indexed = indexer.fit(renamed).transform(renamed)"
   ]
  },
  {
   "cell_type": "code",
   "execution_count": 12,
   "metadata": {},
   "outputs": [
    {
     "name": "stdout",
     "output_type": "stream",
     "text": [
      "root\n",
      " |-- _c0: integer (nullable = true)\n",
      " |-- 1-ZCRm: double (nullable = true)\n",
      " |-- 2-Energym: double (nullable = true)\n",
      " |-- 3-EnergyEntropym: double (nullable = true)\n",
      " |-- 4-SpectralCentroidm: double (nullable = true)\n",
      " |-- 5-SpectralSpreadm: double (nullable = true)\n",
      " |-- 6-SpectralEntropym: double (nullable = true)\n",
      " |-- 7-SpectralFluxm: double (nullable = true)\n",
      " |-- 8-SpectralRolloffm: double (nullable = true)\n",
      " |-- 9-MFCCs1m: double (nullable = true)\n",
      " |-- 10-MFCCs2m: double (nullable = true)\n",
      " |-- 11-MFCCs3m: double (nullable = true)\n",
      " |-- 12-MFCCs4m: double (nullable = true)\n",
      " |-- 13-MFCCs5m: double (nullable = true)\n",
      " |-- 14-MFCCs6m: double (nullable = true)\n",
      " |-- 15-MFCCs7m: double (nullable = true)\n",
      " |-- 16-MFCCs8m: double (nullable = true)\n",
      " |-- 17-MFCCs9m: double (nullable = true)\n",
      " |-- 18-MFCCs10m: double (nullable = true)\n",
      " |-- 19-MFCCs11m: double (nullable = true)\n",
      " |-- 20-MFCCs12m: double (nullable = true)\n",
      " |-- 21-MFCCs13m: double (nullable = true)\n",
      " |-- 22-ChromaVector1m: double (nullable = true)\n",
      " |-- 23-ChromaVector2m: double (nullable = true)\n",
      " |-- 24-ChromaVector3m: double (nullable = true)\n",
      " |-- 25-ChromaVector4m: double (nullable = true)\n",
      " |-- 26-ChromaVector5m: double (nullable = true)\n",
      " |-- 27-ChromaVector6m: double (nullable = true)\n",
      " |-- 28-ChromaVector7m: double (nullable = true)\n",
      " |-- 29-ChromaVector8m: double (nullable = true)\n",
      " |-- 30-ChromaVector9m: double (nullable = true)\n",
      " |-- 31-ChromaVector10m: double (nullable = true)\n",
      " |-- 32-ChromaVector11m: double (nullable = true)\n",
      " |-- 33-ChromaVector12m: double (nullable = true)\n",
      " |-- 34-ChromaDeviationm: double (nullable = true)\n",
      " |-- 35-ZCRstd: double (nullable = true)\n",
      " |-- 36-Energystd: double (nullable = true)\n",
      " |-- 37-EnergyEntropystd: double (nullable = true)\n",
      " |-- 38-SpectralCentroidstd: double (nullable = true)\n",
      " |-- 39-SpectralSpreadstd: double (nullable = true)\n",
      " |-- 40-SpectralEntropystd: double (nullable = true)\n",
      " |-- 41-SpectralFluxstd: double (nullable = true)\n",
      " |-- 42-SpectralRolloffstd: double (nullable = true)\n",
      " |-- 43-MFCCs1std: double (nullable = true)\n",
      " |-- 44-MFCCs2std: double (nullable = true)\n",
      " |-- 45-MFCCs3std: double (nullable = true)\n",
      " |-- 46-MFCCs4std: double (nullable = true)\n",
      " |-- 47-MFCCs5std: double (nullable = true)\n",
      " |-- 48-MFCCs6std: double (nullable = true)\n",
      " |-- 49-MFCCs7std: double (nullable = true)\n",
      " |-- 50-MFCCs8std: double (nullable = true)\n",
      " |-- 51-MFCCs9std: double (nullable = true)\n",
      " |-- 52-MFCCs10std: double (nullable = true)\n",
      " |-- 53-MFCCs11std: double (nullable = true)\n",
      " |-- 54-MFCCs12std: double (nullable = true)\n",
      " |-- 55-MFCCs13std: double (nullable = true)\n",
      " |-- 56-ChromaVector1std: double (nullable = true)\n",
      " |-- 57-ChromaVector2std: double (nullable = true)\n",
      " |-- 58-ChromaVector3std: double (nullable = true)\n",
      " |-- 59-ChromaVector4std: double (nullable = true)\n",
      " |-- 60-ChromaVector5std: double (nullable = true)\n",
      " |-- 61-ChromaVector6std: double (nullable = true)\n",
      " |-- 62-ChromaVector7std: double (nullable = true)\n",
      " |-- 63-ChromaVector8std: double (nullable = true)\n",
      " |-- 64-ChromaVector9std: double (nullable = true)\n",
      " |-- 65-ChromaVector10std: double (nullable = true)\n",
      " |-- 66-ChromaVector11std: double (nullable = true)\n",
      " |-- 67-ChromaVector12std: double (nullable = true)\n",
      " |-- 68-ChromaDeviationstd: double (nullable = true)\n",
      " |-- 69-BPM: double (nullable = true)\n",
      " |-- 70-BPMconf: double (nullable = true)\n",
      " |-- 71-BPMessentia: double (nullable = true)\n",
      " |-- class: string (nullable = true)\n",
      " |-- label_str: string (nullable = true)\n",
      " |-- label: double (nullable = false)\n",
      "\n"
     ]
    }
   ],
   "source": [
    "numeric_inputs = []\n",
    "string_inputs = []\n",
    "for column in input_columns:\n",
    "    if str(indexed.schema[column].dataType) == 'StringType':\n",
    "        indexer = StringIndexer(inputCol = column, outputCol=column+'_num')\n",
    "        indexed = indexer.fit(indexed).transform(indexed)\n",
    "        new_col_name = column+'_num'\n",
    "        string_inputs.append(new_col_name)\n",
    "    else:\n",
    "        numeric_inputs.append(column)\n",
    "indexed.printSchema()"
   ]
  },
  {
   "cell_type": "markdown",
   "metadata": {},
   "source": [
    "#### Skewness"
   ]
  },
  {
   "cell_type": "code",
   "execution_count": 13,
   "metadata": {},
   "outputs": [
    {
     "name": "stdout",
     "output_type": "stream",
     "text": [
      "7-SpectralFluxm  has been treated for pos skew 1.6396138160129063\n",
      "22-ChromaVector1m  has been treated for pos skew 2.4162415204309258\n",
      "23-ChromaVector2m  has been treated for pos skew 4.154796693680583\n",
      "24-ChromaVector3m  has been treated for pos skew 1.1974019617504328\n",
      "25-ChromaVector4m  has been treated for pos skew 2.446635863594906\n",
      "26-ChromaVector5m  has been treated for pos skew 2.154482876187508\n",
      "27-ChromaVector6m  has been treated for pos skew 2.01234064472543\n",
      "28-ChromaVector7m  has been treated for pos skew 1.1829228989215521\n",
      "29-ChromaVector8m  has been treated for pos skew 3.7372643733999955\n",
      "30-ChromaVector9m  has been treated for pos skew 2.4117416421548645\n",
      "31-ChromaVector10m  has been treated for pos skew 2.1979538518563233\n",
      "32-ChromaVector11m  has been treated for pos skew 2.1924295373960554\n",
      "33-ChromaVector12m  has been treated for pos skew 2.278981912155668\n",
      "41-SpectralFluxstd  has been treated for pos skew 1.8577721462401056\n",
      "56-ChromaVector1std  has been treated for pos skew 1.9111935514138085\n",
      "57-ChromaVector2std  has been treated for pos skew 2.9078740765487394\n",
      "59-ChromaVector4std  has been treated for pos skew 2.9677243313898827\n",
      "60-ChromaVector5std  has been treated for pos skew 2.3681450229993315\n",
      "61-ChromaVector6std  has been treated for pos skew 2.3950817653605396\n",
      "63-ChromaVector8std  has been treated for pos skew 2.801578595136121\n",
      "64-ChromaVector9std  has been treated for pos skew 1.7779798465610313\n",
      "65-ChromaVector10std  has been treated for pos skew 1.9944501757850421\n",
      "66-ChromaVector11std  has been treated for pos skew 1.1835182964170816\n",
      "67-ChromaVector12std  has been treated for pos skew 2.087086908618814\n",
      "69-BPM  has been treated for pos skew 2.9547734198613234\n",
      "70-BPMconf  has been treated for pos skew 1.0889332324135428\n"
     ]
    }
   ],
   "source": [
    "d= {}\n",
    "for col in numeric_inputs:\n",
    "    d[col]=indexed.approxQuantile(col,[0.01, 0.99], 0.25)\n",
    "\n",
    "for col in numeric_inputs:\n",
    "    skew = indexed.agg(skewness(indexed[col])).collect()\n",
    "    skew=skew[0][0]\n",
    "    if skew > 1:\n",
    "        indexed = indexed.withColumn(col, \\\n",
    "                                    log(when(df[col] < d[col][0], d[col][0])\\\n",
    "                                       .when(indexed[col]> d[col][1], d[col][1])\\\n",
    "                                       .otherwise(indexed[col])+1).alias(col))\n",
    "        print(col, \" has been treated for pos skew\", skew)\n",
    "    elif skew < -1:\n",
    "        indexed = indexed.withColumn(col, \\\n",
    "                                    exp(when(df[col] < d[col][0], d[col][0])\\\n",
    "                                       .when(indexed[col]> d[col][1], d[col][1])\\\n",
    "                                       .otherwise(indexed[col])+1).alias(col))\n",
    "        print(col, \" has been treated for neg skew\", skew)"
   ]
  },
  {
   "cell_type": "code",
   "execution_count": 14,
   "metadata": {},
   "outputs": [
    {
     "data": {
      "text/plain": [
       "-30.3789543716"
      ]
     },
     "execution_count": 14,
     "metadata": {},
     "output_type": "execute_result"
    }
   ],
   "source": [
    "minimums = df.select([min(c).alias(c) for c in df.columns if c in numeric_inputs])\n",
    "min_array = minimums.select(array(numeric_inputs).alias('mins'))\n",
    "df_minimum = min_array.select(array_min(min_array.mins)).collect()\n",
    "df_minimum = df_minimum[0][0]\n",
    "df_minimum"
   ]
  },
  {
   "cell_type": "code",
   "execution_count": 15,
   "metadata": {},
   "outputs": [],
   "source": [
    "features_list = numeric_inputs + string_inputs\n",
    "assembler = VectorAssembler(inputCols=features_list, outputCol='features')\n",
    "output = assembler.transform(indexed).select('features','label')\n"
   ]
  },
  {
   "cell_type": "code",
   "execution_count": 16,
   "metadata": {},
   "outputs": [
    {
     "name": "stdout",
     "output_type": "stream",
     "text": [
      "+--------------------+-----+\n",
      "|            features|label|\n",
      "+--------------------+-----+\n",
      "|[0.136439587512,0...|  0.0|\n",
      "|[0.117038518483,0...|  0.0|\n",
      "|[0.0853077737447,...|  0.0|\n",
      "|[0.103049917216,0...|  0.0|\n",
      "|[0.151729948738,0...|  0.0|\n",
      "|[0.127046737192,0...|  0.0|\n",
      "|[0.123395302003,0...|  0.0|\n",
      "|[0.140027382431,0...|  0.0|\n",
      "|[0.117635200751,0...|  0.0|\n",
      "|[0.137400181488,0...|  0.0|\n",
      "|[0.148838734199,0...|  0.0|\n",
      "|[0.119846749928,0...|  0.0|\n",
      "|[0.0786813648231,...|  0.0|\n",
      "|[0.138335144235,0...|  0.0|\n",
      "|[0.101304207661,0...|  0.0|\n",
      "|[0.132862180406,0...|  0.0|\n",
      "|[0.1533035231,0.1...|  0.0|\n",
      "|[0.118001599962,0...|  0.0|\n",
      "|[0.110992493712,0...|  0.0|\n",
      "|[0.124299777916,0...|  0.0|\n",
      "+--------------------+-----+\n",
      "only showing top 20 rows\n",
      "\n"
     ]
    }
   ],
   "source": [
    "output.show()"
   ]
  },
  {
   "cell_type": "code",
   "execution_count": 17,
   "metadata": {},
   "outputs": [],
   "source": [
    "scaler = MinMaxScaler(inputCol='features', outputCol='scaledFeatures', min = 0, max=1000)\n",
    "scalerModel = scaler.fit(output)\n",
    "scaled_data= scalerModel.transform(output)"
   ]
  },
  {
   "cell_type": "code",
   "execution_count": 18,
   "metadata": {},
   "outputs": [
    {
     "name": "stdout",
     "output_type": "stream",
     "text": [
      "+--------------------+-----+--------------------+\n",
      "|            features|label|      scaledFeatures|\n",
      "+--------------------+-----+--------------------+\n",
      "|[0.136439587512,0...|  0.0|[519.818266700239...|\n",
      "|[0.117038518483,0...|  0.0|[435.295463992565...|\n",
      "|[0.0853077737447,...|  0.0|[297.057129121742...|\n",
      "|[0.103049917216,0...|  0.0|[374.352647734368...|\n",
      "|[0.151729948738,0...|  0.0|[586.432337466259...|\n",
      "|[0.127046737192,0...|  0.0|[478.897323979332...|\n",
      "|[0.123395302003,0...|  0.0|[462.989461602348...|\n",
      "|[0.140027382431,0...|  0.0|[535.448873531282...|\n",
      "|[0.117635200751,0...|  0.0|[437.894973202184...|\n",
      "|[0.137400181488,0...|  0.0|[524.003195633498...|\n",
      "|[0.148838734199,0...|  0.0|[573.836456502165...|\n",
      "|[0.119846749928,0...|  0.0|[447.529820358620...|\n",
      "|[0.0786813648231,...|  0.0|[268.188480022892...|\n",
      "|[0.138335144235,0...|  0.0|[528.076459415282...|\n",
      "|[0.101304207661,0...|  0.0|[366.747280005321...|\n",
      "|[0.132862180406,0...|  0.0|[504.232915471732...|\n",
      "|[0.1533035231,0.1...|  0.0|[593.287780078539...|\n",
      "|[0.118001599962,0...|  0.0|[439.491229994906...|\n",
      "|[0.110992493712,0...|  0.0|[408.955319636547...|\n",
      "|[0.124299777916,0...|  0.0|[466.929906277539...|\n",
      "+--------------------+-----+--------------------+\n",
      "only showing top 20 rows\n",
      "\n"
     ]
    }
   ],
   "source": [
    "scaled_data.show()"
   ]
  },
  {
   "cell_type": "code",
   "execution_count": 19,
   "metadata": {},
   "outputs": [],
   "source": [
    "final_data=scaled_data.select('label', 'scaledFeatures')\n",
    "final_data = final_data.withColumnRenamed('scaledFeatures', 'features')"
   ]
  },
  {
   "cell_type": "code",
   "execution_count": 79,
   "metadata": {},
   "outputs": [],
   "source": [
    "train, test= final_data.randomSplit([0.7, 0.3])"
   ]
  },
  {
   "cell_type": "code",
   "execution_count": 71,
   "metadata": {},
   "outputs": [
    {
     "data": {
      "text/plain": [
       "1620"
      ]
     },
     "execution_count": 71,
     "metadata": {},
     "output_type": "execute_result"
    }
   ],
   "source": [
    "train.count()"
   ]
  },
  {
   "cell_type": "code",
   "execution_count": 72,
   "metadata": {},
   "outputs": [
    {
     "data": {
      "text/plain": [
       "680"
      ]
     },
     "execution_count": 72,
     "metadata": {},
     "output_type": "execute_result"
    }
   ],
   "source": [
    "test.count()"
   ]
  },
  {
   "cell_type": "markdown",
   "metadata": {},
   "source": [
    "### Feature Selection"
   ]
  },
  {
   "cell_type": "code",
   "execution_count": 80,
   "metadata": {},
   "outputs": [],
   "source": [
    "from pyspark.ml.feature import ChiSqSelector\n",
    "\n",
    "selector=ChiSqSelector(fwe=0.05, featuresCol=\"features\", outputCol=\"selectedFeatures\", labelCol= \"label\")\n",
    "model=selector.fit(train)\n",
    "result=model.transform(train)\n"
   ]
  },
  {
   "cell_type": "code",
   "execution_count": 81,
   "metadata": {},
   "outputs": [],
   "source": [
    "train = result.select('label','selectedFeatures').withColumnRenamed('selectedFeatures', 'features')"
   ]
  },
  {
   "cell_type": "code",
   "execution_count": 82,
   "metadata": {},
   "outputs": [],
   "source": [
    "new_test= model.transform(test)\n",
    "test=new_test.select('label','selectedFeatures').withColumnRenamed('selectedFeatures', 'features')"
   ]
  },
  {
   "cell_type": "code",
   "execution_count": 83,
   "metadata": {},
   "outputs": [
    {
     "name": "stdout",
     "output_type": "stream",
     "text": [
      "+-----+--------------------+\n",
      "|label|            features|\n",
      "+-----+--------------------+\n",
      "|  0.0|[174.433102127938...|\n",
      "|  0.0|[268.188480022892...|\n",
      "|  0.0|[278.771440597300...|\n",
      "|  0.0|[312.108949814051...|\n",
      "|  0.0|[319.529220420367...|\n",
      "|  0.0|[337.143704291778...|\n",
      "|  0.0|[350.856930326534...|\n",
      "|  0.0|[355.801234298552...|\n",
      "|  0.0|[357.765517922918...|\n",
      "|  0.0|[359.825601229593...|\n",
      "|  0.0|[366.747280005321...|\n",
      "|  0.0|[374.352647734368...|\n",
      "|  0.0|[376.623923825579...|\n",
      "|  0.0|[380.752326609337...|\n",
      "|  0.0|[402.720971071055...|\n",
      "|  0.0|[407.322910385764...|\n",
      "|  0.0|[408.955319636547...|\n",
      "|  0.0|[419.899631408692...|\n",
      "|  0.0|[431.815464667238...|\n",
      "|  0.0|[437.414240861686...|\n",
      "+-----+--------------------+\n",
      "only showing top 20 rows\n",
      "\n"
     ]
    }
   ],
   "source": [
    "train.show()"
   ]
  },
  {
   "cell_type": "code",
   "execution_count": 84,
   "metadata": {},
   "outputs": [
    {
     "name": "stdout",
     "output_type": "stream",
     "text": [
      "+-----+--------------------+\n",
      "|label|            features|\n",
      "+-----+--------------------+\n",
      "|  0.0|[263.169877111654...|\n",
      "|  0.0|[297.057129121742...|\n",
      "|  0.0|[344.472423346100...|\n",
      "|  0.0|[360.257783507319...|\n",
      "|  0.0|[375.814351487179...|\n",
      "|  0.0|[380.876129276615...|\n",
      "|  0.0|[392.551986501107...|\n",
      "|  0.0|[405.113188842400...|\n",
      "|  0.0|[421.768375442709...|\n",
      "|  0.0|[435.295463992565...|\n",
      "|  0.0|[438.824880345582...|\n",
      "|  0.0|[439.491229994906...|\n",
      "|  0.0|[449.899410335232...|\n",
      "|  0.0|[462.057387043392...|\n",
      "|  0.0|[468.052453142057...|\n",
      "|  0.0|[481.158976756092...|\n",
      "|  0.0|[492.437503710276...|\n",
      "|  0.0|[495.497024791874...|\n",
      "|  0.0|[509.046741140820...|\n",
      "|  0.0|[509.098065494723...|\n",
      "+-----+--------------------+\n",
      "only showing top 20 rows\n",
      "\n"
     ]
    }
   ],
   "source": [
    "test.show()"
   ]
  },
  {
   "cell_type": "markdown",
   "metadata": {},
   "source": [
    "### Modeling"
   ]
  },
  {
   "cell_type": "code",
   "execution_count": 67,
   "metadata": {},
   "outputs": [],
   "source": [
    "from pyspark.ml.classification import *\n",
    "from pyspark.ml.evaluation import *\n",
    "from pyspark.sql.functions import *\n",
    "from pyspark.ml.tuning import CrossValidator, ParamGridBuilder"
   ]
  },
  {
   "cell_type": "code",
   "execution_count": 68,
   "metadata": {},
   "outputs": [],
   "source": [
    "Bin_evaluator = BinaryClassificationEvaluator(rawPredictionCol='prediction')\n",
    "MC_evaluator = MulticlassClassificationEvaluator(metricName='accuracy')"
   ]
  },
  {
   "cell_type": "code",
   "execution_count": null,
   "metadata": {},
   "outputs": [],
   "source": []
  },
  {
   "cell_type": "markdown",
   "metadata": {},
   "source": [
    "### Logit (Chi-Square Numfeatures=30)"
   ]
  },
  {
   "cell_type": "code",
   "execution_count": 85,
   "metadata": {},
   "outputs": [
    {
     "name": "stdout",
     "output_type": "stream",
     "text": [
      "Intercept: [-0.009242875678356337,0.020275524800798847,-0.06245160350650632,0.005936647935919362,-0.044548688102964897,-0.05381043312135325,-0.04186767343469801,-0.04088533957696041,0.004407954890405198,0.018614209851969647,0.005169544133063518,-0.035221111040416496,0.09701869923521729,0.048565089444534845,-0.1179449554110924,-0.11038872485015684,0.07691062990307118,-0.004471441551330964,0.05504682704985812,0.07016035636980054,0.05032491347185782,0.0050735097183047095,0.0633289394690348]\n",
      "Coefficients: \n",
      "DenseMatrix([[ 4.78876952e-04,  2.20190749e-03,  6.74004731e-04, ...,\n",
      "              -9.86144192e-04, -2.87802266e-03,  1.90502050e-03],\n",
      "             [-3.01986676e-04, -1.87123916e-04,  5.50309715e-04, ...,\n",
      "               7.81005613e-05,  5.01164524e-03,  2.33890141e-03],\n",
      "             [-4.02051285e-04,  1.31591747e-03, -9.62905219e-04, ...,\n",
      "              -2.98637289e-04, -3.50270765e-03, -1.11857818e-03],\n",
      "             ...,\n",
      "             [-8.00116250e-05, -1.06721437e-03, -1.44114149e-04, ...,\n",
      "              -2.36008864e-03, -3.34755171e-03,  1.32472274e-03],\n",
      "             [-7.53372004e-06, -1.07940709e-03, -1.32519279e-04, ...,\n",
      "              -7.30581716e-04, -1.91799050e-03,  1.34488851e-03],\n",
      "             [ 1.21799346e-03,  4.01844608e-03,  1.81471953e-03, ...,\n",
      "              -1.51424379e-03, -9.62335524e-04,  2.68072470e-03]])\n",
      "38.38235294117647\n"
     ]
    }
   ],
   "source": [
    "classifier= LogisticRegression()\n",
    "\n",
    "paramGrid = (ParamGridBuilder().addGrid(classifier.maxIter, [10, 15,20]).build())\n",
    "\n",
    "crossval = CrossValidator(estimator=classifier,\n",
    "                         estimatorParamMaps=paramGrid,\n",
    "                         evaluator=MC_evaluator,\n",
    "                         numFolds=2)\n",
    "\n",
    "fitModel = crossval.fit(train)\n",
    "BestModel = fitModel.bestModel\n",
    "\n",
    "print('Intercept: ' +str(BestModel.interceptVector))\n",
    "print('Coefficients: \\n' + str(BestModel.coefficientMatrix))\n",
    "\n",
    "LR_BestModel = BestModel\n",
    "\n",
    "predictions=fitModel.transform(test)\n",
    "accuracy = (MC_evaluator.evaluate(predictions))*100\n",
    "\n",
    "print(accuracy)\n"
   ]
  },
  {
   "cell_type": "code",
   "execution_count": 86,
   "metadata": {},
   "outputs": [
    {
     "name": "stdout",
     "output_type": "stream",
     "text": [
      "+--------------------+--------------------+\n",
      "|             feature|               coeff|\n",
      "+--------------------+--------------------+\n",
      "|              1-ZCRm|4.788769520138203E-4|\n",
      "|           2-Energym|0.002201907487036...|\n",
      "|    3-EnergyEntropym| 6.74004731064034E-4|\n",
      "| 4-SpectralCentroidm|0.001343734357655...|\n",
      "|   5-SpectralSpreadm|-0.00257346817742...|\n",
      "|  6-SpectralEntropym|0.004486290922150862|\n",
      "|     7-SpectralFluxm|-0.00162001673964...|\n",
      "|  8-SpectralRolloffm|-1.40473422326634...|\n",
      "|           9-MFCCs1m|2.570777297381637E-4|\n",
      "|          10-MFCCs2m|-3.79841353508691...|\n",
      "|          11-MFCCs3m|-5.65760913370973...|\n",
      "|          12-MFCCs4m|7.406357429777259E-4|\n",
      "|          13-MFCCs5m|-5.32187599104464E-4|\n",
      "|          14-MFCCs6m|-0.00211449768997...|\n",
      "|          15-MFCCs7m|0.001438061757353...|\n",
      "|          16-MFCCs8m|-6.81665544685786...|\n",
      "|          17-MFCCs9m|-4.35372675781149...|\n",
      "|         18-MFCCs10m|-3.77582222991651E-4|\n",
      "|         19-MFCCs11m|-7.18112590707700...|\n",
      "|         20-MFCCs12m|-0.00131870786376...|\n",
      "|         21-MFCCs13m|-0.00157546907488...|\n",
      "|   22-ChromaVector1m|4.361289188572687E-4|\n",
      "|   23-ChromaVector2m|-0.00186804662178...|\n",
      "|   24-ChromaVector3m|-0.00250369105607...|\n",
      "|   25-ChromaVector4m|-0.00253959033925...|\n",
      "|   26-ChromaVector5m|-7.14637015411430...|\n",
      "|   27-ChromaVector6m|-0.00257997522608...|\n",
      "|   28-ChromaVector7m|-0.00105779175861...|\n",
      "|   29-ChromaVector8m|-0.00180398790365...|\n",
      "|   30-ChromaVector9m|-0.00163902687371...|\n",
      "|  31-ChromaVector10m|-8.94141499316448...|\n",
      "|  32-ChromaVector11m|-2.98701728003149...|\n",
      "|  33-ChromaVector12m|-6.58983920080834...|\n",
      "| 34-ChromaDeviationm|4.842151879298534E-4|\n",
      "|           35-ZCRstd|7.004266092682605E-4|\n",
      "|        36-Energystd|9.270667164241428E-4|\n",
      "| 37-EnergyEntropystd|0.001185198820734...|\n",
      "|38-SpectralCentro...|0.001139695393840404|\n",
      "|39-SpectralSpreadstd|8.333338090188506E-4|\n",
      "|40-SpectralEntrop...|-8.79205224576041...|\n",
      "|  41-SpectralFluxstd|6.116782265163182E-4|\n",
      "|42-SpectralRollof...|-0.00117439453647...|\n",
      "|        43-MFCCs1std|-5.22722871096329...|\n",
      "|        44-MFCCs2std|1.888543349314848E-4|\n",
      "|        45-MFCCs3std|1.288956387424985E-4|\n",
      "|        46-MFCCs4std|-2.83647790775655...|\n",
      "|        47-MFCCs5std|-0.00112994455476...|\n",
      "|        48-MFCCs6std|-9.86144191994076...|\n",
      "|        49-MFCCs7std|-0.00287802266166...|\n",
      "|        50-MFCCs8std|0.001905020497955285|\n",
      "+--------------------+--------------------+\n",
      "\n"
     ]
    }
   ],
   "source": [
    "\n",
    "coeff_array = BestModel.coefficientMatrix.toArray()\n",
    "coeff_scores = []\n",
    "for x in coeff_array[0]:\n",
    "    coeff_scores.append(float(x))\n",
    "\n",
    "result = spark.createDataFrame(zip(input_columns,coeff_scores), schema=['feature','coeff'])\n",
    "result.show(100)"
   ]
  },
  {
   "cell_type": "markdown",
   "metadata": {},
   "source": [
    "### One Vs Rest Classifier fwe"
   ]
  },
  {
   "cell_type": "code",
   "execution_count": 87,
   "metadata": {},
   "outputs": [
    {
     "name": "stdout",
     "output_type": "stream",
     "text": [
      "\u001b[1mIntercept: \u001b[0m -7.230345296001895 \u001b[1m\n",
      "Coefficients:\u001b[0m [-0.0003822747160879767,0.0019186682701427093,-0.00043106275692244694,0.001415724134810302,-0.0022626798648548063,0.005176478962829668,-0.0005610091379347402,0.001113838520038476,0.0009715397640712805,-0.0005778340460386026,-0.000418762408540694,0.0007260005992948349,-0.000608863610129233,-0.0038560644112862795,0.0023271717367162777,-0.0008810578164938316,0.0002868263611630986,0.000354846259489,0.0001714027313684638,-0.0026054693427441985,-0.00180319090199616,0.0007711781921724267,-0.0006138041724990344,-0.0025368317454799675,-0.001804024295402142,0.0004522022971485133,-0.0011539399063835042,-0.0007264979226675293,0.001675256186341068,-0.0013506810036383724,-0.0001511366405984553,0.0006764523216208652,-0.0011440551690364913,0.00037824966785758774,0.0001272256494350451,0.0008037896746527784,0.0010405946785223003,0.0011663393025095785,0.0015513204875612367,-0.0005911260285913582,0.0014557327779547863,-0.0011665408058357204,-0.00019971979941929425,-0.0009449976171097794,0.0004890437289985434,-8.372746874582516e-05,-0.0007632914029967602,-0.0012041660399629169,-0.004161350582728554,0.0020703575675469804]\n",
      "\u001b[1mIntercept: \u001b[0m -7.545329153684319 \u001b[1m\n",
      "Coefficients:\u001b[0m [-0.0013486416396265456,0.0011647603520965114,0.00022457590778007436,0.0013197181477807652,-0.0015706053153559055,-0.0007226651366208202,-0.0008080491805850953,0.0006954201870400208,-4.341937889517099e-05,-0.0004103926063684475,0.00014485273255613386,-0.0014857819010537544,-0.000380101579701476,-0.0017983975336661009,0.0008400585200629733,-0.0032216478418529244,-0.0034080892635442407,9.562601594557886e-05,-0.0013380413760640032,0.002852671485918333,-0.0003837530945163622,-0.001463270018378272,-0.0010045336817987574,-0.00017889576449172135,-0.00032837198715734463,0.0025905042024524393,-0.0004876080312629551,0.0007845355533918877,0.002760276061047042,0.0008900001111705712,0.0018309647550082866,0.0007588311630901533,0.001622978312490782,-0.0011779129793627323,-0.0009667670643346626,0.0003361627284039947,-0.000282554414933644,0.0017695195518448743,-0.0020902687401967907,0.0003687647267389518,-0.0020823622254841014,-0.0005752463598099493,0.001498905600980658,-0.0018821764255623201,0.00021645267007490925,0.0009035170005698882,0.00072993725584864,-0.0003246306371701507,0.0039607017814000615,0.003403419269359358]\n",
      "\u001b[1mIntercept: \u001b[0m -7.315535123912971 \u001b[1m\n",
      "Coefficients:\u001b[0m [-0.00036551703256182524,0.0025836008574018367,-0.0014554841255187334,-0.00041439040492585093,-0.0016471229712970111,0.00142525686097545,0.0011401689226562643,-3.987954424863151e-06,0.002527279002906871,-0.0020135706256784085,0.00034040204998254,-0.00011418792705364438,-0.00030348411992582797,-0.0009451596868976264,-0.001415716722037795,0.001020706025218229,-0.0001625579559868736,-0.0003334596364398852,-0.0010078091614711853,-0.0003898996642871386,0.0008989048654866376,0.0024381973606117102,-0.002892276900431302,0.0012738740397967338,0.0013738445855428476,0.0008754671184750089,-0.00034526458644585826,0.0008151690142078467,-0.0013313840003236854,-5.037283926327744e-05,-0.0007174333908257272,-0.0007604680927778982,9.277967820092935e-05,0.001355436440278562,0.002781062998660271,0.001077114542253598,9.927555974114361e-05,0.0009418630756575468,-0.0007899937807350827,0.0018564683344153112,-0.00031698555149412266,0.0008730299771975975,-0.00018472601232337666,0.002584135752722843,0.000668117897900141,-0.0006721929181450231,-0.000991063839665033,-0.0008774895970730628,-0.0034064669064765,-0.00044472151151071917]\n",
      "\u001b[1mIntercept: \u001b[0m 3.134056841860792 \u001b[1m\n",
      "Coefficients:\u001b[0m [-0.0020402505287087035,-9.877324844165954e-05,-0.0025605752421797474,-0.0009089452097969185,-0.001907472413031951,-0.005517742424884901,0.0034564438619747195,0.0007920606854525086,-0.0017726062704579448,-0.0014167496059727626,0.00032641834872659765,-0.0014461659983165287,-0.0008195854697699541,0.0013127875893477654,-0.0005132750893665385,-0.0008198095506485645,0.00022844603266135782,0.0011063782254498512,0.00024782968051532457,0.000183233232731395,9.13394620989921e-05,0.0013142226377841767,-0.0002368578362906087,0.002028788378468272,0.000261036462722945,0.00032447181078387955,-0.001969539189050281,0.0015377136467027326,-0.0032394505354672023,-0.0032714029116508027,-0.0007388213090640552,0.0005704889231055388,1.0024165323697777e-05,0.000272399391088909,-0.0004559895690280305,0.001013510261422418,0.0005041264191567861,-0.0005066100059567517,0.0005321117011993485,-0.00041185103115136304,0.002091962638994094,-0.000586866773853996,-0.0006962535123653002,0.0036381718817121065,0.0005784069425795208,0.0003062190058683594,-0.0007299081269665329,6.539466587503682e-05,-0.0037069834619184584,0.0012692666552164048]\n",
      "\u001b[1mIntercept: \u001b[0m -6.1594259349966345 \u001b[1m\n",
      "Coefficients:\u001b[0m [-0.00129453164976519,-0.00020846427989130084,0.0018180388480565728,0.0037896887154731974,-0.0013929259235831955,0.002148796242258041,0.0018461140660850882,0.0006166162929829926,-1.6818313214190197e-05,-0.0001589866320728462,-0.0008429622824131097,-0.00040492546594590907,-0.00023676906360302314,0.00040558286607474337,0.002193385348854538,0.0013975084210515799,0.0003265460386227343,-0.0009854889929585668,-0.00032915501364687305,0.0011341304978596685,-1.0829838757336934e-05,0.0017019704805856192,-0.0006975083665414002,-0.0007273357672039594,-0.0024345197529312417,0.0008051013586700561,-0.003728275507089974,0.001979031700091915,0.0037289910539747484,-0.0011245876410083393,-0.0009088980052320537,0.0004323691713135078,0.0008385504585840607,-0.0003598749824800996,-0.0015226902523331096,-0.001969069969306009,-0.0013777062720175305,-0.0005022474230183392,0.00045383641982348115,-0.0010440344284020383,0.0013874631154911935,0.0018666882451681068,0.0011870185764668022,-0.002393674477997831,0.0003402725342999602,-0.0006985450014686358,0.0007423595515440764,-0.0001563742120346195,0.003174289882176209,-0.008106312132447413]\n",
      "\u001b[1mIntercept: \u001b[0m -7.977312053624029 \u001b[1m\n",
      "Coefficients:\u001b[0m [0.0013940014343230267,0.002207000177744952,0.0020551524333310488,-0.0009046244858697266,-0.0027974034060349365,-0.0015781475769787814,-0.0030147430095172683,0.0004058492590571167,0.0005284751661891152,-0.0011001978932593946,0.0004194066116533361,-0.00017351375020981815,5.007692706883638e-05,-0.00020747116861765603,0.0035682003249226358,0.0012168491444972448,0.0008876511032247365,0.001130137408472494,-0.0005608133760992691,0.002592291301518208,0.0011769318145144752,0.0015281237885001854,-0.0013328755962760622,-0.0030869268310177002,-0.0024794796374425347,0.0006297444087717827,0.00022479209839235692,0.0005153783056516178,-0.0003534603533303955,0.002866958869728443,-0.00038394644478556057,0.000534779825845147,-0.00028235225231045,0.0007501939706350132,0.0006710290485646956,0.00045495560120222727,0.0006797362721717019,-0.0015021497083396278,-0.0001455536426753786,-0.0006990736656539146,0.0011439164594922316,-0.001780091367421969,-0.00028231987745964846,-0.0009610333091523592,0.0006106999236982838,0.0008240435212146419,-0.002703973024904064,0.000807127052042081,0.004306484144860594,-0.000605868424464553]\n",
      "\u001b[1mIntercept: \u001b[0m -7.958123889422137 \u001b[1m\n",
      "Coefficients:\u001b[0m [-0.0002213034543220126,0.0016013789273528099,0.00012175513420637315,-9.15650090803406e-05,-0.0017903389164758586,0.00504412213742094,-0.002596239484938176,0.0015412087013752028,0.0009647096615328116,-0.0018189525632874499,0.0001959289312631333,-9.942848452641705e-05,0.0005327276481230441,0.001003400468152,0.0006798825356772741,-0.00016712355765188727,-0.0014244996506717767,0.00020094393416968958,-0.0007730175723574969,-0.0013009979664203608,-0.0008183231316198299,0.0014934960399112208,0.0011085030008459126,-0.0008860063082288195,-0.0014284526048013268,1.3656428176389384e-06,-0.0003426643772100795,-0.0010088735723539277,0.0036872757275856673,0.0011634656406805974,0.001699460105621073,-0.0004362695143320617,-0.0010626208176346473,0.0006889667574822331,0.0010333515799423561,-0.0004954449383437594,-7.625660529144699e-05,-0.0014497109125257265,0.0008360633350863225,0.0006879543125672649,0.0012438071906131726,-0.0007024331422063563,-0.0015572168060892168,-0.0011745841059695064,0.0008735500612004105,0.0002975226675567325,-0.001649352839329309,6.64838922190298e-05,-0.0010592682097293352,0.0023750222259553986]\n",
      "\u001b[1mIntercept: \u001b[0m 1.89835369683832 \u001b[1m\n",
      "Coefficients:\u001b[0m [-0.0018577977309731171,-0.001077137694352597,-0.0018531264144813786,-0.00014612384592976995,-0.0029719141255161925,-0.00219523898788479,0.0013888298612100792,1.9745868170320476e-05,-0.0009097081895468347,-0.0005820693362569057,0.0003173622313466614,0.0016934567906872298,-0.00030261605874200217,0.0014086903353999097,-0.0014205517849343466,0.0004353331329361143,0.0019658960193426607,-0.0012522494554186043,0.00034807868184141475,-5.079232401877866e-05,-0.001476531798823518,0.00032752938724721874,0.0013834311752282018,-0.00014723874416418012,0.0011649333777781744,3.452918085669605e-05,0.0013475450861849601,-0.0012293376109019985,-0.0008086816836400234,0.00013886744683044746,-0.0013713933984604955,-0.001332452681267051,0.0017407022159140573,-0.0002775392327088806,-1.0573879808699341e-05,0.00028120344102435733,-0.0003762717869885265,0.0012314151694618684,-0.0015381558507448043,-9.732461047411895e-05,-0.0022759663082242785,-0.0021447393293333146,-6.997642974785355e-05,-0.003222438888025774,0.00026664089761315596,0.000185630724695398,-0.0013876352984049526,0.0012845421000381642,0.0016939587881933465,-0.0020327154390591836]\n",
      "\u001b[1mIntercept: \u001b[0m -4.705538479971854 \u001b[1m\n",
      "Coefficients:\u001b[0m [0.0004515674635239738,-0.0030806460960348617,-0.0013661035940464323,0.0008636250821904183,-0.0029431217501907406,-0.0008583754587504533,0.0014642983565979625,0.0030708541656721397,0.0012054509381181026,0.0002497704599266882,-0.00043660601848520005,0.000533824578607308,0.0009145854209716196,-0.0006592160421587302,-0.004112768026088757,0.0001065661723917851,0.0010940414009257041,-0.0015268731378142257,0.001875336387441562,-0.006294938481426589,-0.0005581274534037851,-0.0003474854660556453,0.0005995926610381852,-0.0010248797618158173,0.00031266981381599757,0.0021195610936270183,-0.0036212372397724,0.00020348363414099272,0.0005877194293740825,-0.0010328189583783582,0.0014105104775766057,-0.0016357011559257244,0.00198069168687539,0.00086328135773729,0.00044373753062479425,0.0007247702323045397,0.0007818222292684861,0.0009782208532454549,0.0010024704017747989,0.001664731339721249,0.000881235503491727,0.0006183725392042036,-0.00040109204576759596,-0.00010858015230936569,2.7694817052496274e-05,0.0016899662659282434,-0.00019295892217945955,0.0025686959968066435,-0.0019234412570790307,-0.0008986538322615814]\n",
      "\u001b[1mIntercept: \u001b[0m -7.627669223431867 \u001b[1m\n",
      "Coefficients:\u001b[0m [-0.0010603659000987546,0.004359097702182911,-0.0010373857656283216,-0.0019789659007504543,-0.0009179431577153668,0.005581906227831642,-0.0011050536395416067,8.658271904842768e-05,-0.0008752852975829706,-0.0025259500774291893,-0.0005828510789778872,-0.001376322885690263,0.00010827876040021837,0.0010488525157109079,-0.0005425627222557187,0.001001785725056352,-0.0007524700518886919,-0.0010003601363556835,0.00031834812508555133,-0.0008892400683957861,-0.00037299811103350453,0.001691661821731533,-0.0008740178513036653,0.001404711138565325,0.0004966569203774257,0.0013029460033697584,0.0016198316438368419,0.0005602955891594367,0.0027670565981310576,0.0004043953365654639,0.000513197427436918,-0.0017750519854680727,-0.0015264040504259875,0.00022194563895451536,-0.0008209044238919927,0.000380486643888904,0.0008890304230005365,0.0017215448075944704,-0.00154484352808546,0.0015883539007595087,0.0010761700252967723,0.0019991210024339055,0.0018234209660224262,0.0010430667353421347,0.0003060339600866976,-0.0026448851746481046,-0.0014540301623074687,-0.0003538526894660664,-0.002916637199173884,0.0021583447752629714]\n",
      "\u001b[1mIntercept: \u001b[0m -11.155277363859144 \u001b[1m\n",
      "Coefficients:\u001b[0m [-0.0007221510607803176,7.145501443198681e-05,-0.0005382334320809021,0.0006256041675588894,-0.0026128514110391097,0.0022644841136444526,-0.0008679427207413055,0.002394701856900798,-0.00045534651363470375,0.0008502969298641853,-0.0005610731846721388,0.001184235692400234,0.0002727371644353726,-0.00038570169973549964,-0.0002478076281278232,5.454301435316016e-05,0.0008441895213136062,0.0006490823281881524,0.0009426475156636602,0.001612927291199683,0.0014936187234101661,-0.0004276365343000063,-0.00012303983690542915,-1.4661956058296566e-05,8.451172728370316e-05,0.0006150779686441828,0.0005031734310081753,-0.0006392760743230158,0.002106718463333332,0.001559503781992834,-0.0013938003316256724,-0.0010302875369618142,0.001750092729627696,0.0018952445947981776,0.0008569783849660471,2.0371600118914935e-05,0.0014562225292642354,-0.0005806385531224361,0.00516857847101348,-0.0002046192531659275,0.0007004395164726567,-9.24290404529078e-05,0.00031960260763199793,-0.002875011651364633,-0.0009857736618389742,-0.00013995558944885332,0.001262245966253657,0.0007343202332213061,0.0033039780628376716,-0.002924471560181654]\n",
      "\u001b[1mIntercept: \u001b[0m -6.64132015007045 \u001b[1m\n",
      "Coefficients:\u001b[0m [0.0003226052302336963,0.0013828296571407254,7.408952655273231e-05,0.0023721261778421876,0.00034036240048032054,0.004398732634479289,0.0005226494291844946,-0.0018915067611766543,-0.0012593286079261939,0.0026786885146846766,0.00066921375685057,0.0006370875188819417,-0.002620291856049549,-0.002854171476989222,-0.0018231585192452985,0.0011104345886054404,0.00015918974743731686,-0.0004321707262484592,-0.0006949289712586127,-0.0006401921094878831,-7.877135100175236e-05,-0.0003950151161287646,-0.0008326976953167862,-0.001562106956355158,-0.0022620104452888224,-0.0010168814016766068,-0.001785509269134188,-0.0011376005394349124,-0.0037927119604602125,-0.000884935448823949,0.00114428942859198,-0.00010496956529037414,0.0015190256783353447,-0.0008038289626192398,-0.0003590173856478273,0.0017949555740678419,-6.992414522158282e-05,-0.001428249028809165,-0.002764896076674662,-0.00026645657581801153,0.00044980758113789593,-0.001519444596296103,-0.00028748486335552104,0.004013983161299839,-0.0010229878611553568,-0.000334374034640646,-0.0009544409836038678,0.0026255579028507943,0.0013981717270480532,0.001194236254638366]\n",
      "\u001b[1mIntercept: \u001b[0m 7.938317506043093 \u001b[1m\n",
      "Coefficients:\u001b[0m [0.0016396118034524055,-0.0020384247524924044,0.0004903119749111726,0.00010948303282136537,0.003451603593478388,-0.001654108323328733,-0.001675944616489959,-0.0009596022077984911,0.0009497787580887231,0.0023350711796207377,-0.0016231582267828579,-0.0015386568218043427,0.00048650521594741054,-0.00406129691890162,-0.001175839841748757,-0.0024439201182042416,-0.00351961444583526,-0.001201321399476097,-0.0026275416920983415,0.001030039555300824,0.00033794934010271014,-2.483885972381003e-05,-0.0018565651768540537,0.0018568066503612253,-0.0007629460025915133,-0.0013422670418006583,-0.003150790802519901,-0.0015258942556558536,-0.002679406273612511,0.0023443496442587864,-0.0006029626211878102,-0.0005576442698845324,-0.002579677971637794,-0.0012266827213171633,-0.002704174428031168,-0.0021211911551565275,-0.0016031132075988114,-0.0032759780093002174,0.00020428498844500033,-0.0022491364840890736,-0.0008195665638104395,-0.0004374792333235552,-0.0004499064367726818,-0.0009302769715641121,-0.0017350371859827488,-0.002915095026245542,0.0010484140665117233,-0.003296660943466451,-0.002030932125208163,0.0018477754693619975]\n",
      "\u001b[1mIntercept: \u001b[0m -4.751533977733034 \u001b[1m\n",
      "Coefficients:\u001b[0m [0.0006580824352671598,0.002527153520958608,-5.199326204764743e-05,-0.002797022830557653,-0.0018608861624224895,-0.0005244657009607374,-0.004174464343207025,-0.00024358666737639957,-0.0021148118130617836,0.0008140536129324418,-0.0009448527023897131,0.0014591966944290395,-0.00038689968525620975,-0.0005511869225756531,0.0023154593303546275,-0.0032351477503994204,0.00029620887780866496,0.0030420850150938584,-0.0025341995644974085,0.0007398613383292771,-0.0014735757253849725,0.003387162481208747,-0.0010405949517107306,0.0002145483495217837,-6.296181978795796e-05,0.0005256908941733891,-0.0004974551748308659,-0.0006928172080647905,-0.0013832527607469524,0.0004774723951417851,0.0014003563873540047,0.0011831748882826392,0.0019090564946205432,-2.0642548202455425e-05,-0.0006870911592493861,0.0008545505405202728,0.0011552631725403307,0.002399917497605468,-0.002761376776367043,-0.0020398049373407533,0.0008414403158739996,0.00091990345665505,-0.0019861334246610934,0.0014118260977268114,0.000299089662724122,0.0005564300204527661,-0.00015016191966403346,-0.003079727804592968,0.004063228929095372,-0.0008029108426132219]\n",
      "\u001b[1mIntercept: \u001b[0m -5.394759590257814 \u001b[1m\n",
      "Coefficients:\u001b[0m [0.0006705377489559383,4.798068480324179e-05,-0.00011801384321770525,-0.001363436841561446,-0.0007335735988109092,0.0012012930103772455,-2.5050706438299873e-07,0.0021039327740034405,3.807186238510647e-05,0.0006441086099213411,-0.002553535496424303,-0.0005090668838854872,0.0004679580609845656,-0.0018993319336879449,-0.0008439289321878853,0.001853285171476958,4.225933265535203e-05,-0.0004543074244562818,0.0007291556132724727,-0.0005218691472024333,0.002204944249959413,0.0004998063893982061,-0.0006852378213070606,0.0013607873068141071,-0.0015532970773261998,0.0011092286115146875,7.671163381311543e-05,0.00034966297531705275,0.0007776345038409488,-0.0011322996664858383,0.002351182428669402,0.00045378273829827827,-0.001456124625586043,0.000804493827384503,-0.0006462262718758023,0.0009082123823252888,0.00025132241989617166,0.0001646219834533758,-0.0009520952521918643,0.0031203791394939714,0.000600599663828818,0.0012332518494996183,-9.182467843668665e-05,-5.498130894733496e-05,0.0009379157968762752,-9.978060755361555e-05,0.00025054307780286153,-0.001089448074452238,-0.005455110605177561,0.0020417834425530187]\n",
      "\u001b[1mIntercept: \u001b[0m -3.892203178711859 \u001b[1m\n",
      "Coefficients:\u001b[0m [-0.00019126145083155774,-0.0027408705167374617,-0.0009424767951739873,3.717885883593953e-05,-0.003166602530050305,-0.0006253855336342893,0.001005732225937521,0.0013263783599959456,-0.0005852685255020358,0.0003404339898688561,0.0011915590883538657,0.0006831986238569969,-0.0001503076938276776,0.0009474545457840964,4.490147162593024e-05,-8.156251387300817e-05,-0.00026093248022422347,-0.0007666100756669451,0.0016779894980593665,-0.002463548883572462,-0.0006620838393830143,0.000492021162011004,0.003539509382405939,-0.0008229984258148935,0.0025059067647322064,0.0005346172294212314,-0.0032308972119600883,-0.0007031098741350636,-0.00023250882708213708,-8.561496302592058e-05,-0.0033729683019651296,0.0007585580857541241,-0.00018418241501628617,-0.0011560939152158451,0.00022995536416472111,-0.00032888717771672446,0.0008879336524218469,0.0012144871190707506,0.0010858078674440303,0.0004571369312615159,0.00046088095228997896,0.0029545946128046573,-0.00026130131098665323,0.0029881076122257903,0.00025447808249670666,-0.00044276111997279457,2.9072174658016773e-06,0.002159070965513586,-0.00044892380494584826,0.0002983484777582928]\n",
      "\u001b[1mIntercept: \u001b[0m -2.7651336152018606 \u001b[1m\n",
      "Coefficients:\u001b[0m [-0.0008079422726803362,-0.0004912948065455082,-0.00037346962607991824,-0.001317881454497154,0.003886516277219683,-0.002181225693921007,0.0011410975662649076,-0.001328038400766582,0.0002640811737969068,3.3442283849663286e-05,-0.0005172770811185822,0.000606894494714553,-0.0004191159183164597,0.0022551553000475337,-0.0018869391376109318,0.0016015833012283404,-0.0007542288780400313,0.0003508017608140054,0.0003770470233720353,0.0013091917015603945,-0.00018105894658641881,-0.001794277441212695,0.0009038650220148668,0.0018502423580901838,0.0019948747074320047,0.0007788277578826259,0.004002227705489207,0.0006090281159041373,0.002734837045343068,0.0017032698638702176,0.00019148672420687507,0.0008320700039850907,0.00038964346561344034,0.0005398546010904265,-0.0011536391172995368,-0.002379665369331031,-0.0008383379038653192,-0.0029388105146952743,4.694496612524703e-05,-0.002575462688776524,0.000720943788317639,0.0003223713091971232,-0.0019637547617629594,-0.001121632869526307,0.0003620910066920815,-4.290898141763247e-05,0.0003786423599462533,-0.0023076010807460572,-0.0019900321437003733,0.0016212003691247329]\n",
      "\u001b[1mIntercept: \u001b[0m 0.17709149262657817 \u001b[1m\n",
      "Coefficients:\u001b[0m [-0.0022330198421302394,-0.0015149492390088002,-0.0016525203476373046,0.0004980586329532641,-0.0014825764305119024,-0.0008098062099680436,0.003277524114746441,-0.004077034221867439,0.0013132421554988979,-0.00024668449124311655,0.00014063409446871946,-0.001135458437361479,-0.0012042856603204097,-0.0006129730846518742,0.0013748712876157367,-0.000755749015615949,0.0018728463685175711,0.0009359546548990464,0.0025396799115038966,-0.0008039560561794984,0.0006027595732206431,0.0013366488315463344,5.1451178036195594e-05,0.0019162321762149573,0.000536446333737272,0.0005437116526807917,0.0006865156094774763,0.0009944628800667634,-0.008967273083577577,-0.0011931667905981647,-0.0016870448190746342,-0.0018571589379222213,-0.0010997212866899512,0.0003871525203650061,0.001019105471238616,-0.00018883581483336193,-0.0007901756520425385,0.001497867232017786,-0.0008800227082986814,0.0008167446612581397,0.0010087429408686946,-0.0006322161251156005,0.0006075006667938335,-1.7164229914980047e-05,0.0014480084453470173,0.0019304843662218503,0.0007217580272405831,-0.001258443224655056,-0.002262209247805468,0.0009074471135336688]\n",
      "\u001b[1mIntercept: \u001b[0m 2.860711289309809 \u001b[1m\n",
      "Coefficients:\u001b[0m [-0.0013522505744606437,-0.0012849196940020926,-0.0010871111153836338,-0.0010353523223927648,0.0030529661349882956,0.001575944577551539,-0.0010707464782493043,-0.005709288003651811,0.0001295388826549903,-0.00021546578061251712,-0.0009815941295386245,-0.0013786397360142397,-0.00022521145334027066,0.0012598050924255697,-5.229110171530682e-05,-0.002852811860358534,0.00012552379377091878,0.0010136640473561683,0.00011131205563079495,-0.004232944126356847,-0.002096981647838212,0.00026129035932584774,0.0001738629065996952,-0.002117870236425224,-0.00022871018960426748,7.528284319615052e-05,0.0014227780544759175,-0.0005837467813796928,-0.0004328229662978721,-0.0009201562330394167,-0.0011813264328155175,-2.7628119241993623e-05,-0.00030888706221010234,-0.0019392056070178568,-0.0013292141004812763,-0.0018605655486224895,-0.0021103387972460914,-0.002916181321274725,-0.0024247181727615895,0.0013411345681414873,-0.0007409703963847151,-0.0011406814399803128,0.00020182584004526353,0.001192722734041514,0.000166326779724525,0.0002653309602678535,0.001982450279286537,0.003774888440765059,0.002067268989238097,0.006860857445538225]\n",
      "\u001b[1mIntercept: \u001b[0m -6.217810400787563 \u001b[1m\n",
      "Coefficients:\u001b[0m [-0.0010685450567204755,-0.00033523356003190664,-0.001442737936483682,-0.00010639450870516408,-0.002410601268582886,-0.0011981549028998828,-0.0020461377965816253,0.0003596596969796342,0.0007762412540082778,0.0009287421658718497,0.0021082925830258033,-0.0009735809673288578,0.0002787288540588464,-0.0016659428645141043,0.0011446522580735618,0.0018246504342968497,-0.0006628089261178805,0.0018412227107561434,0.001340330857354857,0.0017892950914950231,0.00022282001919641842,-0.0038448396245271007,0.000880290893247094,-0.0005625130385196086,0.0032090323943998354,-0.0011369197182629488,-0.005276858211825423,-0.0003775702931031371,-0.002645267018440733,0.0015391286102116588,0.000492440272144176,0.003605934077433438,0.00115463649468085,0.0008451453536966924,0.0013146191420633116,-0.0001115535830683144,0.0014597888722903572,0.0027010204053552634,-0.0007100871553058932,-0.0019135709028089338,-0.0004015392045389566,-0.0014717684764231002,0.0004540355213221533,0.0023513570789559348,-0.0009542431696699525,-0.001631011781582235,0.002559470437970065,0.002188919036744117,0.0006037830073090466,-0.003062274224636696]\n",
      "\u001b[1mIntercept: \u001b[0m -4.129828776922082 \u001b[1m\n",
      "Coefficients:\u001b[0m [-0.00031288319199026274,0.00019286444989261345,-0.0001512670935500809,0.00017544978332390297,2.9094845442427335e-07,-0.0014470396137596475,0.0006956279239723452,0.0025848140534429093,0.0007361274997540805,-0.0007251206466900135,0.0007915215408303089,0.0007794837423294519,-0.0007588406218206287,0.0008084329109563971,-0.00018698487831153666,0.0011976078636229503,0.00015149474415101485,-0.0017504056070427735,-0.00033282718996960505,0.0004774790294949051,0.0021296780868347845,0.00012285461227015064,0.0010458933155295498,0.0021066425110381664,-0.0012181372998907535,0.00043319353663510106,0.0011102189109180624,0.0008988013650927907,0.001903397240935884,-5.9504305623486274e-05,-9.897693848889087e-05,0.0007437296085816388,0.00020770613102716678,-0.0023455047542015003,-0.0001302054780585986,-0.0003679091595137392,0.0001352702380708327,0.0006322930254861987,0.0015096511958053419,0.0003378422233295807,-0.0008521744687347839,0.0004100581455612477,-0.0011703787608190732,-0.000839415591358045,-0.0020836763527995396,0.0014441198311013377,-0.0016385313970604394,-0.0032023480633345384,-0.0040365345438144965,0.001555183264101646]\n",
      "\u001b[1mIntercept: \u001b[0m -3.098876336539958 \u001b[1m\n",
      "Coefficients:\u001b[0m [0.00022039233926906526,-0.0009064012756761261,0.0002596403428884266,0.00016290953438599813,0.0003550880241528255,0.00010871995340449974,0.001364689546702595,-0.00045558161220810446,0.0015139138686146073,-0.0002580850008537146,-0.001372872596850631,0.0005728954531808157,0.0014001983207228967,0.00046232967352655786,0.0011946626383910908,0.0012041893444295862,-0.0014565645466446376,2.4068610666052733e-05,-0.0005276911042448366,-0.0004922800305424559,-0.000611135443880022,0.0021584428435031224,-2.3855096426024166e-05,0.0010723722899325487,6.203770964928702e-05,1.2456607300152548e-05,0.0015506750769704995,0.001243129802129733,-0.0017413193809525667,0.0005100089153265675,0.0007201976884865948,-0.0013944119485228466,-0.0006074136457556386,-0.0018093869310677052,-0.0008665288461633829,-0.0013080644354756343,-0.0003454417582897921,-0.0010955734430232265,0.0015409813883790118,-0.001676452376265185,-0.0018275403386628507,-0.0005819950753290105,0.0013251489583750197,-0.00491848307147196,0.0004082726081053353,0.0018415567945961585,0.00037101012002582767,-0.0008047452992207102,-0.0021713822211347506,0.0010544834243968275]\n",
      "\u001b[1mIntercept: \u001b[0m 0.17947632823291432 \u001b[1m\n",
      "Coefficients:\u001b[0m [0.0002156534669802939,0.0014590105003701953,0.0010111432259006326,0.0025063895632659295,0.0008337998324491562,0.0006419189006751791,-0.0008172441818757273,-0.00039235372364642665,0.0002447963405586464,-0.002080816933271285,0.0010675851225791144,-0.0007565647114539593,0.0025413786646390794,0.001816075355976847,-0.0019393374944249556,0.0020225817619674343,-0.00037628843316463243,0.0006400523785571387,-0.0005665727013768338,-0.0009265476475141349,-0.0012132891465893845,-0.004773469298135476,-0.002012700538286083,-0.0024419830927675627,-0.0029597723863484214,-0.0010708342339052705,0.001486476553822511,-0.0008012508728417988,-0.002642360927478536,-0.0023519421815925055,-0.0033597770636197687,-0.002626533963204944,-0.0033341290685327553,0.0002637269096442378,-0.00047128443153492475,-0.001087935295974314,-0.00043945815281133395,0.00036357042660982116,0.0018448950245710828,-0.0008843331460103108,-0.000984982623118469,0.002383223217302353,-5.98818128020703e-05,-0.0033479134864068862,-0.00018554750850076799,2.478878445198075e-05,0.0021241091332495307,0.000158644396316606,-0.002157330836607719,0.0015473132414426905]\n"
     ]
    },
    {
     "name": "stdout",
     "output_type": "stream",
     "text": [
      "40.14705882352941\n"
     ]
    }
   ],
   "source": [
    "lr = LogisticRegression()\n",
    "classifier = OneVsRest(classifier = lr)\n",
    "\n",
    "paramGrid = ParamGridBuilder()\\\n",
    "    .addGrid(lr.regParam,[0.1,0.01]) \\\n",
    "    .build()\n",
    "\n",
    "crossval=CrossValidator(estimator=classifier,\n",
    "                       estimatorParamMaps=paramGrid,\n",
    "                       evaluator=MulticlassClassificationEvaluator(),\n",
    "                       numFolds=2)\n",
    "\n",
    "fitModel=crossval.fit(train)\n",
    "\n",
    "BestModel = fitModel.bestModel\n",
    "\n",
    "models= BestModel.models\n",
    "for model in models:\n",
    "    print('\\033[1m' + 'Intercept: '+ '\\033[0m',model.intercept,'\\033[1m' + '\\nCoefficients:'+ '\\033[0m',model.coefficients)\n",
    "\n",
    "predictions=fitModel.transform(test)\n",
    "accuracy=(MC_evaluator.evaluate(predictions))*100\n",
    "print(accuracy)"
   ]
  },
  {
   "cell_type": "markdown",
   "metadata": {},
   "source": [
    "### Multilayer Perceptron Classifier fwe"
   ]
  },
  {
   "cell_type": "code",
   "execution_count": 90,
   "metadata": {},
   "outputs": [
    {
     "name": "stdout",
     "output_type": "stream",
     "text": [
      "\u001b[1mModel Weights: \u001b[0m 6374\n",
      "Accuracy:  12.941176470588237\n"
     ]
    }
   ],
   "source": [
    "features = train.select(['features']).collect()\n",
    "features_count = len(features[0][0])\n",
    "class_count=final_data.select(countDistinct('label')).collect()\n",
    "classes = class_count[0][0]\n",
    "\n",
    "layers = [features_count, features_count+1, features_count, classes]\n",
    "\n",
    "classifier = MultilayerPerceptronClassifier(maxIter=100, layers=layers, blockSize=128, seed= 1234)\n",
    "\n",
    "fitModel = classifier.fit(train)\n",
    "\n",
    "print('\\033[1m' + \"Model Weights: \"+ '\\033[0m',fitModel.weights.size)\n",
    "\n",
    "\n",
    "predictions = fitModel.transform(test)\n",
    "\n",
    "accuracy = (MC_evaluator.evaluate(predictions))*100\n",
    "\n",
    "print(\"Accuracy: \",accuracy)"
   ]
  },
  {
   "cell_type": "markdown",
   "metadata": {},
   "source": [
    "### NaiveBayes"
   ]
  },
  {
   "cell_type": "code",
   "execution_count": 91,
   "metadata": {},
   "outputs": [
    {
     "name": "stdout",
     "output_type": "stream",
     "text": [
      "Accuracy:  33.38235294117647\n"
     ]
    }
   ],
   "source": [
    "classifier= NaiveBayes()\n",
    "paramGrid = (ParamGridBuilder()\\\n",
    "             .addGrid(classifier.smoothing, [0.0,0.2,0.4,0.6])\\\n",
    "             .build())\n",
    "crossval = CrossValidator(estimator=classifier,\n",
    "                         estimatorParamMaps = paramGrid,\n",
    "                         evaluator= MulticlassClassificationEvaluator(),\n",
    "                         numFolds=2)\n",
    "\n",
    "fitModel = crossval.fit(train)\n",
    "\n",
    "predictions = fitModel.transform(test)\n",
    "accuracy = (MC_evaluator.evaluate(predictions))*100\n",
    "print(\"Accuracy: \",accuracy)"
   ]
  },
  {
   "cell_type": "markdown",
   "metadata": {},
   "source": [
    "### Decision Tree"
   ]
  },
  {
   "cell_type": "code",
   "execution_count": 92,
   "metadata": {},
   "outputs": [
    {
     "ename": "IllegalArgumentException",
     "evalue": "Feature 0 is marked as Nominal (categorical), but it does not have the number of values specified.",
     "output_type": "error",
     "traceback": [
      "\u001b[0;31m---------------------------------------------------------------------------\u001b[0m",
      "\u001b[0;31mIllegalArgumentException\u001b[0m                  Traceback (most recent call last)",
      "\u001b[0;32m<ipython-input-92-966d68ad1d16>\u001b[0m in \u001b[0;36m<module>\u001b[0;34m\u001b[0m\n\u001b[1;32m     10\u001b[0m                          numFolds=2)\n\u001b[1;32m     11\u001b[0m \u001b[0;34m\u001b[0m\u001b[0m\n\u001b[0;32m---> 12\u001b[0;31m \u001b[0mfitModel\u001b[0m \u001b[0;34m=\u001b[0m \u001b[0mcrossval\u001b[0m\u001b[0;34m.\u001b[0m\u001b[0mfit\u001b[0m\u001b[0;34m(\u001b[0m\u001b[0mtrain\u001b[0m\u001b[0;34m)\u001b[0m\u001b[0;34m\u001b[0m\u001b[0;34m\u001b[0m\u001b[0m\n\u001b[0m\u001b[1;32m     13\u001b[0m \u001b[0;34m\u001b[0m\u001b[0m\n\u001b[1;32m     14\u001b[0m \u001b[0mBestModel\u001b[0m \u001b[0;34m=\u001b[0m \u001b[0mfitModel\u001b[0m\u001b[0;34m.\u001b[0m\u001b[0mbestModel\u001b[0m\u001b[0;34m\u001b[0m\u001b[0;34m\u001b[0m\u001b[0m\n",
      "\u001b[0;32m~/anaconda3/lib/python3.7/site-packages/pyspark/ml/base.py\u001b[0m in \u001b[0;36mfit\u001b[0;34m(self, dataset, params)\u001b[0m\n\u001b[1;32m    127\u001b[0m                 \u001b[0;32mreturn\u001b[0m \u001b[0mself\u001b[0m\u001b[0;34m.\u001b[0m\u001b[0mcopy\u001b[0m\u001b[0;34m(\u001b[0m\u001b[0mparams\u001b[0m\u001b[0;34m)\u001b[0m\u001b[0;34m.\u001b[0m\u001b[0m_fit\u001b[0m\u001b[0;34m(\u001b[0m\u001b[0mdataset\u001b[0m\u001b[0;34m)\u001b[0m\u001b[0;34m\u001b[0m\u001b[0;34m\u001b[0m\u001b[0m\n\u001b[1;32m    128\u001b[0m             \u001b[0;32melse\u001b[0m\u001b[0;34m:\u001b[0m\u001b[0;34m\u001b[0m\u001b[0;34m\u001b[0m\u001b[0m\n\u001b[0;32m--> 129\u001b[0;31m                 \u001b[0;32mreturn\u001b[0m \u001b[0mself\u001b[0m\u001b[0;34m.\u001b[0m\u001b[0m_fit\u001b[0m\u001b[0;34m(\u001b[0m\u001b[0mdataset\u001b[0m\u001b[0;34m)\u001b[0m\u001b[0;34m\u001b[0m\u001b[0;34m\u001b[0m\u001b[0m\n\u001b[0m\u001b[1;32m    130\u001b[0m         \u001b[0;32melse\u001b[0m\u001b[0;34m:\u001b[0m\u001b[0;34m\u001b[0m\u001b[0;34m\u001b[0m\u001b[0m\n\u001b[1;32m    131\u001b[0m             raise ValueError(\"Params must be either a param map or a list/tuple of param maps, \"\n",
      "\u001b[0;32m~/anaconda3/lib/python3.7/site-packages/pyspark/ml/tuning.py\u001b[0m in \u001b[0;36m_fit\u001b[0;34m(self, dataset)\u001b[0m\n\u001b[1;32m    356\u001b[0m \u001b[0;34m\u001b[0m\u001b[0m\n\u001b[1;32m    357\u001b[0m             \u001b[0mtasks\u001b[0m \u001b[0;34m=\u001b[0m \u001b[0m_parallelFitTasks\u001b[0m\u001b[0;34m(\u001b[0m\u001b[0mest\u001b[0m\u001b[0;34m,\u001b[0m \u001b[0mtrain\u001b[0m\u001b[0;34m,\u001b[0m \u001b[0meva\u001b[0m\u001b[0;34m,\u001b[0m \u001b[0mvalidation\u001b[0m\u001b[0;34m,\u001b[0m \u001b[0mepm\u001b[0m\u001b[0;34m,\u001b[0m \u001b[0mcollectSubModelsParam\u001b[0m\u001b[0;34m)\u001b[0m\u001b[0;34m\u001b[0m\u001b[0;34m\u001b[0m\u001b[0m\n\u001b[0;32m--> 358\u001b[0;31m             \u001b[0;32mfor\u001b[0m \u001b[0mj\u001b[0m\u001b[0;34m,\u001b[0m \u001b[0mmetric\u001b[0m\u001b[0;34m,\u001b[0m \u001b[0msubModel\u001b[0m \u001b[0;32min\u001b[0m \u001b[0mpool\u001b[0m\u001b[0;34m.\u001b[0m\u001b[0mimap_unordered\u001b[0m\u001b[0;34m(\u001b[0m\u001b[0;32mlambda\u001b[0m \u001b[0mf\u001b[0m\u001b[0;34m:\u001b[0m \u001b[0mf\u001b[0m\u001b[0;34m(\u001b[0m\u001b[0;34m)\u001b[0m\u001b[0;34m,\u001b[0m \u001b[0mtasks\u001b[0m\u001b[0;34m)\u001b[0m\u001b[0;34m:\u001b[0m\u001b[0;34m\u001b[0m\u001b[0;34m\u001b[0m\u001b[0m\n\u001b[0m\u001b[1;32m    359\u001b[0m                 \u001b[0mmetrics\u001b[0m\u001b[0;34m[\u001b[0m\u001b[0mj\u001b[0m\u001b[0;34m]\u001b[0m \u001b[0;34m+=\u001b[0m \u001b[0;34m(\u001b[0m\u001b[0mmetric\u001b[0m \u001b[0;34m/\u001b[0m \u001b[0mnFolds\u001b[0m\u001b[0;34m)\u001b[0m\u001b[0;34m\u001b[0m\u001b[0;34m\u001b[0m\u001b[0m\n\u001b[1;32m    360\u001b[0m                 \u001b[0;32mif\u001b[0m \u001b[0mcollectSubModelsParam\u001b[0m\u001b[0;34m:\u001b[0m\u001b[0;34m\u001b[0m\u001b[0;34m\u001b[0m\u001b[0m\n",
      "\u001b[0;32m~/anaconda3/lib/python3.7/multiprocessing/pool.py\u001b[0m in \u001b[0;36mnext\u001b[0;34m(self, timeout)\u001b[0m\n\u001b[1;32m    746\u001b[0m         \u001b[0;32mif\u001b[0m \u001b[0msuccess\u001b[0m\u001b[0;34m:\u001b[0m\u001b[0;34m\u001b[0m\u001b[0;34m\u001b[0m\u001b[0m\n\u001b[1;32m    747\u001b[0m             \u001b[0;32mreturn\u001b[0m \u001b[0mvalue\u001b[0m\u001b[0;34m\u001b[0m\u001b[0;34m\u001b[0m\u001b[0m\n\u001b[0;32m--> 748\u001b[0;31m         \u001b[0;32mraise\u001b[0m \u001b[0mvalue\u001b[0m\u001b[0;34m\u001b[0m\u001b[0;34m\u001b[0m\u001b[0m\n\u001b[0m\u001b[1;32m    749\u001b[0m \u001b[0;34m\u001b[0m\u001b[0m\n\u001b[1;32m    750\u001b[0m     \u001b[0m__next__\u001b[0m \u001b[0;34m=\u001b[0m \u001b[0mnext\u001b[0m                    \u001b[0;31m# XXX\u001b[0m\u001b[0;34m\u001b[0m\u001b[0;34m\u001b[0m\u001b[0m\n",
      "\u001b[0;32m~/anaconda3/lib/python3.7/multiprocessing/pool.py\u001b[0m in \u001b[0;36mworker\u001b[0;34m(inqueue, outqueue, initializer, initargs, maxtasks, wrap_exception)\u001b[0m\n\u001b[1;32m    119\u001b[0m         \u001b[0mjob\u001b[0m\u001b[0;34m,\u001b[0m \u001b[0mi\u001b[0m\u001b[0;34m,\u001b[0m \u001b[0mfunc\u001b[0m\u001b[0;34m,\u001b[0m \u001b[0margs\u001b[0m\u001b[0;34m,\u001b[0m \u001b[0mkwds\u001b[0m \u001b[0;34m=\u001b[0m \u001b[0mtask\u001b[0m\u001b[0;34m\u001b[0m\u001b[0;34m\u001b[0m\u001b[0m\n\u001b[1;32m    120\u001b[0m         \u001b[0;32mtry\u001b[0m\u001b[0;34m:\u001b[0m\u001b[0;34m\u001b[0m\u001b[0;34m\u001b[0m\u001b[0m\n\u001b[0;32m--> 121\u001b[0;31m             \u001b[0mresult\u001b[0m \u001b[0;34m=\u001b[0m \u001b[0;34m(\u001b[0m\u001b[0;32mTrue\u001b[0m\u001b[0;34m,\u001b[0m \u001b[0mfunc\u001b[0m\u001b[0;34m(\u001b[0m\u001b[0;34m*\u001b[0m\u001b[0margs\u001b[0m\u001b[0;34m,\u001b[0m \u001b[0;34m**\u001b[0m\u001b[0mkwds\u001b[0m\u001b[0;34m)\u001b[0m\u001b[0;34m)\u001b[0m\u001b[0;34m\u001b[0m\u001b[0;34m\u001b[0m\u001b[0m\n\u001b[0m\u001b[1;32m    122\u001b[0m         \u001b[0;32mexcept\u001b[0m \u001b[0mException\u001b[0m \u001b[0;32mas\u001b[0m \u001b[0me\u001b[0m\u001b[0;34m:\u001b[0m\u001b[0;34m\u001b[0m\u001b[0;34m\u001b[0m\u001b[0m\n\u001b[1;32m    123\u001b[0m             \u001b[0;32mif\u001b[0m \u001b[0mwrap_exception\u001b[0m \u001b[0;32mand\u001b[0m \u001b[0mfunc\u001b[0m \u001b[0;32mis\u001b[0m \u001b[0;32mnot\u001b[0m \u001b[0m_helper_reraises_exception\u001b[0m\u001b[0;34m:\u001b[0m\u001b[0;34m\u001b[0m\u001b[0;34m\u001b[0m\u001b[0m\n",
      "\u001b[0;32m~/anaconda3/lib/python3.7/site-packages/pyspark/ml/tuning.py\u001b[0m in \u001b[0;36m<lambda>\u001b[0;34m(f)\u001b[0m\n\u001b[1;32m    356\u001b[0m \u001b[0;34m\u001b[0m\u001b[0m\n\u001b[1;32m    357\u001b[0m             \u001b[0mtasks\u001b[0m \u001b[0;34m=\u001b[0m \u001b[0m_parallelFitTasks\u001b[0m\u001b[0;34m(\u001b[0m\u001b[0mest\u001b[0m\u001b[0;34m,\u001b[0m \u001b[0mtrain\u001b[0m\u001b[0;34m,\u001b[0m \u001b[0meva\u001b[0m\u001b[0;34m,\u001b[0m \u001b[0mvalidation\u001b[0m\u001b[0;34m,\u001b[0m \u001b[0mepm\u001b[0m\u001b[0;34m,\u001b[0m \u001b[0mcollectSubModelsParam\u001b[0m\u001b[0;34m)\u001b[0m\u001b[0;34m\u001b[0m\u001b[0;34m\u001b[0m\u001b[0m\n\u001b[0;32m--> 358\u001b[0;31m             \u001b[0;32mfor\u001b[0m \u001b[0mj\u001b[0m\u001b[0;34m,\u001b[0m \u001b[0mmetric\u001b[0m\u001b[0;34m,\u001b[0m \u001b[0msubModel\u001b[0m \u001b[0;32min\u001b[0m \u001b[0mpool\u001b[0m\u001b[0;34m.\u001b[0m\u001b[0mimap_unordered\u001b[0m\u001b[0;34m(\u001b[0m\u001b[0;32mlambda\u001b[0m \u001b[0mf\u001b[0m\u001b[0;34m:\u001b[0m \u001b[0mf\u001b[0m\u001b[0;34m(\u001b[0m\u001b[0;34m)\u001b[0m\u001b[0;34m,\u001b[0m \u001b[0mtasks\u001b[0m\u001b[0;34m)\u001b[0m\u001b[0;34m:\u001b[0m\u001b[0;34m\u001b[0m\u001b[0;34m\u001b[0m\u001b[0m\n\u001b[0m\u001b[1;32m    359\u001b[0m                 \u001b[0mmetrics\u001b[0m\u001b[0;34m[\u001b[0m\u001b[0mj\u001b[0m\u001b[0;34m]\u001b[0m \u001b[0;34m+=\u001b[0m \u001b[0;34m(\u001b[0m\u001b[0mmetric\u001b[0m \u001b[0;34m/\u001b[0m \u001b[0mnFolds\u001b[0m\u001b[0;34m)\u001b[0m\u001b[0;34m\u001b[0m\u001b[0;34m\u001b[0m\u001b[0m\n\u001b[1;32m    360\u001b[0m                 \u001b[0;32mif\u001b[0m \u001b[0mcollectSubModelsParam\u001b[0m\u001b[0;34m:\u001b[0m\u001b[0;34m\u001b[0m\u001b[0;34m\u001b[0m\u001b[0m\n",
      "\u001b[0;32m~/anaconda3/lib/python3.7/site-packages/pyspark/ml/tuning.py\u001b[0m in \u001b[0;36msingleTask\u001b[0;34m()\u001b[0m\n\u001b[1;32m     50\u001b[0m \u001b[0;34m\u001b[0m\u001b[0m\n\u001b[1;32m     51\u001b[0m     \u001b[0;32mdef\u001b[0m \u001b[0msingleTask\u001b[0m\u001b[0;34m(\u001b[0m\u001b[0;34m)\u001b[0m\u001b[0;34m:\u001b[0m\u001b[0;34m\u001b[0m\u001b[0;34m\u001b[0m\u001b[0m\n\u001b[0;32m---> 52\u001b[0;31m         \u001b[0mindex\u001b[0m\u001b[0;34m,\u001b[0m \u001b[0mmodel\u001b[0m \u001b[0;34m=\u001b[0m \u001b[0mnext\u001b[0m\u001b[0;34m(\u001b[0m\u001b[0mmodelIter\u001b[0m\u001b[0;34m)\u001b[0m\u001b[0;34m\u001b[0m\u001b[0;34m\u001b[0m\u001b[0m\n\u001b[0m\u001b[1;32m     53\u001b[0m         \u001b[0mmetric\u001b[0m \u001b[0;34m=\u001b[0m \u001b[0meva\u001b[0m\u001b[0;34m.\u001b[0m\u001b[0mevaluate\u001b[0m\u001b[0;34m(\u001b[0m\u001b[0mmodel\u001b[0m\u001b[0;34m.\u001b[0m\u001b[0mtransform\u001b[0m\u001b[0;34m(\u001b[0m\u001b[0mvalidation\u001b[0m\u001b[0;34m,\u001b[0m \u001b[0mepm\u001b[0m\u001b[0;34m[\u001b[0m\u001b[0mindex\u001b[0m\u001b[0;34m]\u001b[0m\u001b[0;34m)\u001b[0m\u001b[0;34m)\u001b[0m\u001b[0;34m\u001b[0m\u001b[0;34m\u001b[0m\u001b[0m\n\u001b[1;32m     54\u001b[0m         \u001b[0;32mreturn\u001b[0m \u001b[0mindex\u001b[0m\u001b[0;34m,\u001b[0m \u001b[0mmetric\u001b[0m\u001b[0;34m,\u001b[0m \u001b[0mmodel\u001b[0m \u001b[0;32mif\u001b[0m \u001b[0mcollectSubModel\u001b[0m \u001b[0;32melse\u001b[0m \u001b[0;32mNone\u001b[0m\u001b[0;34m\u001b[0m\u001b[0;34m\u001b[0m\u001b[0m\n",
      "\u001b[0;32m~/anaconda3/lib/python3.7/site-packages/pyspark/ml/base.py\u001b[0m in \u001b[0;36m__next__\u001b[0;34m(self)\u001b[0m\n\u001b[1;32m     60\u001b[0m                 \u001b[0;32mraise\u001b[0m \u001b[0mStopIteration\u001b[0m\u001b[0;34m(\u001b[0m\u001b[0;34m\"No models remaining.\"\u001b[0m\u001b[0;34m)\u001b[0m\u001b[0;34m\u001b[0m\u001b[0;34m\u001b[0m\u001b[0m\n\u001b[1;32m     61\u001b[0m             \u001b[0mself\u001b[0m\u001b[0;34m.\u001b[0m\u001b[0mcounter\u001b[0m \u001b[0;34m+=\u001b[0m \u001b[0;36m1\u001b[0m\u001b[0;34m\u001b[0m\u001b[0;34m\u001b[0m\u001b[0m\n\u001b[0;32m---> 62\u001b[0;31m         \u001b[0;32mreturn\u001b[0m \u001b[0mindex\u001b[0m\u001b[0;34m,\u001b[0m \u001b[0mself\u001b[0m\u001b[0;34m.\u001b[0m\u001b[0mfitSingleModel\u001b[0m\u001b[0;34m(\u001b[0m\u001b[0mindex\u001b[0m\u001b[0;34m)\u001b[0m\u001b[0;34m\u001b[0m\u001b[0;34m\u001b[0m\u001b[0m\n\u001b[0m\u001b[1;32m     63\u001b[0m \u001b[0;34m\u001b[0m\u001b[0m\n\u001b[1;32m     64\u001b[0m     \u001b[0;32mdef\u001b[0m \u001b[0mnext\u001b[0m\u001b[0;34m(\u001b[0m\u001b[0mself\u001b[0m\u001b[0;34m)\u001b[0m\u001b[0;34m:\u001b[0m\u001b[0;34m\u001b[0m\u001b[0;34m\u001b[0m\u001b[0m\n",
      "\u001b[0;32m~/anaconda3/lib/python3.7/site-packages/pyspark/ml/base.py\u001b[0m in \u001b[0;36mfitSingleModel\u001b[0;34m(index)\u001b[0m\n\u001b[1;32m    101\u001b[0m \u001b[0;34m\u001b[0m\u001b[0m\n\u001b[1;32m    102\u001b[0m         \u001b[0;32mdef\u001b[0m \u001b[0mfitSingleModel\u001b[0m\u001b[0;34m(\u001b[0m\u001b[0mindex\u001b[0m\u001b[0;34m)\u001b[0m\u001b[0;34m:\u001b[0m\u001b[0;34m\u001b[0m\u001b[0;34m\u001b[0m\u001b[0m\n\u001b[0;32m--> 103\u001b[0;31m             \u001b[0;32mreturn\u001b[0m \u001b[0mestimator\u001b[0m\u001b[0;34m.\u001b[0m\u001b[0mfit\u001b[0m\u001b[0;34m(\u001b[0m\u001b[0mdataset\u001b[0m\u001b[0;34m,\u001b[0m \u001b[0mparamMaps\u001b[0m\u001b[0;34m[\u001b[0m\u001b[0mindex\u001b[0m\u001b[0;34m]\u001b[0m\u001b[0;34m)\u001b[0m\u001b[0;34m\u001b[0m\u001b[0;34m\u001b[0m\u001b[0m\n\u001b[0m\u001b[1;32m    104\u001b[0m \u001b[0;34m\u001b[0m\u001b[0m\n\u001b[1;32m    105\u001b[0m         \u001b[0;32mreturn\u001b[0m \u001b[0m_FitMultipleIterator\u001b[0m\u001b[0;34m(\u001b[0m\u001b[0mfitSingleModel\u001b[0m\u001b[0;34m,\u001b[0m \u001b[0mlen\u001b[0m\u001b[0;34m(\u001b[0m\u001b[0mparamMaps\u001b[0m\u001b[0;34m)\u001b[0m\u001b[0;34m)\u001b[0m\u001b[0;34m\u001b[0m\u001b[0;34m\u001b[0m\u001b[0m\n",
      "\u001b[0;32m~/anaconda3/lib/python3.7/site-packages/pyspark/ml/base.py\u001b[0m in \u001b[0;36mfit\u001b[0;34m(self, dataset, params)\u001b[0m\n\u001b[1;32m    125\u001b[0m         \u001b[0;32melif\u001b[0m \u001b[0misinstance\u001b[0m\u001b[0;34m(\u001b[0m\u001b[0mparams\u001b[0m\u001b[0;34m,\u001b[0m \u001b[0mdict\u001b[0m\u001b[0;34m)\u001b[0m\u001b[0;34m:\u001b[0m\u001b[0;34m\u001b[0m\u001b[0;34m\u001b[0m\u001b[0m\n\u001b[1;32m    126\u001b[0m             \u001b[0;32mif\u001b[0m \u001b[0mparams\u001b[0m\u001b[0;34m:\u001b[0m\u001b[0;34m\u001b[0m\u001b[0;34m\u001b[0m\u001b[0m\n\u001b[0;32m--> 127\u001b[0;31m                 \u001b[0;32mreturn\u001b[0m \u001b[0mself\u001b[0m\u001b[0;34m.\u001b[0m\u001b[0mcopy\u001b[0m\u001b[0;34m(\u001b[0m\u001b[0mparams\u001b[0m\u001b[0;34m)\u001b[0m\u001b[0;34m.\u001b[0m\u001b[0m_fit\u001b[0m\u001b[0;34m(\u001b[0m\u001b[0mdataset\u001b[0m\u001b[0;34m)\u001b[0m\u001b[0;34m\u001b[0m\u001b[0;34m\u001b[0m\u001b[0m\n\u001b[0m\u001b[1;32m    128\u001b[0m             \u001b[0;32melse\u001b[0m\u001b[0;34m:\u001b[0m\u001b[0;34m\u001b[0m\u001b[0;34m\u001b[0m\u001b[0m\n\u001b[1;32m    129\u001b[0m                 \u001b[0;32mreturn\u001b[0m \u001b[0mself\u001b[0m\u001b[0;34m.\u001b[0m\u001b[0m_fit\u001b[0m\u001b[0;34m(\u001b[0m\u001b[0mdataset\u001b[0m\u001b[0;34m)\u001b[0m\u001b[0;34m\u001b[0m\u001b[0;34m\u001b[0m\u001b[0m\n",
      "\u001b[0;32m~/anaconda3/lib/python3.7/site-packages/pyspark/ml/wrapper.py\u001b[0m in \u001b[0;36m_fit\u001b[0;34m(self, dataset)\u001b[0m\n\u001b[1;32m    319\u001b[0m \u001b[0;34m\u001b[0m\u001b[0m\n\u001b[1;32m    320\u001b[0m     \u001b[0;32mdef\u001b[0m \u001b[0m_fit\u001b[0m\u001b[0;34m(\u001b[0m\u001b[0mself\u001b[0m\u001b[0;34m,\u001b[0m \u001b[0mdataset\u001b[0m\u001b[0;34m)\u001b[0m\u001b[0;34m:\u001b[0m\u001b[0;34m\u001b[0m\u001b[0;34m\u001b[0m\u001b[0m\n\u001b[0;32m--> 321\u001b[0;31m         \u001b[0mjava_model\u001b[0m \u001b[0;34m=\u001b[0m \u001b[0mself\u001b[0m\u001b[0;34m.\u001b[0m\u001b[0m_fit_java\u001b[0m\u001b[0;34m(\u001b[0m\u001b[0mdataset\u001b[0m\u001b[0;34m)\u001b[0m\u001b[0;34m\u001b[0m\u001b[0;34m\u001b[0m\u001b[0m\n\u001b[0m\u001b[1;32m    322\u001b[0m         \u001b[0mmodel\u001b[0m \u001b[0;34m=\u001b[0m \u001b[0mself\u001b[0m\u001b[0;34m.\u001b[0m\u001b[0m_create_model\u001b[0m\u001b[0;34m(\u001b[0m\u001b[0mjava_model\u001b[0m\u001b[0;34m)\u001b[0m\u001b[0;34m\u001b[0m\u001b[0;34m\u001b[0m\u001b[0m\n\u001b[1;32m    323\u001b[0m         \u001b[0;32mreturn\u001b[0m \u001b[0mself\u001b[0m\u001b[0;34m.\u001b[0m\u001b[0m_copyValues\u001b[0m\u001b[0;34m(\u001b[0m\u001b[0mmodel\u001b[0m\u001b[0;34m)\u001b[0m\u001b[0;34m\u001b[0m\u001b[0;34m\u001b[0m\u001b[0m\n",
      "\u001b[0;32m~/anaconda3/lib/python3.7/site-packages/pyspark/ml/wrapper.py\u001b[0m in \u001b[0;36m_fit_java\u001b[0;34m(self, dataset)\u001b[0m\n\u001b[1;32m    316\u001b[0m         \"\"\"\n\u001b[1;32m    317\u001b[0m         \u001b[0mself\u001b[0m\u001b[0;34m.\u001b[0m\u001b[0m_transfer_params_to_java\u001b[0m\u001b[0;34m(\u001b[0m\u001b[0;34m)\u001b[0m\u001b[0;34m\u001b[0m\u001b[0;34m\u001b[0m\u001b[0m\n\u001b[0;32m--> 318\u001b[0;31m         \u001b[0;32mreturn\u001b[0m \u001b[0mself\u001b[0m\u001b[0;34m.\u001b[0m\u001b[0m_java_obj\u001b[0m\u001b[0;34m.\u001b[0m\u001b[0mfit\u001b[0m\u001b[0;34m(\u001b[0m\u001b[0mdataset\u001b[0m\u001b[0;34m.\u001b[0m\u001b[0m_jdf\u001b[0m\u001b[0;34m)\u001b[0m\u001b[0;34m\u001b[0m\u001b[0;34m\u001b[0m\u001b[0m\n\u001b[0m\u001b[1;32m    319\u001b[0m \u001b[0;34m\u001b[0m\u001b[0m\n\u001b[1;32m    320\u001b[0m     \u001b[0;32mdef\u001b[0m \u001b[0m_fit\u001b[0m\u001b[0;34m(\u001b[0m\u001b[0mself\u001b[0m\u001b[0;34m,\u001b[0m \u001b[0mdataset\u001b[0m\u001b[0;34m)\u001b[0m\u001b[0;34m:\u001b[0m\u001b[0;34m\u001b[0m\u001b[0;34m\u001b[0m\u001b[0m\n",
      "\u001b[0;32m~/anaconda3/lib/python3.7/site-packages/py4j/java_gateway.py\u001b[0m in \u001b[0;36m__call__\u001b[0;34m(self, *args)\u001b[0m\n\u001b[1;32m   1303\u001b[0m         \u001b[0manswer\u001b[0m \u001b[0;34m=\u001b[0m \u001b[0mself\u001b[0m\u001b[0;34m.\u001b[0m\u001b[0mgateway_client\u001b[0m\u001b[0;34m.\u001b[0m\u001b[0msend_command\u001b[0m\u001b[0;34m(\u001b[0m\u001b[0mcommand\u001b[0m\u001b[0;34m)\u001b[0m\u001b[0;34m\u001b[0m\u001b[0;34m\u001b[0m\u001b[0m\n\u001b[1;32m   1304\u001b[0m         return_value = get_return_value(\n\u001b[0;32m-> 1305\u001b[0;31m             answer, self.gateway_client, self.target_id, self.name)\n\u001b[0m\u001b[1;32m   1306\u001b[0m \u001b[0;34m\u001b[0m\u001b[0m\n\u001b[1;32m   1307\u001b[0m         \u001b[0;32mfor\u001b[0m \u001b[0mtemp_arg\u001b[0m \u001b[0;32min\u001b[0m \u001b[0mtemp_args\u001b[0m\u001b[0;34m:\u001b[0m\u001b[0;34m\u001b[0m\u001b[0;34m\u001b[0m\u001b[0m\n",
      "\u001b[0;32m~/anaconda3/lib/python3.7/site-packages/pyspark/sql/utils.py\u001b[0m in \u001b[0;36mdeco\u001b[0;34m(*a, **kw)\u001b[0m\n\u001b[1;32m    132\u001b[0m                 \u001b[0;31m# Hide where the exception came from that shows a non-Pythonic\u001b[0m\u001b[0;34m\u001b[0m\u001b[0;34m\u001b[0m\u001b[0;34m\u001b[0m\u001b[0m\n\u001b[1;32m    133\u001b[0m                 \u001b[0;31m# JVM exception message.\u001b[0m\u001b[0;34m\u001b[0m\u001b[0;34m\u001b[0m\u001b[0;34m\u001b[0m\u001b[0m\n\u001b[0;32m--> 134\u001b[0;31m                 \u001b[0mraise_from\u001b[0m\u001b[0;34m(\u001b[0m\u001b[0mconverted\u001b[0m\u001b[0;34m)\u001b[0m\u001b[0;34m\u001b[0m\u001b[0;34m\u001b[0m\u001b[0m\n\u001b[0m\u001b[1;32m    135\u001b[0m             \u001b[0;32melse\u001b[0m\u001b[0;34m:\u001b[0m\u001b[0;34m\u001b[0m\u001b[0;34m\u001b[0m\u001b[0m\n\u001b[1;32m    136\u001b[0m                 \u001b[0;32mraise\u001b[0m\u001b[0;34m\u001b[0m\u001b[0;34m\u001b[0m\u001b[0m\n",
      "\u001b[0;32m~/anaconda3/lib/python3.7/site-packages/pyspark/sql/utils.py\u001b[0m in \u001b[0;36mraise_from\u001b[0;34m(e)\u001b[0m\n",
      "\u001b[0;31mIllegalArgumentException\u001b[0m: Feature 0 is marked as Nominal (categorical), but it does not have the number of values specified."
     ]
    }
   ],
   "source": [
    "classifier = DecisionTreeClassifier()\n",
    "paramGrid = (ParamGridBuilder()\\\n",
    "            .addGrid(classifier.maxDepth, [2, 5, 10, 20, 30])\\\n",
    "            .addGrid(classifier.maxBins, [10,20,40,80, 100])\\\n",
    "            .build())\n",
    "\n",
    "crossval = CrossValidator(estimator = classifier,\n",
    "                         estimatorParamMaps=paramGrid,\n",
    "                         evaluator=MulticlassClassificationEvaluator(),\n",
    "                         numFolds=2)\n",
    "\n",
    "fitModel = crossval.fit(train)\n",
    "\n",
    "BestModel = fitModel.bestModel\n",
    "featureImportances= BestModel.featureImportances.toArray()\n",
    "\n",
    "print(\"Feature Importances: \", featureImportances)\n",
    "\n",
    "predictions= fitModel.transform(test)\n",
    "accuracy = (MC_evaluator.evaluate(predictions))*100\n",
    "print(\"Accuracy: \", accuracy)"
   ]
  },
  {
   "cell_type": "code",
   "execution_count": 31,
   "metadata": {},
   "outputs": [
    {
     "name": "stdout",
     "output_type": "stream",
     "text": [
      "+-------------------+-----+\n",
      "|feature            |score|\n",
      "+-------------------+-----+\n",
      "|18-MFCCs10m        |0    |\n",
      "|19-MFCCs11m        |0    |\n",
      "|20-MFCCs12m        |0    |\n",
      "|21-MFCCs13m        |0    |\n",
      "|22-ChromaVector1m  |0    |\n",
      "|23-ChromaVector2m  |0    |\n",
      "|24-ChromaVector3m  |0    |\n",
      "|25-ChromaVector4m  |0    |\n",
      "|26-ChromaVector5m  |0    |\n",
      "|27-ChromaVector6m  |0    |\n",
      "|28-ChromaVector7m  |0    |\n",
      "|29-ChromaVector8m  |0    |\n",
      "|30-ChromaVector9m  |0    |\n",
      "|31-ChromaVector10m |0    |\n",
      "|32-ChromaVector11m |0    |\n",
      "|33-ChromaVector12m |0    |\n",
      "|34-ChromaDeviationm|0    |\n",
      "|1-ZCRm             |0    |\n",
      "|2-Energym          |0    |\n",
      "|3-EnergyEntropym   |0    |\n",
      "+-------------------+-----+\n",
      "only showing top 20 rows\n",
      "\n",
      "None\n"
     ]
    }
   ],
   "source": [
    "imp_scores = []\n",
    "for x in featureImportances:\n",
    "    imp_scores.append(int(x))\n",
    "\n",
    "result = spark.createDataFrame(zip(input_columns,imp_scores), schema=['feature','score'])\n",
    "print(result.orderBy(result[\"score\"].desc()).show(truncate=False))"
   ]
  },
  {
   "cell_type": "markdown",
   "metadata": {},
   "source": [
    "### Random Forest Classifer"
   ]
  },
  {
   "cell_type": "code",
   "execution_count": 32,
   "metadata": {},
   "outputs": [
    {
     "name": "stdout",
     "output_type": "stream",
     "text": [
      "Feature Importances:  [0.02549888 0.02048886 0.02004269 0.01085734 0.01246999 0.00957444\n",
      " 0.01623467 0.00717218 0.01534068 0.01572714 0.01204616 0.00890789\n",
      " 0.0111888  0.00973165 0.00925843 0.00993144 0.00920344 0.00978322\n",
      " 0.00960781 0.00919346 0.00827428 0.00991135 0.00952381 0.01398391\n",
      " 0.00698275 0.01032541 0.00834916 0.00884201 0.00902194 0.00771912\n",
      " 0.0103314  0.01195857 0.00769659 0.01177133 0.01099636 0.0132018\n",
      " 0.013527   0.02144771 0.02197171 0.01397508 0.01316372 0.01172605\n",
      " 0.01930773 0.0201519  0.01380946 0.01274063 0.01611793 0.01711006\n",
      " 0.01118245 0.01364262 0.0138961  0.01570954 0.01582239 0.02110899\n",
      " 0.0161877  0.01096285 0.01028904 0.00958549 0.00825628 0.01001872\n",
      " 0.00748661 0.01125259 0.00794745 0.00832804 0.01039166 0.01013107\n",
      " 0.00942987 0.00896326 0.04946431 0.03108589 0.08265914]\n",
      " \n",
      "Accuracy:  49.07651715039577\n"
     ]
    }
   ],
   "source": [
    "classifier = RandomForestClassifier()\n",
    "paramGrid = (ParamGridBuilder()\\\n",
    "            .addGrid(classifier.maxDepth, [2, 5, 10])\n",
    "            .addGrid(classifier.maxBins, [5, 10 , 20])\n",
    "            .addGrid(classifier.numTrees,[5, 20, 50])\n",
    "            .build())\n",
    "\n",
    "crossval = CrossValidator(estimator=classifier,\n",
    "                         estimatorParamMaps=paramGrid,\n",
    "                         evaluator=MulticlassClassificationEvaluator(),\n",
    "                         numFolds=2)\n",
    "\n",
    "fitModel = crossval.fit(train)\n",
    "\n",
    "BestModel= fitModel.bestModel\n",
    "featureImportances= BestModel.featureImportances.toArray()\n",
    "print(\"Feature Importances: \", featureImportances)\n",
    "\n",
    "predictions = fitModel.transform(test)\n",
    "\n",
    "accuracy = (MC_evaluator.evaluate(predictions))*100\n",
    "\n",
    "print(\" \")\n",
    "print(\"Accuracy: \", accuracy)"
   ]
  },
  {
   "cell_type": "code",
   "execution_count": 33,
   "metadata": {},
   "outputs": [
    {
     "name": "stdout",
     "output_type": "stream",
     "text": [
      "+----------------------+--------------------+\n",
      "|feature               |score               |\n",
      "+----------------------+--------------------+\n",
      "|71-BPMessentia        |0.08265913654047771 |\n",
      "|69-BPM                |0.04946431150979612 |\n",
      "|70-BPMconf            |0.031085889295809143|\n",
      "|1-ZCRm                |0.02549888453173674 |\n",
      "|39-SpectralSpreadstd  |0.021971707351470384|\n",
      "|38-SpectralCentroidstd|0.0214477110684079  |\n",
      "|54-MFCCs12std         |0.0211089903690944  |\n",
      "|2-Energym             |0.020488862303958678|\n",
      "|44-MFCCs2std          |0.02015190278443243 |\n",
      "|3-EnergyEntropym      |0.020042691110931012|\n",
      "|43-MFCCs1std          |0.01930772792517938 |\n",
      "|48-MFCCs6std          |0.01711006295635101 |\n",
      "|7-SpectralFluxm       |0.016234673436882324|\n",
      "|55-MFCCs13std         |0.016187702390365714|\n",
      "|47-MFCCs5std          |0.016117928172931374|\n",
      "|53-MFCCs11std         |0.01582238902692124 |\n",
      "|10-MFCCs2m            |0.015727143526739797|\n",
      "|52-MFCCs10std         |0.015709542075543665|\n",
      "|9-MFCCs1m             |0.015340676136238796|\n",
      "|24-ChromaVector3m     |0.013983906517425461|\n",
      "+----------------------+--------------------+\n",
      "only showing top 20 rows\n",
      "\n",
      "None\n"
     ]
    }
   ],
   "source": [
    "imp_scores = []\n",
    "for x in featureImportances:\n",
    "    imp_scores.append(float(x))\n",
    "    \n",
    "# Then zip with input_columns list and create a df\n",
    "result = spark.createDataFrame(zip(input_columns,imp_scores), schema=['feature','score'])\n",
    "print(result.orderBy(result[\"score\"].desc()).show(truncate=False))"
   ]
  },
  {
   "cell_type": "code",
   "execution_count": null,
   "metadata": {},
   "outputs": [],
   "source": []
  }
 ],
 "metadata": {
  "kernelspec": {
   "display_name": "Python 3",
   "language": "python",
   "name": "python3"
  },
  "language_info": {
   "codemirror_mode": {
    "name": "ipython",
    "version": 3
   },
   "file_extension": ".py",
   "mimetype": "text/x-python",
   "name": "python",
   "nbconvert_exporter": "python",
   "pygments_lexer": "ipython3",
   "version": "3.7.6"
  }
 },
 "nbformat": 4,
 "nbformat_minor": 2
}
