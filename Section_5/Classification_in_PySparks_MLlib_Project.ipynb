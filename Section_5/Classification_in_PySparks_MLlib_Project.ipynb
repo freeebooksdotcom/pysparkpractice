{
 "cells": [
  {
   "cell_type": "markdown",
   "metadata": {},
   "source": [
    "# Classification in PySpark's MLlib Project Solution\n",
    "\n",
    "### Genre classification\n",
    "Now it's time to leverage what we learned in the lectures to a REAL classification project! Have you ever wondered what makes us, humans, able to tell apart two songs of different genres? How we do we inherenly know the difference between a pop song and heavy metal? This type of classifcation may seem easy for us, but it's a very difficult challenge for a computer to do. So the question is, could an automatic genre classifcation model be possible? \n",
    "\n",
    "For this project we will be classifying songs based on a number of characteristics into a set of 23 electronic genres. This technology could be used by an application like Pandora to recommend songs to users or just create meaningful channels. Super fun!\n",
    "\n",
    "### Dataset\n",
    "*beatsdataset.csv*\n",
    "Each row is an electronic music song. The dataset contains 100 song for each genre among 23 electronic music genres, they were the top (100) songs of their genres on November 2016. The 71 columns are audio features extracted of a two random minutes sample of the file audio. These features have been extracted using pyAudioAnalysis (https://github.com/tyiannak/pyAudioAnalysis).\n",
    "\n",
    "### Your task\n",
    "Create an algorithm that classifies songs into the 23 genres provided. Test out several different models and select the highest performing one. Also play around with feature selection methods and finally try to make a recommendation to a user.  \n",
    "\n",
    "For the feature selection aspect of this project, you may need to get a bit creative if you want to select features from a non-tree algorithm. I did not go over this aspect of PySpark intentionally in the previous lectures to give you chance to get used to researching the PySpark documentation page. Here is the link to the Feature Selectors section of the documentation that just might come in handy: https://spark.apache.org/docs/latest/ml-features.html#feature-selectors\n",
    "\n",
    "Good luck! Have fun :)\n",
    "\n",
    "### Source\n",
    "https://www.kaggle.com/caparrini/beatsdataset"
   ]
  },
  {
   "cell_type": "code",
   "execution_count": 1,
   "metadata": {},
   "outputs": [],
   "source": [
    "import pyspark\n",
    "from pyspark.sql import SparkSession\n",
    "\n",
    "spark = SparkSession.builder.appName('ClassificationProject').getOrCreate()\n",
    "\n"
   ]
  },
  {
   "cell_type": "code",
   "execution_count": 2,
   "metadata": {},
   "outputs": [],
   "source": [
    "from pyspark.ml.feature import VectorAssembler\n",
    "from pyspark.sql.types import * \n",
    "from pyspark.sql.functions import *\n",
    "from pyspark.ml.feature import StringIndexer\n",
    "from pyspark.ml.feature import MinMaxScaler"
   ]
  },
  {
   "cell_type": "code",
   "execution_count": 3,
   "metadata": {},
   "outputs": [],
   "source": [
    "path =\"Datasets/\"\n",
    "df = spark.read.csv(path+'beatsdataset.csv',inferSchema=True,header=True)"
   ]
  },
  {
   "cell_type": "code",
   "execution_count": 4,
   "metadata": {},
   "outputs": [
    {
     "data": {
      "text/html": [
       "<div>\n",
       "<style scoped>\n",
       "    .dataframe tbody tr th:only-of-type {\n",
       "        vertical-align: middle;\n",
       "    }\n",
       "\n",
       "    .dataframe tbody tr th {\n",
       "        vertical-align: top;\n",
       "    }\n",
       "\n",
       "    .dataframe thead th {\n",
       "        text-align: right;\n",
       "    }\n",
       "</style>\n",
       "<table border=\"1\" class=\"dataframe\">\n",
       "  <thead>\n",
       "    <tr style=\"text-align: right;\">\n",
       "      <th></th>\n",
       "      <th>_c0</th>\n",
       "      <th>1-ZCRm</th>\n",
       "      <th>2-Energym</th>\n",
       "      <th>3-EnergyEntropym</th>\n",
       "      <th>4-SpectralCentroidm</th>\n",
       "      <th>5-SpectralSpreadm</th>\n",
       "      <th>6-SpectralEntropym</th>\n",
       "      <th>7-SpectralFluxm</th>\n",
       "      <th>8-SpectralRolloffm</th>\n",
       "      <th>9-MFCCs1m</th>\n",
       "      <th>...</th>\n",
       "      <th>63-ChromaVector8std</th>\n",
       "      <th>64-ChromaVector9std</th>\n",
       "      <th>65-ChromaVector10std</th>\n",
       "      <th>66-ChromaVector11std</th>\n",
       "      <th>67-ChromaVector12std</th>\n",
       "      <th>68-ChromaDeviationstd</th>\n",
       "      <th>69-BPM</th>\n",
       "      <th>70-BPMconf</th>\n",
       "      <th>71-BPMessentia</th>\n",
       "      <th>class</th>\n",
       "    </tr>\n",
       "  </thead>\n",
       "  <tbody>\n",
       "    <tr>\n",
       "      <th>0</th>\n",
       "      <td>0</td>\n",
       "      <td>0.136440</td>\n",
       "      <td>0.088861</td>\n",
       "      <td>3.201201</td>\n",
       "      <td>0.262825</td>\n",
       "      <td>0.249212</td>\n",
       "      <td>1.114423</td>\n",
       "      <td>0.007003</td>\n",
       "      <td>0.256682</td>\n",
       "      <td>-22.723259</td>\n",
       "      <td>...</td>\n",
       "      <td>0.003431</td>\n",
       "      <td>0.004981</td>\n",
       "      <td>0.010818</td>\n",
       "      <td>0.024001</td>\n",
       "      <td>0.005201</td>\n",
       "      <td>0.015056</td>\n",
       "      <td>133.333333</td>\n",
       "      <td>0.132792</td>\n",
       "      <td>128.0</td>\n",
       "      <td>BigRoom</td>\n",
       "    </tr>\n",
       "    <tr>\n",
       "      <th>1</th>\n",
       "      <td>1</td>\n",
       "      <td>0.117039</td>\n",
       "      <td>0.108389</td>\n",
       "      <td>3.194001</td>\n",
       "      <td>0.247657</td>\n",
       "      <td>0.250288</td>\n",
       "      <td>1.065668</td>\n",
       "      <td>0.005387</td>\n",
       "      <td>0.199821</td>\n",
       "      <td>-21.775871</td>\n",
       "      <td>...</td>\n",
       "      <td>0.004461</td>\n",
       "      <td>0.006441</td>\n",
       "      <td>0.007469</td>\n",
       "      <td>0.015499</td>\n",
       "      <td>0.005589</td>\n",
       "      <td>0.019339</td>\n",
       "      <td>120.000000</td>\n",
       "      <td>0.112767</td>\n",
       "      <td>126.0</td>\n",
       "      <td>BigRoom</td>\n",
       "    </tr>\n",
       "    <tr>\n",
       "      <th>2</th>\n",
       "      <td>2</td>\n",
       "      <td>0.085308</td>\n",
       "      <td>0.128525</td>\n",
       "      <td>3.123837</td>\n",
       "      <td>0.217205</td>\n",
       "      <td>0.228652</td>\n",
       "      <td>0.789647</td>\n",
       "      <td>0.008247</td>\n",
       "      <td>0.156822</td>\n",
       "      <td>-22.472722</td>\n",
       "      <td>...</td>\n",
       "      <td>0.001529</td>\n",
       "      <td>0.004556</td>\n",
       "      <td>0.007723</td>\n",
       "      <td>0.017482</td>\n",
       "      <td>0.002901</td>\n",
       "      <td>0.022201</td>\n",
       "      <td>133.333333</td>\n",
       "      <td>0.123373</td>\n",
       "      <td>129.0</td>\n",
       "      <td>BigRoom</td>\n",
       "    </tr>\n",
       "    <tr>\n",
       "      <th>3</th>\n",
       "      <td>3</td>\n",
       "      <td>0.103050</td>\n",
       "      <td>0.167042</td>\n",
       "      <td>3.150830</td>\n",
       "      <td>0.233593</td>\n",
       "      <td>0.245032</td>\n",
       "      <td>0.967082</td>\n",
       "      <td>0.006571</td>\n",
       "      <td>0.168083</td>\n",
       "      <td>-21.470751</td>\n",
       "      <td>...</td>\n",
       "      <td>0.001591</td>\n",
       "      <td>0.003514</td>\n",
       "      <td>0.009477</td>\n",
       "      <td>0.023162</td>\n",
       "      <td>0.004165</td>\n",
       "      <td>0.015379</td>\n",
       "      <td>133.333333</td>\n",
       "      <td>0.158876</td>\n",
       "      <td>129.0</td>\n",
       "      <td>BigRoom</td>\n",
       "    </tr>\n",
       "    <tr>\n",
       "      <th>4</th>\n",
       "      <td>4</td>\n",
       "      <td>0.151730</td>\n",
       "      <td>0.148405</td>\n",
       "      <td>3.194498</td>\n",
       "      <td>0.293730</td>\n",
       "      <td>0.267231</td>\n",
       "      <td>1.353005</td>\n",
       "      <td>0.003872</td>\n",
       "      <td>0.292055</td>\n",
       "      <td>-21.371157</td>\n",
       "      <td>...</td>\n",
       "      <td>0.003945</td>\n",
       "      <td>0.004131</td>\n",
       "      <td>0.011330</td>\n",
       "      <td>0.028188</td>\n",
       "      <td>0.002639</td>\n",
       "      <td>0.019079</td>\n",
       "      <td>133.333333</td>\n",
       "      <td>0.190708</td>\n",
       "      <td>129.0</td>\n",
       "      <td>BigRoom</td>\n",
       "    </tr>\n",
       "  </tbody>\n",
       "</table>\n",
       "<p>5 rows × 73 columns</p>\n",
       "</div>"
      ],
      "text/plain": [
       "   _c0    1-ZCRm  2-Energym  3-EnergyEntropym  4-SpectralCentroidm  \\\n",
       "0    0  0.136440   0.088861          3.201201             0.262825   \n",
       "1    1  0.117039   0.108389          3.194001             0.247657   \n",
       "2    2  0.085308   0.128525          3.123837             0.217205   \n",
       "3    3  0.103050   0.167042          3.150830             0.233593   \n",
       "4    4  0.151730   0.148405          3.194498             0.293730   \n",
       "\n",
       "   5-SpectralSpreadm  6-SpectralEntropym  7-SpectralFluxm  8-SpectralRolloffm  \\\n",
       "0           0.249212            1.114423         0.007003            0.256682   \n",
       "1           0.250288            1.065668         0.005387            0.199821   \n",
       "2           0.228652            0.789647         0.008247            0.156822   \n",
       "3           0.245032            0.967082         0.006571            0.168083   \n",
       "4           0.267231            1.353005         0.003872            0.292055   \n",
       "\n",
       "   9-MFCCs1m  ...  63-ChromaVector8std  64-ChromaVector9std  \\\n",
       "0 -22.723259  ...             0.003431             0.004981   \n",
       "1 -21.775871  ...             0.004461             0.006441   \n",
       "2 -22.472722  ...             0.001529             0.004556   \n",
       "3 -21.470751  ...             0.001591             0.003514   \n",
       "4 -21.371157  ...             0.003945             0.004131   \n",
       "\n",
       "   65-ChromaVector10std  66-ChromaVector11std  67-ChromaVector12std  \\\n",
       "0              0.010818              0.024001              0.005201   \n",
       "1              0.007469              0.015499              0.005589   \n",
       "2              0.007723              0.017482              0.002901   \n",
       "3              0.009477              0.023162              0.004165   \n",
       "4              0.011330              0.028188              0.002639   \n",
       "\n",
       "   68-ChromaDeviationstd      69-BPM  70-BPMconf  71-BPMessentia    class  \n",
       "0               0.015056  133.333333    0.132792           128.0  BigRoom  \n",
       "1               0.019339  120.000000    0.112767           126.0  BigRoom  \n",
       "2               0.022201  133.333333    0.123373           129.0  BigRoom  \n",
       "3               0.015379  133.333333    0.158876           129.0  BigRoom  \n",
       "4               0.019079  133.333333    0.190708           129.0  BigRoom  \n",
       "\n",
       "[5 rows x 73 columns]"
      ]
     },
     "execution_count": 4,
     "metadata": {},
     "output_type": "execute_result"
    }
   ],
   "source": [
    "df.limit(5).toPandas()"
   ]
  },
  {
   "cell_type": "code",
   "execution_count": 5,
   "metadata": {},
   "outputs": [
    {
     "name": "stdout",
     "output_type": "stream",
     "text": [
      "root\n",
      " |-- _c0: integer (nullable = true)\n",
      " |-- 1-ZCRm: double (nullable = true)\n",
      " |-- 2-Energym: double (nullable = true)\n",
      " |-- 3-EnergyEntropym: double (nullable = true)\n",
      " |-- 4-SpectralCentroidm: double (nullable = true)\n",
      " |-- 5-SpectralSpreadm: double (nullable = true)\n",
      " |-- 6-SpectralEntropym: double (nullable = true)\n",
      " |-- 7-SpectralFluxm: double (nullable = true)\n",
      " |-- 8-SpectralRolloffm: double (nullable = true)\n",
      " |-- 9-MFCCs1m: double (nullable = true)\n",
      " |-- 10-MFCCs2m: double (nullable = true)\n",
      " |-- 11-MFCCs3m: double (nullable = true)\n",
      " |-- 12-MFCCs4m: double (nullable = true)\n",
      " |-- 13-MFCCs5m: double (nullable = true)\n",
      " |-- 14-MFCCs6m: double (nullable = true)\n",
      " |-- 15-MFCCs7m: double (nullable = true)\n",
      " |-- 16-MFCCs8m: double (nullable = true)\n",
      " |-- 17-MFCCs9m: double (nullable = true)\n",
      " |-- 18-MFCCs10m: double (nullable = true)\n",
      " |-- 19-MFCCs11m: double (nullable = true)\n",
      " |-- 20-MFCCs12m: double (nullable = true)\n",
      " |-- 21-MFCCs13m: double (nullable = true)\n",
      " |-- 22-ChromaVector1m: double (nullable = true)\n",
      " |-- 23-ChromaVector2m: double (nullable = true)\n",
      " |-- 24-ChromaVector3m: double (nullable = true)\n",
      " |-- 25-ChromaVector4m: double (nullable = true)\n",
      " |-- 26-ChromaVector5m: double (nullable = true)\n",
      " |-- 27-ChromaVector6m: double (nullable = true)\n",
      " |-- 28-ChromaVector7m: double (nullable = true)\n",
      " |-- 29-ChromaVector8m: double (nullable = true)\n",
      " |-- 30-ChromaVector9m: double (nullable = true)\n",
      " |-- 31-ChromaVector10m: double (nullable = true)\n",
      " |-- 32-ChromaVector11m: double (nullable = true)\n",
      " |-- 33-ChromaVector12m: double (nullable = true)\n",
      " |-- 34-ChromaDeviationm: double (nullable = true)\n",
      " |-- 35-ZCRstd: double (nullable = true)\n",
      " |-- 36-Energystd: double (nullable = true)\n",
      " |-- 37-EnergyEntropystd: double (nullable = true)\n",
      " |-- 38-SpectralCentroidstd: double (nullable = true)\n",
      " |-- 39-SpectralSpreadstd: double (nullable = true)\n",
      " |-- 40-SpectralEntropystd: double (nullable = true)\n",
      " |-- 41-SpectralFluxstd: double (nullable = true)\n",
      " |-- 42-SpectralRolloffstd: double (nullable = true)\n",
      " |-- 43-MFCCs1std: double (nullable = true)\n",
      " |-- 44-MFCCs2std: double (nullable = true)\n",
      " |-- 45-MFCCs3std: double (nullable = true)\n",
      " |-- 46-MFCCs4std: double (nullable = true)\n",
      " |-- 47-MFCCs5std: double (nullable = true)\n",
      " |-- 48-MFCCs6std: double (nullable = true)\n",
      " |-- 49-MFCCs7std: double (nullable = true)\n",
      " |-- 50-MFCCs8std: double (nullable = true)\n",
      " |-- 51-MFCCs9std: double (nullable = true)\n",
      " |-- 52-MFCCs10std: double (nullable = true)\n",
      " |-- 53-MFCCs11std: double (nullable = true)\n",
      " |-- 54-MFCCs12std: double (nullable = true)\n",
      " |-- 55-MFCCs13std: double (nullable = true)\n",
      " |-- 56-ChromaVector1std: double (nullable = true)\n",
      " |-- 57-ChromaVector2std: double (nullable = true)\n",
      " |-- 58-ChromaVector3std: double (nullable = true)\n",
      " |-- 59-ChromaVector4std: double (nullable = true)\n",
      " |-- 60-ChromaVector5std: double (nullable = true)\n",
      " |-- 61-ChromaVector6std: double (nullable = true)\n",
      " |-- 62-ChromaVector7std: double (nullable = true)\n",
      " |-- 63-ChromaVector8std: double (nullable = true)\n",
      " |-- 64-ChromaVector9std: double (nullable = true)\n",
      " |-- 65-ChromaVector10std: double (nullable = true)\n",
      " |-- 66-ChromaVector11std: double (nullable = true)\n",
      " |-- 67-ChromaVector12std: double (nullable = true)\n",
      " |-- 68-ChromaDeviationstd: double (nullable = true)\n",
      " |-- 69-BPM: double (nullable = true)\n",
      " |-- 70-BPMconf: double (nullable = true)\n",
      " |-- 71-BPMessentia: double (nullable = true)\n",
      " |-- class: string (nullable = true)\n",
      "\n"
     ]
    }
   ],
   "source": [
    "df.printSchema()"
   ]
  },
  {
   "cell_type": "code",
   "execution_count": 6,
   "metadata": {},
   "outputs": [
    {
     "name": "stdout",
     "output_type": "stream",
     "text": [
      "+--------------------+-----+\n",
      "|               class|count|\n",
      "+--------------------+-----+\n",
      "|           PsyTrance|  100|\n",
      "|           HardDance|  100|\n",
      "|              Breaks|  100|\n",
      "|  HardcoreHardTechno|  100|\n",
      "|   IndieDanceNuDisco|  100|\n",
      "|              Trance|  100|\n",
      "|           DeepHouse|  100|\n",
      "|ElectronicaDowntempo|  100|\n",
      "|           ReggaeDub|  100|\n",
      "|             Minimal|  100|\n",
      "|         DrumAndBass|  100|\n",
      "|             Dubstep|  100|\n",
      "|             BigRoom|  100|\n",
      "|              Techno|  100|\n",
      "|               House|  100|\n",
      "|         FutureHouse|  100|\n",
      "|        ElectroHouse|  100|\n",
      "|           GlitchHop|  100|\n",
      "|           TechHouse|  100|\n",
      "|              HipHop|  100|\n",
      "|           FunkRAndB|  100|\n",
      "|               Dance|  100|\n",
      "|    ProgressiveHouse|  100|\n",
      "+--------------------+-----+\n",
      "\n"
     ]
    }
   ],
   "source": [
    "df.groupBy('class').count().show(100)"
   ]
  },
  {
   "cell_type": "markdown",
   "metadata": {},
   "source": [
    "## Format Data"
   ]
  },
  {
   "cell_type": "code",
   "execution_count": 7,
   "metadata": {},
   "outputs": [
    {
     "name": "stdout",
     "output_type": "stream",
     "text": [
      "+---+------+---------+----------------+-------------------+-----------------+------------------+---------------+------------------+---------+----------+----------+----------+----------+----------+----------+----------+----------+-----------+-----------+-----------+-----------+-----------------+-----------------+-----------------+-----------------+-----------------+-----------------+-----------------+-----------------+-----------------+------------------+------------------+------------------+-------------------+---------+------------+-------------------+----------------------+--------------------+---------------------+------------------+---------------------+------------+------------+------------+------------+------------+------------+------------+------------+------------+-------------+-------------+-------------+-------------+-------------------+-------------------+-------------------+-------------------+-------------------+-------------------+-------------------+-------------------+-------------------+--------------------+--------------------+--------------------+---------------------+------+----------+--------------+-----+\n",
      "|_c0|1-ZCRm|2-Energym|3-EnergyEntropym|4-SpectralCentroidm|5-SpectralSpreadm|6-SpectralEntropym|7-SpectralFluxm|8-SpectralRolloffm|9-MFCCs1m|10-MFCCs2m|11-MFCCs3m|12-MFCCs4m|13-MFCCs5m|14-MFCCs6m|15-MFCCs7m|16-MFCCs8m|17-MFCCs9m|18-MFCCs10m|19-MFCCs11m|20-MFCCs12m|21-MFCCs13m|22-ChromaVector1m|23-ChromaVector2m|24-ChromaVector3m|25-ChromaVector4m|26-ChromaVector5m|27-ChromaVector6m|28-ChromaVector7m|29-ChromaVector8m|30-ChromaVector9m|31-ChromaVector10m|32-ChromaVector11m|33-ChromaVector12m|34-ChromaDeviationm|35-ZCRstd|36-Energystd|37-EnergyEntropystd|38-SpectralCentroidstd|39-SpectralSpreadstd|40-SpectralEntropystd|41-SpectralFluxstd|42-SpectralRolloffstd|43-MFCCs1std|44-MFCCs2std|45-MFCCs3std|46-MFCCs4std|47-MFCCs5std|48-MFCCs6std|49-MFCCs7std|50-MFCCs8std|51-MFCCs9std|52-MFCCs10std|53-MFCCs11std|54-MFCCs12std|55-MFCCs13std|56-ChromaVector1std|57-ChromaVector2std|58-ChromaVector3std|59-ChromaVector4std|60-ChromaVector5std|61-ChromaVector6std|62-ChromaVector7std|63-ChromaVector8std|64-ChromaVector9std|65-ChromaVector10std|66-ChromaVector11std|67-ChromaVector12std|68-ChromaDeviationstd|69-BPM|70-BPMconf|71-BPMessentia|class|\n",
      "+---+------+---------+----------------+-------------------+-----------------+------------------+---------------+------------------+---------+----------+----------+----------+----------+----------+----------+----------+----------+-----------+-----------+-----------+-----------+-----------------+-----------------+-----------------+-----------------+-----------------+-----------------+-----------------+-----------------+-----------------+------------------+------------------+------------------+-------------------+---------+------------+-------------------+----------------------+--------------------+---------------------+------------------+---------------------+------------+------------+------------+------------+------------+------------+------------+------------+------------+-------------+-------------+-------------+-------------+-------------------+-------------------+-------------------+-------------------+-------------------+-------------------+-------------------+-------------------+-------------------+--------------------+--------------------+--------------------+---------------------+------+----------+--------------+-----+\n",
      "|  0|     0|        0|               0|                  0|                0|                 0|              0|                 0|        0|         0|         0|         0|         0|         0|         0|         0|         0|          0|          0|          0|          0|                0|                0|                0|                0|                0|                0|                0|                0|                0|                 0|                 0|                 0|                  0|        0|           0|                  0|                     0|                   0|                    0|                 0|                    0|           0|           0|           0|           0|           0|           0|           0|           0|           0|            0|            0|            0|            0|                  0|                  0|                  0|                  0|                  0|                  0|                  0|                  0|                  0|                   0|                   0|                   0|                    0|     0|         0|             0|    0|\n",
      "+---+------+---------+----------------+-------------------+-----------------+------------------+---------------+------------------+---------+----------+----------+----------+----------+----------+----------+----------+----------+-----------+-----------+-----------+-----------+-----------------+-----------------+-----------------+-----------------+-----------------+-----------------+-----------------+-----------------+-----------------+------------------+------------------+------------------+-------------------+---------+------------+-------------------+----------------------+--------------------+---------------------+------------------+---------------------+------------+------------+------------+------------+------------+------------+------------+------------+------------+-------------+-------------+-------------+-------------+-------------------+-------------------+-------------------+-------------------+-------------------+-------------------+-------------------+-------------------+-------------------+--------------------+--------------------+--------------------+---------------------+------+----------+--------------+-----+\n",
      "\n"
     ]
    }
   ],
   "source": [
    "df.select([count(when(col(c).isNull(), c)).alias(c) for c in df.columns]).show()"
   ]
  },
  {
   "cell_type": "code",
   "execution_count": 8,
   "metadata": {},
   "outputs": [],
   "source": [
    "input_columns = df.columns # Collect the column names as a list\n",
    "input_columns = input_columns[1:-1] # keep only relevant columns: from column 1 to \n",
    "\n",
    "dependent_var = 'class'"
   ]
  },
  {
   "cell_type": "code",
   "execution_count": 9,
   "metadata": {},
   "outputs": [],
   "source": [
    "renamed = df.withColumn('label_str', df[dependent_var].cast(StringType()))\n",
    "indexer = StringIndexer(inputCol='label_str', outputCol='label')\n",
    "indexed = indexer.fit(renamed).transform(renamed)"
   ]
  },
  {
   "cell_type": "code",
   "execution_count": 10,
   "metadata": {},
   "outputs": [
    {
     "name": "stdout",
     "output_type": "stream",
     "text": [
      "root\n",
      " |-- _c0: integer (nullable = true)\n",
      " |-- 1-ZCRm: double (nullable = true)\n",
      " |-- 2-Energym: double (nullable = true)\n",
      " |-- 3-EnergyEntropym: double (nullable = true)\n",
      " |-- 4-SpectralCentroidm: double (nullable = true)\n",
      " |-- 5-SpectralSpreadm: double (nullable = true)\n",
      " |-- 6-SpectralEntropym: double (nullable = true)\n",
      " |-- 7-SpectralFluxm: double (nullable = true)\n",
      " |-- 8-SpectralRolloffm: double (nullable = true)\n",
      " |-- 9-MFCCs1m: double (nullable = true)\n",
      " |-- 10-MFCCs2m: double (nullable = true)\n",
      " |-- 11-MFCCs3m: double (nullable = true)\n",
      " |-- 12-MFCCs4m: double (nullable = true)\n",
      " |-- 13-MFCCs5m: double (nullable = true)\n",
      " |-- 14-MFCCs6m: double (nullable = true)\n",
      " |-- 15-MFCCs7m: double (nullable = true)\n",
      " |-- 16-MFCCs8m: double (nullable = true)\n",
      " |-- 17-MFCCs9m: double (nullable = true)\n",
      " |-- 18-MFCCs10m: double (nullable = true)\n",
      " |-- 19-MFCCs11m: double (nullable = true)\n",
      " |-- 20-MFCCs12m: double (nullable = true)\n",
      " |-- 21-MFCCs13m: double (nullable = true)\n",
      " |-- 22-ChromaVector1m: double (nullable = true)\n",
      " |-- 23-ChromaVector2m: double (nullable = true)\n",
      " |-- 24-ChromaVector3m: double (nullable = true)\n",
      " |-- 25-ChromaVector4m: double (nullable = true)\n",
      " |-- 26-ChromaVector5m: double (nullable = true)\n",
      " |-- 27-ChromaVector6m: double (nullable = true)\n",
      " |-- 28-ChromaVector7m: double (nullable = true)\n",
      " |-- 29-ChromaVector8m: double (nullable = true)\n",
      " |-- 30-ChromaVector9m: double (nullable = true)\n",
      " |-- 31-ChromaVector10m: double (nullable = true)\n",
      " |-- 32-ChromaVector11m: double (nullable = true)\n",
      " |-- 33-ChromaVector12m: double (nullable = true)\n",
      " |-- 34-ChromaDeviationm: double (nullable = true)\n",
      " |-- 35-ZCRstd: double (nullable = true)\n",
      " |-- 36-Energystd: double (nullable = true)\n",
      " |-- 37-EnergyEntropystd: double (nullable = true)\n",
      " |-- 38-SpectralCentroidstd: double (nullable = true)\n",
      " |-- 39-SpectralSpreadstd: double (nullable = true)\n",
      " |-- 40-SpectralEntropystd: double (nullable = true)\n",
      " |-- 41-SpectralFluxstd: double (nullable = true)\n",
      " |-- 42-SpectralRolloffstd: double (nullable = true)\n",
      " |-- 43-MFCCs1std: double (nullable = true)\n",
      " |-- 44-MFCCs2std: double (nullable = true)\n",
      " |-- 45-MFCCs3std: double (nullable = true)\n",
      " |-- 46-MFCCs4std: double (nullable = true)\n",
      " |-- 47-MFCCs5std: double (nullable = true)\n",
      " |-- 48-MFCCs6std: double (nullable = true)\n",
      " |-- 49-MFCCs7std: double (nullable = true)\n",
      " |-- 50-MFCCs8std: double (nullable = true)\n",
      " |-- 51-MFCCs9std: double (nullable = true)\n",
      " |-- 52-MFCCs10std: double (nullable = true)\n",
      " |-- 53-MFCCs11std: double (nullable = true)\n",
      " |-- 54-MFCCs12std: double (nullable = true)\n",
      " |-- 55-MFCCs13std: double (nullable = true)\n",
      " |-- 56-ChromaVector1std: double (nullable = true)\n",
      " |-- 57-ChromaVector2std: double (nullable = true)\n",
      " |-- 58-ChromaVector3std: double (nullable = true)\n",
      " |-- 59-ChromaVector4std: double (nullable = true)\n",
      " |-- 60-ChromaVector5std: double (nullable = true)\n",
      " |-- 61-ChromaVector6std: double (nullable = true)\n",
      " |-- 62-ChromaVector7std: double (nullable = true)\n",
      " |-- 63-ChromaVector8std: double (nullable = true)\n",
      " |-- 64-ChromaVector9std: double (nullable = true)\n",
      " |-- 65-ChromaVector10std: double (nullable = true)\n",
      " |-- 66-ChromaVector11std: double (nullable = true)\n",
      " |-- 67-ChromaVector12std: double (nullable = true)\n",
      " |-- 68-ChromaDeviationstd: double (nullable = true)\n",
      " |-- 69-BPM: double (nullable = true)\n",
      " |-- 70-BPMconf: double (nullable = true)\n",
      " |-- 71-BPMessentia: double (nullable = true)\n",
      " |-- class: string (nullable = true)\n",
      " |-- label_str: string (nullable = true)\n",
      " |-- label: double (nullable = false)\n",
      "\n"
     ]
    }
   ],
   "source": [
    "numeric_inputs = []\n",
    "string_inputs = []\n",
    "for column in input_columns:\n",
    "    if str(indexed.schema[column].dataType) == 'StringType':\n",
    "        indexer = StringIndexer(inputCol = column, outputCol=column+'_num')\n",
    "        indexed = indexer.fit(indexed).transform(indexed)\n",
    "        new_col_name = column+'_num'\n",
    "        string_inputs.append(new_col_name)\n",
    "    else:\n",
    "        numeric_inputs.append(column)\n",
    "indexed.printSchema()"
   ]
  },
  {
   "cell_type": "markdown",
   "metadata": {},
   "source": [
    "#### Skewness"
   ]
  },
  {
   "cell_type": "code",
   "execution_count": 11,
   "metadata": {},
   "outputs": [
    {
     "name": "stdout",
     "output_type": "stream",
     "text": [
      "7-SpectralFluxm  has been treated for pos skew 1.6396138160129063\n",
      "22-ChromaVector1m  has been treated for pos skew 2.4162415204309258\n",
      "23-ChromaVector2m  has been treated for pos skew 4.154796693680583\n",
      "24-ChromaVector3m  has been treated for pos skew 1.1974019617504328\n",
      "25-ChromaVector4m  has been treated for pos skew 2.446635863594906\n",
      "26-ChromaVector5m  has been treated for pos skew 2.154482876187508\n",
      "27-ChromaVector6m  has been treated for pos skew 2.01234064472543\n",
      "28-ChromaVector7m  has been treated for pos skew 1.1829228989215521\n",
      "29-ChromaVector8m  has been treated for pos skew 3.7372643733999955\n",
      "30-ChromaVector9m  has been treated for pos skew 2.4117416421548645\n",
      "31-ChromaVector10m  has been treated for pos skew 2.1979538518563233\n",
      "32-ChromaVector11m  has been treated for pos skew 2.1924295373960554\n",
      "33-ChromaVector12m  has been treated for pos skew 2.278981912155668\n",
      "41-SpectralFluxstd  has been treated for pos skew 1.8577721462401056\n",
      "56-ChromaVector1std  has been treated for pos skew 1.9111935514138085\n",
      "57-ChromaVector2std  has been treated for pos skew 2.9078740765487394\n",
      "59-ChromaVector4std  has been treated for pos skew 2.9677243313898827\n",
      "60-ChromaVector5std  has been treated for pos skew 2.3681450229993315\n",
      "61-ChromaVector6std  has been treated for pos skew 2.3950817653605396\n",
      "63-ChromaVector8std  has been treated for pos skew 2.801578595136121\n",
      "64-ChromaVector9std  has been treated for pos skew 1.7779798465610313\n",
      "65-ChromaVector10std  has been treated for pos skew 1.9944501757850421\n",
      "66-ChromaVector11std  has been treated for pos skew 1.1835182964170816\n",
      "67-ChromaVector12std  has been treated for pos skew 2.087086908618814\n",
      "69-BPM  has been treated for pos skew 2.9547734198613234\n",
      "70-BPMconf  has been treated for pos skew 1.0889332324135428\n"
     ]
    }
   ],
   "source": [
    "d= {}\n",
    "for col in numeric_inputs:\n",
    "    d[col]=indexed.approxQuantile(col,[0.01, 0.99], 0.25)\n",
    "\n",
    "for col in numeric_inputs:\n",
    "    skew = indexed.agg(skewness(indexed[col])).collect()\n",
    "    skew=skew[0][0]\n",
    "    if skew > 1:\n",
    "        indexed = indexed.withColumn(col, \\\n",
    "                                    log(when(df[col] < d[col][0], d[col][0])\\\n",
    "                                       .when(indexed[col]> d[col][1], d[col][1])\\\n",
    "                                       .otherwise(indexed[col])+1).alias(col))\n",
    "        print(col, \" has been treated for pos skew\", skew)\n",
    "    elif skew < -1:\n",
    "        indexed = indexed.withColumn(col, \\\n",
    "                                    exp(when(df[col] < d[col][0], d[col][0])\\\n",
    "                                       .when(indexed[col]> d[col][1], d[col][1])\\\n",
    "                                       .otherwise(indexed[col])+1).alias(col))\n",
    "        print(col, \" has been treated for neg skew\", skew)"
   ]
  },
  {
   "cell_type": "code",
   "execution_count": 12,
   "metadata": {},
   "outputs": [
    {
     "data": {
      "text/plain": [
       "-30.3789543716"
      ]
     },
     "execution_count": 12,
     "metadata": {},
     "output_type": "execute_result"
    }
   ],
   "source": [
    "minimums = df.select([min(c).alias(c) for c in df.columns if c in numeric_inputs])\n",
    "min_array = minimums.select(array(numeric_inputs).alias('mins'))\n",
    "df_minimum = min_array.select(array_min(min_array.mins)).collect()\n",
    "df_minimum = df_minimum[0][0]\n",
    "df_minimum"
   ]
  },
  {
   "cell_type": "code",
   "execution_count": 13,
   "metadata": {},
   "outputs": [],
   "source": [
    "features_list = numeric_inputs + string_inputs\n",
    "assembler = VectorAssembler(inputCols=features_list, outputCol='features')\n",
    "output = assembler.transform(indexed).select('features','label')\n"
   ]
  },
  {
   "cell_type": "code",
   "execution_count": 14,
   "metadata": {},
   "outputs": [
    {
     "name": "stdout",
     "output_type": "stream",
     "text": [
      "+--------------------+-----+\n",
      "|            features|label|\n",
      "+--------------------+-----+\n",
      "|[0.136439587512,0...|  0.0|\n",
      "|[0.117038518483,0...|  0.0|\n",
      "|[0.0853077737447,...|  0.0|\n",
      "|[0.103049917216,0...|  0.0|\n",
      "|[0.151729948738,0...|  0.0|\n",
      "|[0.127046737192,0...|  0.0|\n",
      "|[0.123395302003,0...|  0.0|\n",
      "|[0.140027382431,0...|  0.0|\n",
      "|[0.117635200751,0...|  0.0|\n",
      "|[0.137400181488,0...|  0.0|\n",
      "|[0.148838734199,0...|  0.0|\n",
      "|[0.119846749928,0...|  0.0|\n",
      "|[0.0786813648231,...|  0.0|\n",
      "|[0.138335144235,0...|  0.0|\n",
      "|[0.101304207661,0...|  0.0|\n",
      "|[0.132862180406,0...|  0.0|\n",
      "|[0.1533035231,0.1...|  0.0|\n",
      "|[0.118001599962,0...|  0.0|\n",
      "|[0.110992493712,0...|  0.0|\n",
      "|[0.124299777916,0...|  0.0|\n",
      "+--------------------+-----+\n",
      "only showing top 20 rows\n",
      "\n"
     ]
    }
   ],
   "source": [
    "output.show()"
   ]
  },
  {
   "cell_type": "code",
   "execution_count": 15,
   "metadata": {},
   "outputs": [],
   "source": [
    "scaler = MinMaxScaler(inputCol='features', outputCol='scaledFeatures', min = 0, max=1000)\n",
    "scalerModel = scaler.fit(output)\n",
    "scaled_data= scalerModel.transform(output)"
   ]
  },
  {
   "cell_type": "code",
   "execution_count": 16,
   "metadata": {},
   "outputs": [
    {
     "name": "stdout",
     "output_type": "stream",
     "text": [
      "+--------------------+-----+--------------------+\n",
      "|            features|label|      scaledFeatures|\n",
      "+--------------------+-----+--------------------+\n",
      "|[0.136439587512,0...|  0.0|[519.818266700239...|\n",
      "|[0.117038518483,0...|  0.0|[435.295463992565...|\n",
      "|[0.0853077737447,...|  0.0|[297.057129121742...|\n",
      "|[0.103049917216,0...|  0.0|[374.352647734368...|\n",
      "|[0.151729948738,0...|  0.0|[586.432337466259...|\n",
      "|[0.127046737192,0...|  0.0|[478.897323979332...|\n",
      "|[0.123395302003,0...|  0.0|[462.989461602348...|\n",
      "|[0.140027382431,0...|  0.0|[535.448873531282...|\n",
      "|[0.117635200751,0...|  0.0|[437.894973202184...|\n",
      "|[0.137400181488,0...|  0.0|[524.003195633498...|\n",
      "|[0.148838734199,0...|  0.0|[573.836456502165...|\n",
      "|[0.119846749928,0...|  0.0|[447.529820358620...|\n",
      "|[0.0786813648231,...|  0.0|[268.188480022892...|\n",
      "|[0.138335144235,0...|  0.0|[528.076459415282...|\n",
      "|[0.101304207661,0...|  0.0|[366.747280005321...|\n",
      "|[0.132862180406,0...|  0.0|[504.232915471732...|\n",
      "|[0.1533035231,0.1...|  0.0|[593.287780078539...|\n",
      "|[0.118001599962,0...|  0.0|[439.491229994906...|\n",
      "|[0.110992493712,0...|  0.0|[408.955319636547...|\n",
      "|[0.124299777916,0...|  0.0|[466.929906277539...|\n",
      "+--------------------+-----+--------------------+\n",
      "only showing top 20 rows\n",
      "\n"
     ]
    }
   ],
   "source": [
    "scaled_data.show()"
   ]
  },
  {
   "cell_type": "code",
   "execution_count": 17,
   "metadata": {},
   "outputs": [],
   "source": [
    "final_data=scaled_data.select('label', 'scaledFeatures')\n",
    "final_data = final_data.withColumnRenamed('scaledFeatures', 'features')"
   ]
  },
  {
   "cell_type": "code",
   "execution_count": 18,
   "metadata": {},
   "outputs": [],
   "source": [
    "train, test= final_data.randomSplit([0.7, 0.3])"
   ]
  },
  {
   "cell_type": "code",
   "execution_count": 19,
   "metadata": {},
   "outputs": [
    {
     "data": {
      "text/plain": [
       "1542"
      ]
     },
     "execution_count": 19,
     "metadata": {},
     "output_type": "execute_result"
    }
   ],
   "source": [
    "train.count()"
   ]
  },
  {
   "cell_type": "code",
   "execution_count": 20,
   "metadata": {},
   "outputs": [
    {
     "data": {
      "text/plain": [
       "758"
      ]
     },
     "execution_count": 20,
     "metadata": {},
     "output_type": "execute_result"
    }
   ],
   "source": [
    "test.count()"
   ]
  },
  {
   "cell_type": "markdown",
   "metadata": {},
   "source": [
    "### Modeling"
   ]
  },
  {
   "cell_type": "code",
   "execution_count": 22,
   "metadata": {},
   "outputs": [],
   "source": [
    "from pyspark.ml.classification import *\n",
    "from pyspark.ml.evaluation import *\n",
    "from pyspark.sql.functions import *\n",
    "from pyspark.ml.tuning import CrossValidator, ParamGridBuilder"
   ]
  },
  {
   "cell_type": "code",
   "execution_count": 23,
   "metadata": {},
   "outputs": [],
   "source": [
    "Bin_evaluator = BinaryClassificationEvaluator(rawPredictionCol='prediction')\n",
    "MC_evaluator = MulticlassClassificationEvaluator(metricName='accuracy')"
   ]
  },
  {
   "cell_type": "code",
   "execution_count": null,
   "metadata": {},
   "outputs": [],
   "source": []
  },
  {
   "cell_type": "markdown",
   "metadata": {},
   "source": [
    "### Logit"
   ]
  },
  {
   "cell_type": "code",
   "execution_count": 24,
   "metadata": {},
   "outputs": [
    {
     "name": "stdout",
     "output_type": "stream",
     "text": [
      "Intercept: [-0.03104983004448102,-0.038428531281883775,-0.022001324082627918,0.00709561457789455,0.029615151579420754,-0.02629458790663195,0.025654467757890802,-0.018218998451222105,-0.10066197359292689,0.01483491625043558,-0.10651904137627013,-0.05562154550470953,0.03145330183031093,6.808826114114891e-05,0.024225357003700203,-0.005416235348866503,0.04892804719922859,0.03279665219289679,0.0023942968736978144,0.0029301810273619842,0.12653773119838008,-0.054488162324710966,0.11216642416197156]\n",
      "Coefficients: \n",
      "DenseMatrix([[ 5.53467255e-04,  2.34584211e-03,  2.13934111e-03, ...,\n",
      "              -1.79073279e-03, -6.98152751e-04,  1.78029467e-03],\n",
      "             [-3.19102280e-04, -2.60925678e-04, -1.46814209e-04, ...,\n",
      "               4.47028155e-03, -3.40749700e-03,  2.54846963e-03],\n",
      "             [-5.66652158e-04,  2.76863352e-04,  1.30480733e-03, ...,\n",
      "              -3.35299419e-03,  3.84047476e-04, -1.61011355e-03],\n",
      "             ...,\n",
      "             [-5.97643001e-05, -8.66986553e-04, -2.34401688e-04, ...,\n",
      "              -2.51019768e-03,  8.62341052e-04,  1.25968095e-03],\n",
      "             [-1.90654757e-04, -5.34859850e-04, -6.93946858e-04, ...,\n",
      "              -2.09559556e-03,  9.16309028e-04,  1.10036023e-03],\n",
      "             [ 1.26731224e-03, -1.95385519e-03,  3.18726700e-03, ...,\n",
      "              -9.82033505e-04,  1.11289796e-03,  2.53170860e-03]])\n",
      "42.61213720316623\n"
     ]
    }
   ],
   "source": [
    "classifier= LogisticRegression()\n",
    "\n",
    "paramGrid = (ParamGridBuilder().addGrid(classifier.maxIter, [10, 15,20]).build())\n",
    "\n",
    "crossval = CrossValidator(estimator=classifier,\n",
    "                         estimatorParamMaps=paramGrid,\n",
    "                         evaluator=MC_evaluator,\n",
    "                         numFolds=2)\n",
    "\n",
    "fitModel = crossval.fit(train)\n",
    "BestModel = fitModel.bestModel\n",
    "\n",
    "print('Intercept: ' +str(BestModel.interceptVector))\n",
    "print('Coefficients: \\n' + str(BestModel.coefficientMatrix))\n",
    "\n",
    "LR_BestModel = BestModel\n",
    "\n",
    "predictions=fitModel.transform(test)\n",
    "accuracy = (MC_evaluator.evaluate(predictions))*100\n",
    "\n",
    "print(accuracy)\n"
   ]
  },
  {
   "cell_type": "code",
   "execution_count": 25,
   "metadata": {},
   "outputs": [
    {
     "name": "stdout",
     "output_type": "stream",
     "text": [
      "+--------------------+--------------------+\n",
      "|             feature|               coeff|\n",
      "+--------------------+--------------------+\n",
      "|              1-ZCRm|5.534672548442998E-4|\n",
      "|           2-Energym|0.002345842112034337|\n",
      "|    3-EnergyEntropym|0.002139341110883...|\n",
      "| 4-SpectralCentroidm|7.994319519025507E-4|\n",
      "|   5-SpectralSpreadm|0.001391952828275...|\n",
      "|  6-SpectralEntropym|0.001018927416613...|\n",
      "|     7-SpectralFluxm|-0.00198236406404...|\n",
      "|  8-SpectralRolloffm|3.924082428112009...|\n",
      "|           9-MFCCs1m|0.003862276911599268|\n",
      "|          10-MFCCs2m|-0.00161731856750...|\n",
      "|          11-MFCCs3m|-3.37369240679970...|\n",
      "|          12-MFCCs4m|-7.19782834790417...|\n",
      "|          13-MFCCs5m|-4.72482412778606...|\n",
      "|          14-MFCCs6m|-1.92152670244053...|\n",
      "|          15-MFCCs7m|-2.09017086414245...|\n",
      "|          16-MFCCs8m|-7.30984681635879...|\n",
      "|          17-MFCCs9m|-7.81897691117023...|\n",
      "|         18-MFCCs10m|0.001141793014895319|\n",
      "|         19-MFCCs11m| 2.70643996825311E-4|\n",
      "|         20-MFCCs12m|7.480612799632556E-6|\n",
      "|         21-MFCCs13m|-9.85416613754075...|\n",
      "|   22-ChromaVector1m|6.000322032082697E-4|\n",
      "|   23-ChromaVector2m|-0.00151099845301...|\n",
      "|   24-ChromaVector3m|9.639909317845699E-4|\n",
      "|   25-ChromaVector4m|-0.00116873037044...|\n",
      "|   26-ChromaVector5m|-7.82721906144897...|\n",
      "|   27-ChromaVector6m|1.672080232382016E-4|\n",
      "|   28-ChromaVector7m|-0.00146725609982...|\n",
      "|   29-ChromaVector8m|-1.67792451103090...|\n",
      "|   30-ChromaVector9m|7.437450497285249E-4|\n",
      "|  31-ChromaVector10m|-1.14269888486966...|\n",
      "|  32-ChromaVector11m|-9.88266864139833E-4|\n",
      "|  33-ChromaVector12m|7.877330258263323E-4|\n",
      "| 34-ChromaDeviationm|-6.94745982220999...|\n",
      "|           35-ZCRstd|-0.00131143828678...|\n",
      "|        36-Energystd|1.918458907361882...|\n",
      "| 37-EnergyEntropystd|-0.00163919590957...|\n",
      "|38-SpectralCentro...|-0.00194758130274...|\n",
      "|39-SpectralSpreadstd|-0.00192356718394...|\n",
      "|40-SpectralEntrop...|-6.67403853812557...|\n",
      "|  41-SpectralFluxstd|-0.00197967410402...|\n",
      "|42-SpectralRollof...|-8.75000951151124...|\n",
      "|        43-MFCCs1std|-0.00148020254235...|\n",
      "|        44-MFCCs2std|-0.00192309178423...|\n",
      "|        45-MFCCs3std|-9.56995039952119...|\n",
      "|        46-MFCCs4std|-5.35932666149013...|\n",
      "|        47-MFCCs5std|-4.71645354082285...|\n",
      "|        48-MFCCs6std|-6.94806229321901...|\n",
      "|        49-MFCCs7std|-2.78605338574751...|\n",
      "|        50-MFCCs8std|4.500237108914518E-4|\n",
      "|        51-MFCCs9std|2.800430662907863...|\n",
      "|       52-MFCCs10std|4.854411093619134E-4|\n",
      "|       53-MFCCs11std|6.465312839675231E-4|\n",
      "|       54-MFCCs12std| 6.43485977156599E-4|\n",
      "|       55-MFCCs13std|2.291964313112562E-4|\n",
      "| 56-ChromaVector1std|1.035008258136288...|\n",
      "| 57-ChromaVector2std|-7.71182138827602...|\n",
      "| 58-ChromaVector3std|7.104621877075215E-4|\n",
      "| 59-ChromaVector4std|-0.00139495358427...|\n",
      "| 60-ChromaVector5std|-0.00139965188501...|\n",
      "| 61-ChromaVector6std|-1.38800378744163...|\n",
      "| 62-ChromaVector7std|-6.10888415474122...|\n",
      "| 63-ChromaVector8std|3.606009715325363...|\n",
      "| 64-ChromaVector9std|6.264778899203047E-4|\n",
      "|65-ChromaVector10std|-2.63956926549956...|\n",
      "|66-ChromaVector11std|-9.15695958970028...|\n",
      "|67-ChromaVector12std|7.233149323475765E-4|\n",
      "|68-ChromaDeviatio...|-1.51801746042374...|\n",
      "|              69-BPM|-0.00179073278829...|\n",
      "|          70-BPMconf|-6.98152751201759...|\n",
      "|      71-BPMessentia| 0.00178029467495695|\n",
      "+--------------------+--------------------+\n",
      "\n"
     ]
    }
   ],
   "source": [
    "\n",
    "coeff_array = BestModel.coefficientMatrix.toArray()\n",
    "coeff_scores = []\n",
    "for x in coeff_array[0]:\n",
    "    coeff_scores.append(float(x))\n",
    "\n",
    "result = spark.createDataFrame(zip(input_columns,coeff_scores), schema=['feature','coeff'])\n",
    "result.show(100)"
   ]
  },
  {
   "cell_type": "markdown",
   "metadata": {},
   "source": [
    "### One Vs Rest Classifier"
   ]
  },
  {
   "cell_type": "code",
   "execution_count": 26,
   "metadata": {},
   "outputs": [
    {
     "name": "stdout",
     "output_type": "stream",
     "text": [
      "\u001b[1mIntercept: \u001b[0m -5.883843652842539 \u001b[1m\n",
      "Coefficients:\u001b[0m [-8.873191421856737e-05,0.001578533880308014,0.0018473890016661566,-0.00021297003760045228,0.002117392347778086,0.000614602852798278,-0.0014825429713786794,-0.0005986979506783181,0.004221411526926817,-0.0011329618139343561,0.0008278956200117906,0.00047797643930793575,-8.260412464857321e-05,-0.00035922132428955426,0.00020568231914626185,-0.0006875910098533727,-0.0018690251449266302,0.0015708668154802861,-0.00016600446977813567,0.0006429138057868993,-0.001542245446465967,0.001219442312357794,-0.0026332883116698532,0.0009154958815145765,-0.0013379917283713016,-0.0001995669825103106,0.0004551743261514774,-0.0016589206878034198,-0.0023464294832659122,0.0002256935670247355,-4.584588859374557e-05,-0.00042313741744579107,0.00032606839288655033,-0.0018685632905306995,-0.0019584170965785026,0.0002615250050379769,-0.00032825905787346813,-0.0018977035110700172,-0.0010511746349675902,0.0002750299267046536,-0.0003339093131621355,-0.0007483734649882756,0.0016742354323238577,-0.0026921382515085806,-0.0002840335464323145,0.000517156478388694,4.769586565682135e-05,-0.0015722134687760727,-0.00041194572158150184,0.0009830901959734077,0.0001564585385805638,0.00046452538911248884,0.0005586949903279295,0.0009299826418641887,-0.0002708561454861969,0.00011974524586775965,-0.00043762271149102574,0.0013098253230291704,-0.0017022577705492364,-0.0012018614134329808,0.0008063790330580503,0.0004872162645709836,-1.4258239466664542e-05,0.0012140726129201234,-1.8987880887490253e-05,-0.0005314463157668724,0.0013253453431979797,-6.503674739112136e-05,-0.003473278988883736,-0.0017799907895904318,0.002010272328708279]\n",
      "\u001b[1mIntercept: \u001b[0m -4.5628336760414925 \u001b[1m\n",
      "Coefficients:\u001b[0m [-0.0011771844390604251,-0.0009094863344453539,0.0006571902706417193,-0.00024048691215378562,0.0016834356542212731,-0.0003976233102362264,-0.0006323400152947597,-0.0009423214260843025,-0.0005126602002944171,-0.0007736138445601646,0.001239080191438576,0.00010293939379504884,-0.0007093050141421355,-0.0004452557359354936,-8.57328749868381e-05,0.0008012378396290767,-0.002024330310764467,-0.0004855740212633052,-0.0018181550261072753,-0.0015928845694629325,0.0002763292510107193,-0.00034153500575872007,-0.00017846099496371723,0.001633099609166706,-0.0025937706047010466,-0.001969699550654097,-0.0004265275454705791,0.001343031859427246,0.0008199014557725879,-0.0005320212908073873,-0.00025006150653422157,-0.00023966094919563986,-0.0015003127916989928,0.0013968052121199046,-0.00037335788737269534,-0.0011196997123616072,-0.0010771064325445759,-0.0003448092148705284,-0.00119752522520673,0.0028015539733423057,-0.0004766564504844103,0.0011979120296459168,0.0003566908944335022,0.0017915940619202039,0.00011655850018476037,0.0005431964143409695,-0.0002138288692169644,0.0005291721193071768,0.0015023013427170329,-0.0006568439949492372,-0.0003902839248604974,0.0001413866372434385,0.00045462643054072305,0.0007368763394970815,0.00014080480142406076,-0.002043817670299399,0.00015004760463545737,-0.0007280540501509776,-0.0027872865620637375,0.0001974222665300202,0.0004060677707050045,0.0003521465981447984,-0.0004098673471404614,0.001249584081934454,0.0008861497740680984,0.0004734414658009051,-0.0004094424070534204,0.0006869326597384134,0.0030294411657899975,-0.004916589092079793,0.004230042759621703]\n",
      "\u001b[1mIntercept: \u001b[0m -5.745980734008316 \u001b[1m\n",
      "Coefficients:\u001b[0m [-0.00028597910645910586,-7.324291346071148e-05,0.0027413378008004927,-0.0014181209395237036,-8.965625519611262e-05,-0.00044041667362177225,-0.002369445241824826,-0.0008565476494234243,0.0008036392828796495,0.001148185392638634,0.0001374737938769131,0.0025014127632386036,-0.00012925806831158964,-0.00042708692267852703,-0.002704352370184839,0.0008352500747523164,0.0017997941043104526,-0.0013538210843649047,-0.0003960604556806566,0.0005499105467980155,-0.001951944463068022,0.001304202280828357,-0.00038173361944103285,0.00011975407597730212,0.00031627929787289826,-0.00024227842568939168,-0.0007760483159309065,0.0009524138082537477,0.00017679952859046944,0.0011418918771433058,0.00033621221979553086,0.0001516912814739622,-0.00018163622632524456,-0.00029601686844252337,0.0006873683057113426,0.0015431739748109268,-0.003101780610862173,0.0009166772653969461,0.0012360314320326539,0.0011144794205983771,-0.00112913884464908,0.0010681556167213484,-0.002168640505914316,0.0004366664049221171,0.0006662535951027407,-0.00021007093978822126,-0.0014094368748045626,-0.0003678754941941835,0.0006890700950341958,0.0013777424429900391,0.0015226396999313309,0.001445566436946058,-0.0006340686443005043,0.0008007091261249511,0.0015166224386993527,-0.000955458807962395,0.0013368474956006165,-0.00013018470903359734,0.0001267537557325779,0.0003415609854349808,0.00032881432694878676,0.00015231341507494095,0.00234997032192704,0.001229671859284795,-0.0011849839312054059,-0.001123651881030029,0.0006071266656601388,-0.0013529691249519176,-0.00395986171262467,9.74107330628044e-05,-0.0013974110604949438]\n",
      "\u001b[1mIntercept: \u001b[0m -1.839836145292956 \u001b[1m\n",
      "Coefficients:\u001b[0m [-0.000968075541656065,-0.00348524380174278,0.0005549572536446736,-0.0012246223930937777,0.0007493117137739497,-0.0010332627760833255,-0.0020357089084893456,-0.0010772483935159748,-0.003118287790442557,0.0025169831115370326,0.002398711753107009,0.00038060986610549306,-0.001358299154733133,5.628178495985368e-05,-0.0009154669423314537,0.0005935716528468372,-0.002453407773828028,0.00033534972562445774,-0.0015008136816656527,0.0005335877768028672,-0.0006220914038744829,0.000519221648184898,0.003063675424638875,-0.00010997356667990999,0.00021734341880198194,0.0007313975839531745,0.0010125331118199393,0.0003734662579114169,0.004013072627993643,-0.0007550013244311373,0.0003388140181438862,0.0006743197174718397,0.0006709754014604556,0.00031522622763117486,0.000932810867924391,0.0018120638420663956,-0.0002244584192979051,0.0024090631141648754,7.545068036179652e-06,0.00028105982165000526,-2.770643621498067e-05,-5.2031394671498435e-05,-0.0021888543957522275,-0.0010759944702064877,-0.001753983585398033,0.00018904732207645675,0.001543359676802835,-0.00029230057220950927,-0.0006737304958564136,0.0008862640896111468,-0.0017283778981483228,0.00028252636212201354,0.0011504163298397254,-0.0009958202616627894,0.0011394195702741855,-0.0011836396291975723,-0.0002630930789401088,0.0013563091012313558,-0.0012087124028905634,0.0004342132592109345,-0.0002679852732318274,7.787283963378904e-06,0.00044587087932638055,0.0009497287029897002,-0.0009189012935906288,0.00015889668059323992,0.001965607101924369,-3.056010431689378e-05,-0.0026532004034167745,0.001714698747614953,0.0010872825478690565]\n",
      "\u001b[1mIntercept: \u001b[0m -2.784934434652854 \u001b[1m\n",
      "Coefficients:\u001b[0m [-0.0004705043863274069,0.00406172633140758,-0.0005545799103405525,0.0024720054523289492,0.004614290795996031,-0.0009583306514641209,-0.00045004688138197414,-0.0011196644505751022,0.0008450170687609,0.0010845651744748725,0.0005471931726487445,0.000432048607726357,-0.000259612436147053,0.0011815943875213787,-0.0023188441437178926,-0.0020680409767664747,0.0005480119421046423,-0.0015424865304558793,4.255013091663136e-05,0.0018429403051401802,-7.368962871074349e-05,-0.0001330433195154929,0.0006411518293423821,0.0011717839683290938,-0.00045224646865620977,0.0006897556639004854,-0.0012541536216194573,-0.0002644648994738174,-0.00046389049720734155,-9.26650890501519e-05,-0.001591285062263244,0.00024722198085842643,-1.2899300507928586e-05,0.0009328880382130808,-0.0008628635033309913,-0.0003071297295534791,-0.0007546784889715697,-0.0005763046731353049,-0.0019181680446373028,0.0012025041128887323,-0.001919379655770396,0.0017798323102663583,0.0031821150759952415,0.0012903257862489418,-0.0015637271819161664,-0.0012024975176566355,-7.044665765446665e-05,0.0002708307075115771,-0.00023774073418501677,-4.91597989763592e-05,-0.000405415136970497,-0.0015664186168125834,-0.0018666225783695867,-0.0006654602376551382,0.00016922841288758095,0.0002213707702621514,-0.001629941076783729,-0.00044489692097882886,0.0030570014044348686,0.0013083519524097645,-4.260170964400253e-05,-0.0020827418702769247,4.549353726593475e-05,0.00021294731986102396,-0.00029848156679199216,0.00034448952730022384,-0.00022075812111300172,-0.0008153690354967902,0.002222451729686646,-0.0018624306210723344,-0.00751998841002217]\n",
      "\u001b[1mIntercept: \u001b[0m -9.516441251527878 \u001b[1m\n",
      "Coefficients:\u001b[0m [0.0003903814752713938,0.0006179090139397072,0.0016902273507851716,0.001005468881629981,-0.0007388221097487349,0.0004182992566261592,-0.0028104930784660135,0.0016916786526481957,-0.001386545135938764,-0.0010307324679216527,0.00014146347262010227,0.00015653527719256902,0.002868626294302911,-0.0015419800628192184,0.00014367560671823705,0.0012067328119157287,0.00045806920371762314,1.3620374488889289e-05,-0.0006637203918340964,0.0018775381222293558,0.0003190357965140747,-0.0014954896380367131,-0.0004285400200216706,0.003510387540549967,0.0012509652948484024,0.0007934339296096568,0.00011762514294642106,-0.0012598087678057574,0.0015519834821401644,0.001816735047489655,-3.5800141758441367e-05,-0.0025441717231696383,-0.00015449296027181998,0.0029712529221667594,0.0011352610073207235,0.0014743401764705873,-0.0019135752663670788,-0.002989446499710635,-0.0017660283454871363,-0.00010820941747804726,-0.0012868000356387776,0.0005916718550793706,-0.001136479475767986,0.001157354484710859,0.0019423731369928446,0.0001944966649360578,0.0012491891625639186,-0.0004157516031198651,-0.0008196995786799646,0.0004602765860141556,0.0004962254096999174,0.0003461957801715226,0.0010542112054250448,-0.0003700387357932075,-0.0015820828132521137,0.00040416270156508474,-0.00016916976353013183,0.0005010633420026436,0.0007527594053109465,-0.0009527608219584222,0.0003357590735746863,-0.0013157042597288645,-0.00046178122969411716,-0.0005453350874198708,0.001625318777976139,-0.003082695116143433,-0.000815715292883237,0.0011513716591845236,0.004251109463879682,-0.0030296077230154033,0.0004420834545664452]\n",
      "\u001b[1mIntercept: \u001b[0m -4.383869749411333 \u001b[1m\n",
      "Coefficients:\u001b[0m [-0.0003264981979318088,0.002084902075927352,0.001183525356372691,0.00032851038514388327,0.001576094677642722,0.0009322718261849106,-0.001598092385767566,-0.00010547709357021965,0.003654956632018786,-0.0021298987731981486,0.0012681311438191292,0.0014810184218023382,-0.00012934679597022885,-0.0021062470166000177,-0.001782139025438429,0.00016883504232666972,-0.00018154264397290054,0.0001734041895202306,0.000918363667416433,-0.0013613483150349086,-0.0004533995040392847,0.0007863813920613299,-0.0015413879219576363,0.0002383626830499335,0.00038312655029500213,-0.0009991124924004131,0.0005088324319562137,-0.0004786932202891348,0.0009388377779693593,0.000493505744102921,0.00041475324151747043,0.00030985041534318646,-0.0024000849747816827,-0.0018795133996757298,-0.0005334125039673557,0.00032468001598985667,0.0007479110796581493,0.00014399079218822036,-0.001057930497436377,-0.0006477996621063284,0.0005987384044243482,-0.0009219030526803785,0.00207584858796017,-0.0001439451750133858,0.0006695216927468364,0.0009289928235495484,0.00039067704336914137,-0.0004294732910863017,-0.0007862671274740695,0.000357130777805592,0.0006578197310174478,-0.00035188372138943104,0.001276930138190131,-0.0006442552690365582,-0.0021528556566175663,0.00013441370358199342,0.001759769631566284,0.0011010230452394604,-0.0030022792375844036,0.00019638549804232872,-0.0007081879620685279,-0.00011676201455450749,-0.00043832924536847673,0.00015856254305771707,-0.0016394886569681914,-0.0009185673231916323,-0.0003919172572263986,-0.0005024515028153829,-0.002210303935876942,-0.0038018169016416498,0.002618866169537165]\n",
      "\u001b[1mIntercept: \u001b[0m 8.684424444641714 \u001b[1m\n",
      "Coefficients:\u001b[0m [-0.001987773776669857,-0.003117499725185195,-0.001757554989842605,-0.0020026423244022336,7.967238929160783e-05,-0.0013031882013392283,-0.003623729083402771,-0.0016220701876793605,-0.001006763590989167,0.0010916228740647303,-0.0018092038762905086,-0.0004369997450596982,-0.0013010022016314087,-3.61018689500516e-05,-0.0005419726561142774,4.390148765475522e-05,-0.0012090000448289808,0.0008055893638551148,0.0005050783289599042,-0.0035295526954203676,-0.0023652085117781482,-0.002019330490427784,0.0003030633120507474,-4.0781432913458914e-05,0.00046079393532647104,0.0019087080004762903,-0.00010684081658659779,0.00029199456935747215,-0.00258899062183295,0.0002321552756472801,0.00034561135834176653,2.130090040194419e-05,0.0017277625287704136,-0.00036934293245428527,-0.000420871199193763,0.0004592192740502672,0.0009196782855296742,-0.0004443439311800776,0.0006257059124336996,0.00012972643281631047,0.0013184011882548616,-0.000622229012430362,-0.001134554800276409,0.0005159829317235525,-0.0008031718410918008,-0.0006924433915113528,-0.001279281947093809,0.00207941287122166,-0.00021794387766494269,-0.0001888991961444071,-0.001802708598553939,0.0005722926377009974,0.000574242626774742,0.0014514490364740523,5.3410550234409e-05,-6.534257956563829e-06,0.00017670586593219326,-0.0011206752603089988,-0.0022776342627056803,-0.002174303361817412,0.0009405283382009473,0.0018099380543523172,-0.004919305139547116,-0.00011376278468444538,-0.0013204583873490676,-0.0005014795919157972,-0.0014152738938711406,4.4933784076173154e-05,0.001536485669151385,-0.0014944089377749309,-0.0023064060256348957]\n",
      "\u001b[1mIntercept: \u001b[0m -8.19110196933542 \u001b[1m\n",
      "Coefficients:\u001b[0m [0.0008583005116709557,-0.004153032226378158,-0.0015633928295383473,-0.001171627564700472,-7.956016001330121e-05,0.00047955236353937087,-0.0017623895890113307,-0.0007900502592899694,0.0009575697897256032,0.0015466432330590834,0.0013003307013366209,0.0011858959390245668,0.0010539501238682435,0.00038769284835409165,-0.001560607488366157,1.8506835506128552e-05,0.002362853881292948,-0.0009112772824634836,0.00261884392228763,-0.0006104420059253527,-0.00022191963034141448,0.0011348426044643163,-0.0010027636444555523,-0.0031738151998047183,8.411330860166167e-05,0.0008277216534226877,-0.0014429385293319573,-0.0008037161447641321,-0.0029665967527520046,-0.0016744938955908365,0.0011943621279026273,0.0015982343435520503,-0.0018756142285119176,-0.005374296709901995,0.0002582073458827823,0.001198453827801416,-0.0012747045081266393,-0.00023659636942331672,0.00042413491797269444,0.0019461001708124,-0.0022129562678839484,0.00018299324318849457,0.0009178704428565986,1.9938528664994415e-05,-0.0008173371339774573,0.0011526040368937192,-0.0019692776494642855,0.0010114693200462361,0.00131323400606842,0.0010500375772044897,0.0006613586294785355,0.0006362190066517491,8.026026691472817e-05,0.0004203695149968204,0.0027014695906541993,0.0007308951258398179,0.002536341166309337,0.0002690381632796624,0.0010225640690271905,0.0004038975502611396,-0.000479119056401983,0.002023921411311819,0.001809297749121571,0.0023994263521165764,0.0016757267728513857,-0.0002998140408471702,0.0003324696706359356,0.0017212910720583803,-0.0009511448279310102,-0.001866573893541147,-0.0006673093431305712]\n",
      "\u001b[1mIntercept: \u001b[0m -4.487612164544697 \u001b[1m\n",
      "Coefficients:\u001b[0m [-0.00046224036709472516,0.0009836390050242437,0.0037720829718981123,-0.00038755948638425345,-0.0017464852194658774,1.0122113451098153e-05,-0.0009320270748250891,-0.00031271452881034774,0.004049433659514528,-0.0002524951365387139,-0.0010327527159176531,-0.0004358114946681259,-0.0010978665242552042,-0.0017368652207199503,-0.0012346375806010926,0.00023755056660897174,0.0008951191614604301,-0.0017100647715323554,-0.0004363817375802287,-0.0004604420956354379,-0.0006939021559603718,0.00034198425640186137,0.0013067746997157748,-0.0013179617403452544,0.0006047216603075508,-0.0008914145172384505,0.0005278998150335331,-9.127579452589881e-06,-0.0010827650882813292,0.00023087709947561315,-0.001290562660786749,-0.0007993172299609889,-0.00045051935676144203,-0.0019385013755653195,-3.057722334884462e-05,0.001013479814446558,-0.000637465569918902,0.001809319145794381,0.00018225943171752576,0.0009029948229470785,0.0017515337986445684,0.0011163538463191732,0.002453047973373439,0.0004303104864665726,-0.0009094554117873989,0.0006686881596704275,-0.0009649809530335864,-0.001803089535537309,0.000736423308114334,-0.00042498362861570065,-0.00040811990161989704,0.00030934165932773247,0.0005803671299380821,0.0013336483337012418,0.0008738619868578468,-0.0012100839181659604,0.0013069730792615902,0.001587747796864224,-0.00025647562281079115,0.0010177762395133878,-0.0004694763091748721,0.0012172621159107068,0.0023143976052117233,-0.00048771922965121293,-0.0024346615917900704,-0.001573862426819106,0.001053102671756747,-0.001454872099671608,-0.0037943993986018242,-0.001333946742182914,0.0021871569156350383]\n",
      "\u001b[1mIntercept: \u001b[0m -7.0163799843297525 \u001b[1m\n",
      "Coefficients:\u001b[0m [0.0002798614724928257,-0.0007275287822992686,-0.0005788580494223957,-5.009467814574107e-06,0.0005530601219078601,0.0003739151856398034,-0.0015330154639896132,-0.0005728001261599408,0.0026742023924180734,-0.001145321580654957,0.0012708711442815498,-0.0001851362370630416,0.00019380894346103964,0.0003569282359916198,-0.00040549297623490246,-5.709343934227108e-06,-5.544105846531788e-05,0.002265937926190117,-0.00014943651346332974,-0.0017069716887759723,0.0017082690850982129,-0.0007100207655157047,-0.0010407558528842931,0.0001900936678645028,-0.001796595182179382,-0.00021955043169736318,0.0004182460957066935,0.0003688062278542668,-0.0008767072099773488,-7.725752616378235e-05,-0.00018304263448430002,0.0020159402838010303,-0.0016487070999394017,-0.00047713082874544627,0.0006580994623102123,-0.00013455543799965083,-0.00018724201315869403,4.574071405695695e-05,0.00010250846065783996,4.680819439695519e-05,0.0007985854763417684,-0.00032733412237086163,0.0012949170080959983,-0.0013184500587152504,0.0017301940788301195,9.09877777706636e-05,-0.0010275485857629424,0.0006199883560170237,0.0005736469802617065,0.0012579647825446175,0.00016315744244690573,0.0007682504228637128,0.0013930714363703013,-0.0004474368653360767,-0.0008498301289046243,0.005096785719931303,-0.00026792831149285735,0.0011440213075420925,0.0010524763916399404,0.00030703667784535505,-6.653270260746183e-05,0.0012519764956832413,-0.001732031684303318,-0.0010533060379702103,0.0005589477806782288,0.0007149993647763443,7.105969040395333e-05,-0.0009381547179386069,0.001526869282040051,-0.005022179580270128,-0.003030416772009802]\n",
      "\u001b[1mIntercept: \u001b[0m -8.759036080862304 \u001b[1m\n",
      "Coefficients:\u001b[0m [0.0008223035587337742,0.002087945129024131,0.0012358639007547377,0.00035371724704673585,0.0013105001085227709,0.00048696744313937105,-0.0012715667565418648,0.00016422904637263046,0.0024909004818685363,-8.023452487895726e-05,-0.0016213741807950684,-0.0015320791933862887,0.000693512441107675,0.001730818638492361,0.0012329849472685842,0.0006306908941367473,-0.0011126209830879196,-8.248627934585868e-05,-0.0008458612046219387,-0.0025119570517023434,-0.000807012658010962,-0.0011392624031519713,-0.0013104841113530802,-0.000385331720562059,0.0020769607518755402,-0.0008785187585687874,-0.0008030833783977869,0.0003581664877687782,-0.00022680070847655114,-0.0015485976239924184,0.0001579731442548375,-0.0007003479841250314,0.0001870902915369374,-0.0008059348916770146,0.00018423532059951643,-0.001012478098364541,-0.0011459468039549015,-0.0015923364231356515,-0.0019737171711775832,-0.0005655888063754925,-0.002852617872286516,-0.0009199002732603375,-0.00306277630878571,-0.0014522828295148876,-0.00040966522845806396,0.0007920607738296266,0.0007758829249006633,0.0011961609062499856,-7.219896411717598e-05,-0.0002733096093853438,0.0003734741558605188,0.0015345333439803028,0.0001501508745793133,-0.0006688188220971186,0.00012831629018659292,-0.0013631903946052521,-0.0006956457109833916,0.00045480300166566526,-2.232358831619591e-05,-0.0013933208095507977,-0.00018047312194768018,-0.00034813642658393346,0.0024910536516479865,0.00015050227831233968,-2.345332025792186e-06,-0.0014257825709760043,0.0016096575621773817,0.001635152772823597,0.0027051250350138157,0.007326650804505109,0.0013192022758764365]\n",
      "\u001b[1mIntercept: \u001b[0m 10.295017320893527 \u001b[1m\n",
      "Coefficients:\u001b[0m [0.0016853156880662818,0.0038053517455032553,-0.002187852654523906,0.00024694978124956184,-0.0016000304465975872,-0.00017825822032617176,0.0032961313969787735,0.00015495764598268724,-0.0028775179242157356,-0.0014379324675788962,-0.0007889737792741988,-0.0009571647769725383,0.0030657907970420444,-0.00022857269908187214,0.0018853742380951514,-0.001488298706926318,-0.0014926726727843044,-0.00057233438133797,-0.0008679705161642071,-0.0024355136749136534,0.00047592663281577146,-0.0025972089813341977,-0.0005759129461948807,-0.0004199735057130005,-0.001532789535866085,-0.002250737239843149,-0.0005706386720341918,0.0009108182631251934,0.00038968620676167916,-0.00022441095042608305,-0.0025739011964436647,-0.0003244069251060247,6.515362571582158e-05,-0.0007945347069208784,1.116631132381124e-05,-0.0016360876869030943,-0.0010002822190637755,0.0013147140781099732,-0.000726766073415205,-0.0009061882719568789,-0.00134594524780767,-0.0009908110175286084,-0.0016956359662445375,0.0005850023089235213,0.0020027701581602085,-0.0012197828771949623,-0.0010160085259050236,-0.0016980230410512226,-0.00023852260643690497,-0.0019565115602438164,-0.0022807194145360757,-0.0013516026222213373,-0.001644798789009363,-0.0018679638714825444,-0.001832416377528144,-0.0003528193326106767,-0.001406354985890356,-0.0014963238733933697,-0.001441374228799407,-0.0012414753347273803,-0.0004664300092587859,-0.0003072549879031042,-0.001327337101025886,-0.0019540791721851447,-0.0012934691118631758,9.291029240339913e-05,-0.0007589341709393233,-0.004381574401326214,-0.001589458665726069,0.002509517562479268,0.0007662865201758456]\n",
      "\u001b[1mIntercept: \u001b[0m -0.1770385635596752 \u001b[1m\n",
      "Coefficients:\u001b[0m [1.2499406618265858e-05,0.0017019223939735352,0.0020573156413664926,-0.0004436855697060267,-0.002329447695132571,0.0007166400092957151,-0.0022396951355677258,-0.00013687802976885554,-0.0013840000830008328,-0.0028791526983217284,-0.000808867066998088,-0.0030962518328049543,-9.551288277126087e-05,0.0003965004214788725,0.000959966981864599,-5.0685987670206945e-05,-0.0014775970933010776,0.0017844082139152936,-0.0010277327087621162,-0.002117805141618323,-0.0009861007110353642,-0.0014804829996191797,-0.001060455924660829,0.0009057262833412278,-0.002205304522866691,0.0009347306918380317,0.0034985931966257295,-0.0015526697656766141,0.0008943534536359206,-0.00024162126874591026,0.0005601814074451375,-0.0023663919406633226,-2.70956315641535e-05,0.0017681716047275161,-0.0015548735276878635,0.0029440636440519782,-0.0007826509725953671,0.00021483449501277465,0.0005557272204519904,0.00027944618641609283,-0.0014893007372330327,-0.001105653692392041,-0.0019015717810008264,0.003339562693384316,-0.0011232130255690047,0.0004680049255671126,0.00026060150102006496,0.0020106302104735104,0.0006302418711877927,-0.0009997161589950134,-0.001358383830016222,0.0012572710149432844,-5.644686487179084e-05,0.0012814825813109573,0.0026377266196904387,-0.0014315231778804145,-0.0012175511378197002,-5.006583225842067e-07,-0.0032617117686804457,0.0005373474713483051,-0.002346911008412675,8.348427843424477e-05,0.0022924943008359507,-0.0011205521770125894,0.0003901979290832543,0.0003873429750838362,-0.0002601449315112837,-0.002104288971412119,0.0023738326451565204,-0.0017890669135050229,-0.0013606091230224048]\n",
      "\u001b[1mIntercept: \u001b[0m -3.073271862601132 \u001b[1m\n",
      "Coefficients:\u001b[0m [0.0007414751408301499,-0.0006928569393398823,0.0009287189961493949,-0.0008108210149300268,-0.0022550168357850123,3.5091722228962054e-05,-0.0005363991998708656,-0.00016141714389063643,0.0006739014924059203,-0.0002617729679466509,0.0033521686371610696,-0.0005745227253433026,0.0008587014980304276,0.0006940952132455225,-0.0004912840711071563,-0.00311372006370748,0.000336490922929331,-0.0013616215197600568,0.0006359589018276414,0.00045079825577585864,-0.00037244683442135527,-0.000701784373166984,-0.0015299910217786363,-0.00015267569485102536,-0.0008627710805571105,0.00017346031074149808,-0.0010334745959421745,-0.000764485517572889,-0.0027251233823171587,-0.0006272339954892195,-0.00010678757449172007,0.0001735557702350676,-0.0016954397571708137,-0.0008075832262899455,0.0019967816167137426,-0.00012549507641673854,-0.00053404073730818,0.0014483409387314175,-0.0009274159950261831,0.0011129379242524294,-5.596404621516483e-05,0.000581048195343108,0.0006667830188480104,0.00015289159647471939,-0.0021497608094471245,0.0021044023313116617,-0.0001988437440040824,-0.0020001252204943183,-8.276128658696435e-05,-0.0005499037005064735,0.000921719054365826,0.00034711224946111464,0.0002751064679820786,0.001795663203308674,0.0018985621187894068,-0.0012201684608575502,0.001986821393084598,5.701261057392832e-05,0.0007036586701965834,0.0005354594866294526,-0.0004691781928410168,0.00042422236119036405,0.0010743736368229618,0.002714958301157797,-0.0009028736664367157,-0.00034252472628828486,-0.0016365219963205516,-0.0006555555124941958,-0.006160848715591252,-0.0005252343197253546,0.0022462546041063123]\n",
      "\u001b[1mIntercept: \u001b[0m -6.4500024523103825 \u001b[1m\n",
      "Coefficients:\u001b[0m [-0.00015565203119336085,-0.00534992821351387,-0.00196300597325287,-0.00025940163039010354,0.0005047957812738664,-0.00048292037803399464,-0.00302833592528682,-0.0008449164428677832,0.0010151897113707656,0.0008581925885950669,0.00233302837839612,-2.3726916244116486e-05,-0.0003038019104129062,1.4947996990549015e-05,0.0007079671010349319,0.0012947132367830843,-0.0019487519968582052,0.0017537979521582722,-6.389237953096935e-05,0.001008639114976538,0.0008183676065923115,0.0012345524028119221,-0.0009226453902742154,-0.0014025328766006007,-0.0004425117123726931,-0.0002572199615854811,-0.0010327922669039079,0.0009999625725465582,0.0014633952599265461,-0.0009865884037614438,0.0004636824031188264,0.0012564443968813462,0.0007135403135694122,-0.0022409699067947853,-0.0006800704035907904,0.002464975255101637,0.002680600819038886,-0.0012721103193573204,0.0018680583454318664,0.0003597679412061269,-0.00440092821535777,-0.00012822416540249793,0.0015735294511551325,-0.0017254409420216744,8.236682902735925e-06,-0.002231650974124485,0.0002998590698978809,0.0010398372927509663,0.0017521355202789629,-0.0016363854591625387,7.133076204187769e-05,-0.0002686986774359667,0.0005637381711882947,0.0013753364523416745,-0.0005008139464597099,-0.00021813327236274224,0.000805016164101409,0.0018664011759697815,0.0004374735812208913,0.0020631258836318195,-6.730342031278824e-05,6.706280303929228e-05,0.00021079288431134698,7.4942699526110265e-06,7.029467918038263e-05,0.00034868374619060987,-0.0007817964900031021,0.0024287653997280873,-0.0005391239211709853,0.0008372919751876569,2.3445485939268262e-05]\n",
      "\u001b[1mIntercept: \u001b[0m -3.5586767248767432 \u001b[1m\n",
      "Coefficients:\u001b[0m [-0.0007579181648447522,-0.0006774799083796581,-0.0008273599218026104,-0.0005370103506584083,-0.000976188550968426,-0.00024252921544201626,0.0027635136327426174,0.0006242952525153094,-0.0019808670670603905,0.0005619251942149973,-0.000986171851563163,0.00020205318254766521,0.0001445778371931297,1.824478334038414e-05,0.00015183674456398658,-0.0005053154617829422,-6.299267819015442e-05,-0.00014240628254222966,0.00035187830772298736,0.0006484605197085445,0.0019452792419762614,0.0010287467169388146,0.00033081867343807676,-0.0005116704276207202,0.0014495325685552757,-1.0960810642963316e-05,0.0005625694593849974,0.0003246004752845419,0.0027516494832133106,0.0005239586056091157,0.00014647362336031247,0.0011982527605521338,0.001692369329774742,0.0010796759957929548,-0.00039927140819990094,-0.0018452321468771591,0.0020017613563063077,0.0012546547868813457,0.0019167860855633188,-1.2364487847316906e-05,0.0029562870420842082,0.000692232899731357,0.002735381197894567,0.000840855111498801,0.00114766796568977,0.0001971399272403266,0.0017193261028481974,0.0014299545033197743,-0.00016670310428236796,0.0005426938867851553,-0.0012679937727681397,-0.0015968479242231223,0.0003612339130091311,-0.0022965080567099675,-0.004755747729041094,-0.0003910760199113634,-0.0025143570287211817,0.0013968958256696958,-0.00019746470838820303,-0.0006237902510494149,-0.0014413548566469907,0.00024310334576167856,-0.0009326812865372856,5.408789103694734e-07,0.0006861246339003747,-0.0005568435949807039,-0.0013096405350505164,-0.0023464269766417735,-0.0026418098816418686,-0.0008776627936267082,0.00189736593343376]\n",
      "\u001b[1mIntercept: \u001b[0m -2.8867769266261103 \u001b[1m\n",
      "Coefficients:\u001b[0m [-0.0015261037127152722,-0.0027285049150096593,-0.0007587544500422387,-0.0009946697419164132,-0.00017636469882875385,-0.0011508238872952983,-0.0005971847405749093,-0.0010071378079885439,0.0001432112532910124,0.002312519851966543,-0.003517380714390428,0.0009310876694909637,-0.00038433742829825933,5.596675525393216e-05,-0.0008137071445303869,0.0003347222179960083,0.0014226471928194585,-0.00011641834309187588,-0.001159607602523385,0.0015696027178558232,0.0010686926043961362,0.0017189375796690485,-0.0007873830686717985,-0.00011391398983813697,0.00021020673951246526,0.0014097265440270984,0.0006110231623642974,0.0013401307719959738,-0.00038499769437385674,-8.265789445693233e-05,0.0009565532720394436,0.002119877973877081,-0.0006054516297007818,-0.00026527412969821486,0.0003297538837257801,0.002342214266669405,-0.00012022357349580246,0.001545943803398301,0.0002912231606519712,0.0008381648204236052,0.0018222435328136331,0.0011339067998043738,-0.006322184046280368,-0.0014893453474721526,-0.0014158818448438445,-0.0014718898768123856,-0.0029058227382342938,-0.001307851492869913,0.00034778330918597945,0.0009068223796491716,0.0018521206896019021,-6.786269094210498e-05,-0.0006507175437027007,-3.1101806528346834e-05,0.000847790396891057,-0.0003653743430438973,0.0008961496392223328,0.001049482477067196,-0.0013777618447500344,7.075233989567704e-05,0.00044732919702803543,-0.0011748563113051528,-0.00028033277727254667,0.00175041528443538,0.0013494491201761364,-6.487041513722788e-05,-0.00039591141907545596,-0.0008646219601832287,-0.0014604991199536775,0.002057498034248284,0.0009003376827313897]\n",
      "\u001b[1mIntercept: \u001b[0m -0.4086555774847063 \u001b[1m\n",
      "Coefficients:\u001b[0m [-0.001226059657566976,-0.0008896839717632077,-0.0017620581695608887,-0.0005658972450780496,8.315788898525113e-05,-0.00014590754893365138,0.0029216339746495667,-0.0009384757647423195,0.0024714583835151074,-0.0008464377143669131,-0.0043177908613642926,0.0011659236311984639,8.538802757338505e-05,-0.00015464725041538726,0.0003401437623339067,-8.055770962202325e-05,0.0005607954254108115,-0.0019658227403524233,-0.0009789022257277538,0.0009581920497049125,-0.0005470231036680248,0.00017204854650622786,0.0005161020165181641,0.0005262164447516564,-0.0016846315956980755,-0.00018699464951032154,0.0010236862313513088,-0.0010057401607003985,0.0029133494443420492,-0.00035695558535033054,0.0014822773717394577,0.0006053460777471306,0.0008905459594990891,-0.003983863910258829,-0.0019300835481531953,0.0006192952446368419,8.267217144451543e-05,-0.0018206537826025869,-0.0005773384245839738,5.483569774453464e-05,0.0032220846645897127,-0.0004287428911313504,-0.0009476823942520805,-0.0013410497818697777,-0.0013116502995416611,-0.000462216795880384,0.0005856226306206936,-2.099829772444975e-05,0.0010667144958062937,-0.0018188156566281343,-0.001056046226898329,-0.0017328528335187148,-0.0021751986342590595,-0.0021671411797215983,-0.0030513520442823137,-0.0007614207278702838,0.0019016144236019604,-0.0007307464186591498,-0.0020507955277056537,-0.001821579676685933,0.0006964555314581128,0.002775159945195574,0.0010540906643375714,0.00011463955016855833,-0.0017876125318292617,0.001614077199076003,0.001798694962081258,0.0017772787766150288,0.0027370457714998367,-0.0011778765202349415,0.006744786351318801]\n",
      "\u001b[1mIntercept: \u001b[0m -5.520453736008133 \u001b[1m\n",
      "Coefficients:\u001b[0m [-0.0006728099947465138,-0.0003515243480589868,-0.0010368900264278523,-0.0007067595579231692,-0.00025762546873498224,-0.0001498189122261039,-0.003125665739927951,-0.0014353230338966915,-0.00022325182095157093,-0.003395347334608539,-0.0002553006245565423,0.0015858405458693925,0.0004524746508049418,0.0001974791454175123,0.00045899122512087914,0.00132342252453571,0.00038183965575029253,-0.0005721975306064032,-0.0008675921670129134,0.0007511392057610542,-0.0004618633685271785,-0.002399518491569452,-0.0010737750940399001,0.000157849479473989,0.002385973162178327,-0.0014443217694448942,0.0008057499623184035,0.0006515063948576308,-0.0003895517726812722,-0.001847075849732549,-0.0012866414432488535,0.0010183664811329533,-0.0010901289730828254,0.0017377887497419997,0.0009863896838400075,-0.002828156502796229,0.001800649705808227,-7.168966063689489e-05,0.003215306503039816,-0.00035566863089178734,-0.005270726295242551,-0.0005304482700826306,-0.001595391190185189,-0.0031783181993895993,0.002182456641819772,0.000886825706149574,0.0034706483154935924,0.0005207945610892753,0.00027951886988591274,0.0012171040139431048,0.0020665451254501203,-0.0006268311000503953,0.0006948115091601054,0.0019710618659510913,0.001252361512942538,-0.0011109415036949992,-0.001379848381710261,-0.0007814262281667205,0.0030861647285285653,-0.0016206445557900063,-5.207049579823814e-05,0.00018010269801213704,0.0006177423982325382,-0.00023447454740558327,-0.00021274119995658898,0.0019278598953492217,0.0016199175779251116,0.001656784405508548,0.0014452403007796726,-0.00018455526660758097,-0.002820625161966373]\n",
      "\u001b[1mIntercept: \u001b[0m -4.106225999733162 \u001b[1m\n",
      "Coefficients:\u001b[0m [9.208065227038453e-05,-0.0011749868732250008,0.0013664810328067715,0.0003177340703020056,-0.0003465927409689535,-0.0008221824514124573,0.0007095633356570096,-0.00012243990298423243,-0.0009863816235042401,0.000497422317072752,0.0037298512154680034,-0.0006632620661010715,0.0014033496664855008,-0.0018458542980006947,0.0011773481862398384,-5.039224723285135e-05,0.0010717672742536614,-0.0007824539196626642,-0.0010286633262684372,-0.0003202970657952385,-0.0005259160011291536,0.0002841938477312174,-0.0003400303887905719,-0.0004318539677974722,0.001711512910769105,-0.00018667548778334212,-0.002358071255481795,0.0004122855219163001,0.001124537647440964,0.0023320697913188967,-0.00014107518471946737,-0.0005230582654338879,-0.00033410512824725116,0.0004317520982642574,0.0017581505129783046,0.0006877409377791682,0.0007453671959086767,0.002008466967998395,-0.0013269130525256016,0.00037575037532270325,0.0015676607739605838,0.001004645377136538,0.0018480057129051908,0.0010172878305023587,0.0008561187779582156,-0.00013811699963030264,1.2440875850402891e-05,0.00036299006224030947,-0.0002600139809531495,-0.0007838857056541497,-0.00034814383000743423,-0.00019079488048509148,-0.0006836116678298504,0.0006648937251814171,-0.001138616474868077,0.001236887482566017,1.1290318354330001e-05,-0.0009134213194865029,-0.0026383693373507747,0.0012664103238659583,-0.0016611372945230132,-0.0019614610533627776,-0.0018349452778245194,-0.0025304199542725407,0.0005441888373450192,-0.0006979734620638869,0.0013477911072895296,-0.0022934627979955416,-0.0036485989479664834,0.0005206338376803896,0.001796343186395238]\n",
      "\u001b[1mIntercept: \u001b[0m -5.193853706222864 \u001b[1m\n",
      "Coefficients:\u001b[0m [0.00016405938171603447,-0.0016529475071403712,-0.0004772075680836585,0.00016588483694711197,0.0006351072661254033,-0.00034237089649633766,0.0004894985499200211,-0.0005956788274328234,0.0012465474901771493,0.0006281644433918746,-6.423326746090287e-06,0.0015115159831285757,-0.002161632844814495,0.0009203614910910271,0.001404525328090259,-0.0008355028357138705,-0.002096154522614992,0.0024311054002955847,-8.99328638614321e-05,8.001691621418022e-05,0.0013171800079080761,0.002016284436521232,-0.00011221588972769242,0.0005852547007508678,0.0004276656643106042,-0.0012219633167303353,-0.0009443306758274884,0.0009390245649666179,0.001593078753145675,0.0020800736135499426,-0.0011562809988890743,0.0011375341509811216,0.0019733925507687314,0.0008774157522890584,-0.0005894429066182083,0.0013772341654178088,-0.0005070214166715682,0.0010416901598723314,-0.0003044324557685172,-0.00013194804232498944,0.0010547321519616465,0.0009102542256565408,-0.0028700399056734733,0.0018465942794561143,0.001215616006981532,0.00036603540180768095,-0.0015654551878562367,-0.000281084685094996,-0.0013615051679570851,-0.0016999067894705054,0.0003370429571613094,-0.0027738655692242206,-0.00046143600764824566,-0.001671918644414128,0.0018255697477709265,0.00024397238296077395,-0.0009239187708054672,-0.0009950239350716248,0.0008369696709870096,-0.001168522495855935,0.0009709775965814012,-0.00036042651511792564,-0.00303392336633419,0.0002943423009927393,0.00191598049762857,0.0009082301892182546,-0.0012140311002365838,0.00046378182535385674,-0.00282386474590062,-0.0002572748953941479,0.001335118358214359]\n",
      "\u001b[1mIntercept: \u001b[0m -2.9876364360043817 \u001b[1m\n",
      "Coefficients:\u001b[0m [0.0007882612343644132,-0.0036932588047822743,0.001267587101550403,0.0011884780784542355,0.0018888983139113138,0.0003890358117186577,0.0009701304374185902,0.0005270290473252915,0.0015995636834761522,-0.0007538270948667726,-0.001817085045802918,-0.00022274761518087374,-5.444882436326163e-05,-0.0008419408453379711,0.0011128752424158564,0.0007721255876456727,0.0012651885688344123,-0.0010968251206933356,0.002161338452634819,0.0008054429253739107,0.0016678488774004537,0.0001838601455970935,0.0017516217484450064,-0.0013464978436057362,0.0012704279900437247,3.2671106185342324e-05,0.0002773146528195815,-0.0002129590054675155,-0.00019389430358842074,0.0020382291066491378,0.0014164996314458785,-0.0002591743584070653,0.0011310246483812625,-0.0013389717365728246,-0.0011864871598941285,-0.0038860341583701595,-0.001716139858536445,-0.0022504918143456507,-0.0024393478736337623,-0.0007848907289436065,0.0016345545790212416,-0.0009204392147931709,-0.002015595025188312,-0.0018628346747152416,-0.0018931082887627018,-0.002726584832038034,-0.002498297404591247,-0.0033110844760847902,-0.0004933291379824474,3.3786840271956444e-05,-0.00011955976378938508,-0.000826435916023702,-0.0004661577323506813,2.1907424545679115e-05,-0.0009694934841794358,0.0011106064281632883,1.9481094321403276e-05,-0.0005086329501346289,0.0012018895364977636,0.002213755670141462,6.608643067558252e-05,0.0014571602631425359,-0.0014685178002107552,-0.000605622947077286,0.0020614727393176487,0.0016850052430394716,-0.0011045574475941863,-0.00028765246129942705,-0.001929861315346915,1.992766767139572e-05,0.001828691059252937]\n"
     ]
    },
    {
     "name": "stdout",
     "output_type": "stream",
     "text": [
      "46.701846965699204\n"
     ]
    }
   ],
   "source": [
    "lr = LogisticRegression()\n",
    "classifier = OneVsRest(classifier = lr)\n",
    "\n",
    "paramGrid = ParamGridBuilder()\\\n",
    "    .addGrid(lr.regParam,[0.1,0.01]) \\\n",
    "    .build()\n",
    "\n",
    "crossval=CrossValidator(estimator=classifier,\n",
    "                       estimatorParamMaps=paramGrid,\n",
    "                       evaluator=MulticlassClassificationEvaluator(),\n",
    "                       numFolds=2)\n",
    "\n",
    "fitModel=crossval.fit(train)\n",
    "\n",
    "BestModel = fitModel.bestModel\n",
    "\n",
    "models= BestModel.models\n",
    "for model in models:\n",
    "    print('\\033[1m' + 'Intercept: '+ '\\033[0m',model.intercept,'\\033[1m' + '\\nCoefficients:'+ '\\033[0m',model.coefficients)\n",
    "\n",
    "predictions=fitModel.transform(test)\n",
    "accuracy=(MC_evaluator.evaluate(predictions))*100\n",
    "print(accuracy)"
   ]
  },
  {
   "cell_type": "markdown",
   "metadata": {},
   "source": [
    "### Multilayer Perceptron Classifier\n"
   ]
  },
  {
   "cell_type": "code",
   "execution_count": 27,
   "metadata": {},
   "outputs": [
    {
     "name": "stdout",
     "output_type": "stream",
     "text": [
      "\u001b[1mModel Weights: \u001b[0m 12023\n",
      "Accuracy:  13.984168865435356\n"
     ]
    }
   ],
   "source": [
    "features = final_data.select(['features']).collect()\n",
    "features_count = len(features[0][0])\n",
    "class_count=final_data.select(countDistinct('label')).collect()\n",
    "classes = class_count[0][0]\n",
    "\n",
    "layers = [features_count, features_count+1, features_count, classes]\n",
    "\n",
    "classifier = MultilayerPerceptronClassifier(maxIter=100, layers=layers, blockSize=128, seed= 1234)\n",
    "\n",
    "fitModel = classifier.fit(train)\n",
    "\n",
    "print('\\033[1m' + \"Model Weights: \"+ '\\033[0m',fitModel.weights.size)\n",
    "\n",
    "\n",
    "predictions = fitModel.transform(test)\n",
    "\n",
    "accuracy = (MC_evaluator.evaluate(predictions))*100\n",
    "\n",
    "print(\"Accuracy: \",accuracy)"
   ]
  },
  {
   "cell_type": "markdown",
   "metadata": {},
   "source": [
    "### NaiveBayes"
   ]
  },
  {
   "cell_type": "code",
   "execution_count": null,
   "metadata": {},
   "outputs": [],
   "source": [
    "classifier= NaiveBayes()\n",
    "paramGrid = (ParamGridBuilder()\\\n",
    "             .addGrid(classifier.smoothing, [0.0,0.2,0.4,0.6])\\\n",
    "             .build())\n",
    "crossval = CrossValidator(estimator=classifier,\n",
    "                         estimatorParamMaps = paramGrid,\n",
    "                         evaluator= MulticlassClassificationEvaluator(),\n",
    "                         numFolds=2)\n",
    "\n",
    "fitModel = crossval.fit(train)\n",
    "\n",
    "predictions = fitModel.transform(test)\n",
    "accuracy = (MC_evaluator.evaluate(predictions))*100\n",
    "print(\"Accuracy: \",accuracy)"
   ]
  },
  {
   "cell_type": "code",
   "execution_count": null,
   "metadata": {},
   "outputs": [],
   "source": []
  },
  {
   "cell_type": "code",
   "execution_count": null,
   "metadata": {},
   "outputs": [],
   "source": [
    "aa"
   ]
  }
 ],
 "metadata": {
  "kernelspec": {
   "display_name": "Python 3",
   "language": "python",
   "name": "python3"
  },
  "language_info": {
   "codemirror_mode": {
    "name": "ipython",
    "version": 3
   },
   "file_extension": ".py",
   "mimetype": "text/x-python",
   "name": "python",
   "nbconvert_exporter": "python",
   "pygments_lexer": "ipython3",
   "version": "3.7.6"
  }
 },
 "nbformat": 4,
 "nbformat_minor": 2
}
